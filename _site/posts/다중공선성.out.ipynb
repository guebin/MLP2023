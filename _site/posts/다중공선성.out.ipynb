{
  "cells": [
    {
      "cell_type": "markdown",
      "metadata": {},
      "source": [
        "# 05wk-022: 취업, 다중공선성\n",
        "\n",
        "최규빈  \n",
        "2023-10-05\n",
        "\n",
        "# 1. 강의영상\n",
        "\n",
        "# 2. Imports"
      ],
      "id": "07ab1992-c7c1-4b02-940f-62f38438e6d6"
    },
    {
      "cell_type": "code",
      "execution_count": 1,
      "metadata": {},
      "outputs": [],
      "source": [
        "import numpy as np\n",
        "import pandas as pd\n",
        "import sklearn.linear_model\n",
        "import matplotlib.pyplot as plt"
      ],
      "id": "d59089a4-68c0-445b-a878-14a36d010007"
    },
    {
      "cell_type": "markdown",
      "metadata": {},
      "source": [
        "# 3. 개념"
      ],
      "id": "4e2b6680-11a2-4d07-b053-936c1db34cd9"
    },
    {
      "cell_type": "code",
      "execution_count": 2,
      "metadata": {},
      "outputs": [],
      "source": [
        "df = pd.read_csv('employment.csv')"
      ],
      "id": "0c62a215-1004-4e63-9b6c-384da6690b68"
    },
    {
      "cell_type": "code",
      "execution_count": 3,
      "metadata": {},
      "outputs": [],
      "source": [
        "err = np.random.rand(500*50).reshape(500,50) - 0.5"
      ],
      "id": "ba1e4f99-91b4-40d0-b43f-9e9e6ea1d741"
    },
    {
      "cell_type": "code",
      "execution_count": 4,
      "metadata": {},
      "outputs": [],
      "source": [
        "df_extra = pd.DataFrame(df.toeic.to_numpy().reshape(500,1) + err,columns = ['X'+str(i) for i in range(50)])"
      ],
      "id": "053e909e-6b36-4e48-98cb-3cc4ca4cd5d7"
    },
    {
      "cell_type": "code",
      "execution_count": 5,
      "metadata": {},
      "outputs": [],
      "source": [
        "df = pd.concat([df,df_extra],axis=1)"
      ],
      "id": "82335bf5-0e50-4652-bb16-2044729c12ed"
    },
    {
      "cell_type": "code",
      "execution_count": 6,
      "metadata": {},
      "outputs": [],
      "source": [
        "df['employment'] = df['toeic'] * 1/200 + df['gpa']*1.3 + np.random.randn(500)"
      ],
      "id": "d3ac525a-bc1f-4c83-a62f-71799eaf5288"
    },
    {
      "cell_type": "code",
      "execution_count": 7,
      "metadata": {},
      "outputs": [],
      "source": [
        "df_train, df_test = sklearn.model_selection.train_test_split(df,test_size=0.3)"
      ],
      "id": "3d3da29f-eb94-4950-9931-3e3a823c5259"
    },
    {
      "cell_type": "code",
      "execution_count": 8,
      "metadata": {},
      "outputs": [],
      "source": [
        "X = df_train.drop(['employment'],axis=1)\n",
        "y = df_train[['employment']]\n",
        "XX = df_test.drop(['employment'],axis=1)\n",
        "yy = df_test[['employment']]"
      ],
      "id": "aaff234e-cead-466e-bfc1-e9538b0c807e"
    },
    {
      "cell_type": "code",
      "execution_count": 9,
      "metadata": {},
      "outputs": [],
      "source": [
        "predictr = sklearn.linear_model.LinearRegression()"
      ],
      "id": "e7045ffa-40b3-4a27-aa72-c6b2eefcdd31"
    },
    {
      "cell_type": "code",
      "execution_count": 10,
      "metadata": {},
      "outputs": [],
      "source": [
        "predictr.fit(X,y)"
      ],
      "id": "f68283fb-4ce1-483f-8f46-af6e37030888"
    },
    {
      "cell_type": "code",
      "execution_count": 11,
      "metadata": {},
      "outputs": [],
      "source": [
        "predictr.coef_,predictr.intercept_"
      ],
      "id": "4788d2e2-6973-413e-aba4-07c3ff817f44"
    },
    {
      "cell_type": "code",
      "execution_count": 12,
      "metadata": {},
      "outputs": [],
      "source": [
        "predictr.score(X,y)"
      ],
      "id": "8b1393a2-3138-4212-b515-33154e267e13"
    },
    {
      "cell_type": "code",
      "execution_count": 13,
      "metadata": {},
      "outputs": [],
      "source": [
        "predictr.score(XX,yy)"
      ],
      "id": "766d702a-5446-46d9-9fd3-253d00701a42"
    },
    {
      "cell_type": "code",
      "execution_count": 14,
      "metadata": {},
      "outputs": [],
      "source": [
        "X = df_train[['toeic','gpa']]\n",
        "y = df_train[['employment']]\n",
        "XX = df_test[['toeic','gpa']]\n",
        "yy = df_test[['employment']]"
      ],
      "id": "ad218142-a53d-4cb0-b3d6-6c5662b0f514"
    },
    {
      "cell_type": "code",
      "execution_count": 15,
      "metadata": {},
      "outputs": [],
      "source": [
        "predictr = sklearn.linear_model.LinearRegression()"
      ],
      "id": "29e3d75c-800c-4065-8b44-fabc524d9e8b"
    },
    {
      "cell_type": "code",
      "execution_count": 16,
      "metadata": {},
      "outputs": [],
      "source": [
        "predictr.fit(X,y)"
      ],
      "id": "b712a388-4a65-4688-bfc8-a9b4153445d8"
    },
    {
      "cell_type": "code",
      "execution_count": 17,
      "metadata": {},
      "outputs": [],
      "source": [
        "predictr.coef_,predictr.intercept_"
      ],
      "id": "571f071e-f7df-4113-bdd4-2e284edd2ba7"
    },
    {
      "cell_type": "code",
      "execution_count": 18,
      "metadata": {},
      "outputs": [],
      "source": [
        "predictr.score(X,y)"
      ],
      "id": "7ba0a143-a6ee-429f-aef8-7cb1a541a4ca"
    },
    {
      "cell_type": "code",
      "execution_count": 19,
      "metadata": {},
      "outputs": [],
      "source": [
        "predictr.score(XX,yy)"
      ],
      "id": "3886c0e9-39d0-45e3-97b9-7a2aa609e539"
    },
    {
      "cell_type": "markdown",
      "metadata": {},
      "source": [
        "------------------------------------------------------------------------"
      ],
      "id": "c382df15-5d77-4467-b8c4-ad4b2598361c"
    },
    {
      "cell_type": "code",
      "execution_count": 20,
      "metadata": {},
      "outputs": [],
      "source": [
        "X = df_train.drop(['employment'],axis=1)\n",
        "y = df_train[['employment']]\n",
        "XX = df_test.drop(['employment'],axis=1)\n",
        "yy = df_test[['employment']]"
      ],
      "id": "a954ee80-4857-4a7e-ab4a-c14366f40678"
    },
    {
      "cell_type": "code",
      "execution_count": 21,
      "metadata": {},
      "outputs": [],
      "source": [
        "predictr = sklearn.linear_model.LassoCV(max_iter=500000)"
      ],
      "id": "a444acbf-e4fd-413c-b71e-c9b32842b784"
    },
    {
      "cell_type": "code",
      "execution_count": 22,
      "metadata": {},
      "outputs": [
        {
          "output_type": "stream",
          "name": "stderr",
          "text": [
            "/home/cgb2/anaconda3/envs/ag/lib/python3.10/site-packages/sklearn/linear_model/_coordinate_descent.py:1563: DataConversionWarning: A column-vector y was passed when a 1d array was expected. Please change the shape of y to (n_samples, ), for example using ravel().\n",
            "  y = column_or_1d(y, warn=True)"
          ]
        }
      ],
      "source": [
        "predictr.fit(X,y)"
      ],
      "id": "ee96b037-8ac1-46cc-8fbc-6ee11e4631bf"
    },
    {
      "cell_type": "code",
      "execution_count": 23,
      "metadata": {},
      "outputs": [],
      "source": [
        "predictr.coef_"
      ],
      "id": "7a8583a6-9988-4489-85a2-1c3f3c60c422"
    },
    {
      "cell_type": "code",
      "execution_count": 24,
      "metadata": {},
      "outputs": [],
      "source": [
        "predictr.score(X,y)"
      ],
      "id": "e52d315e-ea38-4b51-9048-e54bab39fe97"
    },
    {
      "cell_type": "code",
      "execution_count": 25,
      "metadata": {},
      "outputs": [],
      "source": [
        "predictr.score(XX,yy)"
      ],
      "id": "f36c6cba-c9cd-47b7-9f59-67668d2a67fc"
    }
  ],
  "nbformat": 4,
  "nbformat_minor": 5,
  "metadata": {
    "kernelspec": {
      "name": "python3",
      "display_name": "Python 3 (ipykernel)",
      "language": "python"
    },
    "language_info": {
      "name": "python",
      "codemirror_mode": {
        "name": "ipython",
        "version": "3"
      },
      "file_extension": ".py",
      "mimetype": "text/x-python",
      "nbconvert_exporter": "python",
      "pygments_lexer": "ipython3",
      "version": "3.10.13"
    }
  }
}