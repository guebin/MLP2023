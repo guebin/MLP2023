{
  "cells": [
    {
      "cell_type": "markdown",
      "metadata": {},
      "source": [
        "# 05wk-021: 취업+밸런스게임, 오버피팅\n",
        "\n",
        "최규빈  \n",
        "2023-10-05\n",
        "\n",
        "# 1. 강의영상\n",
        "\n",
        "# 2. Imports"
      ],
      "id": "ba7c9876-a4ca-440e-bc6d-5f1ea6d06df8"
    },
    {
      "cell_type": "code",
      "execution_count": 22,
      "metadata": {},
      "outputs": [],
      "source": [
        "import numpy as np\n",
        "import pandas as pd\n",
        "import sklearn.linear_model"
      ],
      "id": "8e9916ea-1cbd-4d2d-9b83-9699407c5567"
    },
    {
      "cell_type": "markdown",
      "metadata": {},
      "source": [
        "# 3. 밸런스게임\n",
        "\n",
        "`-` ref: <https://verovero1.tistory.com/136>\n",
        "\n",
        "`-` 하고 싶은 말: 내가 원한다면 무수히 많은 데이터를 모을 수 있다고\n",
        "가정하자.[1]\n",
        "\n",
        "# 4. 상황1\n",
        "\n",
        "`-` 아래의 자료를 고려하자.\n",
        "\n",
        "[1] 빅데이터?????"
      ],
      "id": "224558db-76c3-48d3-8796-f698210e3ca5"
    },
    {
      "cell_type": "code",
      "execution_count": 4,
      "metadata": {},
      "outputs": [],
      "source": [
        "data = {\n",
        "    'toeic': [640, 705, 930, 755, 410, 655, 400, 915, 970, 895],\n",
        "    'gpa': [0.712533, 0.639031, 0.148400, 1.230271, 3.279419, 1.255110, 4.157389, 3.714847, 1.584432, 2.170776],\n",
        "    'employment': [1, 0, 0, 0, 1, 0, 1, 1, 1, 0],\n",
        "    'balance_game_1': [1, 0, 0, 0, 1, 0, 1, 0, 0, 0]\n",
        "}\n",
        "\n",
        "df = pd.DataFrame(data)\n",
        "df"
      ],
      "id": "c1f820e1-dbbd-4b79-9f99-dfec4db898d2"
    },
    {
      "cell_type": "markdown",
      "metadata": {},
      "source": [
        "`-` train/test를 아래와 같이 구분했다고 하자."
      ],
      "id": "3f021abb-cb7c-4424-9e2c-107c172acd31"
    },
    {
      "cell_type": "code",
      "execution_count": 6,
      "metadata": {},
      "outputs": [],
      "source": [
        "df_train = df[:7]\n",
        "df_train"
      ],
      "id": "40f6d07e"
    },
    {
      "cell_type": "code",
      "execution_count": 7,
      "metadata": {},
      "outputs": [],
      "source": [
        "df_test = df[7:]\n",
        "df_test"
      ],
      "id": "0a306a18"
    },
    {
      "cell_type": "markdown",
      "metadata": {},
      "source": [
        "`-` 직감: 이 자료를 가지고 학습하면 반드시 망한다..\n",
        "\n",
        "`-` 결론: 자료가 많을수록 좋은게 아니다. 쓸모없는 자료가 있다면 오히려\n",
        "학습에 방해가 된다. 위의 자료로 학습한다면 오버피팅이 발생할 것.\n",
        "\n",
        "`-` 반론: 예제가 너무 억지 아니야?\n",
        "\n",
        "# 5. 상황2\n",
        "\n",
        "`-` 다시 아래의 자료를 가정하자."
      ],
      "id": "05256c43-1aac-4599-ba72-00c02d00a670"
    },
    {
      "cell_type": "code",
      "execution_count": 63,
      "metadata": {},
      "outputs": [],
      "source": [
        "data = {\n",
        "    'toeic': [640, 705, 930, 755, 410, 655, 400, 915, 970, 895],\n",
        "    'gpa': [0.712533, 0.639031, 0.148400, 1.230271, 3.279419, 1.255110, 4.157389, 3.714847, 1.584432, 2.170776],\n",
        "    'employment': [1, 0, 0, 0, 1, 0, 1, 1, 1, 0]\n",
        "}\n",
        "df = pd.DataFrame(data)\n",
        "df"
      ],
      "id": "db065871"
    },
    {
      "cell_type": "markdown",
      "metadata": {},
      "source": [
        "`-` 밸런스게임을 50번정도 진행했다고 하자."
      ],
      "id": "600a5943-8b30-430d-898e-06b55e20d549"
    },
    {
      "cell_type": "code",
      "execution_count": 64,
      "metadata": {},
      "outputs": [],
      "source": [
        "np.random.seed(43052)\n",
        "arr = (np.random.rand(10*50).reshape(10,50)>0.5) * 1\n",
        "df_balance= pd.DataFrame(arr,columns=[f'X{i}' for i in range(50)])\n",
        "df = pd.concat([df,df_balance],axis=1)\n",
        "df"
      ],
      "id": "ff4d5187"
    },
    {
      "cell_type": "code",
      "execution_count": 87,
      "metadata": {},
      "outputs": [],
      "source": [
        "(df.X12 + df.X43 + df.X8 - df.X29) > 0 "
      ],
      "id": "130b797c"
    },
    {
      "cell_type": "code",
      "execution_count": 88,
      "metadata": {},
      "outputs": [],
      "source": [
        "df.employment"
      ],
      "id": "3f12db44"
    },
    {
      "cell_type": "markdown",
      "metadata": {},
      "source": [
        "`-` 수틀리면 한 50억번 진행할 수도 있어..\n",
        "\n",
        "# 6. 이상한 자료로 분석\n",
        "\n",
        "`-` 취업자료를 변경"
      ],
      "id": "b50c10c4-d4ae-4c8f-8b34-cadca1e04e24"
    },
    {
      "cell_type": "code",
      "execution_count": 107,
      "metadata": {},
      "outputs": [],
      "source": [
        "df = pd.read_csv('https://raw.githubusercontent.com/guebin/MP2023/main/posts/employment.csv')\n",
        "df"
      ],
      "id": "d02030fb"
    },
    {
      "cell_type": "code",
      "execution_count": 108,
      "metadata": {},
      "outputs": [],
      "source": [
        "df_balance = pd.DataFrame((np.random.randn(500,5000)>0.5).reshape(500,5000)*1,columns = ['X'+str(i) for i in range(5000)])\n",
        "df_merged = pd.concat([df,df_balance],axis=1)\n",
        "df_merged"
      ],
      "id": "e93eec87"
    },
    {
      "cell_type": "markdown",
      "metadata": {},
      "source": [
        "`-` (X,y), (XX,yy)"
      ],
      "id": "b4a5e805-2a5a-4045-a01b-6b1aae26f672"
    },
    {
      "cell_type": "code",
      "execution_count": 115,
      "metadata": {},
      "outputs": [],
      "source": [
        "X = df_merged.drop('employment',axis=1)[:400]\n",
        "y = df_merged[['employment']][:400]\n",
        "XX = df_merged.drop('employment',axis=1)[400:]\n",
        "yy = df_merged[['employment']][400:]"
      ],
      "id": "c0663d94"
    },
    {
      "cell_type": "markdown",
      "metadata": {},
      "source": [
        "`-` predictor 생성, 학습, 평가"
      ],
      "id": "cc9a6880-51ec-4f0b-a580-ce640c087fee"
    },
    {
      "cell_type": "code",
      "execution_count": 121,
      "metadata": {},
      "outputs": [
        {
          "output_type": "stream",
          "name": "stderr",
          "text": [
            "/home/cgb2/anaconda3/envs/ag/lib/python3.10/site-packages/sklearn/utils/validation.py:1183: DataConversionWarning: A column-vector y was passed when a 1d array was expected. Please change the shape of y to (n_samples, ), for example using ravel().\n",
            "  y = column_or_1d(y, warn=True)\n",
            "/home/cgb2/anaconda3/envs/ag/lib/python3.10/site-packages/sklearn/linear_model/_logistic.py:460: ConvergenceWarning: lbfgs failed to converge (status=1):\n",
            "STOP: TOTAL NO. of ITERATIONS REACHED LIMIT.\n",
            "\n",
            "Increase the number of iterations (max_iter) or scale the data as shown in:\n",
            "    https://scikit-learn.org/stable/modules/preprocessing.html\n",
            "Please also refer to the documentation for alternative solver options:\n",
            "    https://scikit-learn.org/stable/modules/linear_model.html#logistic-regression\n",
            "  n_iter_i = _check_optimize_result("
          ]
        }
      ],
      "source": [
        "prdtr = sklearn.linear_model.LogisticRegression()\n",
        "prdtr.fit(X,y)"
      ],
      "id": "8dd280d8"
    },
    {
      "cell_type": "code",
      "execution_count": 122,
      "metadata": {},
      "outputs": [
        {
          "output_type": "stream",
          "name": "stdout",
          "text": [
            "train score: 1.0\n",
            "test score: 0.76"
          ]
        }
      ],
      "source": [
        "print(f'train score: {prdtr.score(X,y)}')\n",
        "print(f'test score: {prdtr.score(XX,yy)}')"
      ],
      "id": "8f40ba84"
    },
    {
      "cell_type": "markdown",
      "metadata": {},
      "source": [
        "# 7. 올바른 자료로 분석\n",
        "\n",
        "`-` 취업자료"
      ],
      "id": "ad4a0ee9-cd06-41d1-8644-675d8cf1539e"
    },
    {
      "cell_type": "code",
      "execution_count": 123,
      "metadata": {},
      "outputs": [],
      "source": [
        "df = pd.read_csv('https://raw.githubusercontent.com/guebin/MP2023/main/posts/employment.csv')\n",
        "df"
      ],
      "id": "6ba4cb49"
    },
    {
      "cell_type": "markdown",
      "metadata": {},
      "source": [
        "`-` (X,y), (XX,yy)"
      ],
      "id": "22708398-1787-465f-b4fa-485cf87e323c"
    },
    {
      "cell_type": "code",
      "execution_count": 124,
      "metadata": {},
      "outputs": [],
      "source": [
        "X = df.drop('employment',axis=1)[:400]\n",
        "y = df[['employment']][:400]\n",
        "XX = df.drop('employment',axis=1)[400:]\n",
        "yy = df[['employment']][400:]"
      ],
      "id": "bb445f31"
    },
    {
      "cell_type": "markdown",
      "metadata": {},
      "source": [
        "`-` predictor 생성, 학습, 평가"
      ],
      "id": "6e833a16-38f2-455c-a0eb-6a142c6129ca"
    },
    {
      "cell_type": "code",
      "execution_count": 125,
      "metadata": {},
      "outputs": [
        {
          "output_type": "stream",
          "name": "stderr",
          "text": [
            "/home/cgb2/anaconda3/envs/ag/lib/python3.10/site-packages/sklearn/utils/validation.py:1183: DataConversionWarning: A column-vector y was passed when a 1d array was expected. Please change the shape of y to (n_samples, ), for example using ravel().\n",
            "  y = column_or_1d(y, warn=True)"
          ]
        }
      ],
      "source": [
        "prdtr = sklearn.linear_model.LogisticRegression()\n",
        "prdtr.fit(X,y)"
      ],
      "id": "4127e01e"
    },
    {
      "cell_type": "code",
      "execution_count": 126,
      "metadata": {},
      "outputs": [
        {
          "output_type": "stream",
          "name": "stdout",
          "text": [
            "train score: 0.8925\n",
            "test score: 0.83"
          ]
        }
      ],
      "source": [
        "print(f'train score: {prdtr.score(X,y)}')\n",
        "print(f'test score: {prdtr.score(XX,yy)}')"
      ],
      "id": "9fa88544"
    },
    {
      "cell_type": "markdown",
      "metadata": {},
      "source": [
        "# 8. 오버피팅\n",
        "\n",
        "## A. 학부1~2학년 수준의 설명\n",
        "\n",
        "`-` 오버피팅: 머신러닝과 통계에서 자주 나타나는 문제로, 모델이 학습\n",
        "데이터에 과도하게 최적화되어 실제로 새로운 데이터나 테스트 데이터에서의\n",
        "성능이 저하되는 현상을 말함.\n",
        "\n",
        "`-` 오버피팅의 원인:\n",
        "\n",
        "-   불필요한 특징: 불필요한 특징이 데이터에 포함되어 있을 때 오버피팅이\n",
        "    발생할 수 있음.\n",
        "-   데이터 부족: 사용 가능한 학습 데이터가 매우 적을 때 모델은 해당\n",
        "    데이터에만 특화된 패턴을 학습할 가능성이 있음.\n",
        "\n",
        "## B. 일반인 수준의 설명\n",
        "\n",
        "`-` 시험 공부(1): 공부를 하랬더니 외우고 있음..\n",
        "\n",
        "`-` 시험 공부(2): (시험 하루 전날에) 공부 그만하고 술이나 먹으러 가자..\n",
        "더 공부하면 train error만 줄일 뿐이야..\n",
        "\n",
        "`-` 운전: 특정도로에서만 운전연습을 했음. 그래서 그 도로의 구멍, 곡률,\n",
        "신호등의 위치까지 완벽하게 숙지하였음. 그 결과 그 도로에서는 잘하게\n",
        "되었지만, 그 도로 이외의 다른도로에서 운전을 한다면 문제가 발생함.\n",
        "\n",
        "`-` 언어: 특정 주제나 특정 상황에 대한 대화만을 반복적으로 연습하여, 그\n",
        "상황에서는 완벽한 대화가 가능하지만 그 외의 상황에서는 대화를 제대로\n",
        "이어나갈 수 없음.\n",
        "\n",
        "## C. 내 개념"
      ],
      "id": "88a1787d-6d92-4a17-985f-35a1627b4457"
    }
  ],
  "nbformat": 4,
  "nbformat_minor": 5,
  "metadata": {
    "kernelspec": {
      "name": "python3",
      "display_name": "Python 3 (ipykernel)",
      "language": "python"
    },
    "language_info": {
      "name": "python",
      "codemirror_mode": {
        "name": "ipython",
        "version": "3"
      },
      "file_extension": ".py",
      "mimetype": "text/x-python",
      "nbconvert_exporter": "python",
      "pygments_lexer": "ipython3",
      "version": "3.10.13"
    }
  }
}