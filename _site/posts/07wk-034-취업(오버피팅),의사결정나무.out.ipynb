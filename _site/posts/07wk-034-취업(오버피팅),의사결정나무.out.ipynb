{
  "cells": [
    {
      "cell_type": "markdown",
      "metadata": {},
      "source": [
        "# 07wk-034: 취업(오버피팅), 의사결정나무\n",
        "\n",
        "최규빈  \n",
        "2023-10-16\n",
        "\n",
        "# 1. 강의영상\n",
        "\n",
        "# 2. Imports"
      ],
      "id": "f06dc252-fce0-4065-a95e-f8b1ee71a2d8"
    },
    {
      "cell_type": "code",
      "execution_count": 12,
      "metadata": {
        "tags": []
      },
      "outputs": [],
      "source": [
        "import numpy as np\n",
        "import pandas as pd\n",
        "import sklearn.model_selection\n",
        "import sklearn.linear_model\n",
        "import sklearn.tree"
      ],
      "id": "e31daebb-7610-4fdc-9875-984095a5e200"
    },
    {
      "cell_type": "markdown",
      "metadata": {},
      "source": [
        "# 3. Data"
      ],
      "id": "c6a6b7da-5c66-44cc-9234-53b25d4452ed"
    },
    {
      "cell_type": "code",
      "execution_count": 13,
      "metadata": {
        "tags": []
      },
      "outputs": [],
      "source": [
        "def generating_df(n_balance):\n",
        "    df = pd.read_csv('https://raw.githubusercontent.com/guebin/MP2023/main/posts/employment.csv')\n",
        "    df_balance = pd.DataFrame((np.random.randn(500,n_balance)).reshape(500,n_balance)*1,columns = ['balance'+str(i) for i in range(n_balance)])\n",
        "    return pd.concat([df,df_balance],axis=1)"
      ],
      "id": "bd396092-9e0a-4b46-aac2-24d4cc95177f"
    },
    {
      "cell_type": "code",
      "execution_count": 14,
      "metadata": {
        "tags": []
      },
      "outputs": [],
      "source": [
        "df = generating_df(10)\n",
        "df"
      ],
      "id": "0caff3dc-6f9a-45e9-8a32-0bdad88de6ee"
    },
    {
      "cell_type": "code",
      "execution_count": 17,
      "metadata": {
        "tags": []
      },
      "outputs": [],
      "source": [
        "df_train, df_test = sklearn.model_selection.train_test_split(df, test_size=0.7, random_state=42)"
      ],
      "id": "a05e2d1c-4876-40f4-a9ac-214c6e6315c6"
    },
    {
      "cell_type": "code",
      "execution_count": 18,
      "metadata": {
        "tags": []
      },
      "outputs": [],
      "source": [
        "X,y = df_train.drop(['employment'],axis=1), df_train['employment']\n",
        "XX,yy = df_test.drop(['employment'],axis=1), df_test['employment']"
      ],
      "id": "5b46810c-d9e0-4468-8fe3-9f39d22f44b1"
    },
    {
      "cell_type": "markdown",
      "metadata": {},
      "source": [
        "# 4. 분석\n",
        "\n",
        "`-` 분석1"
      ],
      "id": "27b158cf-2eb3-43bd-850b-fc8bdcd63abc"
    },
    {
      "cell_type": "code",
      "execution_count": 20,
      "metadata": {
        "tags": []
      },
      "outputs": [
        {
          "output_type": "stream",
          "name": "stdout",
          "text": [
            "train_score = 1.0000\n",
            "test_score = 0.7143"
          ]
        }
      ],
      "source": [
        "## step1 -- pass\n",
        "## step2 \n",
        "predictr = sklearn.tree.DecisionTreeClassifier(random_state=42)\n",
        "## step3 \n",
        "predictr.fit(X,y)\n",
        "## step4\n",
        "df_train['employment'] = predictr.predict(X)\n",
        "df_test['employment'] = predictr.predict(XX)\n",
        "#--#\n",
        "print(f'train_score = {predictr.score(X,y):.4f}')\n",
        "print(f'test_score = {predictr.score(XX,yy):.4f}')"
      ],
      "id": "b6f31e67-cfdd-4ca2-84c1-3e0f57c9db11"
    },
    {
      "cell_type": "markdown",
      "metadata": {},
      "source": [
        "`-` 분석2"
      ],
      "id": "13f9d680-7005-43d3-8fd6-af664b76705b"
    },
    {
      "cell_type": "code",
      "execution_count": 21,
      "metadata": {
        "tags": []
      },
      "outputs": [
        {
          "output_type": "stream",
          "name": "stdout",
          "text": [
            "train_score = 0.8800\n",
            "test_score = 0.8600"
          ]
        }
      ],
      "source": [
        "## step1 -- pass\n",
        "## step2 \n",
        "predictr = sklearn.linear_model.LogisticRegression()\n",
        "## step3 \n",
        "predictr.fit(X,y)\n",
        "## step4\n",
        "df_train['employment'] = predictr.predict(X)\n",
        "df_test['employment'] = predictr.predict(XX)\n",
        "#--#\n",
        "print(f'train_score = {predictr.score(X,y):.4f}')\n",
        "print(f'test_score = {predictr.score(XX,yy):.4f}')"
      ],
      "id": "e3c6d4c8-ddeb-484e-a538-df40ea845158"
    },
    {
      "cell_type": "markdown",
      "metadata": {},
      "source": [
        "`-` 분석3"
      ],
      "id": "ba41bb8f-0bf5-432c-bdd5-5cd8fa48830f"
    },
    {
      "cell_type": "code",
      "execution_count": 25,
      "metadata": {
        "tags": []
      },
      "outputs": [
        {
          "output_type": "stream",
          "name": "stdout",
          "text": [
            "train_score = 0.8800\n",
            "test_score = 0.8743"
          ]
        }
      ],
      "source": [
        "## step1 -- pass\n",
        "## step2 \n",
        "predictr = sklearn.linear_model.LogisticRegressionCV(\n",
        "    Cs = [0.1, 1, 10, 100],\n",
        "    penalty='l1', \n",
        "    solver='liblinear'    \n",
        ")\n",
        "## step3 \n",
        "predictr.fit(X,y)\n",
        "## step4\n",
        "df_train['employment'] = predictr.predict(X)\n",
        "df_test['employment'] = predictr.predict(XX)\n",
        "#--#\n",
        "print(f'train_score = {predictr.score(X,y):.4f}')\n",
        "print(f'test_score = {predictr.score(XX,yy):.4f}')"
      ],
      "id": "9df0e379-661f-43e8-a80f-88dea71be763"
    },
    {
      "cell_type": "markdown",
      "metadata": {},
      "source": [
        "# 5. 연구"
      ],
      "id": "95189207-31a6-423c-99b9-c0dc892ec763"
    }
  ],
  "nbformat": 4,
  "nbformat_minor": 5,
  "metadata": {
    "kernelspec": {
      "name": "python3",
      "display_name": "Python 3 (ipykernel)",
      "language": "python"
    },
    "language_info": {
      "name": "python",
      "codemirror_mode": {
        "name": "ipython",
        "version": "3"
      },
      "file_extension": ".py",
      "mimetype": "text/x-python",
      "nbconvert_exporter": "python",
      "pygments_lexer": "ipython3",
      "version": "3.10.13"
    }
  }
}