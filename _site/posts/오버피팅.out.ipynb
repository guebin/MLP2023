{
  "cells": [
    {
      "cell_type": "markdown",
      "metadata": {},
      "source": [
        "# 05wk-021: 취업, 오버피팅\n",
        "\n",
        "최규빈  \n",
        "2023-10-05\n",
        "\n",
        "# 1. 강의영상\n",
        "\n",
        "# 2. Imports"
      ],
      "id": "5e40f01d-b36d-4a42-9cc6-a6f56805ad71"
    },
    {
      "cell_type": "code",
      "execution_count": 22,
      "metadata": {},
      "outputs": [],
      "source": [
        "import numpy as np\n",
        "import pandas as pd\n",
        "import sklearn.linear_model"
      ],
      "id": "8e9916ea-1cbd-4d2d-9b83-9699407c5567"
    },
    {
      "cell_type": "markdown",
      "metadata": {},
      "source": [
        "# 3. 밸런스게임\n",
        "\n",
        "`-` ref: <https://verovero1.tistory.com/136>\n",
        "\n",
        "`-` 하고 싶은 말: 내가 원한다면 무수히 많은 데이터를 모을 수 있다고\n",
        "가정하자.[1]\n",
        "\n",
        "# 4. 상황1\n",
        "\n",
        "`-` 아래의 자료를 고려하자.\n",
        "\n",
        "[1] 빅데이터?????"
      ],
      "id": "5cd5f307-c226-4674-886b-28778dae9c54"
    },
    {
      "cell_type": "code",
      "execution_count": 4,
      "metadata": {},
      "outputs": [],
      "source": [
        "data = {\n",
        "    'toeic': [640, 705, 930, 755, 410, 655, 400, 915, 970, 895],\n",
        "    'gpa': [0.712533, 0.639031, 0.148400, 1.230271, 3.279419, 1.255110, 4.157389, 3.714847, 1.584432, 2.170776],\n",
        "    'employment': [1, 0, 0, 0, 1, 0, 1, 1, 1, 0],\n",
        "    'balance_game_1': [1, 0, 0, 0, 1, 0, 1, 0, 0, 0]\n",
        "}\n",
        "\n",
        "df = pd.DataFrame(data)\n",
        "df"
      ],
      "id": "c1f820e1-dbbd-4b79-9f99-dfec4db898d2"
    },
    {
      "cell_type": "markdown",
      "metadata": {},
      "source": [
        "`-` train/test를 아래와 같이 구분했다고 하자."
      ],
      "id": "41dbc401-8a9a-465f-8670-fd552044af64"
    },
    {
      "cell_type": "code",
      "execution_count": 6,
      "metadata": {},
      "outputs": [],
      "source": [
        "df_train = df[:7]\n",
        "df_train"
      ],
      "id": "40f6d07e"
    },
    {
      "cell_type": "code",
      "execution_count": 7,
      "metadata": {},
      "outputs": [],
      "source": [
        "df_test = df[7:]\n",
        "df_test"
      ],
      "id": "0a306a18"
    },
    {
      "cell_type": "markdown",
      "metadata": {},
      "source": [
        "`-` 직감: 이 자료를 가지고 학습하면 반드시 망한다..\n",
        "\n",
        "`-` 결론: 자료가 많을수록 좋은게 아니다. 쓸모없는 자료가 있다면 오히려\n",
        "학습에 방해가 된다. 위의 자료로 학습한다면 오버피팅이 발생할 것.\n",
        "\n",
        "`-` 반론: 예제가 너무 억지 아니야?\n",
        "\n",
        "# 4. 상황2\n",
        "\n",
        "`-` 다시 아래의 자료를 가정하자."
      ],
      "id": "86be048b-ba41-4bd9-9135-3f614e253d45"
    },
    {
      "cell_type": "code",
      "execution_count": 19,
      "metadata": {},
      "outputs": [],
      "source": [
        "data = {\n",
        "    'toeic': [640, 705, 930, 755, 410, 655, 400, 915, 970, 895],\n",
        "    'gpa': [0.712533, 0.639031, 0.148400, 1.230271, 3.279419, 1.255110, 4.157389, 3.714847, 1.584432, 2.170776],\n",
        "    'employment': [1, 0, 0, 0, 1, 0, 1, 1, 1, 0]\n",
        "}\n",
        "df = pd.DataFrame(data)\n",
        "df"
      ],
      "id": "db065871"
    },
    {
      "cell_type": "markdown",
      "metadata": {},
      "source": [
        "`-` 밸런스게임을 50번정도 진행했다고 하자."
      ],
      "id": "c46e0ca4-47c1-4057-a900-6cf3a8b38d19"
    },
    {
      "cell_type": "code",
      "execution_count": 21,
      "metadata": {},
      "outputs": [],
      "source": [
        "np.random.seed(43052)\n",
        "arr = (np.random.rand(10*50).reshape(10,50)>0.5) * 1\n",
        "df_balance= pd.DataFrame(arr,columns=[f'X{i}' for i in range(50)])\n",
        "pd.concat([df,df_balance],axis=1)"
      ],
      "id": "ff4d5187"
    },
    {
      "cell_type": "code",
      "execution_count": 23,
      "metadata": {},
      "outputs": [],
      "source": [
        "prdtr = sklearn.linear_model.LinearRegression()\n",
        "prdtr.fit()"
      ],
      "id": "3248403e"
    }
  ],
  "nbformat": 4,
  "nbformat_minor": 5,
  "metadata": {
    "kernelspec": {
      "name": "python3",
      "display_name": "Python 3 (ipykernel)",
      "language": "python"
    },
    "language_info": {
      "name": "python",
      "codemirror_mode": {
        "name": "ipython",
        "version": "3"
      },
      "file_extension": ".py",
      "mimetype": "text/x-python",
      "nbconvert_exporter": "python",
      "pygments_lexer": "ipython3",
      "version": "3.10.13"
    }
  }
}