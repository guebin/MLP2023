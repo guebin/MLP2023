{
  "cells": [
    {
      "cell_type": "markdown",
      "metadata": {},
      "source": [
        "# 07wk-033: 취업(다중공선성), 의사결정나무\n",
        "\n",
        "최규빈  \n",
        "2023-10-16\n",
        "\n",
        "# 1. 강의영상\n",
        "\n",
        "[????](????)\n",
        "\n",
        "# 2. Imports"
      ],
      "id": "db19986f-23e8-43a4-8beb-6fdc8b342708"
    },
    {
      "cell_type": "code",
      "execution_count": 3,
      "metadata": {
        "tags": []
      },
      "outputs": [],
      "source": [
        "import numpy as np\n",
        "import pandas as pd\n",
        "import sklearn.model_selection\n",
        "import sklearn.tree"
      ],
      "id": "f2298395-f61a-45d1-92d9-53afd0c1f1f3"
    },
    {
      "cell_type": "markdown",
      "metadata": {},
      "source": [
        "# 3. Data"
      ],
      "id": "add7cefc-342b-45e5-8d2a-e1f487bbdc6e"
    },
    {
      "cell_type": "code",
      "execution_count": 4,
      "metadata": {
        "tags": []
      },
      "outputs": [],
      "source": [
        "np.random.seed(43052)\n",
        "df = pd.read_csv(\"https://raw.githubusercontent.com/guebin/MP2023/main/posts/employment_multicollinearity.csv\")\n",
        "df['employment_score'] = df.gpa * 1.0 + df.toeic* 1/100 + np.random.randn(500)"
      ],
      "id": "9073c08d-3f2b-4cb4-9ad3-115b84e031ac"
    },
    {
      "cell_type": "code",
      "execution_count": 5,
      "metadata": {
        "tags": []
      },
      "outputs": [],
      "source": [
        "df_train, df_test = sklearn.model_selection.train_test_split(df,test_size=0.3,random_state=42)"
      ],
      "id": "fe562d4f-becb-445a-984d-d9b0e1d3e1f5"
    },
    {
      "cell_type": "code",
      "execution_count": 6,
      "metadata": {
        "tags": []
      },
      "outputs": [],
      "source": [
        "X,y = df_train.loc[:,'gpa':],df_train['employment_score']\n",
        "XX,yy = df_test.loc[:,'gpa':],df_test['employment_score']"
      ],
      "id": "f94aa4ad-3682-4088-b912-3e2b23c96f71"
    },
    {
      "cell_type": "markdown",
      "metadata": {},
      "source": [
        "-   실제 kaggle에서는 yy를 모르는 상황임\n",
        "\n",
        "# 4. 분석"
      ],
      "id": "f9613011-0fa9-4bd9-8120-7b0c0c36f502"
    },
    {
      "cell_type": "code",
      "execution_count": 10,
      "metadata": {
        "tags": []
      },
      "outputs": [
        {
          "output_type": "stream",
          "name": "stdout",
          "text": [
            "train score: 1.0000\n",
            "test score: 0.8300"
          ]
        }
      ],
      "source": [
        "## step1 -- pass \n",
        "## step2 \n",
        "predictr = sklearn.tree.DecisionTreeRegressor(random_state=42)\n",
        "## step3 \n",
        "predictr.fit(X,y)\n",
        "## step4\n",
        "df_train['employment_score_hat'] = predictr.predict(X)\n",
        "df_test['employment_score_hat'] = predictr.predict(XX)\n",
        "#---#\n",
        "print(f'train score: {predictr.score(X,y):.4f}')\n",
        "print(f'test score: {predictr.score(XX,yy):.4f}')"
      ],
      "id": "2b51b5f8-8039-437a-b8bb-0cb8ec2d3ac6"
    },
    {
      "cell_type": "markdown",
      "metadata": {},
      "source": [
        "-   오버핏이긴한데 나쁘지 않음.."
      ],
      "id": "1dfe0665-7b04-44ae-8a15-64b033e19fbe"
    }
  ],
  "nbformat": 4,
  "nbformat_minor": 5,
  "metadata": {
    "kernelspec": {
      "name": "python3",
      "display_name": "Python 3 (ipykernel)",
      "language": "python"
    },
    "language_info": {
      "name": "python",
      "codemirror_mode": {
        "name": "ipython",
        "version": "3"
      },
      "file_extension": ".py",
      "mimetype": "text/x-python",
      "nbconvert_exporter": "python",
      "pygments_lexer": "ipython3",
      "version": "3.10.13"
    }
  }
}