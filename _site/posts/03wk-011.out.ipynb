{
  "cells": [
    {
      "cell_type": "markdown",
      "metadata": {},
      "source": [
        "# 03wk-011: Medical Cost, 회귀분석\n",
        "\n",
        "최규빈  \n",
        "2023-09-21\n",
        "\n",
        "# 1. 강의영상\n",
        "\n",
        "<https://youtu.be/playlist?list=PLQqh36zP38-zwUq3ZIN2SNas0l8htamMO&si=dH2sszdMPMFTGeEV>\n",
        "\n",
        "# 2. Import"
      ],
      "id": "b813b4a4-dfc7-4862-b7c1-0490dd02ff0e"
    },
    {
      "cell_type": "code",
      "execution_count": 14,
      "metadata": {},
      "outputs": [],
      "source": [
        "import numpy as np\n",
        "import pandas as pd \n",
        "import sklearn.linear_model"
      ],
      "id": "de3fe823-7dd4-4a85-a330-3cb1abd2196a"
    },
    {
      "cell_type": "markdown",
      "metadata": {},
      "source": [
        "# 3. Data 불러오기\n",
        "\n",
        "`-` 캐글에서 `Medical Cost Personal Datasets` download\n",
        "\n",
        "-   <https://www.kaggle.com/datasets/mirichoi0218/insurance>\n",
        "\n",
        "`-` Data Load"
      ],
      "id": "78987fec-325e-47a0-8f1a-c3038e2e6e3e"
    },
    {
      "cell_type": "code",
      "execution_count": 61,
      "metadata": {},
      "outputs": [],
      "source": [
        "df = pd.read_csv('insurance.csv')\n",
        "df"
      ],
      "id": "9e29a32e-0e6f-485b-820a-db2f80115a66"
    },
    {
      "cell_type": "markdown",
      "metadata": {},
      "source": [
        "# 4. 분석\n",
        "\n",
        "## A. Data 정리"
      ],
      "id": "97a7e5a0-9d51-4445-ad97-bcaf9868e035"
    },
    {
      "cell_type": "code",
      "execution_count": 6,
      "metadata": {},
      "outputs": [],
      "source": [
        "df.columns"
      ],
      "id": "0557de7d-c430-48b0-9f0d-46f73c1e66f8"
    },
    {
      "cell_type": "code",
      "execution_count": 40,
      "metadata": {},
      "outputs": [],
      "source": [
        "X = pd.get_dummies(df.drop(['charges'],axis=1))\n",
        "y = df[['charges']]"
      ],
      "id": "224cf629-b314-46a7-9b12-2415f136f687"
    },
    {
      "cell_type": "code",
      "execution_count": 41,
      "metadata": {},
      "outputs": [],
      "source": [
        "X"
      ],
      "id": "6f0f7133-d5d4-4678-b440-aefaad0ddab0"
    },
    {
      "cell_type": "code",
      "execution_count": 42,
      "metadata": {},
      "outputs": [],
      "source": [
        "y"
      ],
      "id": "60ee23a3-be24-42a1-b5d6-8febd7798ecd"
    },
    {
      "cell_type": "markdown",
      "metadata": {},
      "source": [
        "## B. Predictor 생성"
      ],
      "id": "d8cb9020-b0a4-4754-9173-120cd4debe66"
    },
    {
      "cell_type": "code",
      "execution_count": 43,
      "metadata": {},
      "outputs": [],
      "source": [
        "predictr = sklearn.linear_model.LinearRegression()"
      ],
      "id": "8a0bc1be-83c6-4d6c-b302-b936728cfe4f"
    },
    {
      "cell_type": "markdown",
      "metadata": {},
      "source": [
        "## C. 학습"
      ],
      "id": "cbb28fee-b99b-4977-bc5c-7ff4a570b547"
    },
    {
      "cell_type": "code",
      "execution_count": 44,
      "metadata": {},
      "outputs": [],
      "source": [
        "predictr.fit(X,y)"
      ],
      "id": "0d0e17e2-1e5a-4d68-a1d9-974e56d4449e"
    },
    {
      "cell_type": "markdown",
      "metadata": {},
      "source": [
        "## D. 예측"
      ],
      "id": "d2ed9423-a02d-481a-bd9a-dcf12e0cb40e"
    },
    {
      "cell_type": "code",
      "execution_count": 45,
      "metadata": {},
      "outputs": [],
      "source": [
        "df.assign(yhat = predictr.predict(X))"
      ],
      "id": "ffa4e577-f798-4d2f-b1b9-35d718009778"
    },
    {
      "cell_type": "markdown",
      "metadata": {},
      "source": [
        "## E. 평가"
      ],
      "id": "35374304-39f7-4e0d-9823-7b8a9aea23b3"
    },
    {
      "cell_type": "code",
      "execution_count": 47,
      "metadata": {},
      "outputs": [],
      "source": [
        "predictr.score(X,y) # R^2"
      ],
      "id": "9dfcdefa-8f2b-49eb-ae3a-1d2ec10792eb"
    },
    {
      "cell_type": "markdown",
      "metadata": {},
      "source": [
        "> 0.7 이상이면 망한모형까지는 아님 (대회용으로는 부적절할 수 있으나 대충\n",
        "> 쓸 수는 있는 정도)\n",
        "\n",
        "# 5. 계수해석\n",
        "\n",
        "`-` 상수항 해석"
      ],
      "id": "adcc68db-2a9e-4b78-b189-f7711f468072"
    },
    {
      "cell_type": "code",
      "execution_count": 49,
      "metadata": {},
      "outputs": [],
      "source": [
        "predictr.intercept_"
      ],
      "id": "f9a19827-52e6-4a72-9c5d-58cd643382b6"
    },
    {
      "cell_type": "markdown",
      "metadata": {},
      "source": [
        "-   기본적인 보험료는 -666이라는 의미\n",
        "\n",
        "`-` 계수해석"
      ],
      "id": "314125d8-40d4-44c7-9f01-7dc5221ef6b1"
    },
    {
      "cell_type": "code",
      "execution_count": 60,
      "metadata": {},
      "outputs": [],
      "source": [
        "pd.DataFrame({'name':list(X.columns), 'coef':predictr.coef_.reshape(-1)})"
      ],
      "id": "fd802d3e-0413-470f-959c-e2729dd1a11a"
    },
    {
      "cell_type": "markdown",
      "metadata": {},
      "source": [
        "-   지역은 잘 모르겠으나 나머지는 꽤 그럴듯해 보임"
      ],
      "id": "fc1c5933-4e11-4932-a0fb-4bdcb688ba5e"
    }
  ],
  "nbformat": 4,
  "nbformat_minor": 5,
  "metadata": {
    "kernelspec": {
      "name": "python3",
      "display_name": "Python 3 (ipykernel)",
      "language": "python"
    },
    "language_info": {
      "name": "python",
      "codemirror_mode": {
        "name": "ipython",
        "version": "3"
      },
      "file_extension": ".py",
      "mimetype": "text/x-python",
      "nbconvert_exporter": "python",
      "pygments_lexer": "ipython3",
      "version": "3.11.4"
    }
  }
}