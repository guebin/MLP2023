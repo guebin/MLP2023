{
  "cells": [
    {
      "cell_type": "markdown",
      "metadata": {},
      "source": [
        "# 13wk-47: 평가지표의 계산\n",
        "\n",
        "최규빈  \n",
        "2023-12-01\n",
        "\n",
        "# 1. 강의영상\n",
        "\n",
        "<https://youtu.be/playlist?list=PLQqh36zP38-zr8gM9nYpQ_0Q_OKIqeU0d&si=lX6pDp3cV_fME8mg>\n",
        "\n",
        "# 2. Imports"
      ],
      "id": "af3b8c8a-a0e2-44c0-8f8b-fedae4c218f8"
    },
    {
      "cell_type": "code",
      "execution_count": 1,
      "metadata": {
        "tags": []
      },
      "outputs": [],
      "source": [
        "import numpy as np\n",
        "import sklearn.metrics"
      ],
      "id": "a1fe4893-6304-42fd-9c53-7e5684def4a7"
    },
    {
      "cell_type": "markdown",
      "metadata": {},
      "source": [
        "# 3. 12wk-46 숙제풀이\n",
        "\n",
        "밀실안에 100명의 사람이 있다고 하자. 이중 이중휴민트는 2명이 있다고\n",
        "하자. 이중휴민트를 잡기위해서 3명을 사살했다고 하자. 사살된 사람중 실제\n",
        "이중휴민트는 1명이었다고 하자. 이 경우\n",
        "\n",
        "-   accurary\n",
        "-   TPR(=recall)\n",
        "-   precision\n",
        "-   FPR\n",
        "\n",
        "값을 계산하라.\n",
        "\n",
        "`-` `y`, `yhat`"
      ],
      "id": "d475f470-6eff-4cbc-b21c-ea4779f1c7db"
    },
    {
      "cell_type": "code",
      "execution_count": 2,
      "metadata": {
        "tags": []
      },
      "outputs": [],
      "source": [
        "y = np.array([1]*2 + [0]*98)\n",
        "y"
      ],
      "id": "be6bfeed-e917-4e5f-9f75-2e2eeb042da6"
    },
    {
      "cell_type": "code",
      "execution_count": 3,
      "metadata": {
        "tags": []
      },
      "outputs": [],
      "source": [
        "yhat = np.array([0,1,1,1]+[0]*96)\n",
        "yhat"
      ],
      "id": "729ae415-f978-42cd-beb0-513b0083b7bc"
    },
    {
      "cell_type": "markdown",
      "metadata": {},
      "source": [
        "`-` 혼동행렬(=confusion matrix) 만들기"
      ],
      "id": "f9e8823e-0a4c-4e8c-a19a-7a71404d285a"
    },
    {
      "cell_type": "code",
      "execution_count": 4,
      "metadata": {
        "tags": []
      },
      "outputs": [],
      "source": [
        "sklearn.metrics.confusion_matrix(y,yhat)"
      ],
      "id": "79f094f1-dc7a-4f76-b029-af85a5c3ef63"
    },
    {
      "cell_type": "code",
      "execution_count": 5,
      "metadata": {
        "tags": []
      },
      "outputs": [],
      "source": [
        "(tn,fp),(fn,tp) = sklearn.metrics.confusion_matrix(y,yhat)"
      ],
      "id": "491c2ea9-2658-4546-9e7f-48c06c4c899b"
    },
    {
      "cell_type": "markdown",
      "metadata": {},
      "source": [
        "`-` accuracy"
      ],
      "id": "37e6356c-c666-419f-b2f0-e496b88ded96"
    },
    {
      "cell_type": "code",
      "execution_count": 9,
      "metadata": {
        "tags": []
      },
      "outputs": [],
      "source": [
        "(tp+tn)/(tn+fp+fn+tp) # accuracy "
      ],
      "id": "7fd7d079-757f-4975-a72a-b84e846fd1f4"
    },
    {
      "cell_type": "code",
      "execution_count": 10,
      "metadata": {
        "tags": []
      },
      "outputs": [],
      "source": [
        "sklearn.metrics.accuracy_score(y,yhat)"
      ],
      "id": "59c5fef6-84a7-4769-b2bd-2718a5cc621f"
    },
    {
      "cell_type": "markdown",
      "metadata": {},
      "source": [
        "`-` recall"
      ],
      "id": "a002d6b8-d581-41d7-8fd7-28df81acc3ae"
    },
    {
      "cell_type": "code",
      "execution_count": 11,
      "metadata": {
        "tags": []
      },
      "outputs": [],
      "source": [
        "tp/(tp+fn)"
      ],
      "id": "693b1344-5c28-4ecc-891f-ae56f79f5c25"
    },
    {
      "cell_type": "code",
      "execution_count": 12,
      "metadata": {
        "tags": []
      },
      "outputs": [],
      "source": [
        "sklearn.metrics.recall_score(y,yhat)"
      ],
      "id": "93910b7a-1796-49cf-947c-6db3e4083e6f"
    },
    {
      "cell_type": "markdown",
      "metadata": {},
      "source": [
        "`-` precision"
      ],
      "id": "4d949209-ab65-4c16-aa02-3de0fbd365ba"
    },
    {
      "cell_type": "code",
      "execution_count": 13,
      "metadata": {
        "tags": []
      },
      "outputs": [],
      "source": [
        "tp/(tp+fp)"
      ],
      "id": "7a485b27-dce0-4dfa-8bb0-3424bfb53be5"
    },
    {
      "cell_type": "code",
      "execution_count": 14,
      "metadata": {
        "tags": []
      },
      "outputs": [],
      "source": [
        "sklearn.metrics.precision_score(y,yhat)"
      ],
      "id": "e4bfdce7-1bc6-4652-aec9-674149407c5d"
    },
    {
      "cell_type": "markdown",
      "metadata": {},
      "source": [
        "`-` FPR"
      ],
      "id": "ab6c2288-9783-4fc2-9b1b-29e54cb1e2c1"
    },
    {
      "cell_type": "code",
      "execution_count": 15,
      "metadata": {
        "tags": []
      },
      "outputs": [],
      "source": [
        "fp / (fp+tn)"
      ],
      "id": "cbd8d265-9a0a-4a14-8f10-280524ea239e"
    }
  ],
  "nbformat": 4,
  "nbformat_minor": 5,
  "metadata": {
    "kernelspec": {
      "name": "python3",
      "display_name": "Python 3 (ipykernel)",
      "language": "python"
    },
    "language_info": {
      "name": "python",
      "codemirror_mode": {
        "name": "ipython",
        "version": "3"
      },
      "file_extension": ".py",
      "mimetype": "text/x-python",
      "nbconvert_exporter": "python",
      "pygments_lexer": "ipython3",
      "version": "3.10.13"
    }
  }
}