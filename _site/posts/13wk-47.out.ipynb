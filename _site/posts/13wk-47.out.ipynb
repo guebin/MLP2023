{
  "cells": [
    {
      "cell_type": "markdown",
      "metadata": {},
      "source": [
        "# 13wk-47: 평가지표의 계산\n",
        "\n",
        "최규빈  \n",
        "2023-12-01\n",
        "\n",
        "# 1. 강의영상\n",
        "\n",
        "<https://youtu.be/playlist?list=PLQqh36zP38-zr8gM9nYpQ_0Q_OKIqeU0d&si=lX6pDp3cV_fME8mg>\n",
        "\n",
        "# 2. Imports"
      ],
      "id": "68906157-4444-4089-8a47-7092a5400aaa"
    },
    {
      "cell_type": "code",
      "execution_count": 1,
      "metadata": {
        "tags": []
      },
      "outputs": [],
      "source": [
        "import numpy as np\n",
        "import sklearn.metrics"
      ],
      "id": "a1fe4893-6304-42fd-9c53-7e5684def4a7"
    },
    {
      "cell_type": "markdown",
      "metadata": {},
      "source": [
        "# 3. 12wk-46 숙제풀이\n",
        "\n",
        "밀실안에 100명의 사람이 있다고 하자. 이중 이중휴민트는 2명이 있다고\n",
        "하자. 이중휴민트를 잡기위해서 3명을 사살했다고 하자. 사살된 사람중 실제\n",
        "이중휴민트는 1명이었다고 하자. 이 경우\n",
        "\n",
        "-   accurary\n",
        "-   TPR(=recall)\n",
        "-   precision\n",
        "-   FPR\n",
        "\n",
        "값을 계산하라.\n",
        "\n",
        "`-` `y`, `yhat`"
      ],
      "id": "30b854d6-b11f-4bd7-8f7b-b817a4274d3e"
    },
    {
      "cell_type": "code",
      "execution_count": 2,
      "metadata": {
        "tags": []
      },
      "outputs": [],
      "source": [
        "y = np.array([1]*2 + [0]*98)\n",
        "y"
      ],
      "id": "be6bfeed-e917-4e5f-9f75-2e2eeb042da6"
    },
    {
      "cell_type": "code",
      "execution_count": 3,
      "metadata": {
        "tags": []
      },
      "outputs": [],
      "source": [
        "yhat = np.array([0,1,1,1]+[0]*96)\n",
        "yhat"
      ],
      "id": "729ae415-f978-42cd-beb0-513b0083b7bc"
    },
    {
      "cell_type": "markdown",
      "metadata": {},
      "source": [
        "`-` 혼동행렬(=confusion matrix) 만들기"
      ],
      "id": "0e003325-3ee9-42da-ae4f-c9cee58f9200"
    },
    {
      "cell_type": "code",
      "execution_count": 4,
      "metadata": {
        "tags": []
      },
      "outputs": [],
      "source": [
        "sklearn.metrics.confusion_matrix(y,yhat)"
      ],
      "id": "79f094f1-dc7a-4f76-b029-af85a5c3ef63"
    },
    {
      "cell_type": "code",
      "execution_count": 5,
      "metadata": {
        "tags": []
      },
      "outputs": [],
      "source": [
        "(tn,fp),(fn,tp) = sklearn.metrics.confusion_matrix(y,yhat)"
      ],
      "id": "491c2ea9-2658-4546-9e7f-48c06c4c899b"
    },
    {
      "cell_type": "markdown",
      "metadata": {},
      "source": [
        "`-` accuracy"
      ],
      "id": "c87e0662-4c10-4aa5-a9ab-942c837e9645"
    },
    {
      "cell_type": "code",
      "execution_count": 9,
      "metadata": {
        "tags": []
      },
      "outputs": [],
      "source": [
        "(tp+tn)/(tn+fp+fn+tp) # accuracy "
      ],
      "id": "7fd7d079-757f-4975-a72a-b84e846fd1f4"
    },
    {
      "cell_type": "code",
      "execution_count": 10,
      "metadata": {
        "tags": []
      },
      "outputs": [],
      "source": [
        "sklearn.metrics.accuracy_score(y,yhat)"
      ],
      "id": "59c5fef6-84a7-4769-b2bd-2718a5cc621f"
    },
    {
      "cell_type": "markdown",
      "metadata": {},
      "source": [
        "`-` recall"
      ],
      "id": "87f7c22f-2c7f-4fbd-8ea9-a8c9c9417e4d"
    },
    {
      "cell_type": "code",
      "execution_count": 11,
      "metadata": {
        "tags": []
      },
      "outputs": [],
      "source": [
        "tp/(tp+fn)"
      ],
      "id": "693b1344-5c28-4ecc-891f-ae56f79f5c25"
    },
    {
      "cell_type": "code",
      "execution_count": 12,
      "metadata": {
        "tags": []
      },
      "outputs": [],
      "source": [
        "sklearn.metrics.recall_score(y,yhat)"
      ],
      "id": "93910b7a-1796-49cf-947c-6db3e4083e6f"
    },
    {
      "cell_type": "markdown",
      "metadata": {},
      "source": [
        "`-` precision"
      ],
      "id": "ebc7d7b4-3422-48d1-b9bf-75a1e01d04f4"
    },
    {
      "cell_type": "code",
      "execution_count": 13,
      "metadata": {
        "tags": []
      },
      "outputs": [],
      "source": [
        "tp/(tp+fp)"
      ],
      "id": "7a485b27-dce0-4dfa-8bb0-3424bfb53be5"
    },
    {
      "cell_type": "code",
      "execution_count": 14,
      "metadata": {
        "tags": []
      },
      "outputs": [],
      "source": [
        "sklearn.metrics.precision_score(y,yhat)"
      ],
      "id": "e4bfdce7-1bc6-4652-aec9-674149407c5d"
    },
    {
      "cell_type": "markdown",
      "metadata": {},
      "source": [
        "`-` FPR"
      ],
      "id": "cfcc5b4e-eff5-4db1-bd69-88ac778e3eae"
    },
    {
      "cell_type": "code",
      "execution_count": 15,
      "metadata": {
        "tags": []
      },
      "outputs": [],
      "source": [
        "fp / (fp+tn)"
      ],
      "id": "cbd8d265-9a0a-4a14-8f10-280524ea239e"
    }
  ],
  "nbformat": 4,
  "nbformat_minor": 5,
  "metadata": {
    "kernelspec": {
      "name": "python3",
      "display_name": "Python 3 (ipykernel)",
      "language": "python"
    },
    "language_info": {
      "name": "python",
      "codemirror_mode": {
        "name": "ipython",
        "version": "3"
      },
      "file_extension": ".py",
      "mimetype": "text/x-python",
      "nbconvert_exporter": "python",
      "pygments_lexer": "ipython3",
      "version": "3.10.13"
    }
  }
}