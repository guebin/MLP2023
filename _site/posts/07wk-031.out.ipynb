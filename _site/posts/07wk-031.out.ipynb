{
  "cells": [
    {
      "cell_type": "markdown",
      "metadata": {},
      "source": [
        "# 07wk-031: 체중감량(교호작용) / 의사결정나무\n",
        "\n",
        "최규빈  \n",
        "2023-10-17\n",
        "\n",
        "# 1. 강의영상\n",
        "\n",
        "<https://youtu.be/playlist?list=PLQqh36zP38-xhSSJ1GlUjFhUgzvVa3aIH&si=JA3pd69Mv9QGXx0z>\n",
        "\n",
        "# 2. Imports"
      ],
      "id": "2cbda58c-937f-45fd-9584-35633f8a5ca2"
    },
    {
      "cell_type": "code",
      "execution_count": 6,
      "metadata": {
        "tags": []
      },
      "outputs": [],
      "source": [
        "import numpy as np\n",
        "import pandas as pd \n",
        "import sklearn.linear_model\n",
        "import sklearn.tree"
      ],
      "id": "183d0665-f3a8-4945-9454-75da15083048"
    },
    {
      "cell_type": "markdown",
      "metadata": {},
      "source": [
        "# 3. Data"
      ],
      "id": "5f43d4f5-7848-4556-8867-1b9d4b90ed34"
    },
    {
      "cell_type": "code",
      "execution_count": 7,
      "metadata": {
        "tags": []
      },
      "outputs": [],
      "source": [
        "df_train = pd.read_csv('https://raw.githubusercontent.com/guebin/MP2023/main/posts/weightloss.csv')\n",
        "df_train"
      ],
      "id": "683edec5-6a74-4085-a650-9764c9aa9b17"
    },
    {
      "cell_type": "code",
      "execution_count": 8,
      "metadata": {
        "tags": []
      },
      "outputs": [],
      "source": [
        "df_train.pivot_table(index='Supplement',columns='Exercise',values='Weight_Loss')"
      ],
      "id": "5dff8ead-e270-4c83-8429-3ca06296f184"
    },
    {
      "cell_type": "markdown",
      "metadata": {},
      "source": [
        "`-` 운동과 체중감량보조제를 병행하면 시너지가 나는 것 같음\n",
        "\n",
        "# 4. 분석\n",
        "\n",
        "`-` 분석1: 선형회귀 (교호작용 고려 X)"
      ],
      "id": "80e1e99d-8478-4df1-b27e-8b65f06c1ffa"
    },
    {
      "cell_type": "code",
      "execution_count": 14,
      "metadata": {},
      "outputs": [],
      "source": [
        "# step 1\n",
        "X,y = df_train[['Supplement','Exercise']], df_train['Weight_Loss']\n",
        "# step 2 \n",
        "predictr = sklearn.linear_model.LinearRegression()\n",
        "# step 3 \n",
        "predictr.fit(X,y)\n",
        "# step 4 \n",
        "df_train['Weight_Loss_hat'] = predictr.predict(X)"
      ],
      "id": "1bd3b15b"
    },
    {
      "cell_type": "code",
      "execution_count": null,
      "metadata": {},
      "outputs": [],
      "source": [
        "df_train.pivot_table(index='Supplement',columns='Exercise',values='Weight_Loss')"
      ],
      "id": "1f03f9d1"
    },
    {
      "cell_type": "code",
      "execution_count": 15,
      "metadata": {},
      "outputs": [],
      "source": [
        "df_train.pivot_table(index='Supplement',columns='Exercise',values='Weight_Loss_hat')"
      ],
      "id": "861abaea"
    },
    {
      "cell_type": "markdown",
      "metadata": {},
      "source": [
        "`-` 분석2: 의사결정나무"
      ],
      "id": "cb6f7f1e-75d1-4f03-aa67-ef8aa67943ba"
    },
    {
      "cell_type": "code",
      "execution_count": 16,
      "metadata": {},
      "outputs": [],
      "source": [
        "# step 1\n",
        "X,y = df_train[['Supplement','Exercise']], df_train['Weight_Loss']\n",
        "# step 2 \n",
        "predictr = sklearn.tree.DecisionTreeRegressor()\n",
        "# step 3 \n",
        "predictr.fit(X,y)\n",
        "# step 4 \n",
        "df_train['Weight_Loss_hat'] = predictr.predict(X)"
      ],
      "id": "6571a02f"
    },
    {
      "cell_type": "code",
      "execution_count": 19,
      "metadata": {},
      "outputs": [],
      "source": [
        "df_train"
      ],
      "id": "62c586a0"
    },
    {
      "cell_type": "code",
      "execution_count": 17,
      "metadata": {},
      "outputs": [],
      "source": [
        "df_train.pivot_table(index='Supplement',columns='Exercise',values='Weight_Loss')"
      ],
      "id": "4688fb59"
    },
    {
      "cell_type": "code",
      "execution_count": 18,
      "metadata": {},
      "outputs": [],
      "source": [
        "df_train.pivot_table(index='Supplement',columns='Exercise',values='Weight_Loss_hat')"
      ],
      "id": "c2784a11"
    }
  ],
  "nbformat": 4,
  "nbformat_minor": 5,
  "metadata": {
    "kernelspec": {
      "name": "python3",
      "display_name": "Python 3 (ipykernel)",
      "language": "python"
    },
    "language_info": {
      "name": "python",
      "codemirror_mode": {
        "name": "ipython",
        "version": "3"
      },
      "file_extension": ".py",
      "mimetype": "text/x-python",
      "nbconvert_exporter": "python",
      "pygments_lexer": "ipython3",
      "version": "3.10.13"
    }
  }
}