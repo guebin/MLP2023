{
  "cells": [
    {
      "cell_type": "markdown",
      "metadata": {},
      "source": [
        "# 2023-12-05 – 원격컴퓨터에서 개발환경 셋팅하기 (3)\n",
        "\n",
        "최규빈  \n",
        "2023-12-05\n",
        "\n",
        "# 1. R과 Jupyter의 연결\n",
        "\n",
        "`-` 아래를 이용하여 가상환경생성, 가상환경활성화, 가상환경에R설치,R실행\n",
        "\n",
        "``` bash\n",
        "conda create -n r \n",
        "conda activate r \n",
        "conda install -c conda-forge r-essentials \n",
        "R\n",
        "```\n",
        "\n",
        "`-` R이 실행되면 아래를 입력\n",
        "\n",
        "``` r\n",
        "IRkernel::installspec()\n",
        "q() # 이후에 n을 누르고 빠져나간다.\n",
        "```\n",
        "\n",
        "`-` 주피터에서 R이 실행되는지 확인한다."
      ],
      "id": "d4722a9e-c410-4802-b8fd-beb325f9c318"
    }
  ],
  "nbformat": 4,
  "nbformat_minor": 5,
  "metadata": {
    "kernelspec": {
      "name": "python3",
      "display_name": "Python 3 (ipykernel)",
      "language": "python"
    },
    "language_info": {
      "name": "python",
      "codemirror_mode": {
        "name": "ipython",
        "version": "3"
      },
      "file_extension": ".py",
      "mimetype": "text/x-python",
      "nbconvert_exporter": "python",
      "pygments_lexer": "ipython3",
      "version": "3.10.13"
    }
  }
}