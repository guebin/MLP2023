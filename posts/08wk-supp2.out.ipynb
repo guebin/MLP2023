{
  "cells": [
    {
      "cell_type": "markdown",
      "metadata": {},
      "source": [
        "# 08wk: 중간고사 (ver 0.1)\n",
        "\n",
        "최규빈  \n",
        "2023-11-02\n",
        "\n",
        "<https://youtu.be/playlist?list=PLQqh36zP38-xUFyFbhYziWBKAaI7kNRqF&si=EylYvoWCWMhcvHNK>\n",
        "\n",
        "------------------------------------------------------------------------\n",
        "\n",
        "1.  True/False를 판단하는 문제는 답만 써도 무방함.\n",
        "2.  “자료분석” 문제는 “kaggle style score = 50%”, “분석의 논리 = 50%” 의\n",
        "    배점으로 채점한다.\n",
        "3.  “자료분석” 유형의 경우 분석의 논리가 매우 우수하거나, 창의적인\n",
        "    접근법으로 분석을 시도할 경우 가산점을 부여한다. (아이디어\n",
        "    단계에서도 가산점 부여가능) 가산점은 문항점수의 최대 100%까지\n",
        "    부여한다.\n",
        "4.  “연구” 문항의 경우 세부문항을 정확하게 수행한 경우에만 100%의 점수를\n",
        "    부여하며 이를 어길시 부분점수를 부여하지 않는다. 연구결과의 시각화나\n",
        "    해석이 우수한 답안은 문항점수의 20%까지 가산점을 부여한다.\n",
        "\n",
        "------------------------------------------------------------------------"
      ],
      "id": "6792ad1d-0c71-4f56-8bf5-52176185bf4f"
    },
    {
      "cell_type": "code",
      "execution_count": 29,
      "metadata": {
        "tags": []
      },
      "outputs": [],
      "source": [
        "import pandas as pd\n",
        "import numpy as np\n",
        "import matplotlib.pyplot as plt\n",
        "import sklearn.preprocessing \n",
        "import sklearn.model_selection"
      ],
      "id": "70bd7605-1f7a-48be-ab9a-ccca3295104e"
    },
    {
      "cell_type": "markdown",
      "metadata": {},
      "source": [
        "# `1`. O/X\n",
        "\n",
        "-   <https://www.kaggle.com/t/7911b05108f642e094ce13a77a5a4723>\n",
        "\n",
        "`(1)` [모듈9\n",
        "5-B](https://guebin.github.io/MP2023/posts/03wk-009.html#b.-predictor-%EC%83%9D%EC%84%B1)에서\n",
        "`sklearn.linear_model.LinearRegression()` 대신\n",
        "`sklearn.linear_model.LogisticRegression()` 를 이용하여 predictor를\n",
        "생성해도 무방하다.\n",
        "\n",
        "# `2`. 자료분석\n",
        "\n",
        "`(1)` 아래의 자료를 해석하고 세부지침에 맞추어 분석하라."
      ],
      "id": "efeae750-fc79-4a2b-91de-024c4f8aca55"
    },
    {
      "cell_type": "code",
      "execution_count": 56,
      "metadata": {
        "tags": []
      },
      "outputs": [],
      "source": [
        "df_train = pd.read_csv('https://raw.githubusercontent.com/guebin/MP2023/master/posts/mid/icesales_train.csv')\n",
        "df_test = pd.read_csv('https://raw.githubusercontent.com/guebin/MP2023/master/posts/mid/icesales_test.csv')"
      ],
      "id": "54316308-ea49-4eac-9887-2896d4ee3011"
    },
    {
      "cell_type": "markdown",
      "metadata": {},
      "source": [
        "**세부지침**\n",
        "\n",
        "1.  반응변수 ${\\bf y}$를 `sales`로 설정하고 나머지는 설명변수로\n",
        "    설정하라.\n",
        "2.  `sklearn.linear_model` 에 포함된 모형들을 이용하여 분석하라.\n",
        "\n",
        "`(2)` 아래의 자료를 해석하고 세부지침에 맞추어 분석하라."
      ],
      "id": "53d3bd51-948b-4ef3-9d64-00753e224724"
    },
    {
      "cell_type": "code",
      "execution_count": 104,
      "metadata": {
        "tags": []
      },
      "outputs": [],
      "source": [
        "df_train = pd.read_csv('https://raw.githubusercontent.com/guebin/MP2023/master/posts/mid/synthetic_train.csv')\n",
        "df_test = pd.read_csv('https://raw.githubusercontent.com/guebin/MP2023/master/posts/mid/synthetic_test.csv')"
      ],
      "id": "18a24cc9-5a5e-487d-9c21-2c728a0124a0"
    },
    {
      "cell_type": "markdown",
      "metadata": {},
      "source": [
        "**세부지침**\n",
        "\n",
        "1.  반응변수 ${\\bf y}$를 `y`로 설정하고 나머지는 설명변수로 설정하라.\n",
        "2.  `sklearn.preprocessing`내의 적절한 scaler 설명변수를 scaling하라.\n",
        "\n",
        "# `3`. 연구\n",
        "\n",
        "`(1)` 아래의 자료를 세부지침에 맞추어 연구하라."
      ],
      "id": "05bbfb91-534c-4e6f-ab1a-1a43e0825375"
    },
    {
      "cell_type": "code",
      "execution_count": 96,
      "metadata": {
        "tags": []
      },
      "outputs": [],
      "source": [
        "df = pd.read_csv(\"https://raw.githubusercontent.com/guebin/MP2023/main/posts/employment_multicollinearity.csv\")\n",
        "np.random.seed(43052)\n",
        "df['employment_score'] = df.gpa * 1.0 + df.toeic* 1/100 + np.random.randn(500)"
      ],
      "id": "7ea9b65b-6206-4cbf-b411-4acf4c6c1758"
    },
    {
      "cell_type": "markdown",
      "metadata": {},
      "source": [
        "**세부지침**\n",
        "\n",
        "1.  종속변수 ${\\bf y}$를 `sales`로 설정하고 나머지는 설명변수로\n",
        "    설정하라.\n",
        "2.  `sklearn.linear_model.Lasso`를 이용하여\n",
        "    $\\alpha =0,1,0.2, \\dots, 1.9, 2.0$에 대해 predictor를 생성하라.\n",
        "3.  $\\alpha$의 변화에 따른 score의 변화와[1] 0이 아닌 계수값의 수를\n",
        "    시각화하라.\n",
        "\n",
        "------------------------------------------------------------------------\n",
        "\n",
        "jupyter: kernelspec: display_name: Python 3 (ipykernel) language: python\n",
        "name: python3 language_info: codemirror_mode: name: ipython version: 3\n",
        "file_extension: .py mimetype: text/x-python name: python\n",
        "nbconvert_exporter: python pygments_lexer: ipython3 version: 3.10.13\n",
        "\n",
        "------------------------------------------------------------------------\n",
        "\n",
        "[1] `predictor.score` 함수이용하여 계산되는 값"
      ],
      "id": "860bbde8-a178-448d-967b-ddc0c1d550a2"
    }
  ],
  "nbformat": 4,
  "nbformat_minor": 5,
  "metadata": {
    "kernelspec": {
      "display_name": "Python 3",
      "language": "python",
      "name": "python3"
    }
  }
}