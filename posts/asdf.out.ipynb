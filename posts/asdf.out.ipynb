{
  "cells": [
    {
      "cell_type": "markdown",
      "metadata": {},
      "source": [
        "# 03wk-015: Stroke, 로지스틱\n",
        "\n",
        "최규빈  \n",
        "2023-09-21\n",
        "\n",
        "# 1. 강의영상\n",
        "\n",
        "# 2. Import"
      ],
      "id": "07cdd8c4-edc2-40f7-88b4-564370539013"
    },
    {
      "cell_type": "code",
      "execution_count": 15,
      "metadata": {},
      "outputs": [],
      "source": [
        "import numpy as np\n",
        "import pandas as pd \n",
        "import sklearn.linear_model"
      ],
      "id": "fc30ec77-e9e5-4bd9-aad0-f96442a9397f"
    },
    {
      "cell_type": "markdown",
      "metadata": {},
      "source": [
        "# 3. 데이터 불러오기"
      ],
      "id": "7611caea-0a0b-44d1-9939-da353f27bdb5"
    },
    {
      "cell_type": "code",
      "execution_count": 18,
      "metadata": {},
      "outputs": [],
      "source": [
        "df_train = pd.read_csv('playground-series-s3e2/train.csv')\n",
        "df_test = pd.read_csv('playground-series-s3e2/test.csv')"
      ],
      "id": "76cc5100-9cc8-4e0d-8df1-1fbb3cd484e6"
    },
    {
      "cell_type": "code",
      "execution_count": 20,
      "metadata": {},
      "outputs": [],
      "source": [
        "df_train"
      ],
      "id": "7ce547ce-827c-4bfc-bc61-059f84f013e7"
    },
    {
      "cell_type": "code",
      "execution_count": 19,
      "metadata": {},
      "outputs": [],
      "source": [
        "set(df_train)-set(df_test)"
      ],
      "id": "09ed763a-14c5-4321-84fe-c3b1ff68c56c"
    },
    {
      "cell_type": "markdown",
      "metadata": {},
      "source": [
        "# 4. 분석\n",
        "\n",
        "## A. 데이터 정리하기"
      ],
      "id": "7dc23f0e-e5aa-4fde-9ab1-20fef7d79351"
    },
    {
      "cell_type": "code",
      "execution_count": 26,
      "metadata": {},
      "outputs": [],
      "source": [
        "X = pd.get_dummies(df_train.drop(['id','stroke'],axis=1))\n",
        "y = df_train[['stroke']]"
      ],
      "id": "e37ee857-c058-42f7-9dfb-198f666c95fa"
    },
    {
      "cell_type": "markdown",
      "metadata": {},
      "source": [
        "## B. Predictor 생성"
      ],
      "id": "8f2ae3d1-2a97-47a0-abe0-c33ad2a1bc44"
    },
    {
      "cell_type": "code",
      "execution_count": 27,
      "metadata": {},
      "outputs": [],
      "source": [
        "predictr = sklearn.linear_model.LogisticRegression() \n",
        "predictr"
      ],
      "id": "7003ac33-c827-4da0-814e-56244b5f5b2f"
    },
    {
      "cell_type": "markdown",
      "metadata": {},
      "source": [
        "## C. 학습"
      ],
      "id": "8a0fb98f-be5b-49c8-b167-de7e82b23dad"
    },
    {
      "cell_type": "code",
      "execution_count": 28,
      "metadata": {},
      "outputs": [
        {
          "output_type": "stream",
          "name": "stderr",
          "text": [
            "/home/cgb2/anaconda3/envs/r/lib/python3.11/site-packages/sklearn/utils/validation.py:1184: DataConversionWarning: A column-vector y was passed when a 1d array was expected. Please change the shape of y to (n_samples, ), for example using ravel().\n",
            "  y = column_or_1d(y, warn=True)\n",
            "/home/cgb2/anaconda3/envs/r/lib/python3.11/site-packages/sklearn/linear_model/_logistic.py:460: ConvergenceWarning: lbfgs failed to converge (status=1):\n",
            "STOP: TOTAL NO. of ITERATIONS REACHED LIMIT.\n",
            "\n",
            "Increase the number of iterations (max_iter) or scale the data as shown in:\n",
            "    https://scikit-learn.org/stable/modules/preprocessing.html\n",
            "Please also refer to the documentation for alternative solver options:\n",
            "    https://scikit-learn.org/stable/modules/linear_model.html#logistic-regression\n",
            "  n_iter_i = _check_optimize_result("
          ]
        }
      ],
      "source": [
        "predictr.fit(X,y)"
      ],
      "id": "0a3f643d-ec4f-43d0-8499-484c42ee2b77"
    },
    {
      "cell_type": "markdown",
      "metadata": {},
      "source": [
        "## D. 예측"
      ],
      "id": "97bce8ae-c3bc-4d43-8dfa-da310a30d860"
    },
    {
      "cell_type": "code",
      "execution_count": 57,
      "metadata": {},
      "outputs": [],
      "source": [
        "yhat = predictr.predict(X) \n",
        "yhat "
      ],
      "id": "8de91dcb-b8da-4ce3-a8e5-45d9231975d9"
    },
    {
      "cell_type": "code",
      "execution_count": 58,
      "metadata": {},
      "outputs": [],
      "source": [
        "XX = pd.get_dummies(df_test.drop(['id'],axis=1))\n",
        "yyhat = predictr.predict(XX)"
      ],
      "id": "a0312180-880d-44d2-83f9-2b5976f7d102"
    },
    {
      "cell_type": "markdown",
      "metadata": {},
      "source": [
        "## E. 평가"
      ],
      "id": "3c1ee744-4aec-4b39-9582-4da69e4e18f4"
    },
    {
      "cell_type": "code",
      "execution_count": 45,
      "metadata": {},
      "outputs": [],
      "source": [
        "predictr.score(X,y)"
      ],
      "id": "83ae6989-faf8-4cb5-832d-4ce5096ad47e"
    },
    {
      "cell_type": "code",
      "execution_count": 59,
      "metadata": {},
      "outputs": [],
      "source": [
        "(yhat == np.array(y.stroke)).mean()"
      ],
      "id": "1ba4eb04-73cf-4c7a-a1f3-8fd5bfff8da7"
    },
    {
      "cell_type": "markdown",
      "metadata": {},
      "source": [
        "# 5. 제출"
      ],
      "id": "f160b1ba-3f80-480a-8ddd-fce9725c4bed"
    },
    {
      "cell_type": "code",
      "execution_count": 67,
      "metadata": {},
      "outputs": [],
      "source": [
        "submission = pd.read_csv('playground-series-s3e2/sample_submission.csv')"
      ],
      "id": "d3a1368d-b0de-4249-9d68-baa166800e12"
    },
    {
      "cell_type": "code",
      "execution_count": 74,
      "metadata": {},
      "outputs": [],
      "source": [
        "submission.assign(stroke = predictr.predict(XX))"
      ],
      "id": "2e3438e5-6083-4869-aca4-a410337dfbef"
    }
  ],
  "nbformat": 4,
  "nbformat_minor": 5,
  "metadata": {
    "kernelspec": {
      "name": "python3",
      "display_name": "Python 3 (ipykernel)",
      "language": "python"
    },
    "language_info": {
      "name": "python",
      "codemirror_mode": {
        "name": "ipython",
        "version": "3"
      },
      "file_extension": ".py",
      "mimetype": "text/x-python",
      "nbconvert_exporter": "python",
      "pygments_lexer": "ipython3",
      "version": "3.11.5"
    }
  }
}