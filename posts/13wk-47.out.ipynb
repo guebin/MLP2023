{
  "cells": [
    {
      "cell_type": "markdown",
      "metadata": {},
      "source": [
        "# 13wk-47: 평가지표의 계산\n",
        "\n",
        "최규빈  \n",
        "2023-12-01\n",
        "\n",
        "# 1. 강의영상\n",
        "\n",
        "[???](???)\n",
        "\n",
        "# 2. Imports"
      ],
      "id": "1986af9b-a1bd-43c7-b460-b422679e2b88"
    },
    {
      "cell_type": "code",
      "execution_count": 3,
      "metadata": {},
      "outputs": [],
      "source": [
        "import numpy as np\n",
        "import sklearn.metrics"
      ],
      "id": "a1fe4893-6304-42fd-9c53-7e5684def4a7"
    },
    {
      "cell_type": "markdown",
      "metadata": {},
      "source": [
        "# 3. 12wk-46 숙제풀이\n",
        "\n",
        "밀실안에 100명의 사람이 있다고 하자. 이중 이중휴민트는 2명이 있다고\n",
        "하자. 이중휴민트를 잡기위해서 3명을 사살했다고 하자. 사살된 사람중 실제\n",
        "이중휴민트는 1명이었다고 하자. 이 경우\n",
        "\n",
        "-   accurary\n",
        "-   TPR(=recall)\n",
        "-   precision\n",
        "-   FPR\n",
        "\n",
        "값을 계산하라.\n",
        "\n",
        "`-` `y`,`yhat` 생성"
      ],
      "id": "fe5dd137-76a5-4678-b282-8e6fc4acd1ed"
    },
    {
      "cell_type": "code",
      "execution_count": 4,
      "metadata": {},
      "outputs": [],
      "source": [
        "y=np.array([1]*2+[0]*98)\n",
        "y"
      ],
      "id": "93307a3b-f3e4-42c1-ab40-8878fd13167d"
    },
    {
      "cell_type": "code",
      "execution_count": 5,
      "metadata": {},
      "outputs": [],
      "source": [
        "yhat = np.array([0,1,1,1]+[0]*96)\n",
        "yhat"
      ],
      "id": "f0d0bacf-b26d-4de0-95c9-10e954cab3d0"
    },
    {
      "cell_type": "markdown",
      "metadata": {},
      "source": [
        "`-` 혼동행렬(=confusion matrix) 구하기"
      ],
      "id": "58172f44-6faa-41ae-8e08-9b1d2e30a3c3"
    },
    {
      "cell_type": "code",
      "execution_count": 6,
      "metadata": {},
      "outputs": [],
      "source": [
        "sklearn.metrics.confusion_matrix(y,yhat)"
      ],
      "id": "6c77f79d-1eea-4dfe-8e20-8822a694f895"
    },
    {
      "cell_type": "code",
      "execution_count": 16,
      "metadata": {},
      "outputs": [],
      "source": [
        "(tn,fp), (fn,tp) = sklearn.metrics.confusion_matrix(y,yhat)"
      ],
      "id": "fec6f40d-1a9f-4573-978c-22a782294bf5"
    },
    {
      "cell_type": "markdown",
      "metadata": {},
      "source": [
        "`-` accuracy"
      ],
      "id": "acda2670-ac79-4c18-9f8f-badeb90c6882"
    },
    {
      "cell_type": "code",
      "execution_count": 17,
      "metadata": {},
      "outputs": [],
      "source": [
        "(tp+tn)/100 # accuracy"
      ],
      "id": "2cdaaaa7-6bc7-4859-ab87-f9200f18c7b8"
    },
    {
      "cell_type": "code",
      "execution_count": 18,
      "metadata": {},
      "outputs": [],
      "source": [
        "sklearn.metrics.accuracy_score(y,yhat)"
      ],
      "id": "05c63f49-b7c6-4236-afab-a8086c5b9914"
    },
    {
      "cell_type": "markdown",
      "metadata": {},
      "source": [
        "`-` recall"
      ],
      "id": "48927763-18bb-4d3f-a52b-4e7a0ee7f256"
    },
    {
      "cell_type": "code",
      "execution_count": 24,
      "metadata": {},
      "outputs": [],
      "source": [
        "tp/(tp+fn)"
      ],
      "id": "894daca9-8742-4492-bcab-cf8234fc1a18"
    },
    {
      "cell_type": "code",
      "execution_count": 11,
      "metadata": {},
      "outputs": [],
      "source": [
        "sklearn.metrics.recall_score(y,yhat)"
      ],
      "id": "8129a5c9-d1b1-48eb-8787-1be316a472e4"
    },
    {
      "cell_type": "markdown",
      "metadata": {},
      "source": [
        "`-` precision"
      ],
      "id": "ec99c006-2d46-43b5-ae95-7a1afe2cfb90"
    },
    {
      "cell_type": "code",
      "execution_count": 25,
      "metadata": {},
      "outputs": [],
      "source": [
        "tp/(tp+fp)"
      ],
      "id": "7eb1f689-b265-4694-b794-83a87a2d9a96"
    },
    {
      "cell_type": "code",
      "execution_count": 26,
      "metadata": {},
      "outputs": [],
      "source": [
        "sklearn.metrics.precision_score(y,yhat)"
      ],
      "id": "668b02ea-c501-40ee-beef-8e34d4dc12b5"
    },
    {
      "cell_type": "markdown",
      "metadata": {},
      "source": [
        "`-` FPR"
      ],
      "id": "e22aa89d-a73f-4001-b748-9bd8e4696350"
    },
    {
      "cell_type": "code",
      "execution_count": 27,
      "metadata": {},
      "outputs": [],
      "source": [
        "fp / (fp + tn)"
      ],
      "id": "298870e9-25ad-44ab-94b5-71178e33dfc5"
    }
  ],
  "nbformat": 4,
  "nbformat_minor": 5,
  "metadata": {
    "kernelspec": {
      "name": "python3",
      "display_name": "Python 3 (ipykernel)",
      "language": "python"
    },
    "language_info": {
      "name": "python",
      "codemirror_mode": {
        "name": "ipython",
        "version": "3"
      },
      "file_extension": ".py",
      "mimetype": "text/x-python",
      "nbconvert_exporter": "python",
      "pygments_lexer": "ipython3",
      "version": "3.10.13"
    }
  }
}