{
 "cells": [
  {
   "cell_type": "raw",
   "id": "f3b7870e-b9f1-45f4-b813-2b603fb6c830",
   "metadata": {},
   "source": [
    "---\n",
    "title: \"타이타닉\"\n",
    "author: \"최규빈\"\n",
    "date: \"09/26/2023\"\n",
    "bibliography: ref.bib\n",
    "draft: true\n",
    "---"
   ]
  },
  {
   "cell_type": "markdown",
   "id": "f949799a-de78-44d7-bd8a-c47b0c35fef9",
   "metadata": {},
   "source": [
    "# 1. 강의영상"
   ]
  },
  {
   "cell_type": "markdown",
   "id": "9c30258d-4551-42bb-9fc1-7d18f8a987af",
   "metadata": {},
   "source": [
    "{{<video https://youtu.be/playlist?list=PLQqh36zP38-z8ceMijNQrcczhH3ocuP1Y&si=UehL2BELwmid586_ >}}"
   ]
  },
  {
   "cell_type": "markdown",
   "id": "1d46ac3e-c071-4cd4-9d76-3bf460484e77",
   "metadata": {},
   "source": [
    "# 2. imports"
   ]
  },
  {
   "cell_type": "code",
   "execution_count": 52,
   "id": "696ccd1d-e53d-48dc-87ae-26edc65b47c8",
   "metadata": {},
   "outputs": [],
   "source": [
    "import numpy as np \n",
    "import pandas as pd \n",
    "import sklearn.impute\n",
    "import sklearn.linear_model\n",
    "import sklearn.ensemble\n",
    "import missingno as msno"
   ]
  },
  {
   "cell_type": "markdown",
   "id": "703aa7be-b70f-4115-b7af-14dd2d6f6ca7",
   "metadata": {},
   "source": [
    "# 3. 자료불러오기"
   ]
  },
  {
   "cell_type": "markdown",
   "id": "98a245c7-714b-43a0-b722-2fceb82b658e",
   "metadata": {},
   "source": [
    "`-` 아래의 코드는 `kaggle.json` 파일이 셋팅된 codespace 혹은 `kaggle.json` 파일이 셋팅된 리눅스 컴퓨터가 있는 경우만 사용가능 (이런거 셋팅하는 방법은 대면수업에서..)"
   ]
  },
  {
   "cell_type": "code",
   "execution_count": 53,
   "id": "e4d3a964-7bcd-42a3-9d7a-8f69338b4b8b",
   "metadata": {},
   "outputs": [
    {
     "name": "stdout",
     "output_type": "stream",
     "text": [
      "Downloading titanic.zip to /home/cgb2/Dropbox/07_lectures/2023-09-MP2023/posts\n",
      "  0%|                                               | 0.00/34.1k [00:00<?, ?B/s]\n",
      "100%|███████████████████████████████████████| 34.1k/34.1k [00:00<00:00, 406kB/s]\n",
      "Archive:  titanic.zip\n",
      "  inflating: ./titanic/gender_submission.csv  \n",
      "  inflating: ./titanic/test.csv      \n",
      "  inflating: ./titanic/train.csv     \n"
     ]
    }
   ],
   "source": [
    "!kaggle competitions download -c titanic\n",
    "!unzip titanic.zip -d ./titanic\n",
    "df_train = pd.read_csv('titanic/train.csv')\n",
    "df_test = pd.read_csv('titanic/test.csv')\n",
    "submission = pd.read_csv('titanic/gender_submission.csv')\n",
    "!rm titanic.zip\n",
    "!rm -rf titanic/"
   ]
  },
  {
   "cell_type": "markdown",
   "id": "1f5ed857-3df1-4d1b-a2ed-5bd101042b41",
   "metadata": {},
   "source": [
    "`-` 리눅스서버를 사용할 수 없는 경우 download 후 압축풀어서 사용"
   ]
  },
  {
   "cell_type": "markdown",
   "id": "3cfd6ea0-b069-4218-b7eb-46c988115858",
   "metadata": {},
   "source": [
    "# 4. 결측치 확인 및 처리"
   ]
  },
  {
   "cell_type": "markdown",
   "id": "a7e18f15-5a19-4a61-ab9a-e784f34f3a93",
   "metadata": {},
   "source": [
    "## A. 결측치 체크 "
   ]
  },
  {
   "cell_type": "markdown",
   "id": "4a8e304d-636e-4b80-bfab-f3e175c8cb01",
   "metadata": {},
   "source": [
    "`-` 결측치확인 "
   ]
  },
  {
   "cell_type": "code",
   "execution_count": 54,
   "id": "3fb940d2-c3a8-4d2f-b07f-d93a528b1816",
   "metadata": {},
   "outputs": [
    {
     "name": "stdout",
     "output_type": "stream",
     "text": [
      "<class 'pandas.core.frame.DataFrame'>\n",
      "RangeIndex: 891 entries, 0 to 890\n",
      "Data columns (total 12 columns):\n",
      " #   Column       Non-Null Count  Dtype  \n",
      "---  ------       --------------  -----  \n",
      " 0   PassengerId  891 non-null    int64  \n",
      " 1   Survived     891 non-null    int64  \n",
      " 2   Pclass       891 non-null    int64  \n",
      " 3   Name         891 non-null    object \n",
      " 4   Sex          891 non-null    object \n",
      " 5   Age          714 non-null    float64\n",
      " 6   SibSp        891 non-null    int64  \n",
      " 7   Parch        891 non-null    int64  \n",
      " 8   Ticket       891 non-null    object \n",
      " 9   Fare         891 non-null    float64\n",
      " 10  Cabin        204 non-null    object \n",
      " 11  Embarked     889 non-null    object \n",
      "dtypes: float64(2), int64(5), object(5)\n",
      "memory usage: 83.7+ KB\n"
     ]
    }
   ],
   "source": [
    "df_train.info()"
   ]
  },
  {
   "cell_type": "markdown",
   "id": "ee85f04e-e781-441a-a5e7-d7beddd84cc4",
   "metadata": {},
   "source": [
    "## C. 결측치 처리"
   ]
  },
  {
   "cell_type": "code",
   "execution_count": 55,
   "id": "379cecde-8d7c-4c99-bfd2-cd14b174b66e",
   "metadata": {},
   "outputs": [],
   "source": [
    "def impute_missing(df):\n",
    "    df_imputed = df.copy()\n",
    "    df_num = df.select_dtypes(include=\"number\")\n",
    "    df_cat = df.select_dtypes(exclude=\"number\")\n",
    "    df_imputed[df_num.columns] = sklearn.impute.SimpleImputer().fit_transform(df_num) \n",
    "    df_imputed[df_cat.columns] = sklearn.impute.SimpleImputer(strategy='most_frequent').fit_transform(df_cat) \n",
    "    return df_imputed"
   ]
  },
  {
   "cell_type": "markdown",
   "id": "e4caf397-1952-4ea8-8e73-88f8ff9feab9",
   "metadata": {},
   "source": [
    "# 5. 분석"
   ]
  },
  {
   "cell_type": "markdown",
   "id": "c5dbdb45-691e-4ca2-9926-77e32fce8781",
   "metadata": {},
   "source": [
    "## A. 자료의 정리 "
   ]
  },
  {
   "cell_type": "code",
   "execution_count": 56,
   "id": "67ba7241-ccd0-43fe-86d0-9aec8f942fb9",
   "metadata": {},
   "outputs": [],
   "source": [
    "df_train = df_train.eval('Fsize = SibSp + Parch + 1')\n",
    "df_test = df_test.eval('Fsize = SibSp + Parch + 1')"
   ]
  },
  {
   "cell_type": "code",
   "execution_count": 57,
   "id": "8f28313d-e0b4-4f15-aa0c-e51973b48d22",
   "metadata": {},
   "outputs": [],
   "source": [
    "f = lambda x,y: str(x)+str(y) if not (pd.isna(x) or pd.isna(y)) else np.nan"
   ]
  },
  {
   "cell_type": "code",
   "execution_count": 58,
   "id": "43797c7f-1de7-4679-aa50-a91ae820bcc7",
   "metadata": {},
   "outputs": [],
   "source": [
    "df_train = df_train.assign(Pclass_Embarked = list(map(f, df_train.Pclass,df_train.Embarked)))\n",
    "df_test= df_test.assign(Pclass_Embarked = list(map(f, df_test.Pclass,df_test.Embarked)))"
   ]
  },
  {
   "cell_type": "code",
   "execution_count": 59,
   "id": "ec5e5957-1d70-4c4a-9ea1-d9bc172b7cf2",
   "metadata": {},
   "outputs": [
    {
     "data": {
      "text/plain": [
       "array(['3S', '1C', '1S', '3Q', '2C', '2S', '3C', nan, '1Q', '2Q'],\n",
       "      dtype=object)"
      ]
     },
     "execution_count": 59,
     "metadata": {},
     "output_type": "execute_result"
    }
   ],
   "source": [
    "df_train.Pclass_Embarked.unique()"
   ]
  },
  {
   "cell_type": "code",
   "execution_count": 75,
   "id": "e78a2bd4-0c04-484c-8df1-99622bcd037c",
   "metadata": {},
   "outputs": [],
   "source": [
    "features = ['Pclass','Sex','SibSp','Parch','Pclass_Embarked']\n",
    "#features = ['Sex','Age','Fare']\n",
    "X = pd.get_dummies(impute_missing(df_train[features]))\n",
    "y = impute_missing(df_train)[['Survived']]\n",
    "XX = pd.get_dummies(impute_missing(df_test[features]))"
   ]
  },
  {
   "cell_type": "markdown",
   "id": "d7d1eeb6-6d7c-4730-92c9-de15e81fcbdf",
   "metadata": {},
   "source": [
    "## B. predictor 생성 "
   ]
  },
  {
   "cell_type": "code",
   "execution_count": 76,
   "id": "88a51b3a-60c5-49fa-83d5-b01c7356eac1",
   "metadata": {},
   "outputs": [],
   "source": [
    "predictr = sklearn.ensemble.RandomForestClassifier(n_estimators=100, max_depth=5, random_state=1)"
   ]
  },
  {
   "cell_type": "markdown",
   "id": "b9aca393-30f1-408c-9df1-ded1e53fc5ea",
   "metadata": {},
   "source": [
    "## C. 학습"
   ]
  },
  {
   "cell_type": "code",
   "execution_count": 77,
   "id": "1905b4d9-097f-48c9-9f0e-d8242ef7b442",
   "metadata": {},
   "outputs": [
    {
     "name": "stderr",
     "output_type": "stream",
     "text": [
      "/home/cgb2/anaconda3/envs/ag/lib/python3.10/site-packages/sklearn/base.py:1152: DataConversionWarning: A column-vector y was passed when a 1d array was expected. Please change the shape of y to (n_samples,), for example using ravel().\n",
      "  return fit_method(estimator, *args, **kwargs)\n"
     ]
    },
    {
     "data": {
      "text/html": [
       "<style>#sk-container-id-6 {color: black;}#sk-container-id-6 pre{padding: 0;}#sk-container-id-6 div.sk-toggleable {background-color: white;}#sk-container-id-6 label.sk-toggleable__label {cursor: pointer;display: block;width: 100%;margin-bottom: 0;padding: 0.3em;box-sizing: border-box;text-align: center;}#sk-container-id-6 label.sk-toggleable__label-arrow:before {content: \"▸\";float: left;margin-right: 0.25em;color: #696969;}#sk-container-id-6 label.sk-toggleable__label-arrow:hover:before {color: black;}#sk-container-id-6 div.sk-estimator:hover label.sk-toggleable__label-arrow:before {color: black;}#sk-container-id-6 div.sk-toggleable__content {max-height: 0;max-width: 0;overflow: hidden;text-align: left;background-color: #f0f8ff;}#sk-container-id-6 div.sk-toggleable__content pre {margin: 0.2em;color: black;border-radius: 0.25em;background-color: #f0f8ff;}#sk-container-id-6 input.sk-toggleable__control:checked~div.sk-toggleable__content {max-height: 200px;max-width: 100%;overflow: auto;}#sk-container-id-6 input.sk-toggleable__control:checked~label.sk-toggleable__label-arrow:before {content: \"▾\";}#sk-container-id-6 div.sk-estimator input.sk-toggleable__control:checked~label.sk-toggleable__label {background-color: #d4ebff;}#sk-container-id-6 div.sk-label input.sk-toggleable__control:checked~label.sk-toggleable__label {background-color: #d4ebff;}#sk-container-id-6 input.sk-hidden--visually {border: 0;clip: rect(1px 1px 1px 1px);clip: rect(1px, 1px, 1px, 1px);height: 1px;margin: -1px;overflow: hidden;padding: 0;position: absolute;width: 1px;}#sk-container-id-6 div.sk-estimator {font-family: monospace;background-color: #f0f8ff;border: 1px dotted black;border-radius: 0.25em;box-sizing: border-box;margin-bottom: 0.5em;}#sk-container-id-6 div.sk-estimator:hover {background-color: #d4ebff;}#sk-container-id-6 div.sk-parallel-item::after {content: \"\";width: 100%;border-bottom: 1px solid gray;flex-grow: 1;}#sk-container-id-6 div.sk-label:hover label.sk-toggleable__label {background-color: #d4ebff;}#sk-container-id-6 div.sk-serial::before {content: \"\";position: absolute;border-left: 1px solid gray;box-sizing: border-box;top: 0;bottom: 0;left: 50%;z-index: 0;}#sk-container-id-6 div.sk-serial {display: flex;flex-direction: column;align-items: center;background-color: white;padding-right: 0.2em;padding-left: 0.2em;position: relative;}#sk-container-id-6 div.sk-item {position: relative;z-index: 1;}#sk-container-id-6 div.sk-parallel {display: flex;align-items: stretch;justify-content: center;background-color: white;position: relative;}#sk-container-id-6 div.sk-item::before, #sk-container-id-6 div.sk-parallel-item::before {content: \"\";position: absolute;border-left: 1px solid gray;box-sizing: border-box;top: 0;bottom: 0;left: 50%;z-index: -1;}#sk-container-id-6 div.sk-parallel-item {display: flex;flex-direction: column;z-index: 1;position: relative;background-color: white;}#sk-container-id-6 div.sk-parallel-item:first-child::after {align-self: flex-end;width: 50%;}#sk-container-id-6 div.sk-parallel-item:last-child::after {align-self: flex-start;width: 50%;}#sk-container-id-6 div.sk-parallel-item:only-child::after {width: 0;}#sk-container-id-6 div.sk-dashed-wrapped {border: 1px dashed gray;margin: 0 0.4em 0.5em 0.4em;box-sizing: border-box;padding-bottom: 0.4em;background-color: white;}#sk-container-id-6 div.sk-label label {font-family: monospace;font-weight: bold;display: inline-block;line-height: 1.2em;}#sk-container-id-6 div.sk-label-container {text-align: center;}#sk-container-id-6 div.sk-container {/* jupyter's `normalize.less` sets `[hidden] { display: none; }` but bootstrap.min.css set `[hidden] { display: none !important; }` so we also need the `!important` here to be able to override the default hidden behavior on the sphinx rendered scikit-learn.org. See: https://github.com/scikit-learn/scikit-learn/issues/21755 */display: inline-block !important;position: relative;}#sk-container-id-6 div.sk-text-repr-fallback {display: none;}</style><div id=\"sk-container-id-6\" class=\"sk-top-container\"><div class=\"sk-text-repr-fallback\"><pre>RandomForestClassifier(max_depth=5, random_state=1)</pre><b>In a Jupyter environment, please rerun this cell to show the HTML representation or trust the notebook. <br />On GitHub, the HTML representation is unable to render, please try loading this page with nbviewer.org.</b></div><div class=\"sk-container\" hidden><div class=\"sk-item\"><div class=\"sk-estimator sk-toggleable\"><input class=\"sk-toggleable__control sk-hidden--visually\" id=\"sk-estimator-id-6\" type=\"checkbox\" checked><label for=\"sk-estimator-id-6\" class=\"sk-toggleable__label sk-toggleable__label-arrow\">RandomForestClassifier</label><div class=\"sk-toggleable__content\"><pre>RandomForestClassifier(max_depth=5, random_state=1)</pre></div></div></div></div></div>"
      ],
      "text/plain": [
       "RandomForestClassifier(max_depth=5, random_state=1)"
      ]
     },
     "execution_count": 77,
     "metadata": {},
     "output_type": "execute_result"
    }
   ],
   "source": [
    "predictr.fit(X,y)"
   ]
  },
  {
   "cell_type": "markdown",
   "id": "768e3494-a082-4574-87c5-9901b660fa73",
   "metadata": {},
   "source": [
    "## D. 예측 "
   ]
  },
  {
   "cell_type": "code",
   "execution_count": 78,
   "id": "84b29052-97c0-483c-b767-55636bfd8e4e",
   "metadata": {},
   "outputs": [],
   "source": [
    "#predictr.predict(XX)"
   ]
  },
  {
   "cell_type": "markdown",
   "id": "7d9fbbc2-2fe5-416f-9c5e-8bad66a9d049",
   "metadata": {},
   "source": [
    "## E. 평가 "
   ]
  },
  {
   "cell_type": "code",
   "execution_count": 79,
   "id": "111185e5-bc9f-4840-9516-b6848a74efc6",
   "metadata": {
    "tags": []
   },
   "outputs": [
    {
     "data": {
      "text/plain": [
       "0.8215488215488216"
      ]
     },
     "execution_count": 79,
     "metadata": {},
     "output_type": "execute_result"
    }
   ],
   "source": [
    "predictr.score(X,y)"
   ]
  },
  {
   "cell_type": "markdown",
   "id": "b0d37bb0-42ce-4c14-b525-5ca536761261",
   "metadata": {},
   "source": [
    "## G. 해석"
   ]
  },
  {
   "cell_type": "code",
   "execution_count": 80,
   "id": "8606f5ee-3af1-4247-9a87-0ccd287aa682",
   "metadata": {},
   "outputs": [
    {
     "data": {
      "text/html": [
       "<div>\n",
       "<style scoped>\n",
       "    .dataframe tbody tr th:only-of-type {\n",
       "        vertical-align: middle;\n",
       "    }\n",
       "\n",
       "    .dataframe tbody tr th {\n",
       "        vertical-align: top;\n",
       "    }\n",
       "\n",
       "    .dataframe thead th {\n",
       "        text-align: right;\n",
       "    }\n",
       "</style>\n",
       "<table border=\"1\" class=\"dataframe\">\n",
       "  <thead>\n",
       "    <tr style=\"text-align: right;\">\n",
       "      <th></th>\n",
       "      <th>X</th>\n",
       "      <th>importance</th>\n",
       "    </tr>\n",
       "  </thead>\n",
       "  <tbody>\n",
       "    <tr>\n",
       "      <th>4</th>\n",
       "      <td>Sex_male</td>\n",
       "      <td>0.305735</td>\n",
       "    </tr>\n",
       "    <tr>\n",
       "      <th>3</th>\n",
       "      <td>Sex_female</td>\n",
       "      <td>0.299472</td>\n",
       "    </tr>\n",
       "    <tr>\n",
       "      <th>0</th>\n",
       "      <td>Pclass</td>\n",
       "      <td>0.099663</td>\n",
       "    </tr>\n",
       "    <tr>\n",
       "      <th>13</th>\n",
       "      <td>Pclass_Embarked_3S</td>\n",
       "      <td>0.093928</td>\n",
       "    </tr>\n",
       "    <tr>\n",
       "      <th>2</th>\n",
       "      <td>Parch</td>\n",
       "      <td>0.062151</td>\n",
       "    </tr>\n",
       "    <tr>\n",
       "      <th>1</th>\n",
       "      <td>SibSp</td>\n",
       "      <td>0.054212</td>\n",
       "    </tr>\n",
       "    <tr>\n",
       "      <th>7</th>\n",
       "      <td>Pclass_Embarked_1S</td>\n",
       "      <td>0.028572</td>\n",
       "    </tr>\n",
       "    <tr>\n",
       "      <th>5</th>\n",
       "      <td>Pclass_Embarked_1C</td>\n",
       "      <td>0.027614</td>\n",
       "    </tr>\n",
       "    <tr>\n",
       "      <th>10</th>\n",
       "      <td>Pclass_Embarked_2S</td>\n",
       "      <td>0.009823</td>\n",
       "    </tr>\n",
       "    <tr>\n",
       "      <th>12</th>\n",
       "      <td>Pclass_Embarked_3Q</td>\n",
       "      <td>0.008004</td>\n",
       "    </tr>\n",
       "    <tr>\n",
       "      <th>11</th>\n",
       "      <td>Pclass_Embarked_3C</td>\n",
       "      <td>0.007963</td>\n",
       "    </tr>\n",
       "    <tr>\n",
       "      <th>8</th>\n",
       "      <td>Pclass_Embarked_2C</td>\n",
       "      <td>0.001667</td>\n",
       "    </tr>\n",
       "    <tr>\n",
       "      <th>9</th>\n",
       "      <td>Pclass_Embarked_2Q</td>\n",
       "      <td>0.000801</td>\n",
       "    </tr>\n",
       "    <tr>\n",
       "      <th>6</th>\n",
       "      <td>Pclass_Embarked_1Q</td>\n",
       "      <td>0.000394</td>\n",
       "    </tr>\n",
       "  </tbody>\n",
       "</table>\n",
       "</div>"
      ],
      "text/plain": [
       "                     X  importance\n",
       "4             Sex_male    0.305735\n",
       "3           Sex_female    0.299472\n",
       "0               Pclass    0.099663\n",
       "13  Pclass_Embarked_3S    0.093928\n",
       "2                Parch    0.062151\n",
       "1                SibSp    0.054212\n",
       "7   Pclass_Embarked_1S    0.028572\n",
       "5   Pclass_Embarked_1C    0.027614\n",
       "10  Pclass_Embarked_2S    0.009823\n",
       "12  Pclass_Embarked_3Q    0.008004\n",
       "11  Pclass_Embarked_3C    0.007963\n",
       "8   Pclass_Embarked_2C    0.001667\n",
       "9   Pclass_Embarked_2Q    0.000801\n",
       "6   Pclass_Embarked_1Q    0.000394"
      ]
     },
     "execution_count": 80,
     "metadata": {},
     "output_type": "execute_result"
    }
   ],
   "source": [
    "pd.DataFrame({'X':predictr.feature_names_in_,'importance':predictr.feature_importances_})\\\n",
    ".sort_values('importance',ascending=False)"
   ]
  },
  {
   "cell_type": "markdown",
   "id": "5dd11dd2-c416-41d4-a24d-061885f00045",
   "metadata": {},
   "source": [
    "# 6. HW"
   ]
  },
  {
   "cell_type": "markdown",
   "id": "3ec0570b-a2c4-489a-89c3-c9d89a248888",
   "metadata": {},
   "source": [
    "위와 동일한 방식으로 `test.csv`에서의 생존여부를 예측하고 kaggle에 제출 "
   ]
  },
  {
   "cell_type": "code",
   "execution_count": 81,
   "id": "ca0bf8e6-eb8e-41d2-9d10-1559db581988",
   "metadata": {},
   "outputs": [
    {
     "name": "stdout",
     "output_type": "stream",
     "text": [
      "100%|██████████████████████████████████████| 2.77k/2.77k [00:02<00:00, 1.19kB/s]\n",
      "Successfully submitted to Titanic - Machine Learning from Disaster"
     ]
    }
   ],
   "source": [
    "submission.assign(Survived = predictr.predict(XX).astype(int)).to_csv(\"submission.csv\",index=False)\n",
    "!kaggle competitions submit -c titanic -f submission.csv -m '[\"Pclass\", \"Sex\", \"SibSp\", \"Parch\"]'\n",
    "!rm submission.csv"
   ]
  }
 ],
 "metadata": {
  "kernelspec": {
   "display_name": "Python 3 (ipykernel)",
   "language": "python",
   "name": "python3"
  },
  "language_info": {
   "codemirror_mode": {
    "name": "ipython",
    "version": 3
   },
   "file_extension": ".py",
   "mimetype": "text/x-python",
   "name": "python",
   "nbconvert_exporter": "python",
   "pygments_lexer": "ipython3",
   "version": "3.10.13"
  }
 },
 "nbformat": 4,
 "nbformat_minor": 5
}
