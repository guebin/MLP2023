{
  "cells": [
    {
      "cell_type": "markdown",
      "metadata": {},
      "source": [
        "# 07wk-031: 체중감량(교호작용), 의사결정나무\n",
        "\n",
        "최규빈  \n",
        "2023-10-16\n",
        "\n",
        "# 1. 강의영상\n",
        "\n",
        "[????](????)\n",
        "\n",
        "# 2. Imports"
      ],
      "id": "a6b78b98-00ca-47be-b920-29632feb39ec"
    },
    {
      "cell_type": "code",
      "execution_count": 5,
      "metadata": {
        "tags": []
      },
      "outputs": [],
      "source": [
        "import numpy as np\n",
        "import pandas as pd \n",
        "import matplotlib.pyplot as plt \n",
        "import sklearn.model_selection\n",
        "import sklearn.linear_model\n",
        "import sklearn.tree"
      ],
      "id": "183d0665-f3a8-4945-9454-75da15083048"
    },
    {
      "cell_type": "markdown",
      "metadata": {},
      "source": [
        "# 3. Data"
      ],
      "id": "c3f1bd40-80b8-409c-a5dd-2913ef73c84c"
    },
    {
      "cell_type": "code",
      "execution_count": 16,
      "metadata": {
        "tags": []
      },
      "outputs": [],
      "source": [
        "# n = 10000\n",
        "# Supplement = np.random.choice([True, False], n)\n",
        "# Exercise = np.random.choice([False, True], n)\n",
        "# Weight_Loss = np.where(\n",
        "#     (~Supplement & (~Exercise)),\n",
        "#     np.random.normal(loc=0, scale=1, size=n),  \n",
        "#     np.where(\n",
        "#         (Supplement & (Exercise)),\n",
        "#         np.random.normal(loc=15.00, scale=1, size=n),\n",
        "#         np.where(\n",
        "#             (~Supplement & (Exercise)),\n",
        "#             np.random.normal(loc=5.00, scale=1, size=n),\n",
        "#             np.random.normal(loc=0.5, scale=1, size=n)\n",
        "#         )\n",
        "#     )\n",
        "# )\n",
        "# df = pd.DataFrame({\n",
        "#     'Supplement': Supplement,\n",
        "#     'Exercise': Exercise,\n",
        "#     'Weight_Loss': Weight_Loss\n",
        "# })\n",
        "df_train = pd.read_csv('https://raw.githubusercontent.com/guebin/MP2023/main/posts/weightloss.csv')"
      ],
      "id": "683edec5-6a74-4085-a650-9764c9aa9b17"
    },
    {
      "cell_type": "code",
      "execution_count": 7,
      "metadata": {
        "tags": []
      },
      "outputs": [],
      "source": [
        "df_train"
      ],
      "id": "c66adefb-e333-4863-bde1-daeb72b165e4"
    },
    {
      "cell_type": "code",
      "execution_count": 8,
      "metadata": {
        "tags": []
      },
      "outputs": [],
      "source": [
        "df_train.pivot_table(index='Supplement',columns='Exercise',values='Weight_Loss')"
      ],
      "id": "5dff8ead-e270-4c83-8429-3ca06296f184"
    },
    {
      "cell_type": "markdown",
      "metadata": {},
      "source": [
        "`-` 운동과 체중감량보조제를 병행하면 시너지가 나는 것 같음\n",
        "\n",
        "# 4. 분석\n",
        "\n",
        "`-` 분석1: 선형회귀 (교호작용 고려 X)"
      ],
      "id": "48929b07-3a4b-4308-96e9-af0d032e10d4"
    },
    {
      "cell_type": "code",
      "execution_count": 9,
      "metadata": {
        "tags": []
      },
      "outputs": [
        {
          "output_type": "stream",
          "name": "stdout",
          "text": [
            "train score = 0.8208"
          ]
        }
      ],
      "source": [
        "# step1\n",
        "X = df_train[['Supplement','Exercise']]\n",
        "y = df_train['Weight_Loss']\n",
        "# step2 \n",
        "predictr = sklearn.linear_model.LinearRegression()\n",
        "# step3\n",
        "predictr.fit(X,y)\n",
        "# step4 \n",
        "df_train['Weight_Loss_hat'] = predictr.predict(X)\n",
        "#---#\n",
        "print(f'train score = {predictr.score(X,y):.4f}')"
      ],
      "id": "20f4811e-feaa-423d-a936-3de0e8df88fe"
    },
    {
      "cell_type": "code",
      "execution_count": 10,
      "metadata": {
        "tags": []
      },
      "outputs": [],
      "source": [
        "df_train.pivot_table(index='Supplement',columns='Exercise',values='Weight_Loss')"
      ],
      "id": "53ed806b-20e6-4d05-a0f3-3f08efc38b53"
    },
    {
      "cell_type": "code",
      "execution_count": 11,
      "metadata": {
        "tags": []
      },
      "outputs": [],
      "source": [
        "df_train.pivot_table(index='Supplement',columns='Exercise',values='Weight_Loss_hat')"
      ],
      "id": "5f4348bb-f3b3-4f4a-a973-f3b0b2e34efd"
    },
    {
      "cell_type": "markdown",
      "metadata": {},
      "source": [
        "`-` 분석2: 의사결정나무"
      ],
      "id": "90d0f791-eeb7-4ee8-938a-92936c7c90d4"
    },
    {
      "cell_type": "code",
      "execution_count": 19,
      "metadata": {
        "tags": []
      },
      "outputs": [
        {
          "output_type": "stream",
          "name": "stdout",
          "text": [
            "train score = 0.9728"
          ]
        }
      ],
      "source": [
        "# step1\n",
        "X = df_train[['Supplement','Exercise']]\n",
        "y = df_train['Weight_Loss']\n",
        "# step2 \n",
        "predictr = sklearn.tree.DecisionTreeRegressor()\n",
        "# step3\n",
        "predictr.fit(X,y)\n",
        "# step4 \n",
        "df_train['Weight_Loss_hat'] = predictr.predict(X)\n",
        "#---#\n",
        "print(f'train score = {predictr.score(X,y):.4f}')"
      ],
      "id": "dbc58ac7-7f28-4983-950c-b3b40971cd5c"
    },
    {
      "cell_type": "code",
      "execution_count": 20,
      "metadata": {
        "tags": []
      },
      "outputs": [],
      "source": [
        "df_train.pivot_table(index='Supplement',columns='Exercise',values='Weight_Loss')"
      ],
      "id": "3c2c2c1e-7c4a-4a2f-9ac6-0d7c91206919"
    },
    {
      "cell_type": "code",
      "execution_count": 21,
      "metadata": {
        "tags": []
      },
      "outputs": [],
      "source": [
        "df_train.pivot_table(index='Supplement',columns='Exercise',values='Weight_Loss')"
      ],
      "id": "ac734318-5750-4b4e-8342-1c507aaa829e"
    },
    {
      "cell_type": "markdown",
      "metadata": {},
      "source": [
        "-   오라클..?"
      ],
      "id": "ba98d7f7-bfa1-40c4-a527-d552faf98319"
    }
  ],
  "nbformat": 4,
  "nbformat_minor": 5,
  "metadata": {
    "kernelspec": {
      "name": "python3",
      "display_name": "Python 3 (ipykernel)",
      "language": "python"
    },
    "language_info": {
      "name": "python",
      "codemirror_mode": {
        "name": "ipython",
        "version": "3"
      },
      "file_extension": ".py",
      "mimetype": "text/x-python",
      "nbconvert_exporter": "python",
      "pygments_lexer": "ipython3",
      "version": "3.10.13"
    }
  }
}