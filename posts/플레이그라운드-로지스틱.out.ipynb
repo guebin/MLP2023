{
  "cells": [
    {
      "cell_type": "markdown",
      "metadata": {},
      "source": [
        "# Stroke, 로지스틱\n",
        "\n",
        "최규빈  \n",
        "2023-09-21\n",
        "\n",
        "# 1. 강의영상\n",
        "\n",
        "# 2. Import"
      ],
      "id": "9c8fd00c-906e-40e6-b4a3-48c52376ffbb"
    },
    {
      "cell_type": "code",
      "execution_count": 15,
      "metadata": {},
      "outputs": [],
      "source": [
        "import numpy as np\n",
        "import pandas as pd \n",
        "import sklearn.linear_model"
      ],
      "id": "fc30ec77-e9e5-4bd9-aad0-f96442a9397f"
    },
    {
      "cell_type": "markdown",
      "metadata": {},
      "source": [
        "# 3. 데이터 불러오기"
      ],
      "id": "2f0242dc-ea81-476c-abb9-6b44e082b5b1"
    },
    {
      "cell_type": "code",
      "execution_count": 18,
      "metadata": {},
      "outputs": [],
      "source": [
        "df_train = pd.read_csv('playground-series-s3e2/train.csv')\n",
        "df_test = pd.read_csv('playground-series-s3e2/test.csv')"
      ],
      "id": "76cc5100-9cc8-4e0d-8df1-1fbb3cd484e6"
    },
    {
      "cell_type": "code",
      "execution_count": 20,
      "metadata": {},
      "outputs": [],
      "source": [
        "df_train"
      ],
      "id": "7ce547ce-827c-4bfc-bc61-059f84f013e7"
    },
    {
      "cell_type": "code",
      "execution_count": 19,
      "metadata": {},
      "outputs": [],
      "source": [
        "set(df_train)-set(df_test)"
      ],
      "id": "09ed763a-14c5-4321-84fe-c3b1ff68c56c"
    },
    {
      "cell_type": "markdown",
      "metadata": {},
      "source": [
        "# 4. 분석\n",
        "\n",
        "## A. 데이터 정리하기"
      ],
      "id": "26d55067-6429-4b2a-a6d5-54761f886447"
    },
    {
      "cell_type": "code",
      "execution_count": 26,
      "metadata": {},
      "outputs": [],
      "source": [
        "X = pd.get_dummies(df_train.drop(['id','stroke'],axis=1))\n",
        "y = df_train[['stroke']]"
      ],
      "id": "e37ee857-c058-42f7-9dfb-198f666c95fa"
    },
    {
      "cell_type": "markdown",
      "metadata": {},
      "source": [
        "## B. Predictor 생성"
      ],
      "id": "154a469b-fa4e-4867-bf3f-72a0580345ce"
    },
    {
      "cell_type": "code",
      "execution_count": 27,
      "metadata": {},
      "outputs": [],
      "source": [
        "predictr = sklearn.linear_model.LogisticRegression() \n",
        "predictr"
      ],
      "id": "7003ac33-c827-4da0-814e-56244b5f5b2f"
    },
    {
      "cell_type": "markdown",
      "metadata": {},
      "source": [
        "## C. 학습"
      ],
      "id": "9e9ef522-dc6e-4c5e-bbe7-c461c8894484"
    },
    {
      "cell_type": "code",
      "execution_count": 28,
      "metadata": {},
      "outputs": [
        {
          "output_type": "stream",
          "name": "stderr",
          "text": [
            "/home/cgb2/anaconda3/envs/r/lib/python3.11/site-packages/sklearn/utils/validation.py:1184: DataConversionWarning: A column-vector y was passed when a 1d array was expected. Please change the shape of y to (n_samples, ), for example using ravel().\n",
            "  y = column_or_1d(y, warn=True)\n",
            "/home/cgb2/anaconda3/envs/r/lib/python3.11/site-packages/sklearn/linear_model/_logistic.py:460: ConvergenceWarning: lbfgs failed to converge (status=1):\n",
            "STOP: TOTAL NO. of ITERATIONS REACHED LIMIT.\n",
            "\n",
            "Increase the number of iterations (max_iter) or scale the data as shown in:\n",
            "    https://scikit-learn.org/stable/modules/preprocessing.html\n",
            "Please also refer to the documentation for alternative solver options:\n",
            "    https://scikit-learn.org/stable/modules/linear_model.html#logistic-regression\n",
            "  n_iter_i = _check_optimize_result("
          ]
        }
      ],
      "source": [
        "predictr.fit(X,y)"
      ],
      "id": "0a3f643d-ec4f-43d0-8499-484c42ee2b77"
    },
    {
      "cell_type": "markdown",
      "metadata": {},
      "source": [
        "## D. 예측"
      ],
      "id": "8758e979-ba86-4799-8a73-4543c03d2eb4"
    },
    {
      "cell_type": "code",
      "execution_count": 57,
      "metadata": {},
      "outputs": [],
      "source": [
        "yhat = predictr.predict(X) \n",
        "yhat "
      ],
      "id": "8de91dcb-b8da-4ce3-a8e5-45d9231975d9"
    },
    {
      "cell_type": "code",
      "execution_count": 58,
      "metadata": {},
      "outputs": [],
      "source": [
        "XX = pd.get_dummies(df_test.drop(['id'],axis=1))\n",
        "yyhat = predictr.predict(XX)"
      ],
      "id": "a0312180-880d-44d2-83f9-2b5976f7d102"
    },
    {
      "cell_type": "markdown",
      "metadata": {},
      "source": [
        "## E. 평가"
      ],
      "id": "99c399f8-965c-4edb-9e50-c1fa022fa99a"
    },
    {
      "cell_type": "code",
      "execution_count": 45,
      "metadata": {},
      "outputs": [],
      "source": [
        "predictr.score(X,y)"
      ],
      "id": "83ae6989-faf8-4cb5-832d-4ce5096ad47e"
    },
    {
      "cell_type": "code",
      "execution_count": 59,
      "metadata": {},
      "outputs": [],
      "source": [
        "(yhat == np.array(y.stroke)).mean()"
      ],
      "id": "1ba4eb04-73cf-4c7a-a1f3-8fd5bfff8da7"
    },
    {
      "cell_type": "markdown",
      "metadata": {},
      "source": [
        "# 5. 제출"
      ],
      "id": "444656e5-4a39-4b5d-824e-4d5b7cd75b64"
    },
    {
      "cell_type": "code",
      "execution_count": 67,
      "metadata": {},
      "outputs": [],
      "source": [
        "submission = pd.read_csv('playground-series-s3e2/sample_submission.csv')"
      ],
      "id": "d3a1368d-b0de-4249-9d68-baa166800e12"
    },
    {
      "cell_type": "code",
      "execution_count": 74,
      "metadata": {},
      "outputs": [],
      "source": [
        "submission.assign(stroke = predictr.predict(XX))"
      ],
      "id": "2e3438e5-6083-4869-aca4-a410337dfbef"
    }
  ],
  "nbformat": 4,
  "nbformat_minor": 5,
  "metadata": {
    "kernelspec": {
      "name": "python3",
      "display_name": "Python 3 (ipykernel)",
      "language": "python"
    },
    "language_info": {
      "name": "python",
      "codemirror_mode": {
        "name": "ipython",
        "version": "3"
      },
      "file_extension": ".py",
      "mimetype": "text/x-python",
      "nbconvert_exporter": "python",
      "pygments_lexer": "ipython3",
      "version": "3.10.13"
    }
  }
}