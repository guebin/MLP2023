{
  "cells": [
    {
      "cell_type": "markdown",
      "metadata": {},
      "source": [
        "# 01wk-02: 캐글자료 다운로드\n",
        "\n",
        "최규빈  \n",
        "2023-09-04"
      ],
      "id": "f6cb1f50-28be-49e9-a2cf-c7d755bf41ee"
    },
    {
      "cell_type": "code",
      "execution_count": 1,
      "metadata": {},
      "outputs": [],
      "source": [
        "import os\n",
        "os.environ['KAGGLE_CONFIG_DIR'] = \"/home/cgb2/Dropbox/07_lectures/2023-09-MP2023/posts\""
      ],
      "id": "8ab52561-d484-43c1-aeb8-06f6cd9b3010"
    },
    {
      "cell_type": "code",
      "execution_count": 2,
      "metadata": {},
      "outputs": [
        {
          "output_type": "stream",
          "name": "stdout",
          "text": [
            "Warning: Your Kaggle API key is readable by other users on this system! To fix this, you can run 'chmod 600 /home/cgb2/Dropbox/07_lectures/2023-09-MP2023/posts/kaggle.json'\n",
            "Downloading bike-sharing-demand.zip to /home/cgb2/Dropbox/07_lectures/2023-09-MP2023/posts\n",
            "100%|█████████████████████████████████████████| 189k/189k [00:00<00:00, 366kB/s]\n",
            "100%|█████████████████████████████████████████| 189k/189k [00:00<00:00, 366kB/s]"
          ]
        }
      ],
      "source": [
        "!kaggle competitions download -c bike-sharing-demand"
      ],
      "id": "7d3dca12-88ba-4579-9bb1-b8d39939513a"
    },
    {
      "cell_type": "code",
      "execution_count": 11,
      "metadata": {},
      "outputs": [
        {
          "output_type": "stream",
          "name": "stdout",
          "text": [
            "Archive:  bike-sharing-demand.zip\n",
            "  inflating: ./data/sampleSubmission.csv  \n",
            "  inflating: ./data/test.csv         \n",
            "  inflating: ./data/train.csv        "
          ]
        }
      ],
      "source": [
        "!unzip bike-sharing-demand.zip -d ./data"
      ],
      "id": "b7b35936-013a-4dbe-bae2-3dd0c666faec"
    },
    {
      "cell_type": "code",
      "execution_count": 12,
      "metadata": {},
      "outputs": [],
      "source": [
        "!rm bike-sharing-demand.zip"
      ],
      "id": "ed78625a-6efa-4d09-baf8-39e8233bbb75"
    },
    {
      "cell_type": "code",
      "execution_count": 13,
      "metadata": {},
      "outputs": [
        {
          "output_type": "stream",
          "name": "stdout",
          "text": [
            "sampleSubmission.csv  test.csv  train.csv"
          ]
        }
      ],
      "source": [
        "!ls ./data "
      ],
      "id": "fa1e20fd-4144-4e85-ab49-8ca02ac7f2e5"
    },
    {
      "cell_type": "code",
      "execution_count": 3,
      "metadata": {},
      "outputs": [],
      "source": [
        "import pandas as pd"
      ],
      "id": "96f626bb-f84b-4d8b-bc87-62d6302b1aad"
    },
    {
      "cell_type": "code",
      "execution_count": 4,
      "metadata": {},
      "outputs": [],
      "source": [
        "pd.read_csv('./data/train.csv')"
      ],
      "id": "bbe816de-a533-4e04-af84-72f18b739050"
    },
    {
      "cell_type": "code",
      "execution_count": 5,
      "metadata": {},
      "outputs": [],
      "source": [
        "from autogluon.tabular import TabularDataset, TabularPredictor"
      ],
      "id": "9a41f1a9-a208-4f3d-8414-5d88b1091a80"
    },
    {
      "cell_type": "code",
      "execution_count": 25,
      "metadata": {},
      "outputs": [
        {
          "output_type": "stream",
          "name": "stderr",
          "text": [
            "Loaded data from: ./data/train.csv | Columns = 12 / 12 | Rows = 10886 -> 10886\n",
            "Loaded data from: ./data/test.csv | Columns = 9 / 9 | Rows = 6493 -> 6493"
          ]
        }
      ],
      "source": [
        "train_data = TabularDataset('./data/train.csv').drop(['casual','registered'],axis=1)\n",
        "test_data = TabularDataset('./data/test.csv')"
      ],
      "id": "bed56f64-f076-4ce6-b238-a6e9d953c97f"
    },
    {
      "cell_type": "code",
      "execution_count": 26,
      "metadata": {},
      "outputs": [],
      "source": [
        "train_data"
      ],
      "id": "8788fb9d-ac27-460b-a9e7-061b8c32b7ca"
    },
    {
      "cell_type": "code",
      "execution_count": 27,
      "metadata": {},
      "outputs": [],
      "source": [
        "test_data"
      ],
      "id": "fc99fdf9-507d-4b81-85ce-c8bae32dcd7a"
    },
    {
      "cell_type": "code",
      "execution_count": 33,
      "metadata": {},
      "outputs": [
        {
          "output_type": "stream",
          "name": "stderr",
          "text": [
            "Warning: path already exists! This predictor may overwrite an existing predictor! path=\"./output\"\n",
            "Beginning AutoGluon training ...\n",
            "AutoGluon will save models to \"./output/\"\n",
            "AutoGluon Version:  0.8.2\n",
            "Python Version:     3.10.12\n",
            "Operating System:   Linux\n",
            "Platform Machine:   x86_64\n",
            "Platform Version:   #26~22.04.1-Ubuntu SMP PREEMPT_DYNAMIC Thu Jul 13 16:27:29 UTC 2\n",
            "Disk Space Avail:   317.15 GB / 490.57 GB (64.6%)\n",
            "Train Data Rows:    10886\n",
            "Train Data Columns: 9\n",
            "Label Column: count\n",
            "Preprocessing data ...\n",
            "Using Feature Generators to preprocess the data ...\n",
            "Fitting AutoMLPipelineFeatureGenerator...\n",
            "    Available Memory:                    124420.04 MB\n",
            "    Train Data (Original)  Memory Usage: 1.52 MB (0.0% of available memory)\n",
            "    Inferring data type of each feature based on column values. Set feature_metadata_in to manually specify special dtypes of the features.\n",
            "    Stage 1 Generators:\n",
            "        Fitting AsTypeFeatureGenerator...\n",
            "            Note: Converting 2 features to boolean dtype as they only contain 2 unique values.\n",
            "    Stage 2 Generators:\n",
            "        Fitting FillNaFeatureGenerator...\n",
            "    Stage 3 Generators:\n",
            "        Fitting IdentityFeatureGenerator...\n",
            "        Fitting DatetimeFeatureGenerator...\n",
            "    Stage 4 Generators:\n",
            "        Fitting DropUniqueFeatureGenerator...\n",
            "    Stage 5 Generators:\n",
            "        Fitting DropDuplicatesFeatureGenerator...\n",
            "    Types of features in original data (raw dtype, special dtypes):\n",
            "        ('float', [])                      : 3 | ['temp', 'atemp', 'windspeed']\n",
            "        ('int', [])                        : 5 | ['season', 'holiday', 'workingday', 'weather', 'humidity']\n",
            "        ('object', ['datetime_as_object']) : 1 | ['datetime']\n",
            "    Types of features in processed data (raw dtype, special dtypes):\n",
            "        ('float', [])                : 3 | ['temp', 'atemp', 'windspeed']\n",
            "        ('int', [])                  : 3 | ['season', 'weather', 'humidity']\n",
            "        ('int', ['bool'])            : 2 | ['holiday', 'workingday']\n",
            "        ('int', ['datetime_as_int']) : 5 | ['datetime', 'datetime.year', 'datetime.month', 'datetime.day', 'datetime.dayofweek']\n",
            "    0.0s = Fit runtime\n",
            "    9 features in original data used to generate 13 features in processed data.\n",
            "    Train Data (Processed) Memory Usage: 0.98 MB (0.0% of available memory)\n",
            "Data preprocessing and feature engineering runtime = 0.05s ...\n",
            "AutoGluon will gauge predictive performance using evaluation metric: 'root_mean_squared_error'\n",
            "    This metric's sign has been flipped to adhere to being higher_is_better. The metric score can be multiplied by -1 to get the metric value.\n",
            "    To change this, specify the eval_metric parameter of Predictor()\n",
            "Automatically generating train/validation split with holdout_frac=0.1, Train Rows: 9797, Val Rows: 1089\n",
            "User-specified model hyperparameters to be fit:\n",
            "{\n",
            "    'NN_TORCH': {},\n",
            "    'GBM': [{'extra_trees': True, 'ag_args': {'name_suffix': 'XT'}}, {}, 'GBMLarge'],\n",
            "    'CAT': {},\n",
            "    'XGB': {},\n",
            "    'FASTAI': {},\n",
            "    'RF': [{'criterion': 'gini', 'ag_args': {'name_suffix': 'Gini', 'problem_types': ['binary', 'multiclass']}}, {'criterion': 'entropy', 'ag_args': {'name_suffix': 'Entr', 'problem_types': ['binary', 'multiclass']}}, {'criterion': 'squared_error', 'ag_args': {'name_suffix': 'MSE', 'problem_types': ['regression', 'quantile']}}],\n",
            "    'XT': [{'criterion': 'gini', 'ag_args': {'name_suffix': 'Gini', 'problem_types': ['binary', 'multiclass']}}, {'criterion': 'entropy', 'ag_args': {'name_suffix': 'Entr', 'problem_types': ['binary', 'multiclass']}}, {'criterion': 'squared_error', 'ag_args': {'name_suffix': 'MSE', 'problem_types': ['regression', 'quantile']}}],\n",
            "    'KNN': [{'weights': 'uniform', 'ag_args': {'name_suffix': 'Unif'}}, {'weights': 'distance', 'ag_args': {'name_suffix': 'Dist'}}],\n",
            "}\n",
            "Fitting 11 L1 models ...\n",
            "Fitting model: KNeighborsUnif ...\n",
            "    -109.9845    = Validation score   (-root_mean_squared_error)\n",
            "    0.01s    = Training   runtime\n",
            "    0.0s     = Validation runtime\n",
            "Fitting model: KNeighborsDist ...\n",
            "    -92.5189     = Validation score   (-root_mean_squared_error)\n",
            "    0.01s    = Training   runtime\n",
            "    0.0s     = Validation runtime\n",
            "Fitting model: LightGBMXT ...\n",
            "    -135.958     = Validation score   (-root_mean_squared_error)\n",
            "    0.68s    = Training   runtime\n",
            "    0.01s    = Validation runtime\n",
            "Fitting model: LightGBM ...\n",
            "    -134.0804    = Validation score   (-root_mean_squared_error)\n",
            "    0.46s    = Training   runtime\n",
            "    0.01s    = Validation runtime\n",
            "Fitting model: RandomForestMSE ...\n",
            "    -122.0128    = Validation score   (-root_mean_squared_error)\n",
            "    0.83s    = Training   runtime\n",
            "    0.03s    = Validation runtime\n",
            "Fitting model: CatBoost ...\n",
            "    -134.2362    = Validation score   (-root_mean_squared_error)\n",
            "    2.64s    = Training   runtime\n",
            "    0.0s     = Validation runtime\n",
            "Fitting model: ExtraTreesMSE ...\n",
            "    -128.4294    = Validation score   (-root_mean_squared_error)\n",
            "    0.41s    = Training   runtime\n",
            "    0.2s     = Validation runtime\n",
            "Fitting model: NeuralNetFastAI ...\n",
            "    -136.518     = Validation score   (-root_mean_squared_error)\n",
            "    4.85s    = Training   runtime\n",
            "    0.01s    = Validation runtime\n",
            "Fitting model: XGBoost ...\n",
            "    -135.0751    = Validation score   (-root_mean_squared_error)\n",
            "    0.42s    = Training   runtime\n",
            "    0.01s    = Validation runtime\n",
            "Fitting model: NeuralNetTorch ...\n",
            "    -139.9605    = Validation score   (-root_mean_squared_error)\n",
            "    13.4s    = Training   runtime\n",
            "    0.01s    = Validation runtime\n",
            "Fitting model: LightGBMLarge ...\n",
            "    -132.1736    = Validation score   (-root_mean_squared_error)\n",
            "    0.77s    = Training   runtime\n",
            "    0.0s     = Validation runtime\n",
            "Fitting model: WeightedEnsemble_L2 ...\n",
            "    -92.5189     = Validation score   (-root_mean_squared_error)\n",
            "    0.22s    = Training   runtime\n",
            "    0.0s     = Validation runtime\n",
            "AutoGluon training complete, total runtime = 25.55s ... Best model: \"WeightedEnsemble_L2\"\n",
            "TabularPredictor saved. To load, use: predictor = TabularPredictor.load(\"./output/\")"
          ]
        },
        {
          "output_type": "stream",
          "name": "stdout",
          "text": [
            "[1000]  valid_set's rmse: 136.065"
          ]
        }
      ],
      "source": [
        "predictor = TabularPredictor(label='count',problem_type='regression',path='./output')\n",
        "predictor.fit(train_data)"
      ],
      "id": "b907f505-2341-47f9-8067-5368857d69c7"
    },
    {
      "cell_type": "code",
      "execution_count": 34,
      "metadata": {},
      "outputs": [],
      "source": [
        "# 테스트 데이터에 대한 예측\n",
        "predictions = predictor.predict(train_data)"
      ],
      "id": "b0acae38-4dc1-4b73-8e46-1a6b3a361f82"
    },
    {
      "cell_type": "code",
      "execution_count": 35,
      "metadata": {},
      "outputs": [],
      "source": [
        "predictor.evaluate(train_data, silent=True)"
      ],
      "id": "8b5c4670-2918-4aee-81ab-b93b8e13c655"
    },
    {
      "cell_type": "code",
      "execution_count": 37,
      "metadata": {},
      "outputs": [],
      "source": [
        "predictor.leaderboard(train_data, silent=True)"
      ],
      "id": "8943e2a8-606c-4868-a5b3-bffa656e42b6"
    },
    {
      "cell_type": "code",
      "execution_count": 50,
      "metadata": {},
      "outputs": [],
      "source": [
        "import matplotlib.pyplot as plt \n",
        "import numpy as np"
      ],
      "id": "adf86d66-c099-4240-a3d3-e296bf9dd3f8"
    },
    {
      "cell_type": "code",
      "execution_count": 52,
      "metadata": {},
      "outputs": [],
      "source": [
        "np.sqrt(np.mean((train_data['count'] - predictions)**2))"
      ],
      "id": "606ebcf2-2fea-4f2f-8442-6f58fc7d33f0"
    },
    {
      "cell_type": "code",
      "execution_count": 46,
      "metadata": {},
      "outputs": [
        {
          "output_type": "display_data",
          "metadata": {},
          "data": {
            "image/png": "[encoded data removed]"
          }
        }
      ],
      "source": [
        "plt.plot(train_data['count'][100:200])\n",
        "plt.plot(predictions[100:200])"
      ],
      "id": "89723c19-24b1-44af-88c6-976d16ece0fe"
    }
  ],
  "nbformat": 4,
  "nbformat_minor": 5,
  "metadata": {
    "kernelspec": {
      "name": "python3",
      "display_name": "Python 3 (ipykernel)",
      "language": "python"
    },
    "language_info": {
      "name": "python",
      "codemirror_mode": {
        "name": "ipython",
        "version": "3"
      },
      "file_extension": ".py",
      "mimetype": "text/x-python",
      "nbconvert_exporter": "python",
      "pygments_lexer": "ipython3",
      "version": "3.10.12"
    }
  }
}