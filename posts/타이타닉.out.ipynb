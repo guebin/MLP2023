{
  "cells": [
    {
      "cell_type": "markdown",
      "metadata": {},
      "source": [
        "# 타이타닉\n",
        "\n",
        "최규빈  \n",
        "2023-09-26\n",
        "\n",
        "# 1. 강의영상\n",
        "\n",
        "<https://youtu.be/playlist?list=PLQqh36zP38-z8ceMijNQrcczhH3ocuP1Y&si=UehL2BELwmid586_>\n",
        "\n",
        "# 2. imports"
      ],
      "id": "899ed2c4-ebdc-4053-a493-47725ae0c2ae"
    },
    {
      "cell_type": "code",
      "execution_count": 52,
      "metadata": {},
      "outputs": [],
      "source": [
        "import numpy as np \n",
        "import pandas as pd \n",
        "import sklearn.impute\n",
        "import sklearn.linear_model\n",
        "import sklearn.ensemble\n",
        "import missingno as msno"
      ],
      "id": "696ccd1d-e53d-48dc-87ae-26edc65b47c8"
    },
    {
      "cell_type": "markdown",
      "metadata": {},
      "source": [
        "# 3. 자료불러오기\n",
        "\n",
        "`-` 아래의 코드는 `kaggle.json` 파일이 셋팅된 codespace 혹은\n",
        "`kaggle.json` 파일이 셋팅된 리눅스 컴퓨터가 있는 경우만 사용가능 (이런거\n",
        "셋팅하는 방법은 대면수업에서..)"
      ],
      "id": "5f42eb8f-345f-457b-a3c7-f69f588f8e72"
    },
    {
      "cell_type": "code",
      "execution_count": 53,
      "metadata": {},
      "outputs": [
        {
          "output_type": "stream",
          "name": "stdout",
          "text": [
            "Downloading titanic.zip to /home/cgb2/Dropbox/07_lectures/2023-09-MP2023/posts\n",
            "  0%|                                               | 0.00/34.1k [00:00<?, ?B/s]\n",
            "100%|███████████████████████████████████████| 34.1k/34.1k [00:00<00:00, 406kB/s]\n",
            "Archive:  titanic.zip\n",
            "  inflating: ./titanic/gender_submission.csv  \n",
            "  inflating: ./titanic/test.csv      \n",
            "  inflating: ./titanic/train.csv     "
          ]
        }
      ],
      "source": [
        "!kaggle competitions download -c titanic\n",
        "!unzip titanic.zip -d ./titanic\n",
        "df_train = pd.read_csv('titanic/train.csv')\n",
        "df_test = pd.read_csv('titanic/test.csv')\n",
        "submission = pd.read_csv('titanic/gender_submission.csv')\n",
        "!rm titanic.zip\n",
        "!rm -rf titanic/"
      ],
      "id": "e4d3a964-7bcd-42a3-9d7a-8f69338b4b8b"
    },
    {
      "cell_type": "markdown",
      "metadata": {},
      "source": [
        "`-` 리눅스서버를 사용할 수 없는 경우 download 후 압축풀어서 사용\n",
        "\n",
        "# 4. 결측치 확인 및 처리\n",
        "\n",
        "## A. 결측치 체크\n",
        "\n",
        "`-` 결측치확인"
      ],
      "id": "6dc0e4d9-e2a4-437a-9337-aff181065895"
    },
    {
      "cell_type": "code",
      "execution_count": 54,
      "metadata": {},
      "outputs": [
        {
          "output_type": "stream",
          "name": "stdout",
          "text": [
            "<class 'pandas.core.frame.DataFrame'>\n",
            "RangeIndex: 891 entries, 0 to 890\n",
            "Data columns (total 12 columns):\n",
            " #   Column       Non-Null Count  Dtype  \n",
            "---  ------       --------------  -----  \n",
            " 0   PassengerId  891 non-null    int64  \n",
            " 1   Survived     891 non-null    int64  \n",
            " 2   Pclass       891 non-null    int64  \n",
            " 3   Name         891 non-null    object \n",
            " 4   Sex          891 non-null    object \n",
            " 5   Age          714 non-null    float64\n",
            " 6   SibSp        891 non-null    int64  \n",
            " 7   Parch        891 non-null    int64  \n",
            " 8   Ticket       891 non-null    object \n",
            " 9   Fare         891 non-null    float64\n",
            " 10  Cabin        204 non-null    object \n",
            " 11  Embarked     889 non-null    object \n",
            "dtypes: float64(2), int64(5), object(5)\n",
            "memory usage: 83.7+ KB"
          ]
        }
      ],
      "source": [
        "df_train.info()"
      ],
      "id": "3fb940d2-c3a8-4d2f-b07f-d93a528b1816"
    },
    {
      "cell_type": "markdown",
      "metadata": {},
      "source": [
        "## C. 결측치 처리"
      ],
      "id": "226c1b55-d0b8-4657-b9af-06fc800b74e6"
    },
    {
      "cell_type": "code",
      "execution_count": 55,
      "metadata": {},
      "outputs": [],
      "source": [
        "def impute_missing(df):\n",
        "    df_imputed = df.copy()\n",
        "    df_num = df.select_dtypes(include=\"number\")\n",
        "    df_cat = df.select_dtypes(exclude=\"number\")\n",
        "    df_imputed[df_num.columns] = sklearn.impute.SimpleImputer().fit_transform(df_num) \n",
        "    df_imputed[df_cat.columns] = sklearn.impute.SimpleImputer(strategy='most_frequent').fit_transform(df_cat) \n",
        "    return df_imputed"
      ],
      "id": "379cecde-8d7c-4c99-bfd2-cd14b174b66e"
    },
    {
      "cell_type": "markdown",
      "metadata": {},
      "source": [
        "# 5. 분석\n",
        "\n",
        "## A. 자료의 정리"
      ],
      "id": "2079ab65-9f26-43c0-9c93-8799a3373b76"
    },
    {
      "cell_type": "code",
      "execution_count": 56,
      "metadata": {},
      "outputs": [],
      "source": [
        "df_train = df_train.eval('Fsize = SibSp + Parch + 1')\n",
        "df_test = df_test.eval('Fsize = SibSp + Parch + 1')"
      ],
      "id": "67ba7241-ccd0-43fe-86d0-9aec8f942fb9"
    },
    {
      "cell_type": "code",
      "execution_count": 57,
      "metadata": {},
      "outputs": [],
      "source": [
        "f = lambda x,y: str(x)+str(y) if not (pd.isna(x) or pd.isna(y)) else np.nan"
      ],
      "id": "8f28313d-e0b4-4f15-aa0c-e51973b48d22"
    },
    {
      "cell_type": "code",
      "execution_count": 58,
      "metadata": {},
      "outputs": [],
      "source": [
        "df_train = df_train.assign(Pclass_Embarked = list(map(f, df_train.Pclass,df_train.Embarked)))\n",
        "df_test= df_test.assign(Pclass_Embarked = list(map(f, df_test.Pclass,df_test.Embarked)))"
      ],
      "id": "43797c7f-1de7-4679-aa50-a91ae820bcc7"
    },
    {
      "cell_type": "code",
      "execution_count": 59,
      "metadata": {},
      "outputs": [],
      "source": [
        "df_train.Pclass_Embarked.unique()"
      ],
      "id": "ec5e5957-1d70-4c4a-9ea1-d9bc172b7cf2"
    },
    {
      "cell_type": "code",
      "execution_count": 75,
      "metadata": {},
      "outputs": [],
      "source": [
        "features = ['Pclass','Sex','SibSp','Parch','Pclass_Embarked']\n",
        "#features = ['Sex','Age','Fare']\n",
        "X = pd.get_dummies(impute_missing(df_train[features]))\n",
        "y = impute_missing(df_train)[['Survived']]\n",
        "XX = pd.get_dummies(impute_missing(df_test[features]))"
      ],
      "id": "e78a2bd4-0c04-484c-8df1-99622bcd037c"
    },
    {
      "cell_type": "markdown",
      "metadata": {},
      "source": [
        "## B. predictor 생성"
      ],
      "id": "2d9f1a58-e32e-47f2-998a-8611e6c39e1d"
    },
    {
      "cell_type": "code",
      "execution_count": 76,
      "metadata": {},
      "outputs": [],
      "source": [
        "predictr = sklearn.ensemble.RandomForestClassifier(n_estimators=100, max_depth=5, random_state=1)"
      ],
      "id": "88a51b3a-60c5-49fa-83d5-b01c7356eac1"
    },
    {
      "cell_type": "markdown",
      "metadata": {},
      "source": [
        "## C. 학습"
      ],
      "id": "98d082c1-6554-4308-92ab-c4a2d5083ccb"
    },
    {
      "cell_type": "code",
      "execution_count": 77,
      "metadata": {},
      "outputs": [
        {
          "output_type": "stream",
          "name": "stderr",
          "text": [
            "/home/cgb2/anaconda3/envs/ag/lib/python3.10/site-packages/sklearn/base.py:1152: DataConversionWarning: A column-vector y was passed when a 1d array was expected. Please change the shape of y to (n_samples,), for example using ravel().\n",
            "  return fit_method(estimator, *args, **kwargs)"
          ]
        }
      ],
      "source": [
        "predictr.fit(X,y)"
      ],
      "id": "1905b4d9-097f-48c9-9f0e-d8242ef7b442"
    },
    {
      "cell_type": "markdown",
      "metadata": {},
      "source": [
        "## D. 예측"
      ],
      "id": "e4388a4c-5ed7-42b8-bf18-57163a803dd2"
    },
    {
      "cell_type": "code",
      "execution_count": 78,
      "metadata": {},
      "outputs": [],
      "source": [
        "#predictr.predict(XX)"
      ],
      "id": "84b29052-97c0-483c-b767-55636bfd8e4e"
    },
    {
      "cell_type": "markdown",
      "metadata": {},
      "source": [
        "## E. 평가"
      ],
      "id": "b93d9fef-09a6-4bf0-abe8-0f890e29e953"
    },
    {
      "cell_type": "code",
      "execution_count": 79,
      "metadata": {
        "tags": []
      },
      "outputs": [],
      "source": [
        "predictr.score(X,y)"
      ],
      "id": "111185e5-bc9f-4840-9516-b6848a74efc6"
    },
    {
      "cell_type": "markdown",
      "metadata": {},
      "source": [
        "## G. 해석"
      ],
      "id": "18e57fc4-7425-4625-885c-0b0561d81d5c"
    },
    {
      "cell_type": "code",
      "execution_count": 80,
      "metadata": {},
      "outputs": [],
      "source": [
        "pd.DataFrame({'X':predictr.feature_names_in_,'importance':predictr.feature_importances_})\\\n",
        ".sort_values('importance',ascending=False)"
      ],
      "id": "8606f5ee-3af1-4247-9a87-0ccd287aa682"
    },
    {
      "cell_type": "markdown",
      "metadata": {},
      "source": [
        "# 6. HW\n",
        "\n",
        "위와 동일한 방식으로 `test.csv`에서의 생존여부를 예측하고 kaggle에 제출"
      ],
      "id": "63bcda8c-b94d-4807-ad44-86fbbf4f873c"
    },
    {
      "cell_type": "code",
      "execution_count": 81,
      "metadata": {},
      "outputs": [
        {
          "output_type": "stream",
          "name": "stdout",
          "text": [
            "100%|██████████████████████████████████████| 2.77k/2.77k [00:02<00:00, 1.19kB/s]\n",
            "Successfully submitted to Titanic - Machine Learning from Disaster"
          ]
        }
      ],
      "source": [
        "submission.assign(Survived = predictr.predict(XX).astype(int)).to_csv(\"submission.csv\",index=False)\n",
        "!kaggle competitions submit -c titanic -f submission.csv -m '[\"Pclass\", \"Sex\", \"SibSp\", \"Parch\"]'\n",
        "!rm submission.csv"
      ],
      "id": "ca0bf8e6-eb8e-41d2-9d10-1559db581988"
    }
  ],
  "nbformat": 4,
  "nbformat_minor": 5,
  "metadata": {
    "kernelspec": {
      "name": "python3",
      "display_name": "Python 3 (ipykernel)",
      "language": "python"
    },
    "language_info": {
      "name": "python",
      "codemirror_mode": {
        "name": "ipython",
        "version": "3"
      },
      "file_extension": ".py",
      "mimetype": "text/x-python",
      "nbconvert_exporter": "python",
      "pygments_lexer": "ipython3",
      "version": "3.10.13"
    }
  }
}