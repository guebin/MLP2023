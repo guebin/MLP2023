{
  "cells": [
    {
      "cell_type": "markdown",
      "metadata": {},
      "source": [
        "#"
      ],
      "id": "bd32e4e8-8268-436a-805e-29fbc6128c48"
    },
    {
      "cell_type": "code",
      "execution_count": 26,
      "metadata": {
        "tags": []
      },
      "outputs": [],
      "source": [
        "import numpy as np\n",
        "import pandas as pd\n",
        "import sklearn.model_selection\n",
        "import sklearn.tree"
      ],
      "id": "f2298395-f61a-45d1-92d9-53afd0c1f1f3"
    },
    {
      "cell_type": "code",
      "execution_count": 11,
      "metadata": {
        "tags": []
      },
      "outputs": [],
      "source": [
        "np.random.seed(43052)\n",
        "df = pd.read_csv(\"https://raw.githubusercontent.com/guebin/MP2023/main/posts/employment_multicollinearity.csv\")\n",
        "df['employment_score'] = df.gpa * 1.0 + df.toeic* 1/100 + np.random.randn(500)"
      ],
      "id": "9073c08d-3f2b-4cb4-9ad3-115b84e031ac"
    },
    {
      "cell_type": "code",
      "execution_count": 16,
      "metadata": {
        "tags": []
      },
      "outputs": [],
      "source": [
        "df_train, df_test = sklearn.model_selection.train_test_split(df,test_size=0.3,random_state=42)"
      ],
      "id": "fe562d4f-becb-445a-984d-d9b0e1d3e1f5"
    },
    {
      "cell_type": "code",
      "execution_count": 25,
      "metadata": {
        "tags": []
      },
      "outputs": [],
      "source": [
        "X,y = df_train.loc[:,'gpa':],df_train['employment_score']\n",
        "XX,yy = df_test.loc[:,'gpa':],df_test['employment_score']"
      ],
      "id": "f94aa4ad-3682-4088-b912-3e2b23c96f71"
    },
    {
      "cell_type": "markdown",
      "metadata": {},
      "source": [
        "-   실제 kaggle에서는 yy를 모르는 상황임"
      ],
      "id": "d89da4ae-80f7-40eb-a41c-4e613c7a5066"
    },
    {
      "cell_type": "code",
      "execution_count": 62,
      "metadata": {
        "tags": []
      },
      "outputs": [],
      "source": [
        "## step1 -- pass \n",
        "## step2 \n",
        "predictr = sklearn.tree.DecisionTreeRegressor(random_state=42)\n",
        "## step3 \n",
        "predictr.fit(X,y)\n",
        "## step4\n",
        "df_train['employment_score_hat'] = predictr.predict(X)\n",
        "df_test['employment_score_hat'] = predictr.predict(XX)"
      ],
      "id": "2b51b5f8-8039-437a-b8bb-0cb8ec2d3ac6"
    },
    {
      "cell_type": "code",
      "execution_count": 63,
      "metadata": {
        "tags": []
      },
      "outputs": [],
      "source": [
        "predictr.score(X,y)"
      ],
      "id": "c0b662c0-b413-408a-b2f8-ea80538cced5"
    },
    {
      "cell_type": "markdown",
      "metadata": {},
      "source": [
        "-   오버핏이다~!"
      ],
      "id": "4354eecd-68d3-47fa-b029-94c977393776"
    },
    {
      "cell_type": "code",
      "execution_count": 64,
      "metadata": {
        "tags": []
      },
      "outputs": [],
      "source": [
        "predictr.score(XX,yy)"
      ],
      "id": "23917dca-e7d9-462e-94bb-6090881f63ef"
    },
    {
      "cell_type": "markdown",
      "metadata": {},
      "source": [
        "-   오버핏이긴한데, 괜찮네? + 돌릴때마다 결과가 다르네?\n",
        "-   결과를 고정하려면\n",
        "    `sklearn.tree.DecisionTreeRegressor(random_state=42)`를 고려하면\n",
        "    된다."
      ],
      "id": "13280f4e-f703-40a8-b194-e5279d1660a9"
    }
  ],
  "nbformat": 4,
  "nbformat_minor": 5,
  "metadata": {
    "kernelspec": {
      "name": "python3",
      "display_name": "Python 3 (ipykernel)",
      "language": "python"
    },
    "language_info": {
      "name": "python",
      "codemirror_mode": {
        "name": "ipython",
        "version": "3"
      },
      "file_extension": ".py",
      "mimetype": "text/x-python",
      "nbconvert_exporter": "python",
      "pygments_lexer": "ipython3",
      "version": "3.10.13"
    }
  }
}