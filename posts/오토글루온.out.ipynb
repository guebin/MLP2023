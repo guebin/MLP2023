{
  "cells": [
    {
      "cell_type": "markdown",
      "metadata": {},
      "source": [
        "# draft\n",
        "\n",
        "최규빈  \n",
        "2023-11-10"
      ],
      "id": "b54d343e-212e-47ff-bd7b-24aeeee908ff"
    },
    {
      "cell_type": "code",
      "execution_count": 140,
      "metadata": {
        "tags": []
      },
      "outputs": [
        {
          "output_type": "stream",
          "name": "stderr",
          "text": [
            "Loaded data from: https://autogluon.s3.amazonaws.com/datasets/Inc/train.csv | Columns = 15 / 15 | Rows = 39073 -> 39073\n",
            "Loaded data from: https://autogluon.s3.amazonaws.com/datasets/Inc/test.csv | Columns = 15 / 15 | Rows = 9769 -> 9769\n",
            "No path specified. Models will be saved in: \"AutogluonModels/ag-20231121_023423\"\n",
            "Beginning AutoGluon training ...\n",
            "AutoGluon will save models to \"AutogluonModels/ag-20231121_023423\"\n",
            "AutoGluon Version:  0.8.2\n",
            "Python Version:     3.10.13\n",
            "Operating System:   Linux\n",
            "Platform Machine:   x86_64\n",
            "Platform Version:   #26~22.04.1-Ubuntu SMP PREEMPT_DYNAMIC Thu Jul 13 16:27:29 UTC 2\n",
            "Disk Space Avail:   226.72 GB / 490.57 GB (46.2%)\n",
            "Train Data Rows:    39073\n",
            "Train Data Columns: 14\n",
            "Label Column: class\n",
            "Preprocessing data ...\n",
            "AutoGluon infers your prediction problem is: 'binary' (because only two unique label-values observed).\n",
            "    2 unique label values:  [' <=50K', ' >50K']\n",
            "    If 'binary' is not the correct problem_type, please manually specify the problem_type parameter during predictor init (You may specify problem_type as one of: ['binary', 'multiclass', 'regression'])\n",
            "Selected class <--> label mapping:  class 1 =  >50K, class 0 =  <=50K\n",
            "    Note: For your binary classification, AutoGluon arbitrarily selected which label-value represents positive ( >50K) vs negative ( <=50K) class.\n",
            "    To explicitly set the positive_class, either rename classes to 1 and 0, or specify positive_class in Predictor init.\n",
            "Using Feature Generators to preprocess the data ...\n",
            "Fitting AutoMLPipelineFeatureGenerator...\n",
            "    Available Memory:                    120354.36 MB\n",
            "    Train Data (Original)  Memory Usage: 22.92 MB (0.0% of available memory)\n",
            "    Inferring data type of each feature based on column values. Set feature_metadata_in to manually specify special dtypes of the features.\n",
            "    Stage 1 Generators:\n",
            "        Fitting AsTypeFeatureGenerator...\n",
            "            Note: Converting 1 features to boolean dtype as they only contain 2 unique values.\n",
            "    Stage 2 Generators:\n",
            "        Fitting FillNaFeatureGenerator...\n",
            "    Stage 3 Generators:\n",
            "        Fitting IdentityFeatureGenerator...\n",
            "        Fitting CategoryFeatureGenerator...\n",
            "            Fitting CategoryMemoryMinimizeFeatureGenerator...\n",
            "    Stage 4 Generators:\n",
            "        Fitting DropUniqueFeatureGenerator...\n",
            "    Stage 5 Generators:\n",
            "        Fitting DropDuplicatesFeatureGenerator...\n",
            "    Types of features in original data (raw dtype, special dtypes):\n",
            "        ('int', [])    : 6 | ['age', 'fnlwgt', 'education-num', 'capital-gain', 'capital-loss', ...]\n",
            "        ('object', []) : 8 | ['workclass', 'education', 'marital-status', 'occupation', 'relationship', ...]\n",
            "    Types of features in processed data (raw dtype, special dtypes):\n",
            "        ('category', [])  : 7 | ['workclass', 'education', 'marital-status', 'occupation', 'relationship', ...]\n",
            "        ('int', [])       : 6 | ['age', 'fnlwgt', 'education-num', 'capital-gain', 'capital-loss', ...]\n",
            "        ('int', ['bool']) : 1 | ['sex']\n",
            "    0.1s = Fit runtime\n",
            "    14 features in original data used to generate 14 features in processed data.\n",
            "    Train Data (Processed) Memory Usage: 2.19 MB (0.0% of available memory)\n",
            "Data preprocessing and feature engineering runtime = 0.16s ...\n",
            "AutoGluon will gauge predictive performance using evaluation metric: 'accuracy'\n",
            "    To change this, specify the eval_metric parameter of Predictor()\n",
            "Automatically generating train/validation split with holdout_frac=0.0639828014229775, Train Rows: 36573, Val Rows: 2500\n",
            "User-specified model hyperparameters to be fit:\n",
            "{\n",
            "    'NN_TORCH': {},\n",
            "    'GBM': [{'extra_trees': True, 'ag_args': {'name_suffix': 'XT'}}, {}, 'GBMLarge'],\n",
            "    'CAT': {},\n",
            "    'XGB': {},\n",
            "    'FASTAI': {},\n",
            "    'RF': [{'criterion': 'gini', 'ag_args': {'name_suffix': 'Gini', 'problem_types': ['binary', 'multiclass']}}, {'criterion': 'entropy', 'ag_args': {'name_suffix': 'Entr', 'problem_types': ['binary', 'multiclass']}}, {'criterion': 'squared_error', 'ag_args': {'name_suffix': 'MSE', 'problem_types': ['regression', 'quantile']}}],\n",
            "    'XT': [{'criterion': 'gini', 'ag_args': {'name_suffix': 'Gini', 'problem_types': ['binary', 'multiclass']}}, {'criterion': 'entropy', 'ag_args': {'name_suffix': 'Entr', 'problem_types': ['binary', 'multiclass']}}, {'criterion': 'squared_error', 'ag_args': {'name_suffix': 'MSE', 'problem_types': ['regression', 'quantile']}}],\n",
            "    'KNN': [{'weights': 'uniform', 'ag_args': {'name_suffix': 'Unif'}}, {'weights': 'distance', 'ag_args': {'name_suffix': 'Dist'}}],\n",
            "}\n",
            "Fitting 13 L1 models ...\n",
            "Fitting model: KNeighborsUnif ...\n",
            "    0.7752   = Validation score   (accuracy)\n",
            "    0.03s    = Training   runtime\n",
            "    0.02s    = Validation runtime\n",
            "Fitting model: KNeighborsDist ...\n",
            "    0.766    = Validation score   (accuracy)\n",
            "    0.03s    = Training   runtime\n",
            "    0.02s    = Validation runtime\n",
            "Fitting model: LightGBMXT ...\n",
            "    0.8792   = Validation score   (accuracy)\n",
            "    0.66s    = Training   runtime\n",
            "    0.02s    = Validation runtime\n",
            "Fitting model: LightGBM ...\n",
            "    0.8824   = Validation score   (accuracy)\n",
            "    0.58s    = Training   runtime\n",
            "    0.01s    = Validation runtime\n",
            "Fitting model: RandomForestGini ...\n",
            "    0.8612   = Validation score   (accuracy)\n",
            "    1.02s    = Training   runtime\n",
            "    0.06s    = Validation runtime\n",
            "Fitting model: RandomForestEntr ...\n",
            "    0.8584   = Validation score   (accuracy)\n",
            "    1.1s     = Training   runtime\n",
            "    0.06s    = Validation runtime\n",
            "Fitting model: CatBoost ...\n",
            "    0.8824   = Validation score   (accuracy)\n",
            "    2.84s    = Training   runtime\n",
            "    0.01s    = Validation runtime\n",
            "Fitting model: ExtraTreesGini ...\n",
            "    0.8528   = Validation score   (accuracy)\n",
            "    0.7s     = Training   runtime\n",
            "    0.06s    = Validation runtime\n",
            "Fitting model: ExtraTreesEntr ...\n",
            "    0.8524   = Validation score   (accuracy)\n",
            "    0.76s    = Training   runtime\n",
            "    0.06s    = Validation runtime\n",
            "Fitting model: NeuralNetFastAI ...\n",
            "    0.8624   = Validation score   (accuracy)\n",
            "    54.43s   = Training   runtime\n",
            "    0.05s    = Validation runtime\n",
            "Fitting model: XGBoost ...\n",
            "    0.8872   = Validation score   (accuracy)\n",
            "    0.85s    = Training   runtime\n",
            "    0.01s    = Validation runtime\n",
            "Fitting model: NeuralNetTorch ...\n",
            "    0.8588   = Validation score   (accuracy)\n",
            "    56.82s   = Training   runtime\n",
            "    0.05s    = Validation runtime\n",
            "Fitting model: LightGBMLarge ...\n",
            "    0.8856   = Validation score   (accuracy)\n",
            "    1.04s    = Training   runtime\n",
            "    0.02s    = Validation runtime\n",
            "Fitting model: WeightedEnsemble_L2 ...\n",
            "    0.8912   = Validation score   (accuracy)\n",
            "    0.94s    = Training   runtime\n",
            "    0.0s     = Validation runtime\n",
            "AutoGluon training complete, total runtime = 123.63s ... Best model: \"WeightedEnsemble_L2\"\n",
            "TabularPredictor saved. To load, use: predictor = TabularPredictor.load(\"AutogluonModels/ag-20231121_023423\")"
          ]
        }
      ],
      "source": [
        "from autogluon.tabular import TabularDataset, TabularPredictor\n",
        "\n",
        "data_root = 'https://autogluon.s3.amazonaws.com/datasets/Inc/'\n",
        "train_data = TabularDataset(data_root + 'train.csv')\n",
        "test_data = TabularDataset(data_root + 'test.csv')\n",
        "\n",
        "predictor = TabularPredictor(label='class').fit(train_data=train_data)\n",
        "predictions = predictor.predict(test_data)"
      ],
      "id": "9eebd482-6c81-4f4f-bc38-424287fee5b7"
    },
    {
      "cell_type": "code",
      "execution_count": 150,
      "metadata": {
        "tags": []
      },
      "outputs": [],
      "source": [
        "predictor._learner.predict??"
      ],
      "id": "1fb833b1-b7ea-4271-a81e-56ffce75afdb"
    },
    {
      "cell_type": "code",
      "execution_count": 164,
      "metadata": {
        "tags": []
      },
      "outputs": [],
      "source": [
        "predictor._learner.predict_proba??"
      ],
      "id": "81fef75e-c627-481a-9ae9-b5831359b2e5"
    },
    {
      "cell_type": "code",
      "execution_count": 178,
      "metadata": {
        "tags": []
      },
      "outputs": [],
      "source": [
        "with open('./AutogluonModels/ag-20231121_023423/models/RandomForestEntr/model.pkl', 'rb') as file:\n",
        "    model = pickle.load(file)"
      ],
      "id": "623e3b2f-9086-4b5a-9bb2-23c272941e84"
    }
  ],
  "nbformat": 4,
  "nbformat_minor": 5,
  "metadata": {
    "kernelspec": {
      "name": "python3",
      "display_name": "Python 3 (ipykernel)",
      "language": "python"
    },
    "language_info": {
      "name": "python",
      "codemirror_mode": {
        "name": "ipython",
        "version": "3"
      },
      "file_extension": ".py",
      "mimetype": "text/x-python",
      "nbconvert_exporter": "python",
      "pygments_lexer": "ipython3",
      "version": "3.10.13"
    }
  }
}