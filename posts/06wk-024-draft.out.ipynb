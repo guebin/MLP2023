{
  "cells": [
    {
      "cell_type": "markdown",
      "metadata": {},
      "source": [
        "# 06wk-024: 취업+각종영어점수, RidgeCV\n",
        "\n",
        "최규빈  \n",
        "2023-10-05\n",
        "\n",
        "# 1. 강의영상\n",
        "\n",
        "# 2. Imports"
      ],
      "id": "324a264c-eabc-4204-99f1-ea7b4879ea32"
    },
    {
      "cell_type": "code",
      "execution_count": 1,
      "metadata": {},
      "outputs": [],
      "source": [
        "import numpy as np\n",
        "import pandas as pd\n",
        "import matplotlib.pyplot as plt \n",
        "import sklearn.linear_model"
      ],
      "id": "cell-3"
    },
    {
      "cell_type": "markdown",
      "metadata": {},
      "source": [
        "# 3. Data"
      ],
      "id": "1b38c980-5cd4-48d4-a258-2c1fb573232f"
    },
    {
      "cell_type": "code",
      "execution_count": 2,
      "metadata": {},
      "outputs": [],
      "source": [
        "df = pd.read_csv(\"https://raw.githubusercontent.com/guebin/MP2023/main/posts/employment_multicollinearity.csv\")\n",
        "np.random.seed(43052)\n",
        "df['employment_score'] = df.gpa * 1.0 + df.toeic* 1/100 + np.random.randn(500)"
      ],
      "id": "cell-5"
    },
    {
      "cell_type": "code",
      "execution_count": 3,
      "metadata": {},
      "outputs": [],
      "source": [
        "df"
      ],
      "id": "cell-6"
    },
    {
      "cell_type": "markdown",
      "metadata": {},
      "source": [
        "# 4. RidgeCV\n",
        "\n",
        "`-` RidgeCV 클래스에서 모형을 선택해보자."
      ],
      "id": "49a7342e-6f94-4dd2-868c-2a5ee555a8c7"
    },
    {
      "cell_type": "code",
      "execution_count": null,
      "metadata": {},
      "outputs": [],
      "source": [
        "## step1 \n",
        "df_train, df_test = sklearn.model_selection.train_test_split(df,test_size=0.3,random_state=42)\n",
        "X = df_train.loc[:,'gpa':'toeic499']\n",
        "y = df_train[['employment_score']]\n",
        "XX = df_test.loc[:,'gpa':'toeic499']\n",
        "yy = df_test[['employment_score']]\n",
        "## step2 \n",
        "predictr = sklearn.linear_model.RidgeCV()\n",
        "## step3\n",
        "predictr.fit(X,y)\n",
        "## step4 : pass \n"
      ],
      "id": "cell-9"
    },
    {
      "cell_type": "code",
      "execution_count": 7,
      "metadata": {},
      "outputs": [],
      "source": [
        "predictr.score(XX,yy)"
      ],
      "id": "cell-10"
    },
    {
      "cell_type": "markdown",
      "metadata": {},
      "source": [
        "-   기대이하..\n",
        "\n",
        "`-` alpha들의 후보를 우리가 직접 선정하자."
      ],
      "id": "bc94ebfb-878f-473b-b8de-a364011e30f5"
    },
    {
      "cell_type": "code",
      "execution_count": 10,
      "metadata": {},
      "outputs": [],
      "source": [
        "## step1 \n",
        "df_train, df_test = sklearn.model_selection.train_test_split(df,test_size=0.3,random_state=42)\n",
        "X = df_train.loc[:,'gpa':'toeic499']\n",
        "y = df_train[['employment_score']]\n",
        "XX = df_test.loc[:,'gpa':'toeic499']\n",
        "yy = df_test[['employment_score']]\n",
        "## step2 \n",
        "predictr = sklearn.linear_model.RidgeCV(alphas=[5e2, 5e3, 5e4, 5e5, 5e6, 5e7, 5e8])\n",
        "## step3\n",
        "predictr.fit(X,y)\n",
        "## step4 : pass \n"
      ],
      "id": "cell-13"
    },
    {
      "cell_type": "code",
      "execution_count": 11,
      "metadata": {},
      "outputs": [],
      "source": [
        "predictr.alpha_"
      ],
      "id": "cell-14"
    },
    {
      "cell_type": "code",
      "execution_count": 13,
      "metadata": {},
      "outputs": [],
      "source": [
        "predictr.score(X,y)"
      ],
      "id": "cell-15"
    },
    {
      "cell_type": "code",
      "execution_count": 14,
      "metadata": {},
      "outputs": [],
      "source": [
        "predictr.score(XX,yy)"
      ],
      "id": "cell-16"
    }
  ],
  "nbformat": 4,
  "nbformat_minor": 5,
  "metadata": {
    "kernelspec": {
      "name": "python3",
      "display_name": "ag",
      "language": "python"
    },
    "language_info": {
      "name": "python",
      "codemirror_mode": {
        "name": "ipython",
        "version": "3"
      },
      "file_extension": ".py",
      "mimetype": "text/x-python",
      "nbconvert_exporter": "python",
      "pygments_lexer": "ipython3",
      "version": "3.10.13"
    }
  }
}