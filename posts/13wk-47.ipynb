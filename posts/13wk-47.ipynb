{
 "cells": [
  {
   "cell_type": "raw",
   "id": "9eb0c58e-c52f-4edd-96e7-8c6242802d3a",
   "metadata": {},
   "source": [
    "---\n",
    "title: \"13wk-47: 평가지표의 계산\"\n",
    "author: \"최규빈\"\n",
    "date: \"12/01/2023\"\n",
    "bibliography: ref.bib\n",
    "draft: false\n",
    "---"
   ]
  },
  {
   "cell_type": "markdown",
   "id": "583842d3-1cba-410e-9df5-dcc71af75e0e",
   "metadata": {},
   "source": [
    "# 1. 강의영상 "
   ]
  },
  {
   "cell_type": "markdown",
   "id": "5a7ba7ec-7f9d-4e0f-9c6c-91e2f7d21296",
   "metadata": {},
   "source": [
    "{{<video ??? >}}"
   ]
  },
  {
   "cell_type": "markdown",
   "id": "0662f8c4-d5bc-4ff1-add0-e12a58fd6550",
   "metadata": {},
   "source": [
    "# 2. Imports"
   ]
  },
  {
   "cell_type": "code",
   "execution_count": 3,
   "id": "a1fe4893-6304-42fd-9c53-7e5684def4a7",
   "metadata": {},
   "outputs": [],
   "source": [
    "import numpy as np\n",
    "import sklearn.metrics"
   ]
  },
  {
   "cell_type": "markdown",
   "id": "0d2aaf4f-56f5-4090-9e51-7d1a8625edbd",
   "metadata": {},
   "source": [
    "# 3. 12wk-46 숙제풀이"
   ]
  },
  {
   "cell_type": "markdown",
   "id": "6d5ab1ed-e99c-4209-9a94-c0c75b598815",
   "metadata": {},
   "source": [
    "밀실안에 100명의 사람이 있다고 하자. 이중 이중휴민트는 2명이 있다고 하자. 이중휴민트를 잡기위해서 3명을 사살했다고 하자. 사살된 사람중 실제 이중휴민트는 1명이었다고 하자. 이 경우\n",
    "\n",
    "- accurary\n",
    "- TPR(=recall)\n",
    "- precision\n",
    "- FPR\n",
    "\n",
    "값을 계산하라."
   ]
  },
  {
   "cell_type": "markdown",
   "id": "fe82f6ff-0cb6-4759-bbe0-aadd56681d49",
   "metadata": {},
   "source": [
    "`-` `y`,`yhat` 생성"
   ]
  },
  {
   "cell_type": "code",
   "execution_count": 4,
   "id": "93307a3b-f3e4-42c1-ab40-8878fd13167d",
   "metadata": {},
   "outputs": [
    {
     "data": {
      "text/plain": [
       "array([1, 1, 0, 0, 0, 0, 0, 0, 0, 0, 0, 0, 0, 0, 0, 0, 0, 0, 0, 0, 0, 0,\n",
       "       0, 0, 0, 0, 0, 0, 0, 0, 0, 0, 0, 0, 0, 0, 0, 0, 0, 0, 0, 0, 0, 0,\n",
       "       0, 0, 0, 0, 0, 0, 0, 0, 0, 0, 0, 0, 0, 0, 0, 0, 0, 0, 0, 0, 0, 0,\n",
       "       0, 0, 0, 0, 0, 0, 0, 0, 0, 0, 0, 0, 0, 0, 0, 0, 0, 0, 0, 0, 0, 0,\n",
       "       0, 0, 0, 0, 0, 0, 0, 0, 0, 0, 0, 0])"
      ]
     },
     "execution_count": 4,
     "metadata": {},
     "output_type": "execute_result"
    }
   ],
   "source": [
    "y=np.array([1]*2+[0]*98)\n",
    "y"
   ]
  },
  {
   "cell_type": "code",
   "execution_count": 5,
   "id": "f0d0bacf-b26d-4de0-95c9-10e954cab3d0",
   "metadata": {},
   "outputs": [
    {
     "data": {
      "text/plain": [
       "array([0, 1, 1, 1, 0, 0, 0, 0, 0, 0, 0, 0, 0, 0, 0, 0, 0, 0, 0, 0, 0, 0,\n",
       "       0, 0, 0, 0, 0, 0, 0, 0, 0, 0, 0, 0, 0, 0, 0, 0, 0, 0, 0, 0, 0, 0,\n",
       "       0, 0, 0, 0, 0, 0, 0, 0, 0, 0, 0, 0, 0, 0, 0, 0, 0, 0, 0, 0, 0, 0,\n",
       "       0, 0, 0, 0, 0, 0, 0, 0, 0, 0, 0, 0, 0, 0, 0, 0, 0, 0, 0, 0, 0, 0,\n",
       "       0, 0, 0, 0, 0, 0, 0, 0, 0, 0, 0, 0])"
      ]
     },
     "execution_count": 5,
     "metadata": {},
     "output_type": "execute_result"
    }
   ],
   "source": [
    "yhat = np.array([0,1,1,1]+[0]*96)\n",
    "yhat"
   ]
  },
  {
   "cell_type": "markdown",
   "id": "399e87fb-0df6-44bf-8a70-954b799c73e9",
   "metadata": {},
   "source": [
    "`-` 혼동행렬(=confusion matrix) 구하기 "
   ]
  },
  {
   "cell_type": "code",
   "execution_count": 6,
   "id": "6c77f79d-1eea-4dfe-8e20-8822a694f895",
   "metadata": {},
   "outputs": [
    {
     "data": {
      "text/plain": [
       "array([[96,  2],\n",
       "       [ 1,  1]])"
      ]
     },
     "execution_count": 6,
     "metadata": {},
     "output_type": "execute_result"
    }
   ],
   "source": [
    "sklearn.metrics.confusion_matrix(y,yhat)"
   ]
  },
  {
   "cell_type": "code",
   "execution_count": 16,
   "id": "fec6f40d-1a9f-4573-978c-22a782294bf5",
   "metadata": {},
   "outputs": [],
   "source": [
    "(tn,fp), (fn,tp) = sklearn.metrics.confusion_matrix(y,yhat)"
   ]
  },
  {
   "cell_type": "markdown",
   "id": "f9d4acb2-8819-4ccc-b88e-2995b406f022",
   "metadata": {},
   "source": [
    "`-` accuracy"
   ]
  },
  {
   "cell_type": "code",
   "execution_count": 17,
   "id": "2cdaaaa7-6bc7-4859-ab87-f9200f18c7b8",
   "metadata": {},
   "outputs": [
    {
     "data": {
      "text/plain": [
       "0.97"
      ]
     },
     "execution_count": 17,
     "metadata": {},
     "output_type": "execute_result"
    }
   ],
   "source": [
    "(tp+tn)/100 # accuracy"
   ]
  },
  {
   "cell_type": "code",
   "execution_count": 18,
   "id": "05c63f49-b7c6-4236-afab-a8086c5b9914",
   "metadata": {},
   "outputs": [
    {
     "data": {
      "text/plain": [
       "0.97"
      ]
     },
     "execution_count": 18,
     "metadata": {},
     "output_type": "execute_result"
    }
   ],
   "source": [
    "sklearn.metrics.accuracy_score(y,yhat)"
   ]
  },
  {
   "cell_type": "markdown",
   "id": "eaf12b20-f6e3-4fec-975c-87f1ec77eef6",
   "metadata": {},
   "source": [
    "`-` recall"
   ]
  },
  {
   "cell_type": "code",
   "execution_count": 24,
   "id": "894daca9-8742-4492-bcab-cf8234fc1a18",
   "metadata": {},
   "outputs": [
    {
     "data": {
      "text/plain": [
       "0.5"
      ]
     },
     "execution_count": 24,
     "metadata": {},
     "output_type": "execute_result"
    }
   ],
   "source": [
    "tp/(tp+fn)"
   ]
  },
  {
   "cell_type": "code",
   "execution_count": 11,
   "id": "8129a5c9-d1b1-48eb-8787-1be316a472e4",
   "metadata": {},
   "outputs": [
    {
     "data": {
      "text/plain": [
       "0.5"
      ]
     },
     "execution_count": 11,
     "metadata": {},
     "output_type": "execute_result"
    }
   ],
   "source": [
    "sklearn.metrics.recall_score(y,yhat)"
   ]
  },
  {
   "cell_type": "markdown",
   "id": "191e3098-ee39-4a53-a372-7ee87445bdaa",
   "metadata": {},
   "source": [
    "`-` precision "
   ]
  },
  {
   "cell_type": "code",
   "execution_count": 25,
   "id": "7eb1f689-b265-4694-b794-83a87a2d9a96",
   "metadata": {},
   "outputs": [
    {
     "data": {
      "text/plain": [
       "0.3333333333333333"
      ]
     },
     "execution_count": 25,
     "metadata": {},
     "output_type": "execute_result"
    }
   ],
   "source": [
    "tp/(tp+fp)"
   ]
  },
  {
   "cell_type": "code",
   "execution_count": 26,
   "id": "668b02ea-c501-40ee-beef-8e34d4dc12b5",
   "metadata": {},
   "outputs": [
    {
     "data": {
      "text/plain": [
       "0.3333333333333333"
      ]
     },
     "execution_count": 26,
     "metadata": {},
     "output_type": "execute_result"
    }
   ],
   "source": [
    "sklearn.metrics.precision_score(y,yhat)"
   ]
  },
  {
   "cell_type": "markdown",
   "id": "b9c94d3c-4aa8-454b-b657-0180f659b8ba",
   "metadata": {},
   "source": [
    "`-` FPR"
   ]
  },
  {
   "cell_type": "code",
   "execution_count": 27,
   "id": "298870e9-25ad-44ab-94b5-71178e33dfc5",
   "metadata": {},
   "outputs": [
    {
     "data": {
      "text/plain": [
       "0.02040816326530612"
      ]
     },
     "execution_count": 27,
     "metadata": {},
     "output_type": "execute_result"
    }
   ],
   "source": [
    "fp / (fp + tn)"
   ]
  }
 ],
 "metadata": {
  "kernelspec": {
   "display_name": "Python 3 (ipykernel)",
   "language": "python",
   "name": "python3"
  },
  "language_info": {
   "codemirror_mode": {
    "name": "ipython",
    "version": 3
   },
   "file_extension": ".py",
   "mimetype": "text/x-python",
   "name": "python",
   "nbconvert_exporter": "python",
   "pygments_lexer": "ipython3",
   "version": "3.10.13"
  }
 },
 "nbformat": 4,
 "nbformat_minor": 5
}
