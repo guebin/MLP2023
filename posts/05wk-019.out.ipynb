{
  "cells": [
    {
      "cell_type": "markdown",
      "metadata": {},
      "source": [
        "# 05wk-019: MinMaxScaler를 이용한 전처리\n",
        "\n",
        "최규빈  \n",
        "2023-10-05\n",
        "\n",
        "# 1. 강의영상\n",
        "\n",
        "<https://youtu.be/playlist?list=PLQqh36zP38-ywZaSM1Sud-5KrwZr3CwCb&si=EknsMgx3Yq6jmOoF>\n",
        "\n",
        "# 2. Imports"
      ],
      "id": "8598298f-7116-4e7d-b0d6-7ab6566ccf1d"
    },
    {
      "cell_type": "code",
      "execution_count": 2,
      "metadata": {},
      "outputs": [],
      "source": [
        "import numpy as np\n",
        "import pandas as pd\n",
        "import sklearn.preprocessing "
      ],
      "id": "cell-4"
    },
    {
      "cell_type": "markdown",
      "metadata": {},
      "source": [
        "# 3. `MinMaxScaler()`\n",
        "\n",
        "## A. 모티브\n",
        "\n",
        "`-` 예제자료 로드"
      ],
      "id": "66be7640-156b-47fc-871e-ca69122fd420"
    },
    {
      "cell_type": "code",
      "execution_count": 6,
      "metadata": {
        "tags": []
      },
      "outputs": [],
      "source": [
        "df = pd.read_csv('https://raw.githubusercontent.com/guebin/MP2023/main/posts/employment.csv').loc[:7,['toeic','gpa']]\n",
        "df"
      ],
      "id": "cell-8"
    },
    {
      "cell_type": "markdown",
      "metadata": {},
      "source": [
        "`-` 모형을 돌려보고 해석한 결과\n",
        "\n",
        "``` python\n",
        "u = X.toeic*0.00571598 + X.gpa*2.46520018 -8.45433334\n",
        "v = 1/(1+np.exp(-u))\n",
        "v # 확률같은것임\n",
        "```\n",
        "\n",
        "-   토익이 중요해? 아니면 학점이 중요해?\n",
        "-   얼만큼 중요해?\n",
        "\n",
        "`-` 모티브: 토익점수를 0-1사이로 맞추고 gpa도 0-1사이로 맞추면 해석이\n",
        "쉽지 않을까?\n",
        "\n",
        "## B. 사용방법\n",
        "\n",
        "`-` 스케일러 생성"
      ],
      "id": "af9f6c4f-0235-4718-8a97-0150efcf7a91"
    },
    {
      "cell_type": "code",
      "execution_count": 11,
      "metadata": {
        "tags": []
      },
      "outputs": [],
      "source": [
        "sclr = sklearn.preprocessing.MinMaxScaler()"
      ],
      "id": "cell-14"
    },
    {
      "cell_type": "markdown",
      "metadata": {},
      "source": [
        "`-` fit, transform"
      ],
      "id": "107b8ee8-ec00-4474-95e1-53029a7fbafd"
    },
    {
      "cell_type": "code",
      "execution_count": 27,
      "metadata": {
        "tags": []
      },
      "outputs": [],
      "source": [
        "sclr.fit(df)"
      ],
      "id": "cell-16"
    },
    {
      "cell_type": "code",
      "execution_count": 28,
      "metadata": {
        "tags": []
      },
      "outputs": [],
      "source": [
        "sclr.transform(df)"
      ],
      "id": "cell-17"
    },
    {
      "cell_type": "markdown",
      "metadata": {},
      "source": [
        "`-` fit_transform"
      ],
      "id": "8e2aedb8-a705-4f13-8d73-3a49bf2f2a95"
    },
    {
      "cell_type": "code",
      "execution_count": 26,
      "metadata": {
        "tags": []
      },
      "outputs": [],
      "source": [
        "sclr.fit_transform(df)"
      ],
      "id": "cell-19"
    },
    {
      "cell_type": "markdown",
      "metadata": {},
      "source": [
        "## C. 잘못된 사용\n",
        "\n",
        "`-` `sclr.fit()`와 `sclr.fit_transform()`은 입력으로 2차원 자료구조를\n",
        "기대한다. (그중에서도 은근히 numpy array를 기대함)"
      ],
      "id": "682d7dfd-2285-450c-af2d-b0789b4284a4"
    },
    {
      "cell_type": "code",
      "execution_count": 35,
      "metadata": {
        "tags": []
      },
      "outputs": [],
      "source": [
        "sclr.fit_transform(df['toeic']) # df['toeic']는 1차원 자료구조"
      ],
      "id": "cell-22"
    },
    {
      "cell_type": "code",
      "execution_count": 39,
      "metadata": {
        "tags": []
      },
      "outputs": [],
      "source": [
        "sclr.fit_transform(df[['toeic']]) # df[['toeic']]는 2차원 자료구조"
      ],
      "id": "cell-23"
    },
    {
      "cell_type": "markdown",
      "metadata": {},
      "source": [
        "# 4. `minmax_scale()`\n",
        "\n",
        "## A. 사용방법\n",
        "\n",
        "`-` scaler를 오브젝트로 따로 만들지 않고 함수형으로 구현"
      ],
      "id": "7c1329bf-d157-4def-9e0c-56ad8bfd6b10"
    },
    {
      "cell_type": "code",
      "execution_count": 40,
      "metadata": {
        "tags": []
      },
      "outputs": [],
      "source": [
        "sklearn.preprocessing.minmax_scale(df)"
      ],
      "id": "cell-27"
    },
    {
      "cell_type": "markdown",
      "metadata": {},
      "source": [
        "`-` 이것은 심지어 1차원 자료구조에도 적용가능하다."
      ],
      "id": "c204c61e-0ed4-45b2-b4f6-3881c3b4335c"
    },
    {
      "cell_type": "code",
      "execution_count": 43,
      "metadata": {
        "tags": []
      },
      "outputs": [],
      "source": [
        "sklearn.preprocessing.minmax_scale(df['toeic'])"
      ],
      "id": "cell-29"
    },
    {
      "cell_type": "markdown",
      "metadata": {},
      "source": [
        "`-` 열별로 스케일링을 하는게 아니라 행별로 스케일링을 하는 것도\n",
        "가능하다. (여기서는 필요없지만..)"
      ],
      "id": "8455d681-26fb-4c14-9998-a4b8491bd165"
    },
    {
      "cell_type": "code",
      "execution_count": 47,
      "metadata": {
        "tags": []
      },
      "outputs": [],
      "source": [
        "sklearn.preprocessing.minmax_scale(df,axis=1)"
      ],
      "id": "cell-31"
    },
    {
      "cell_type": "markdown",
      "metadata": {},
      "source": [
        "## B. discussions\n",
        "\n",
        "`-` 언뜻 보기에는 `MinMaxScaler` 보다 `minmax_scale`이 좋아보이는데,\n",
        "생각보다 일반적으로 `minmax_scale`을 사용하지는 않음. 이유는 아래와\n",
        "같음.\n",
        "\n",
        "1.  파이썬을 쓰는 사람들이 함수형 접근방식보다 객체지향 접근방식을\n",
        "    선호한다. (이건 제생각)\n",
        "2.  학습데이터와 테스트데이터의 스케일링시 동일한 변환을 유지하는\n",
        "    상황에서는 `MinMaxScaler` 가 유리함.\n",
        "3.  `inverse_transform` 메서드를 같은 부가기능을 제공함.\n",
        "\n",
        "# 5. (tr,test)의 스케일링\n",
        "\n",
        "`-` 주어진 자료가 아래와 같이 train/test로 나누어져 있다고 가정해보자."
      ],
      "id": "844c3ca6-c714-49d4-ba61-d0bc06f4d23b"
    },
    {
      "cell_type": "code",
      "execution_count": 108,
      "metadata": {
        "tags": []
      },
      "outputs": [],
      "source": [
        "X = np.array([1.0, 2.0, 3.0, 4.0, 5.0]).reshape(-1,1)\n",
        "XX = np.array([1.5, 2.5, 3.5]).reshape(-1,1)"
      ],
      "id": "cell-36"
    },
    {
      "cell_type": "code",
      "execution_count": 94,
      "metadata": {
        "tags": []
      },
      "outputs": [],
      "source": [
        "X,XX"
      ],
      "id": "cell-37"
    },
    {
      "cell_type": "markdown",
      "metadata": {},
      "source": [
        "## A. 잘못된 스케일링 방법 – 비효율의 문제"
      ],
      "id": "7d8c1863-dad3-4c51-9077-d1094b9ff501"
    },
    {
      "cell_type": "code",
      "execution_count": 95,
      "metadata": {
        "tags": []
      },
      "outputs": [],
      "source": [
        "sklearn.preprocessing.minmax_scale(X)"
      ],
      "id": "cell-39"
    },
    {
      "cell_type": "code",
      "execution_count": 96,
      "metadata": {
        "tags": []
      },
      "outputs": [],
      "source": [
        "sklearn.preprocessing.minmax_scale(XX)"
      ],
      "id": "cell-40"
    },
    {
      "cell_type": "markdown",
      "metadata": {},
      "source": [
        "`-` 이 방법은 전략적으로 비효율적인 문제이지, 치팅과 관련된 치명적인\n",
        "잘못은 아니다.\n",
        "\n",
        "-   만약에 어떠한 경우에 이러한 전처리 방식이 오히려 전략적이라고 판단될\n",
        "    경우 사용할수도 있음.\n",
        "\n",
        "## B. 올바른 스케일링 방법\n",
        "\n",
        "`-` 방법1"
      ],
      "id": "4e75e5dc-8e97-4ea5-983e-331312fd8ba9"
    },
    {
      "cell_type": "code",
      "execution_count": 101,
      "metadata": {
        "tags": []
      },
      "outputs": [],
      "source": [
        "sclr = sklearn.preprocessing.MinMaxScaler()\n",
        "sclr.fit(X) # "
      ],
      "id": "cell-44"
    },
    {
      "cell_type": "code",
      "execution_count": 102,
      "metadata": {
        "tags": []
      },
      "outputs": [],
      "source": [
        "sclr.transform(X)"
      ],
      "id": "cell-45"
    },
    {
      "cell_type": "code",
      "execution_count": 103,
      "metadata": {
        "tags": []
      },
      "outputs": [],
      "source": [
        "sclr.transform(XX)"
      ],
      "id": "cell-46"
    },
    {
      "cell_type": "markdown",
      "metadata": {},
      "source": [
        "`-` 방법2"
      ],
      "id": "ffcc7cbf-41ca-4378-925b-8d196b697882"
    },
    {
      "cell_type": "code",
      "execution_count": 105,
      "metadata": {
        "tags": []
      },
      "outputs": [],
      "source": [
        "sclr = sklearn.preprocessing.MinMaxScaler()\n",
        "sclr.fit_transform(X)"
      ],
      "id": "cell-48"
    },
    {
      "cell_type": "code",
      "execution_count": 107,
      "metadata": {
        "tags": []
      },
      "outputs": [],
      "source": [
        "sclr.transform(XX)"
      ],
      "id": "cell-49"
    },
    {
      "cell_type": "markdown",
      "metadata": {},
      "source": [
        "## C. scaled_value $\\in$ \\[0,1\\]?\n",
        "\n",
        "`-` 주어진 자료가 아래와 같다고 하자."
      ],
      "id": "ee0c2f4f-cf64-461c-8dfd-3a5f8e7f21cd"
    },
    {
      "cell_type": "code",
      "execution_count": 109,
      "metadata": {
        "tags": []
      },
      "outputs": [],
      "source": [
        "X = np.array([1.0, 2.0, 3.0, 4.0, 3.5]).reshape(-1,1)\n",
        "XX = np.array([1.5, 2.5, 5.0]).reshape(-1,1)"
      ],
      "id": "cell-52"
    },
    {
      "cell_type": "code",
      "execution_count": 113,
      "metadata": {
        "tags": []
      },
      "outputs": [],
      "source": [
        "sclr = sklearn.preprocessing.MinMaxScaler()\n",
        "sclr.fit_transform(X)\n",
        "sclr.transform(XX)"
      ],
      "id": "cell-53"
    },
    {
      "cell_type": "markdown",
      "metadata": {},
      "source": [
        "-   스케일링된 값이 1보다 클 수도 있다.\n",
        "\n",
        "## D. 아주 잘못된 스케일링 방법 – 정보누수\n",
        "\n",
        "`-` 주어진 자료가 아래와 같다고 하자."
      ],
      "id": "93a8c0df-959e-48dd-aac5-f9743aa6b72d"
    },
    {
      "cell_type": "code",
      "execution_count": 121,
      "metadata": {
        "tags": []
      },
      "outputs": [],
      "source": [
        "X = np.array([1.0, 2.0, 3.0, 4.0, 3.5]).reshape(-1,1)\n",
        "XX = np.array([1.5, 2.5, 5.0]).reshape(-1,1)"
      ],
      "id": "cell-57"
    },
    {
      "cell_type": "markdown",
      "metadata": {},
      "source": [
        "`-` 데이터를 합친다.. (미쳤어??)"
      ],
      "id": "a1be19c0-6bdc-4fe2-a428-40f8f001cdc3"
    },
    {
      "cell_type": "code",
      "execution_count": 122,
      "metadata": {
        "tags": []
      },
      "outputs": [],
      "source": [
        "np.concatenate([X,XX])"
      ],
      "id": "cell-59"
    },
    {
      "cell_type": "markdown",
      "metadata": {},
      "source": [
        "`-` 합친데이터에서 스케일링"
      ],
      "id": "4bfc517a-b318-4b63-b794-0e6f695424c7"
    },
    {
      "cell_type": "code",
      "execution_count": 120,
      "metadata": {
        "tags": []
      },
      "outputs": [],
      "source": [
        "sklearn.preprocessing.minmax_scale(np.concatenate([X,XX]))[:5]"
      ],
      "id": "cell-61"
    },
    {
      "cell_type": "markdown",
      "metadata": {},
      "source": [
        "`-` 이러한 전처리 방식을 `정보누수`라고 한다. (대회 규정에 따라서\n",
        "탈락사유에 해당함)\n",
        "\n",
        "# 6. `inverse_transform`"
      ],
      "id": "877b6f0a-5da4-4186-a77b-9f97d4a0a43c"
    },
    {
      "cell_type": "code",
      "execution_count": 51,
      "metadata": {
        "tags": []
      },
      "outputs": [],
      "source": [
        "arr = sclr.fit_transform(df)\n",
        "arr "
      ],
      "id": "cell-64"
    },
    {
      "cell_type": "code",
      "execution_count": 62,
      "metadata": {
        "tags": []
      },
      "outputs": [],
      "source": [
        "sclr.inverse_transform(arr).round(5)"
      ],
      "id": "cell-65"
    }
  ],
  "nbformat": 4,
  "nbformat_minor": 5,
  "metadata": {
    "kernelspec": {
      "name": "python3",
      "display_name": "Python 3 (ipykernel)",
      "language": "python"
    },
    "language_info": {
      "name": "python",
      "codemirror_mode": {
        "name": "ipython",
        "version": "3"
      },
      "file_extension": ".py",
      "mimetype": "text/x-python",
      "nbconvert_exporter": "python",
      "pygments_lexer": "ipython3",
      "version": "3.10.13"
    }
  }
}