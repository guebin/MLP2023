{
 "cells": [
  {
   "cell_type": "raw",
   "id": "f14683ef-a553-4874-a4bd-1a5d0101c047",
   "metadata": {},
   "source": [
    "---\n",
    "title: \"06wk-022: 취업+각종영어점수, 다중공선성\"\n",
    "author: \"최규빈\"\n",
    "date: \"10/09/2023\"\n",
    "bibliography: ref.bib\n",
    "draft: true\n",
    "---"
   ]
  },
  {
   "cell_type": "code",
   "execution_count": null,
   "id": "8e296b99-3f1f-45ae-b40a-5a1bb4c6fed8",
   "metadata": {},
   "outputs": [],
   "source": []
  }
 ],
 "metadata": {
  "kernelspec": {
   "display_name": "Python 3 (ipykernel)",
   "language": "python",
   "name": "python3"
  },
  "language_info": {
   "codemirror_mode": {
    "name": "ipython",
    "version": 3
   },
   "file_extension": ".py",
   "mimetype": "text/x-python",
   "name": "python",
   "nbconvert_exporter": "python",
   "pygments_lexer": "ipython3",
   "version": "3.10.13"
  }
 },
 "nbformat": 4,
 "nbformat_minor": 5
}
