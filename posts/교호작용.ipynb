{
 "cells": [
  {
   "cell_type": "raw",
   "id": "faaa6811-5cf8-4628-a8bc-128122c3c052",
   "metadata": {
    "tags": []
   },
   "source": [
    "---\n",
    "title: \"교호작용\"\n",
    "author: \"최규빈\"\n",
    "date: \"10/05/2023\"\n",
    "bibliography: ref.bib\n",
    "draft: true\n",
    "---"
   ]
  },
  {
   "cell_type": "markdown",
   "id": "35cd136f-c2a9-4cbf-b725-a4c8a23b2c72",
   "metadata": {},
   "source": [
    "교호작용(interaction)은 통계학, 연구, 실험설계 등에서 주로 사용되는 개념으로, 두 개 이상의 변수가 서로 상호 작용하여 결과에 미치는 영향을 설명합니다. 이를 이해하기 쉽게 만드는 예제는 다음과 같습니다:\n",
    "\n",
    "### 자외선(UV)과 피부 보호제의 예:\n",
    "\n",
    "**문제 상황**: 여름 해변에서 햇빛을 많이 받을 때 피부에 자외선 차단제를 바르지 않으면 피부 화상이 생길 수 있습니다. 자외선 차단제를 바르면 화상을 예방할 수 있을까요?\n",
    "\n",
    "**변수**:\n",
    "1. 자외선(UV) 노출: 노출/비노출\n",
    "2. 피부 보호제: 사용/미사용\n",
    "\n",
    "**교호작용의 설명**: \n",
    "- UV 노출 없이 피부 보호제를 사용하면 피부 화상의 위험은 매우 낮습니다.\n",
    "- UV 노출과 함께 피부 보호제를 사용하지 않으면 피부 화상의 위험은 매우 높습니다.\n",
    "- 하지만, UV 노출과 함께 피부 보호제를 사용하면 피부 화상의 위험은 중간 정도입니다.\n",
    "\n",
    "여기서 중요한 점은, 피부 보호제의 효과가 UV 노출 여부에 따라 달라진다는 것입니다. 즉, 두 변수(자외선 노출과 피부 보호제 사용)의 결합 효과가 각 변수의 단독 효과와는 다르다는 것을 의미합니다. 이것이 교호작용의 핵심 개념입니다.\n",
    "\n",
    "이 예제를 통해, 교호작용이 결과에 미치는 영향이 어떻게 서로 다른 변수의 조합에 따라 달라질 수 있는지를 잘 보여줄 수 있습니다."
   ]
  },
  {
   "cell_type": "code",
   "execution_count": 19,
   "id": "31f21dd3-d338-4a5a-9435-4d8375a399cf",
   "metadata": {},
   "outputs": [],
   "source": [
    "import pandas as pd\n",
    "import numpy as np\n",
    "\n",
    "# 데이터 크기 설정\n",
    "n = 1000\n",
    "\n",
    "# 무작위로 UV 노출 여부와 피부 보호제 사용 여부를 생성\n",
    "np.random.seed(42)\n",
    "uv_exposure = np.random.choice([True, False], n)\n",
    "sunscreen_use = np.random.choice([True, False], n)\n",
    "\n",
    "# 화상 위험을 계산\n",
    "burn_risk = np.where(~uv_exposure & sunscreen_use, np.random.binomial(1, 0.05, n),\n",
    "                     np.where(uv_exposure & ~sunscreen_use, np.random.binomial(1, 0.90, n),\n",
    "                              np.random.binomial(1, 0.35, n)))\n",
    "\n",
    "# 데이터프레임 생성\n",
    "df = pd.DataFrame({\n",
    "    'UV Exposure': uv_exposure,\n",
    "    'Sunscreen Use': sunscreen_use,\n",
    "    'Burn Risk': burn_risk\n",
    "})\n"
   ]
  },
  {
   "cell_type": "code",
   "execution_count": 20,
   "id": "a6d2e22c",
   "metadata": {},
   "outputs": [
    {
     "data": {
      "text/plain": [
       "Index(['UV Exposure', 'Sunscreen Use', 'Burn Risk'], dtype='object')"
      ]
     },
     "execution_count": 20,
     "metadata": {},
     "output_type": "execute_result"
    }
   ],
   "source": [
    "df.columns"
   ]
  },
  {
   "cell_type": "code",
   "execution_count": 21,
   "id": "88832610",
   "metadata": {},
   "outputs": [],
   "source": [
    "import matplotlib.pyplot as plt "
   ]
  },
  {
   "cell_type": "code",
   "execution_count": 23,
   "id": "9ebc57c3",
   "metadata": {},
   "outputs": [
    {
     "data": {
      "text/html": [
       "<div>\n",
       "<style scoped>\n",
       "    .dataframe tbody tr th:only-of-type {\n",
       "        vertical-align: middle;\n",
       "    }\n",
       "\n",
       "    .dataframe tbody tr th {\n",
       "        vertical-align: top;\n",
       "    }\n",
       "\n",
       "    .dataframe thead th {\n",
       "        text-align: right;\n",
       "    }\n",
       "</style>\n",
       "<table border=\"1\" class=\"dataframe\">\n",
       "  <thead>\n",
       "    <tr style=\"text-align: right;\">\n",
       "      <th>Sunscreen Use</th>\n",
       "      <th>False</th>\n",
       "      <th>True</th>\n",
       "    </tr>\n",
       "    <tr>\n",
       "      <th>UV Exposure</th>\n",
       "      <th></th>\n",
       "      <th></th>\n",
       "    </tr>\n",
       "  </thead>\n",
       "  <tbody>\n",
       "    <tr>\n",
       "      <th>False</th>\n",
       "      <td>0.370370</td>\n",
       "      <td>0.052434</td>\n",
       "    </tr>\n",
       "    <tr>\n",
       "      <th>True</th>\n",
       "      <td>0.887446</td>\n",
       "      <td>0.305019</td>\n",
       "    </tr>\n",
       "  </tbody>\n",
       "</table>\n",
       "</div>"
      ],
      "text/plain": [
       "Sunscreen Use     False     True \n",
       "UV Exposure                      \n",
       "False          0.370370  0.052434\n",
       "True           0.887446  0.305019"
      ]
     },
     "execution_count": 23,
     "metadata": {},
     "output_type": "execute_result"
    }
   ],
   "source": [
    "df.pivot_table(index = 'UV Exposure', columns='Sunscreen Use', values='Burn Risk')"
   ]
  },
  {
   "cell_type": "code",
   "execution_count": null,
   "id": "25c0aaaf",
   "metadata": {},
   "outputs": [],
   "source": []
  }
 ],
 "metadata": {
  "kernelspec": {
   "display_name": "Python 3 (ipykernel)",
   "language": "python",
   "name": "python3"
  },
  "language_info": {
   "codemirror_mode": {
    "name": "ipython",
    "version": 3
   },
   "file_extension": ".py",
   "mimetype": "text/x-python",
   "name": "python",
   "nbconvert_exporter": "python",
   "pygments_lexer": "ipython3",
   "version": "3.10.13"
  }
 },
 "nbformat": 4,
 "nbformat_minor": 5
}
