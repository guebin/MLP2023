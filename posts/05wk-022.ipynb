{
 "cells": [
  {
   "cell_type": "raw",
   "id": "1701eef1-e07d-4f9c-9454-2da294cf9253",
   "metadata": {},
   "source": [
    "---\n",
    "title: \"05wk-022: 취업+각종영어점수, 다중공선성\"\n",
    "author: \"최규빈\"\n",
    "date: \"10/05/2023\"\n",
    "bibliography: ref.bib\n",
    "draft: false\n",
    "---"
   ]
  },
  {
   "cell_type": "markdown",
   "id": "714149a9",
   "metadata": {},
   "source": [
    "# 1. 강의영상 "
   ]
  },
  {
   "cell_type": "markdown",
   "id": "c630eaec",
   "metadata": {},
   "source": [
    "# 2. Imports"
   ]
  },
  {
   "cell_type": "code",
   "execution_count": 3,
   "id": "d59089a4-68c0-445b-a878-14a36d010007",
   "metadata": {},
   "outputs": [],
   "source": [
    "import numpy as np\n",
    "import pandas as pd\n",
    "import sklearn.linear_model\n",
    "import matplotlib.pyplot as plt"
   ]
  },
  {
   "cell_type": "markdown",
   "id": "61a2ee22",
   "metadata": {},
   "source": [
    "# 3. 개념"
   ]
  },
  {
   "cell_type": "code",
   "execution_count": 14,
   "id": "0c62a215-1004-4e63-9b6c-384da6690b68",
   "metadata": {},
   "outputs": [
    {
     "data": {
      "text/html": [
       "<div>\n",
       "<style scoped>\n",
       "    .dataframe tbody tr th:only-of-type {\n",
       "        vertical-align: middle;\n",
       "    }\n",
       "\n",
       "    .dataframe tbody tr th {\n",
       "        vertical-align: top;\n",
       "    }\n",
       "\n",
       "    .dataframe thead th {\n",
       "        text-align: right;\n",
       "    }\n",
       "</style>\n",
       "<table border=\"1\" class=\"dataframe\">\n",
       "  <thead>\n",
       "    <tr style=\"text-align: right;\">\n",
       "      <th></th>\n",
       "      <th>toeic</th>\n",
       "      <th>gpa</th>\n",
       "      <th>employment</th>\n",
       "    </tr>\n",
       "  </thead>\n",
       "  <tbody>\n",
       "    <tr>\n",
       "      <th>0</th>\n",
       "      <td>135</td>\n",
       "      <td>0.051535</td>\n",
       "      <td>0</td>\n",
       "    </tr>\n",
       "    <tr>\n",
       "      <th>1</th>\n",
       "      <td>935</td>\n",
       "      <td>0.355496</td>\n",
       "      <td>0</td>\n",
       "    </tr>\n",
       "    <tr>\n",
       "      <th>2</th>\n",
       "      <td>485</td>\n",
       "      <td>2.228435</td>\n",
       "      <td>0</td>\n",
       "    </tr>\n",
       "    <tr>\n",
       "      <th>3</th>\n",
       "      <td>65</td>\n",
       "      <td>1.179701</td>\n",
       "      <td>0</td>\n",
       "    </tr>\n",
       "    <tr>\n",
       "      <th>4</th>\n",
       "      <td>445</td>\n",
       "      <td>3.962356</td>\n",
       "      <td>1</td>\n",
       "    </tr>\n",
       "    <tr>\n",
       "      <th>...</th>\n",
       "      <td>...</td>\n",
       "      <td>...</td>\n",
       "      <td>...</td>\n",
       "    </tr>\n",
       "    <tr>\n",
       "      <th>495</th>\n",
       "      <td>280</td>\n",
       "      <td>4.288465</td>\n",
       "      <td>1</td>\n",
       "    </tr>\n",
       "    <tr>\n",
       "      <th>496</th>\n",
       "      <td>310</td>\n",
       "      <td>2.601212</td>\n",
       "      <td>1</td>\n",
       "    </tr>\n",
       "    <tr>\n",
       "      <th>497</th>\n",
       "      <td>225</td>\n",
       "      <td>0.042323</td>\n",
       "      <td>0</td>\n",
       "    </tr>\n",
       "    <tr>\n",
       "      <th>498</th>\n",
       "      <td>320</td>\n",
       "      <td>1.041416</td>\n",
       "      <td>0</td>\n",
       "    </tr>\n",
       "    <tr>\n",
       "      <th>499</th>\n",
       "      <td>375</td>\n",
       "      <td>3.626883</td>\n",
       "      <td>1</td>\n",
       "    </tr>\n",
       "  </tbody>\n",
       "</table>\n",
       "<p>500 rows × 3 columns</p>\n",
       "</div>"
      ],
      "text/plain": [
       "     toeic       gpa  employment\n",
       "0      135  0.051535           0\n",
       "1      935  0.355496           0\n",
       "2      485  2.228435           0\n",
       "3       65  1.179701           0\n",
       "4      445  3.962356           1\n",
       "..     ...       ...         ...\n",
       "495    280  4.288465           1\n",
       "496    310  2.601212           1\n",
       "497    225  0.042323           0\n",
       "498    320  1.041416           0\n",
       "499    375  3.626883           1\n",
       "\n",
       "[500 rows x 3 columns]"
      ]
     },
     "execution_count": 14,
     "metadata": {},
     "output_type": "execute_result"
    }
   ],
   "source": [
    "df = pd.read_csv('https://raw.githubusercontent.com/guebin/MP2023/main/posts/employment.csv')\n",
    "df"
   ]
  },
  {
   "cell_type": "code",
   "execution_count": 15,
   "id": "ba1e4f99-91b4-40d0-b43f-9e9e6ea1d741",
   "metadata": {},
   "outputs": [],
   "source": [
    "err = np.random.rand(500*50).reshape(500,50) - 0.5"
   ]
  },
  {
   "cell_type": "code",
   "execution_count": 16,
   "id": "053e909e-6b36-4e48-98cb-3cc4ca4cd5d7",
   "metadata": {},
   "outputs": [],
   "source": [
    "df_extra = pd.DataFrame(df.toeic.to_numpy().reshape(500,1) + err,columns = ['toeic'+str(i) for i in range(50)])"
   ]
  },
  {
   "cell_type": "code",
   "execution_count": 17,
   "id": "fa36268a",
   "metadata": {},
   "outputs": [
    {
     "data": {
      "text/html": [
       "<div>\n",
       "<style scoped>\n",
       "    .dataframe tbody tr th:only-of-type {\n",
       "        vertical-align: middle;\n",
       "    }\n",
       "\n",
       "    .dataframe tbody tr th {\n",
       "        vertical-align: top;\n",
       "    }\n",
       "\n",
       "    .dataframe thead th {\n",
       "        text-align: right;\n",
       "    }\n",
       "</style>\n",
       "<table border=\"1\" class=\"dataframe\">\n",
       "  <thead>\n",
       "    <tr style=\"text-align: right;\">\n",
       "      <th></th>\n",
       "      <th>toeic0</th>\n",
       "      <th>toeic1</th>\n",
       "      <th>toeic2</th>\n",
       "      <th>toeic3</th>\n",
       "      <th>toeic4</th>\n",
       "      <th>toeic5</th>\n",
       "      <th>toeic6</th>\n",
       "      <th>toeic7</th>\n",
       "      <th>toeic8</th>\n",
       "      <th>toeic9</th>\n",
       "      <th>...</th>\n",
       "      <th>toeic40</th>\n",
       "      <th>toeic41</th>\n",
       "      <th>toeic42</th>\n",
       "      <th>toeic43</th>\n",
       "      <th>toeic44</th>\n",
       "      <th>toeic45</th>\n",
       "      <th>toeic46</th>\n",
       "      <th>toeic47</th>\n",
       "      <th>toeic48</th>\n",
       "      <th>toeic49</th>\n",
       "    </tr>\n",
       "  </thead>\n",
       "  <tbody>\n",
       "    <tr>\n",
       "      <th>0</th>\n",
       "      <td>134.637404</td>\n",
       "      <td>134.810613</td>\n",
       "      <td>135.047559</td>\n",
       "      <td>135.230454</td>\n",
       "      <td>134.730604</td>\n",
       "      <td>135.125041</td>\n",
       "      <td>135.309595</td>\n",
       "      <td>134.541088</td>\n",
       "      <td>134.612264</td>\n",
       "      <td>134.729316</td>\n",
       "      <td>...</td>\n",
       "      <td>135.020978</td>\n",
       "      <td>135.351798</td>\n",
       "      <td>134.506575</td>\n",
       "      <td>134.902801</td>\n",
       "      <td>135.313102</td>\n",
       "      <td>134.903651</td>\n",
       "      <td>134.859288</td>\n",
       "      <td>135.292753</td>\n",
       "      <td>135.112772</td>\n",
       "      <td>134.748709</td>\n",
       "    </tr>\n",
       "    <tr>\n",
       "      <th>1</th>\n",
       "      <td>935.054822</td>\n",
       "      <td>935.025802</td>\n",
       "      <td>935.383200</td>\n",
       "      <td>934.589168</td>\n",
       "      <td>935.184234</td>\n",
       "      <td>935.091992</td>\n",
       "      <td>935.181948</td>\n",
       "      <td>934.767556</td>\n",
       "      <td>934.533083</td>\n",
       "      <td>935.474649</td>\n",
       "      <td>...</td>\n",
       "      <td>934.950770</td>\n",
       "      <td>934.872774</td>\n",
       "      <td>935.101053</td>\n",
       "      <td>935.289154</td>\n",
       "      <td>935.260573</td>\n",
       "      <td>934.917077</td>\n",
       "      <td>934.997652</td>\n",
       "      <td>934.878607</td>\n",
       "      <td>935.466682</td>\n",
       "      <td>934.703981</td>\n",
       "    </tr>\n",
       "    <tr>\n",
       "      <th>2</th>\n",
       "      <td>484.645276</td>\n",
       "      <td>484.608130</td>\n",
       "      <td>485.252176</td>\n",
       "      <td>485.226587</td>\n",
       "      <td>485.429446</td>\n",
       "      <td>484.981494</td>\n",
       "      <td>485.194748</td>\n",
       "      <td>485.118643</td>\n",
       "      <td>484.530357</td>\n",
       "      <td>485.035401</td>\n",
       "      <td>...</td>\n",
       "      <td>484.801257</td>\n",
       "      <td>484.540547</td>\n",
       "      <td>485.015453</td>\n",
       "      <td>484.625987</td>\n",
       "      <td>485.240201</td>\n",
       "      <td>484.952549</td>\n",
       "      <td>485.205274</td>\n",
       "      <td>484.975447</td>\n",
       "      <td>484.749983</td>\n",
       "      <td>485.392396</td>\n",
       "    </tr>\n",
       "    <tr>\n",
       "      <th>3</th>\n",
       "      <td>65.080005</td>\n",
       "      <td>65.000145</td>\n",
       "      <td>64.656334</td>\n",
       "      <td>64.881600</td>\n",
       "      <td>65.026194</td>\n",
       "      <td>65.124617</td>\n",
       "      <td>65.430251</td>\n",
       "      <td>64.648263</td>\n",
       "      <td>65.421291</td>\n",
       "      <td>65.320809</td>\n",
       "      <td>...</td>\n",
       "      <td>64.793013</td>\n",
       "      <td>65.333315</td>\n",
       "      <td>65.303294</td>\n",
       "      <td>64.762200</td>\n",
       "      <td>64.867230</td>\n",
       "      <td>64.516832</td>\n",
       "      <td>64.654206</td>\n",
       "      <td>64.968567</td>\n",
       "      <td>64.765195</td>\n",
       "      <td>64.732883</td>\n",
       "    </tr>\n",
       "    <tr>\n",
       "      <th>4</th>\n",
       "      <td>445.489457</td>\n",
       "      <td>444.921433</td>\n",
       "      <td>445.039217</td>\n",
       "      <td>445.392784</td>\n",
       "      <td>444.982201</td>\n",
       "      <td>444.693898</td>\n",
       "      <td>444.688475</td>\n",
       "      <td>444.757694</td>\n",
       "      <td>444.985930</td>\n",
       "      <td>444.556764</td>\n",
       "      <td>...</td>\n",
       "      <td>444.842304</td>\n",
       "      <td>445.081586</td>\n",
       "      <td>445.312125</td>\n",
       "      <td>444.624320</td>\n",
       "      <td>445.490126</td>\n",
       "      <td>444.771435</td>\n",
       "      <td>444.992276</td>\n",
       "      <td>444.689208</td>\n",
       "      <td>445.328285</td>\n",
       "      <td>445.142289</td>\n",
       "    </tr>\n",
       "    <tr>\n",
       "      <th>...</th>\n",
       "      <td>...</td>\n",
       "      <td>...</td>\n",
       "      <td>...</td>\n",
       "      <td>...</td>\n",
       "      <td>...</td>\n",
       "      <td>...</td>\n",
       "      <td>...</td>\n",
       "      <td>...</td>\n",
       "      <td>...</td>\n",
       "      <td>...</td>\n",
       "      <td>...</td>\n",
       "      <td>...</td>\n",
       "      <td>...</td>\n",
       "      <td>...</td>\n",
       "      <td>...</td>\n",
       "      <td>...</td>\n",
       "      <td>...</td>\n",
       "      <td>...</td>\n",
       "      <td>...</td>\n",
       "      <td>...</td>\n",
       "      <td>...</td>\n",
       "    </tr>\n",
       "    <tr>\n",
       "      <th>495</th>\n",
       "      <td>280.293134</td>\n",
       "      <td>280.165561</td>\n",
       "      <td>279.645811</td>\n",
       "      <td>280.196111</td>\n",
       "      <td>280.486494</td>\n",
       "      <td>279.652782</td>\n",
       "      <td>280.116807</td>\n",
       "      <td>279.639799</td>\n",
       "      <td>280.065961</td>\n",
       "      <td>280.300783</td>\n",
       "      <td>...</td>\n",
       "      <td>280.279252</td>\n",
       "      <td>280.021474</td>\n",
       "      <td>279.736774</td>\n",
       "      <td>279.960022</td>\n",
       "      <td>279.746936</td>\n",
       "      <td>280.035774</td>\n",
       "      <td>280.116567</td>\n",
       "      <td>279.854080</td>\n",
       "      <td>279.885304</td>\n",
       "      <td>280.365986</td>\n",
       "    </tr>\n",
       "    <tr>\n",
       "      <th>496</th>\n",
       "      <td>309.944564</td>\n",
       "      <td>309.658356</td>\n",
       "      <td>309.875819</td>\n",
       "      <td>310.472151</td>\n",
       "      <td>310.346712</td>\n",
       "      <td>310.156749</td>\n",
       "      <td>310.065352</td>\n",
       "      <td>309.869189</td>\n",
       "      <td>310.470495</td>\n",
       "      <td>309.569062</td>\n",
       "      <td>...</td>\n",
       "      <td>310.275754</td>\n",
       "      <td>309.730353</td>\n",
       "      <td>309.537577</td>\n",
       "      <td>309.673073</td>\n",
       "      <td>310.130752</td>\n",
       "      <td>310.250583</td>\n",
       "      <td>310.234853</td>\n",
       "      <td>310.325332</td>\n",
       "      <td>310.018953</td>\n",
       "      <td>310.080176</td>\n",
       "    </tr>\n",
       "    <tr>\n",
       "      <th>497</th>\n",
       "      <td>224.718679</td>\n",
       "      <td>224.666306</td>\n",
       "      <td>224.906828</td>\n",
       "      <td>224.605848</td>\n",
       "      <td>224.815449</td>\n",
       "      <td>224.670423</td>\n",
       "      <td>224.728347</td>\n",
       "      <td>225.307142</td>\n",
       "      <td>225.221862</td>\n",
       "      <td>225.288290</td>\n",
       "      <td>...</td>\n",
       "      <td>224.609073</td>\n",
       "      <td>225.069245</td>\n",
       "      <td>224.641710</td>\n",
       "      <td>224.949189</td>\n",
       "      <td>225.352408</td>\n",
       "      <td>225.390987</td>\n",
       "      <td>224.612791</td>\n",
       "      <td>225.049095</td>\n",
       "      <td>224.717836</td>\n",
       "      <td>224.849184</td>\n",
       "    </tr>\n",
       "    <tr>\n",
       "      <th>498</th>\n",
       "      <td>320.498004</td>\n",
       "      <td>319.829881</td>\n",
       "      <td>320.123752</td>\n",
       "      <td>320.168471</td>\n",
       "      <td>319.531438</td>\n",
       "      <td>320.313713</td>\n",
       "      <td>319.568320</td>\n",
       "      <td>319.682671</td>\n",
       "      <td>319.724345</td>\n",
       "      <td>319.570206</td>\n",
       "      <td>...</td>\n",
       "      <td>320.365921</td>\n",
       "      <td>320.338247</td>\n",
       "      <td>319.827729</td>\n",
       "      <td>319.927630</td>\n",
       "      <td>319.722164</td>\n",
       "      <td>320.143775</td>\n",
       "      <td>320.233901</td>\n",
       "      <td>319.811682</td>\n",
       "      <td>319.503625</td>\n",
       "      <td>320.427865</td>\n",
       "    </tr>\n",
       "    <tr>\n",
       "      <th>499</th>\n",
       "      <td>374.540043</td>\n",
       "      <td>375.032790</td>\n",
       "      <td>374.698081</td>\n",
       "      <td>374.831173</td>\n",
       "      <td>374.530273</td>\n",
       "      <td>375.248162</td>\n",
       "      <td>375.190112</td>\n",
       "      <td>375.108823</td>\n",
       "      <td>375.407518</td>\n",
       "      <td>374.794110</td>\n",
       "      <td>...</td>\n",
       "      <td>375.055970</td>\n",
       "      <td>374.717735</td>\n",
       "      <td>375.069956</td>\n",
       "      <td>375.240235</td>\n",
       "      <td>374.825242</td>\n",
       "      <td>375.460675</td>\n",
       "      <td>374.959833</td>\n",
       "      <td>375.311423</td>\n",
       "      <td>375.498763</td>\n",
       "      <td>374.993965</td>\n",
       "    </tr>\n",
       "  </tbody>\n",
       "</table>\n",
       "<p>500 rows × 50 columns</p>\n",
       "</div>"
      ],
      "text/plain": [
       "         toeic0      toeic1      toeic2      toeic3      toeic4      toeic5  \\\n",
       "0    134.637404  134.810613  135.047559  135.230454  134.730604  135.125041   \n",
       "1    935.054822  935.025802  935.383200  934.589168  935.184234  935.091992   \n",
       "2    484.645276  484.608130  485.252176  485.226587  485.429446  484.981494   \n",
       "3     65.080005   65.000145   64.656334   64.881600   65.026194   65.124617   \n",
       "4    445.489457  444.921433  445.039217  445.392784  444.982201  444.693898   \n",
       "..          ...         ...         ...         ...         ...         ...   \n",
       "495  280.293134  280.165561  279.645811  280.196111  280.486494  279.652782   \n",
       "496  309.944564  309.658356  309.875819  310.472151  310.346712  310.156749   \n",
       "497  224.718679  224.666306  224.906828  224.605848  224.815449  224.670423   \n",
       "498  320.498004  319.829881  320.123752  320.168471  319.531438  320.313713   \n",
       "499  374.540043  375.032790  374.698081  374.831173  374.530273  375.248162   \n",
       "\n",
       "         toeic6      toeic7      toeic8      toeic9  ...     toeic40  \\\n",
       "0    135.309595  134.541088  134.612264  134.729316  ...  135.020978   \n",
       "1    935.181948  934.767556  934.533083  935.474649  ...  934.950770   \n",
       "2    485.194748  485.118643  484.530357  485.035401  ...  484.801257   \n",
       "3     65.430251   64.648263   65.421291   65.320809  ...   64.793013   \n",
       "4    444.688475  444.757694  444.985930  444.556764  ...  444.842304   \n",
       "..          ...         ...         ...         ...  ...         ...   \n",
       "495  280.116807  279.639799  280.065961  280.300783  ...  280.279252   \n",
       "496  310.065352  309.869189  310.470495  309.569062  ...  310.275754   \n",
       "497  224.728347  225.307142  225.221862  225.288290  ...  224.609073   \n",
       "498  319.568320  319.682671  319.724345  319.570206  ...  320.365921   \n",
       "499  375.190112  375.108823  375.407518  374.794110  ...  375.055970   \n",
       "\n",
       "        toeic41     toeic42     toeic43     toeic44     toeic45     toeic46  \\\n",
       "0    135.351798  134.506575  134.902801  135.313102  134.903651  134.859288   \n",
       "1    934.872774  935.101053  935.289154  935.260573  934.917077  934.997652   \n",
       "2    484.540547  485.015453  484.625987  485.240201  484.952549  485.205274   \n",
       "3     65.333315   65.303294   64.762200   64.867230   64.516832   64.654206   \n",
       "4    445.081586  445.312125  444.624320  445.490126  444.771435  444.992276   \n",
       "..          ...         ...         ...         ...         ...         ...   \n",
       "495  280.021474  279.736774  279.960022  279.746936  280.035774  280.116567   \n",
       "496  309.730353  309.537577  309.673073  310.130752  310.250583  310.234853   \n",
       "497  225.069245  224.641710  224.949189  225.352408  225.390987  224.612791   \n",
       "498  320.338247  319.827729  319.927630  319.722164  320.143775  320.233901   \n",
       "499  374.717735  375.069956  375.240235  374.825242  375.460675  374.959833   \n",
       "\n",
       "        toeic47     toeic48     toeic49  \n",
       "0    135.292753  135.112772  134.748709  \n",
       "1    934.878607  935.466682  934.703981  \n",
       "2    484.975447  484.749983  485.392396  \n",
       "3     64.968567   64.765195   64.732883  \n",
       "4    444.689208  445.328285  445.142289  \n",
       "..          ...         ...         ...  \n",
       "495  279.854080  279.885304  280.365986  \n",
       "496  310.325332  310.018953  310.080176  \n",
       "497  225.049095  224.717836  224.849184  \n",
       "498  319.811682  319.503625  320.427865  \n",
       "499  375.311423  375.498763  374.993965  \n",
       "\n",
       "[500 rows x 50 columns]"
      ]
     },
     "execution_count": 17,
     "metadata": {},
     "output_type": "execute_result"
    }
   ],
   "source": [
    "df_extra"
   ]
  },
  {
   "cell_type": "code",
   "execution_count": 18,
   "id": "82335bf5-0e50-4652-bb16-2044729c12ed",
   "metadata": {},
   "outputs": [],
   "source": [
    "df = pd.concat([df,df_extra],axis=1)"
   ]
  },
  {
   "cell_type": "code",
   "execution_count": 19,
   "id": "e369dac3",
   "metadata": {},
   "outputs": [
    {
     "data": {
      "text/html": [
       "<div>\n",
       "<style scoped>\n",
       "    .dataframe tbody tr th:only-of-type {\n",
       "        vertical-align: middle;\n",
       "    }\n",
       "\n",
       "    .dataframe tbody tr th {\n",
       "        vertical-align: top;\n",
       "    }\n",
       "\n",
       "    .dataframe thead th {\n",
       "        text-align: right;\n",
       "    }\n",
       "</style>\n",
       "<table border=\"1\" class=\"dataframe\">\n",
       "  <thead>\n",
       "    <tr style=\"text-align: right;\">\n",
       "      <th></th>\n",
       "      <th>toeic</th>\n",
       "      <th>gpa</th>\n",
       "      <th>employment</th>\n",
       "      <th>toeic0</th>\n",
       "      <th>toeic1</th>\n",
       "      <th>toeic2</th>\n",
       "      <th>toeic3</th>\n",
       "      <th>toeic4</th>\n",
       "      <th>toeic5</th>\n",
       "      <th>toeic6</th>\n",
       "      <th>...</th>\n",
       "      <th>toeic40</th>\n",
       "      <th>toeic41</th>\n",
       "      <th>toeic42</th>\n",
       "      <th>toeic43</th>\n",
       "      <th>toeic44</th>\n",
       "      <th>toeic45</th>\n",
       "      <th>toeic46</th>\n",
       "      <th>toeic47</th>\n",
       "      <th>toeic48</th>\n",
       "      <th>toeic49</th>\n",
       "    </tr>\n",
       "  </thead>\n",
       "  <tbody>\n",
       "    <tr>\n",
       "      <th>0</th>\n",
       "      <td>135</td>\n",
       "      <td>0.051535</td>\n",
       "      <td>0</td>\n",
       "      <td>134.637404</td>\n",
       "      <td>134.810613</td>\n",
       "      <td>135.047559</td>\n",
       "      <td>135.230454</td>\n",
       "      <td>134.730604</td>\n",
       "      <td>135.125041</td>\n",
       "      <td>135.309595</td>\n",
       "      <td>...</td>\n",
       "      <td>135.020978</td>\n",
       "      <td>135.351798</td>\n",
       "      <td>134.506575</td>\n",
       "      <td>134.902801</td>\n",
       "      <td>135.313102</td>\n",
       "      <td>134.903651</td>\n",
       "      <td>134.859288</td>\n",
       "      <td>135.292753</td>\n",
       "      <td>135.112772</td>\n",
       "      <td>134.748709</td>\n",
       "    </tr>\n",
       "    <tr>\n",
       "      <th>1</th>\n",
       "      <td>935</td>\n",
       "      <td>0.355496</td>\n",
       "      <td>0</td>\n",
       "      <td>935.054822</td>\n",
       "      <td>935.025802</td>\n",
       "      <td>935.383200</td>\n",
       "      <td>934.589168</td>\n",
       "      <td>935.184234</td>\n",
       "      <td>935.091992</td>\n",
       "      <td>935.181948</td>\n",
       "      <td>...</td>\n",
       "      <td>934.950770</td>\n",
       "      <td>934.872774</td>\n",
       "      <td>935.101053</td>\n",
       "      <td>935.289154</td>\n",
       "      <td>935.260573</td>\n",
       "      <td>934.917077</td>\n",
       "      <td>934.997652</td>\n",
       "      <td>934.878607</td>\n",
       "      <td>935.466682</td>\n",
       "      <td>934.703981</td>\n",
       "    </tr>\n",
       "    <tr>\n",
       "      <th>2</th>\n",
       "      <td>485</td>\n",
       "      <td>2.228435</td>\n",
       "      <td>0</td>\n",
       "      <td>484.645276</td>\n",
       "      <td>484.608130</td>\n",
       "      <td>485.252176</td>\n",
       "      <td>485.226587</td>\n",
       "      <td>485.429446</td>\n",
       "      <td>484.981494</td>\n",
       "      <td>485.194748</td>\n",
       "      <td>...</td>\n",
       "      <td>484.801257</td>\n",
       "      <td>484.540547</td>\n",
       "      <td>485.015453</td>\n",
       "      <td>484.625987</td>\n",
       "      <td>485.240201</td>\n",
       "      <td>484.952549</td>\n",
       "      <td>485.205274</td>\n",
       "      <td>484.975447</td>\n",
       "      <td>484.749983</td>\n",
       "      <td>485.392396</td>\n",
       "    </tr>\n",
       "    <tr>\n",
       "      <th>3</th>\n",
       "      <td>65</td>\n",
       "      <td>1.179701</td>\n",
       "      <td>0</td>\n",
       "      <td>65.080005</td>\n",
       "      <td>65.000145</td>\n",
       "      <td>64.656334</td>\n",
       "      <td>64.881600</td>\n",
       "      <td>65.026194</td>\n",
       "      <td>65.124617</td>\n",
       "      <td>65.430251</td>\n",
       "      <td>...</td>\n",
       "      <td>64.793013</td>\n",
       "      <td>65.333315</td>\n",
       "      <td>65.303294</td>\n",
       "      <td>64.762200</td>\n",
       "      <td>64.867230</td>\n",
       "      <td>64.516832</td>\n",
       "      <td>64.654206</td>\n",
       "      <td>64.968567</td>\n",
       "      <td>64.765195</td>\n",
       "      <td>64.732883</td>\n",
       "    </tr>\n",
       "    <tr>\n",
       "      <th>4</th>\n",
       "      <td>445</td>\n",
       "      <td>3.962356</td>\n",
       "      <td>1</td>\n",
       "      <td>445.489457</td>\n",
       "      <td>444.921433</td>\n",
       "      <td>445.039217</td>\n",
       "      <td>445.392784</td>\n",
       "      <td>444.982201</td>\n",
       "      <td>444.693898</td>\n",
       "      <td>444.688475</td>\n",
       "      <td>...</td>\n",
       "      <td>444.842304</td>\n",
       "      <td>445.081586</td>\n",
       "      <td>445.312125</td>\n",
       "      <td>444.624320</td>\n",
       "      <td>445.490126</td>\n",
       "      <td>444.771435</td>\n",
       "      <td>444.992276</td>\n",
       "      <td>444.689208</td>\n",
       "      <td>445.328285</td>\n",
       "      <td>445.142289</td>\n",
       "    </tr>\n",
       "    <tr>\n",
       "      <th>...</th>\n",
       "      <td>...</td>\n",
       "      <td>...</td>\n",
       "      <td>...</td>\n",
       "      <td>...</td>\n",
       "      <td>...</td>\n",
       "      <td>...</td>\n",
       "      <td>...</td>\n",
       "      <td>...</td>\n",
       "      <td>...</td>\n",
       "      <td>...</td>\n",
       "      <td>...</td>\n",
       "      <td>...</td>\n",
       "      <td>...</td>\n",
       "      <td>...</td>\n",
       "      <td>...</td>\n",
       "      <td>...</td>\n",
       "      <td>...</td>\n",
       "      <td>...</td>\n",
       "      <td>...</td>\n",
       "      <td>...</td>\n",
       "      <td>...</td>\n",
       "    </tr>\n",
       "    <tr>\n",
       "      <th>495</th>\n",
       "      <td>280</td>\n",
       "      <td>4.288465</td>\n",
       "      <td>1</td>\n",
       "      <td>280.293134</td>\n",
       "      <td>280.165561</td>\n",
       "      <td>279.645811</td>\n",
       "      <td>280.196111</td>\n",
       "      <td>280.486494</td>\n",
       "      <td>279.652782</td>\n",
       "      <td>280.116807</td>\n",
       "      <td>...</td>\n",
       "      <td>280.279252</td>\n",
       "      <td>280.021474</td>\n",
       "      <td>279.736774</td>\n",
       "      <td>279.960022</td>\n",
       "      <td>279.746936</td>\n",
       "      <td>280.035774</td>\n",
       "      <td>280.116567</td>\n",
       "      <td>279.854080</td>\n",
       "      <td>279.885304</td>\n",
       "      <td>280.365986</td>\n",
       "    </tr>\n",
       "    <tr>\n",
       "      <th>496</th>\n",
       "      <td>310</td>\n",
       "      <td>2.601212</td>\n",
       "      <td>1</td>\n",
       "      <td>309.944564</td>\n",
       "      <td>309.658356</td>\n",
       "      <td>309.875819</td>\n",
       "      <td>310.472151</td>\n",
       "      <td>310.346712</td>\n",
       "      <td>310.156749</td>\n",
       "      <td>310.065352</td>\n",
       "      <td>...</td>\n",
       "      <td>310.275754</td>\n",
       "      <td>309.730353</td>\n",
       "      <td>309.537577</td>\n",
       "      <td>309.673073</td>\n",
       "      <td>310.130752</td>\n",
       "      <td>310.250583</td>\n",
       "      <td>310.234853</td>\n",
       "      <td>310.325332</td>\n",
       "      <td>310.018953</td>\n",
       "      <td>310.080176</td>\n",
       "    </tr>\n",
       "    <tr>\n",
       "      <th>497</th>\n",
       "      <td>225</td>\n",
       "      <td>0.042323</td>\n",
       "      <td>0</td>\n",
       "      <td>224.718679</td>\n",
       "      <td>224.666306</td>\n",
       "      <td>224.906828</td>\n",
       "      <td>224.605848</td>\n",
       "      <td>224.815449</td>\n",
       "      <td>224.670423</td>\n",
       "      <td>224.728347</td>\n",
       "      <td>...</td>\n",
       "      <td>224.609073</td>\n",
       "      <td>225.069245</td>\n",
       "      <td>224.641710</td>\n",
       "      <td>224.949189</td>\n",
       "      <td>225.352408</td>\n",
       "      <td>225.390987</td>\n",
       "      <td>224.612791</td>\n",
       "      <td>225.049095</td>\n",
       "      <td>224.717836</td>\n",
       "      <td>224.849184</td>\n",
       "    </tr>\n",
       "    <tr>\n",
       "      <th>498</th>\n",
       "      <td>320</td>\n",
       "      <td>1.041416</td>\n",
       "      <td>0</td>\n",
       "      <td>320.498004</td>\n",
       "      <td>319.829881</td>\n",
       "      <td>320.123752</td>\n",
       "      <td>320.168471</td>\n",
       "      <td>319.531438</td>\n",
       "      <td>320.313713</td>\n",
       "      <td>319.568320</td>\n",
       "      <td>...</td>\n",
       "      <td>320.365921</td>\n",
       "      <td>320.338247</td>\n",
       "      <td>319.827729</td>\n",
       "      <td>319.927630</td>\n",
       "      <td>319.722164</td>\n",
       "      <td>320.143775</td>\n",
       "      <td>320.233901</td>\n",
       "      <td>319.811682</td>\n",
       "      <td>319.503625</td>\n",
       "      <td>320.427865</td>\n",
       "    </tr>\n",
       "    <tr>\n",
       "      <th>499</th>\n",
       "      <td>375</td>\n",
       "      <td>3.626883</td>\n",
       "      <td>1</td>\n",
       "      <td>374.540043</td>\n",
       "      <td>375.032790</td>\n",
       "      <td>374.698081</td>\n",
       "      <td>374.831173</td>\n",
       "      <td>374.530273</td>\n",
       "      <td>375.248162</td>\n",
       "      <td>375.190112</td>\n",
       "      <td>...</td>\n",
       "      <td>375.055970</td>\n",
       "      <td>374.717735</td>\n",
       "      <td>375.069956</td>\n",
       "      <td>375.240235</td>\n",
       "      <td>374.825242</td>\n",
       "      <td>375.460675</td>\n",
       "      <td>374.959833</td>\n",
       "      <td>375.311423</td>\n",
       "      <td>375.498763</td>\n",
       "      <td>374.993965</td>\n",
       "    </tr>\n",
       "  </tbody>\n",
       "</table>\n",
       "<p>500 rows × 53 columns</p>\n",
       "</div>"
      ],
      "text/plain": [
       "     toeic       gpa  employment      toeic0      toeic1      toeic2  \\\n",
       "0      135  0.051535           0  134.637404  134.810613  135.047559   \n",
       "1      935  0.355496           0  935.054822  935.025802  935.383200   \n",
       "2      485  2.228435           0  484.645276  484.608130  485.252176   \n",
       "3       65  1.179701           0   65.080005   65.000145   64.656334   \n",
       "4      445  3.962356           1  445.489457  444.921433  445.039217   \n",
       "..     ...       ...         ...         ...         ...         ...   \n",
       "495    280  4.288465           1  280.293134  280.165561  279.645811   \n",
       "496    310  2.601212           1  309.944564  309.658356  309.875819   \n",
       "497    225  0.042323           0  224.718679  224.666306  224.906828   \n",
       "498    320  1.041416           0  320.498004  319.829881  320.123752   \n",
       "499    375  3.626883           1  374.540043  375.032790  374.698081   \n",
       "\n",
       "         toeic3      toeic4      toeic5      toeic6  ...     toeic40  \\\n",
       "0    135.230454  134.730604  135.125041  135.309595  ...  135.020978   \n",
       "1    934.589168  935.184234  935.091992  935.181948  ...  934.950770   \n",
       "2    485.226587  485.429446  484.981494  485.194748  ...  484.801257   \n",
       "3     64.881600   65.026194   65.124617   65.430251  ...   64.793013   \n",
       "4    445.392784  444.982201  444.693898  444.688475  ...  444.842304   \n",
       "..          ...         ...         ...         ...  ...         ...   \n",
       "495  280.196111  280.486494  279.652782  280.116807  ...  280.279252   \n",
       "496  310.472151  310.346712  310.156749  310.065352  ...  310.275754   \n",
       "497  224.605848  224.815449  224.670423  224.728347  ...  224.609073   \n",
       "498  320.168471  319.531438  320.313713  319.568320  ...  320.365921   \n",
       "499  374.831173  374.530273  375.248162  375.190112  ...  375.055970   \n",
       "\n",
       "        toeic41     toeic42     toeic43     toeic44     toeic45     toeic46  \\\n",
       "0    135.351798  134.506575  134.902801  135.313102  134.903651  134.859288   \n",
       "1    934.872774  935.101053  935.289154  935.260573  934.917077  934.997652   \n",
       "2    484.540547  485.015453  484.625987  485.240201  484.952549  485.205274   \n",
       "3     65.333315   65.303294   64.762200   64.867230   64.516832   64.654206   \n",
       "4    445.081586  445.312125  444.624320  445.490126  444.771435  444.992276   \n",
       "..          ...         ...         ...         ...         ...         ...   \n",
       "495  280.021474  279.736774  279.960022  279.746936  280.035774  280.116567   \n",
       "496  309.730353  309.537577  309.673073  310.130752  310.250583  310.234853   \n",
       "497  225.069245  224.641710  224.949189  225.352408  225.390987  224.612791   \n",
       "498  320.338247  319.827729  319.927630  319.722164  320.143775  320.233901   \n",
       "499  374.717735  375.069956  375.240235  374.825242  375.460675  374.959833   \n",
       "\n",
       "        toeic47     toeic48     toeic49  \n",
       "0    135.292753  135.112772  134.748709  \n",
       "1    934.878607  935.466682  934.703981  \n",
       "2    484.975447  484.749983  485.392396  \n",
       "3     64.968567   64.765195   64.732883  \n",
       "4    444.689208  445.328285  445.142289  \n",
       "..          ...         ...         ...  \n",
       "495  279.854080  279.885304  280.365986  \n",
       "496  310.325332  310.018953  310.080176  \n",
       "497  225.049095  224.717836  224.849184  \n",
       "498  319.811682  319.503625  320.427865  \n",
       "499  375.311423  375.498763  374.993965  \n",
       "\n",
       "[500 rows x 53 columns]"
      ]
     },
     "execution_count": 19,
     "metadata": {},
     "output_type": "execute_result"
    }
   ],
   "source": [
    "df"
   ]
  },
  {
   "cell_type": "code",
   "execution_count": 23,
   "id": "df31636f",
   "metadata": {},
   "outputs": [],
   "source": [
    "df.to_csv(\"employment_manytoeic.csv\",index=False)"
   ]
  },
  {
   "cell_type": "code",
   "execution_count": 20,
   "id": "d3ac525a-bc1f-4c83-a62f-71799eaf5288",
   "metadata": {},
   "outputs": [],
   "source": [
    "df['employment'] = df['toeic'] * 1/200 + df['gpa']*1.3 + np.random.randn(500)"
   ]
  },
  {
   "cell_type": "code",
   "execution_count": 21,
   "id": "3d3da29f-eb94-4950-9931-3e3a823c5259",
   "metadata": {},
   "outputs": [],
   "source": [
    "df_train, df_test = sklearn.model_selection.train_test_split(df,test_size=0.3)"
   ]
  },
  {
   "cell_type": "code",
   "execution_count": 8,
   "id": "aaff234e-cead-466e-bfc1-e9538b0c807e",
   "metadata": {},
   "outputs": [],
   "source": [
    "X = df_train.drop(['employment'],axis=1)\n",
    "y = df_train[['employment']]\n",
    "XX = df_test.drop(['employment'],axis=1)\n",
    "yy = df_test[['employment']]"
   ]
  },
  {
   "cell_type": "code",
   "execution_count": 9,
   "id": "e7045ffa-40b3-4a27-aa72-c6b2eefcdd31",
   "metadata": {},
   "outputs": [],
   "source": [
    "predictr = sklearn.linear_model.LinearRegression()"
   ]
  },
  {
   "cell_type": "code",
   "execution_count": 10,
   "id": "f68283fb-4ce1-483f-8f46-af6e37030888",
   "metadata": {},
   "outputs": [
    {
     "data": {
      "text/html": [
       "<style>#sk-container-id-1 {color: black;}#sk-container-id-1 pre{padding: 0;}#sk-container-id-1 div.sk-toggleable {background-color: white;}#sk-container-id-1 label.sk-toggleable__label {cursor: pointer;display: block;width: 100%;margin-bottom: 0;padding: 0.3em;box-sizing: border-box;text-align: center;}#sk-container-id-1 label.sk-toggleable__label-arrow:before {content: \"▸\";float: left;margin-right: 0.25em;color: #696969;}#sk-container-id-1 label.sk-toggleable__label-arrow:hover:before {color: black;}#sk-container-id-1 div.sk-estimator:hover label.sk-toggleable__label-arrow:before {color: black;}#sk-container-id-1 div.sk-toggleable__content {max-height: 0;max-width: 0;overflow: hidden;text-align: left;background-color: #f0f8ff;}#sk-container-id-1 div.sk-toggleable__content pre {margin: 0.2em;color: black;border-radius: 0.25em;background-color: #f0f8ff;}#sk-container-id-1 input.sk-toggleable__control:checked~div.sk-toggleable__content {max-height: 200px;max-width: 100%;overflow: auto;}#sk-container-id-1 input.sk-toggleable__control:checked~label.sk-toggleable__label-arrow:before {content: \"▾\";}#sk-container-id-1 div.sk-estimator input.sk-toggleable__control:checked~label.sk-toggleable__label {background-color: #d4ebff;}#sk-container-id-1 div.sk-label input.sk-toggleable__control:checked~label.sk-toggleable__label {background-color: #d4ebff;}#sk-container-id-1 input.sk-hidden--visually {border: 0;clip: rect(1px 1px 1px 1px);clip: rect(1px, 1px, 1px, 1px);height: 1px;margin: -1px;overflow: hidden;padding: 0;position: absolute;width: 1px;}#sk-container-id-1 div.sk-estimator {font-family: monospace;background-color: #f0f8ff;border: 1px dotted black;border-radius: 0.25em;box-sizing: border-box;margin-bottom: 0.5em;}#sk-container-id-1 div.sk-estimator:hover {background-color: #d4ebff;}#sk-container-id-1 div.sk-parallel-item::after {content: \"\";width: 100%;border-bottom: 1px solid gray;flex-grow: 1;}#sk-container-id-1 div.sk-label:hover label.sk-toggleable__label {background-color: #d4ebff;}#sk-container-id-1 div.sk-serial::before {content: \"\";position: absolute;border-left: 1px solid gray;box-sizing: border-box;top: 0;bottom: 0;left: 50%;z-index: 0;}#sk-container-id-1 div.sk-serial {display: flex;flex-direction: column;align-items: center;background-color: white;padding-right: 0.2em;padding-left: 0.2em;position: relative;}#sk-container-id-1 div.sk-item {position: relative;z-index: 1;}#sk-container-id-1 div.sk-parallel {display: flex;align-items: stretch;justify-content: center;background-color: white;position: relative;}#sk-container-id-1 div.sk-item::before, #sk-container-id-1 div.sk-parallel-item::before {content: \"\";position: absolute;border-left: 1px solid gray;box-sizing: border-box;top: 0;bottom: 0;left: 50%;z-index: -1;}#sk-container-id-1 div.sk-parallel-item {display: flex;flex-direction: column;z-index: 1;position: relative;background-color: white;}#sk-container-id-1 div.sk-parallel-item:first-child::after {align-self: flex-end;width: 50%;}#sk-container-id-1 div.sk-parallel-item:last-child::after {align-self: flex-start;width: 50%;}#sk-container-id-1 div.sk-parallel-item:only-child::after {width: 0;}#sk-container-id-1 div.sk-dashed-wrapped {border: 1px dashed gray;margin: 0 0.4em 0.5em 0.4em;box-sizing: border-box;padding-bottom: 0.4em;background-color: white;}#sk-container-id-1 div.sk-label label {font-family: monospace;font-weight: bold;display: inline-block;line-height: 1.2em;}#sk-container-id-1 div.sk-label-container {text-align: center;}#sk-container-id-1 div.sk-container {/* jupyter's `normalize.less` sets `[hidden] { display: none; }` but bootstrap.min.css set `[hidden] { display: none !important; }` so we also need the `!important` here to be able to override the default hidden behavior on the sphinx rendered scikit-learn.org. See: https://github.com/scikit-learn/scikit-learn/issues/21755 */display: inline-block !important;position: relative;}#sk-container-id-1 div.sk-text-repr-fallback {display: none;}</style><div id=\"sk-container-id-1\" class=\"sk-top-container\"><div class=\"sk-text-repr-fallback\"><pre>LinearRegression()</pre><b>In a Jupyter environment, please rerun this cell to show the HTML representation or trust the notebook. <br />On GitHub, the HTML representation is unable to render, please try loading this page with nbviewer.org.</b></div><div class=\"sk-container\" hidden><div class=\"sk-item\"><div class=\"sk-estimator sk-toggleable\"><input class=\"sk-toggleable__control sk-hidden--visually\" id=\"sk-estimator-id-1\" type=\"checkbox\" checked><label for=\"sk-estimator-id-1\" class=\"sk-toggleable__label sk-toggleable__label-arrow\">LinearRegression</label><div class=\"sk-toggleable__content\"><pre>LinearRegression()</pre></div></div></div></div></div>"
      ],
      "text/plain": [
       "LinearRegression()"
      ]
     },
     "execution_count": 10,
     "metadata": {},
     "output_type": "execute_result"
    }
   ],
   "source": [
    "predictr.fit(X,y)"
   ]
  },
  {
   "cell_type": "code",
   "execution_count": 11,
   "id": "4788d2e2-6973-413e-aba4-07c3ff817f44",
   "metadata": {},
   "outputs": [
    {
     "data": {
      "text/plain": [
       "(array([[ 0.12873227,  1.36843626,  0.01267637,  0.25333314,  0.07580887,\n",
       "          0.16951266,  0.17165306,  0.23475856, -0.24761195,  0.28310765,\n",
       "         -0.16843361,  0.05744777, -0.08067886, -0.11577643, -0.00330179,\n",
       "          0.06918065, -0.1207914 , -0.3211608 , -0.20182045, -0.0856689 ,\n",
       "         -0.06999547,  0.1421365 ,  0.30169456, -0.1815216 ,  0.0368099 ,\n",
       "          0.28667021,  0.18546914, -0.26762969, -0.06642038,  0.13174395,\n",
       "         -0.2662439 , -0.11573981,  0.06994722,  0.3482305 ,  0.38400381,\n",
       "         -0.15481502,  0.34253802,  0.09735465, -0.35596438, -0.08315674,\n",
       "          0.00359051, -0.08655258, -0.1992766 , -0.29606932,  0.10050176,\n",
       "          0.00952553, -0.20305699,  0.03498006, -0.32748608, -0.25911595,\n",
       "         -0.00623853,  0.35836285]]),\n",
       " array([-0.28516272]))"
      ]
     },
     "execution_count": 11,
     "metadata": {},
     "output_type": "execute_result"
    }
   ],
   "source": [
    "predictr.coef_,predictr.intercept_"
   ]
  },
  {
   "cell_type": "code",
   "execution_count": 12,
   "id": "8b1393a2-3138-4212-b515-33154e267e13",
   "metadata": {},
   "outputs": [
    {
     "data": {
      "text/plain": [
       "0.8565445058584887"
      ]
     },
     "execution_count": 12,
     "metadata": {},
     "output_type": "execute_result"
    }
   ],
   "source": [
    "predictr.score(X,y)"
   ]
  },
  {
   "cell_type": "code",
   "execution_count": 13,
   "id": "766d702a-5446-46d9-9fd3-253d00701a42",
   "metadata": {},
   "outputs": [
    {
     "data": {
      "text/plain": [
       "0.7856940428251548"
      ]
     },
     "execution_count": 13,
     "metadata": {},
     "output_type": "execute_result"
    }
   ],
   "source": [
    "predictr.score(XX,yy)"
   ]
  },
  {
   "cell_type": "code",
   "execution_count": 14,
   "id": "ad218142-a53d-4cb0-b3d6-6c5662b0f514",
   "metadata": {},
   "outputs": [],
   "source": [
    "X = df_train[['toeic','gpa']]\n",
    "y = df_train[['employment']]\n",
    "XX = df_test[['toeic','gpa']]\n",
    "yy = df_test[['employment']]"
   ]
  },
  {
   "cell_type": "code",
   "execution_count": 15,
   "id": "29e3d75c-800c-4065-8b44-fabc524d9e8b",
   "metadata": {},
   "outputs": [],
   "source": [
    "predictr = sklearn.linear_model.LinearRegression()"
   ]
  },
  {
   "cell_type": "code",
   "execution_count": 16,
   "id": "b712a388-4a65-4688-bfc8-a9b4153445d8",
   "metadata": {},
   "outputs": [
    {
     "data": {
      "text/html": [
       "<style>#sk-container-id-2 {color: black;}#sk-container-id-2 pre{padding: 0;}#sk-container-id-2 div.sk-toggleable {background-color: white;}#sk-container-id-2 label.sk-toggleable__label {cursor: pointer;display: block;width: 100%;margin-bottom: 0;padding: 0.3em;box-sizing: border-box;text-align: center;}#sk-container-id-2 label.sk-toggleable__label-arrow:before {content: \"▸\";float: left;margin-right: 0.25em;color: #696969;}#sk-container-id-2 label.sk-toggleable__label-arrow:hover:before {color: black;}#sk-container-id-2 div.sk-estimator:hover label.sk-toggleable__label-arrow:before {color: black;}#sk-container-id-2 div.sk-toggleable__content {max-height: 0;max-width: 0;overflow: hidden;text-align: left;background-color: #f0f8ff;}#sk-container-id-2 div.sk-toggleable__content pre {margin: 0.2em;color: black;border-radius: 0.25em;background-color: #f0f8ff;}#sk-container-id-2 input.sk-toggleable__control:checked~div.sk-toggleable__content {max-height: 200px;max-width: 100%;overflow: auto;}#sk-container-id-2 input.sk-toggleable__control:checked~label.sk-toggleable__label-arrow:before {content: \"▾\";}#sk-container-id-2 div.sk-estimator input.sk-toggleable__control:checked~label.sk-toggleable__label {background-color: #d4ebff;}#sk-container-id-2 div.sk-label input.sk-toggleable__control:checked~label.sk-toggleable__label {background-color: #d4ebff;}#sk-container-id-2 input.sk-hidden--visually {border: 0;clip: rect(1px 1px 1px 1px);clip: rect(1px, 1px, 1px, 1px);height: 1px;margin: -1px;overflow: hidden;padding: 0;position: absolute;width: 1px;}#sk-container-id-2 div.sk-estimator {font-family: monospace;background-color: #f0f8ff;border: 1px dotted black;border-radius: 0.25em;box-sizing: border-box;margin-bottom: 0.5em;}#sk-container-id-2 div.sk-estimator:hover {background-color: #d4ebff;}#sk-container-id-2 div.sk-parallel-item::after {content: \"\";width: 100%;border-bottom: 1px solid gray;flex-grow: 1;}#sk-container-id-2 div.sk-label:hover label.sk-toggleable__label {background-color: #d4ebff;}#sk-container-id-2 div.sk-serial::before {content: \"\";position: absolute;border-left: 1px solid gray;box-sizing: border-box;top: 0;bottom: 0;left: 50%;z-index: 0;}#sk-container-id-2 div.sk-serial {display: flex;flex-direction: column;align-items: center;background-color: white;padding-right: 0.2em;padding-left: 0.2em;position: relative;}#sk-container-id-2 div.sk-item {position: relative;z-index: 1;}#sk-container-id-2 div.sk-parallel {display: flex;align-items: stretch;justify-content: center;background-color: white;position: relative;}#sk-container-id-2 div.sk-item::before, #sk-container-id-2 div.sk-parallel-item::before {content: \"\";position: absolute;border-left: 1px solid gray;box-sizing: border-box;top: 0;bottom: 0;left: 50%;z-index: -1;}#sk-container-id-2 div.sk-parallel-item {display: flex;flex-direction: column;z-index: 1;position: relative;background-color: white;}#sk-container-id-2 div.sk-parallel-item:first-child::after {align-self: flex-end;width: 50%;}#sk-container-id-2 div.sk-parallel-item:last-child::after {align-self: flex-start;width: 50%;}#sk-container-id-2 div.sk-parallel-item:only-child::after {width: 0;}#sk-container-id-2 div.sk-dashed-wrapped {border: 1px dashed gray;margin: 0 0.4em 0.5em 0.4em;box-sizing: border-box;padding-bottom: 0.4em;background-color: white;}#sk-container-id-2 div.sk-label label {font-family: monospace;font-weight: bold;display: inline-block;line-height: 1.2em;}#sk-container-id-2 div.sk-label-container {text-align: center;}#sk-container-id-2 div.sk-container {/* jupyter's `normalize.less` sets `[hidden] { display: none; }` but bootstrap.min.css set `[hidden] { display: none !important; }` so we also need the `!important` here to be able to override the default hidden behavior on the sphinx rendered scikit-learn.org. See: https://github.com/scikit-learn/scikit-learn/issues/21755 */display: inline-block !important;position: relative;}#sk-container-id-2 div.sk-text-repr-fallback {display: none;}</style><div id=\"sk-container-id-2\" class=\"sk-top-container\"><div class=\"sk-text-repr-fallback\"><pre>LinearRegression()</pre><b>In a Jupyter environment, please rerun this cell to show the HTML representation or trust the notebook. <br />On GitHub, the HTML representation is unable to render, please try loading this page with nbviewer.org.</b></div><div class=\"sk-container\" hidden><div class=\"sk-item\"><div class=\"sk-estimator sk-toggleable\"><input class=\"sk-toggleable__control sk-hidden--visually\" id=\"sk-estimator-id-2\" type=\"checkbox\" checked><label for=\"sk-estimator-id-2\" class=\"sk-toggleable__label sk-toggleable__label-arrow\">LinearRegression</label><div class=\"sk-toggleable__content\"><pre>LinearRegression()</pre></div></div></div></div></div>"
      ],
      "text/plain": [
       "LinearRegression()"
      ]
     },
     "execution_count": 16,
     "metadata": {},
     "output_type": "execute_result"
    }
   ],
   "source": [
    "predictr.fit(X,y)"
   ]
  },
  {
   "cell_type": "code",
   "execution_count": 17,
   "id": "571f071e-f7df-4113-bdd4-2e284edd2ba7",
   "metadata": {},
   "outputs": [
    {
     "data": {
      "text/plain": [
       "(array([[0.00531095, 1.36939247]]), array([-0.33612579]))"
      ]
     },
     "execution_count": 17,
     "metadata": {},
     "output_type": "execute_result"
    }
   ],
   "source": [
    "predictr.coef_,predictr.intercept_"
   ]
  },
  {
   "cell_type": "code",
   "execution_count": 18,
   "id": "7ba0a143-a6ee-429f-aef8-7cb1a541a4ca",
   "metadata": {},
   "outputs": [
    {
     "data": {
      "text/plain": [
       "0.8329365926760117"
      ]
     },
     "execution_count": 18,
     "metadata": {},
     "output_type": "execute_result"
    }
   ],
   "source": [
    "predictr.score(X,y)"
   ]
  },
  {
   "cell_type": "code",
   "execution_count": 19,
   "id": "3886c0e9-39d0-45e3-97b9-7a2aa609e539",
   "metadata": {},
   "outputs": [
    {
     "data": {
      "text/plain": [
       "0.8312893241857904"
      ]
     },
     "execution_count": 19,
     "metadata": {},
     "output_type": "execute_result"
    }
   ],
   "source": [
    "predictr.score(XX,yy)"
   ]
  },
  {
   "cell_type": "markdown",
   "id": "ff348484-3008-4cc6-bf84-f588db1228f3",
   "metadata": {},
   "source": [
    "---"
   ]
  },
  {
   "cell_type": "code",
   "execution_count": 20,
   "id": "a954ee80-4857-4a7e-ab4a-c14366f40678",
   "metadata": {},
   "outputs": [],
   "source": [
    "X = df_train.drop(['employment'],axis=1)\n",
    "y = df_train[['employment']]\n",
    "XX = df_test.drop(['employment'],axis=1)\n",
    "yy = df_test[['employment']]"
   ]
  },
  {
   "cell_type": "code",
   "execution_count": 21,
   "id": "a444acbf-e4fd-413c-b71e-c9b32842b784",
   "metadata": {},
   "outputs": [],
   "source": [
    "predictr = sklearn.linear_model.LassoCV(max_iter=500000)"
   ]
  },
  {
   "cell_type": "code",
   "execution_count": 22,
   "id": "ee96b037-8ac1-46cc-8fbc-6ee11e4631bf",
   "metadata": {},
   "outputs": [
    {
     "name": "stderr",
     "output_type": "stream",
     "text": [
      "/home/cgb2/anaconda3/envs/ag/lib/python3.10/site-packages/sklearn/linear_model/_coordinate_descent.py:1563: DataConversionWarning: A column-vector y was passed when a 1d array was expected. Please change the shape of y to (n_samples, ), for example using ravel().\n",
      "  y = column_or_1d(y, warn=True)\n"
     ]
    },
    {
     "data": {
      "text/html": [
       "<style>#sk-container-id-3 {color: black;}#sk-container-id-3 pre{padding: 0;}#sk-container-id-3 div.sk-toggleable {background-color: white;}#sk-container-id-3 label.sk-toggleable__label {cursor: pointer;display: block;width: 100%;margin-bottom: 0;padding: 0.3em;box-sizing: border-box;text-align: center;}#sk-container-id-3 label.sk-toggleable__label-arrow:before {content: \"▸\";float: left;margin-right: 0.25em;color: #696969;}#sk-container-id-3 label.sk-toggleable__label-arrow:hover:before {color: black;}#sk-container-id-3 div.sk-estimator:hover label.sk-toggleable__label-arrow:before {color: black;}#sk-container-id-3 div.sk-toggleable__content {max-height: 0;max-width: 0;overflow: hidden;text-align: left;background-color: #f0f8ff;}#sk-container-id-3 div.sk-toggleable__content pre {margin: 0.2em;color: black;border-radius: 0.25em;background-color: #f0f8ff;}#sk-container-id-3 input.sk-toggleable__control:checked~div.sk-toggleable__content {max-height: 200px;max-width: 100%;overflow: auto;}#sk-container-id-3 input.sk-toggleable__control:checked~label.sk-toggleable__label-arrow:before {content: \"▾\";}#sk-container-id-3 div.sk-estimator input.sk-toggleable__control:checked~label.sk-toggleable__label {background-color: #d4ebff;}#sk-container-id-3 div.sk-label input.sk-toggleable__control:checked~label.sk-toggleable__label {background-color: #d4ebff;}#sk-container-id-3 input.sk-hidden--visually {border: 0;clip: rect(1px 1px 1px 1px);clip: rect(1px, 1px, 1px, 1px);height: 1px;margin: -1px;overflow: hidden;padding: 0;position: absolute;width: 1px;}#sk-container-id-3 div.sk-estimator {font-family: monospace;background-color: #f0f8ff;border: 1px dotted black;border-radius: 0.25em;box-sizing: border-box;margin-bottom: 0.5em;}#sk-container-id-3 div.sk-estimator:hover {background-color: #d4ebff;}#sk-container-id-3 div.sk-parallel-item::after {content: \"\";width: 100%;border-bottom: 1px solid gray;flex-grow: 1;}#sk-container-id-3 div.sk-label:hover label.sk-toggleable__label {background-color: #d4ebff;}#sk-container-id-3 div.sk-serial::before {content: \"\";position: absolute;border-left: 1px solid gray;box-sizing: border-box;top: 0;bottom: 0;left: 50%;z-index: 0;}#sk-container-id-3 div.sk-serial {display: flex;flex-direction: column;align-items: center;background-color: white;padding-right: 0.2em;padding-left: 0.2em;position: relative;}#sk-container-id-3 div.sk-item {position: relative;z-index: 1;}#sk-container-id-3 div.sk-parallel {display: flex;align-items: stretch;justify-content: center;background-color: white;position: relative;}#sk-container-id-3 div.sk-item::before, #sk-container-id-3 div.sk-parallel-item::before {content: \"\";position: absolute;border-left: 1px solid gray;box-sizing: border-box;top: 0;bottom: 0;left: 50%;z-index: -1;}#sk-container-id-3 div.sk-parallel-item {display: flex;flex-direction: column;z-index: 1;position: relative;background-color: white;}#sk-container-id-3 div.sk-parallel-item:first-child::after {align-self: flex-end;width: 50%;}#sk-container-id-3 div.sk-parallel-item:last-child::after {align-self: flex-start;width: 50%;}#sk-container-id-3 div.sk-parallel-item:only-child::after {width: 0;}#sk-container-id-3 div.sk-dashed-wrapped {border: 1px dashed gray;margin: 0 0.4em 0.5em 0.4em;box-sizing: border-box;padding-bottom: 0.4em;background-color: white;}#sk-container-id-3 div.sk-label label {font-family: monospace;font-weight: bold;display: inline-block;line-height: 1.2em;}#sk-container-id-3 div.sk-label-container {text-align: center;}#sk-container-id-3 div.sk-container {/* jupyter's `normalize.less` sets `[hidden] { display: none; }` but bootstrap.min.css set `[hidden] { display: none !important; }` so we also need the `!important` here to be able to override the default hidden behavior on the sphinx rendered scikit-learn.org. See: https://github.com/scikit-learn/scikit-learn/issues/21755 */display: inline-block !important;position: relative;}#sk-container-id-3 div.sk-text-repr-fallback {display: none;}</style><div id=\"sk-container-id-3\" class=\"sk-top-container\"><div class=\"sk-text-repr-fallback\"><pre>LassoCV(max_iter=500000)</pre><b>In a Jupyter environment, please rerun this cell to show the HTML representation or trust the notebook. <br />On GitHub, the HTML representation is unable to render, please try loading this page with nbviewer.org.</b></div><div class=\"sk-container\" hidden><div class=\"sk-item\"><div class=\"sk-estimator sk-toggleable\"><input class=\"sk-toggleable__control sk-hidden--visually\" id=\"sk-estimator-id-3\" type=\"checkbox\" checked><label for=\"sk-estimator-id-3\" class=\"sk-toggleable__label sk-toggleable__label-arrow\">LassoCV</label><div class=\"sk-toggleable__content\"><pre>LassoCV(max_iter=500000)</pre></div></div></div></div></div>"
      ],
      "text/plain": [
       "LassoCV(max_iter=500000)"
      ]
     },
     "execution_count": 22,
     "metadata": {},
     "output_type": "execute_result"
    }
   ],
   "source": [
    "predictr.fit(X,y)"
   ]
  },
  {
   "cell_type": "code",
   "execution_count": 23,
   "id": "7a8583a6-9988-4489-85a2-1c3f3c60c422",
   "metadata": {},
   "outputs": [
    {
     "data": {
      "text/plain": [
       "array([5.16661401e-03, 1.15051137e+00, 1.16072961e-04, 8.98586766e-07,\n",
       "       0.00000000e+00, 0.00000000e+00, 0.00000000e+00, 0.00000000e+00,\n",
       "       0.00000000e+00, 0.00000000e+00, 0.00000000e+00, 0.00000000e+00,\n",
       "       0.00000000e+00, 0.00000000e+00, 0.00000000e+00, 0.00000000e+00,\n",
       "       0.00000000e+00, 0.00000000e+00, 0.00000000e+00, 0.00000000e+00,\n",
       "       0.00000000e+00, 0.00000000e+00, 3.99521456e-08, 0.00000000e+00,\n",
       "       0.00000000e+00, 0.00000000e+00, 0.00000000e+00, 0.00000000e+00,\n",
       "       0.00000000e+00, 0.00000000e+00, 0.00000000e+00, 0.00000000e+00,\n",
       "       0.00000000e+00, 5.54603718e-07, 0.00000000e+00, 0.00000000e+00,\n",
       "       0.00000000e+00, 0.00000000e+00, 0.00000000e+00, 0.00000000e+00,\n",
       "       0.00000000e+00, 0.00000000e+00, 0.00000000e+00, 0.00000000e+00,\n",
       "       0.00000000e+00, 0.00000000e+00, 0.00000000e+00, 0.00000000e+00,\n",
       "       0.00000000e+00, 0.00000000e+00, 0.00000000e+00, 0.00000000e+00])"
      ]
     },
     "execution_count": 23,
     "metadata": {},
     "output_type": "execute_result"
    }
   ],
   "source": [
    "predictr.coef_"
   ]
  },
  {
   "cell_type": "code",
   "execution_count": 24,
   "id": "e52d315e-ea38-4b51-9048-e54bab39fe97",
   "metadata": {},
   "outputs": [
    {
     "data": {
      "text/plain": [
       "0.8196658131746754"
      ]
     },
     "execution_count": 24,
     "metadata": {},
     "output_type": "execute_result"
    }
   ],
   "source": [
    "predictr.score(X,y)"
   ]
  },
  {
   "cell_type": "code",
   "execution_count": 25,
   "id": "f36c6cba-c9cd-47b7-9f59-67668d2a67fc",
   "metadata": {},
   "outputs": [
    {
     "data": {
      "text/plain": [
       "0.8092237908580237"
      ]
     },
     "execution_count": 25,
     "metadata": {},
     "output_type": "execute_result"
    }
   ],
   "source": [
    "predictr.score(XX,yy)"
   ]
  }
 ],
 "metadata": {
  "kernelspec": {
   "display_name": "Python 3 (ipykernel)",
   "language": "python",
   "name": "python3"
  },
  "language_info": {
   "codemirror_mode": {
    "name": "ipython",
    "version": 3
   },
   "file_extension": ".py",
   "mimetype": "text/x-python",
   "name": "python",
   "nbconvert_exporter": "python",
   "pygments_lexer": "ipython3",
   "version": "3.10.13"
  }
 },
 "nbformat": 4,
 "nbformat_minor": 5
}
