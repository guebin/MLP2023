{
  "cells": [
    {
      "cell_type": "markdown",
      "metadata": {},
      "source": [
        "# 06wk-022: 취업+각종영어점수, 다중공선성\n",
        "\n",
        "최규빈  \n",
        "2023-10-05\n",
        "\n",
        "# 1. 강의영상\n",
        "\n",
        "# 2. Imports"
      ],
      "id": "817f89ff-a79c-4855-9fdc-0cf8617c8714"
    },
    {
      "cell_type": "code",
      "execution_count": 4,
      "metadata": {},
      "outputs": [],
      "source": [
        "import numpy as np\n",
        "import pandas as pd\n",
        "import sklearn.linear_model"
      ],
      "id": "d59089a4-68c0-445b-a878-14a36d010007"
    },
    {
      "cell_type": "markdown",
      "metadata": {},
      "source": [
        "# 3. 상상\n",
        "\n",
        "`-` 아래와 같은 가짜뉴스를 읽어보자.[1]\n",
        "\n",
        "**헤드라인**: “텝스와 다른 영어 인증 시험들, 결국은 토익과 비슷한 결과를\n",
        "보여준다?”\n",
        "\n",
        "------------------------------------------------------------------------\n",
        "\n",
        "**본문**:\n",
        "\n",
        "최근 몇 년 동안, 토익의 신뢰성에 대한 논란이 계속되어 왔습니다. 이러한\n",
        "배경 속에서 텝스(TEPS), 토플(TOEFL) 등 여러 새로운 영어 능력 평가 시험이\n",
        "등장하였습니다. 많은 학생들과 직장인들은 이러한 새로운 시험들이 토익보다\n",
        "더 신뢰성 있고 현실적인 능력을 평가할 것이라는 기대감을 가지고\n",
        "있었습니다.\n",
        "\n",
        "그러나 최근에 발표된 연구결과에 따르면, 텝스와 다른 영어 인증 시험들도\n",
        "결국에는 토익과 매우 비슷한 성적 분포와 결과를 보여주었다고 합니다. 연구\n",
        "팀은 여러 시험들간의 점수 분포와 성적의 상관관계를 분석한 결과, 대부분의\n",
        "시험들이 실제 영어 능력에 대해 유사한 평가를 제공한다는 결론을\n",
        "내렸습니다.\n",
        "\n",
        "“많은 사람들이 새로운 시험들이 더 현실적이거나 다양한 영어 능력을 평가할\n",
        "것이라 기대했지만, 실제로는 모든 시험들이 비슷한 결과를 보여주었습니다.”\n",
        "라며 연구 팀의 대표는 이렇게 언급하였습니다.\n",
        "\n",
        "이러한 연구결과는 영어 능력 평가 시험의 표준화와 신뢰성에 대한 논의를\n",
        "새롭게 불러일으킬 것으로 보입니다.\n",
        "\n",
        "`-` 이 뉴스에 근거하여 아래의 가짜자료를 생성했다.\n",
        "\n",
        "[1] 제가 ChatGPT를 이용하여 생성한 가짜뉴스입니다. 뉴스는 실제사실을\n",
        "반영한 것이 아닙니다."
      ],
      "id": "e393bff7-55f8-4190-aa16-5ca07b59e11e"
    },
    {
      "cell_type": "code",
      "execution_count": 112,
      "metadata": {},
      "outputs": [],
      "source": [
        "df = pd.read_csv(\"https://raw.githubusercontent.com/guebin/MP2023/main/posts/employment_manytoeic.csv\")\n",
        "df"
      ],
      "id": "df31636f"
    },
    {
      "cell_type": "markdown",
      "metadata": {},
      "source": [
        "-   toeic0,toeic1,… 등은 토익과 유사한 새로운 시험들을 의미함. (실제\n",
        "    점수는 정수이겠지만 편의상 소수점으로 사용하였음)\n",
        "-   employmet_score는 회사에 내부적으로 정의된 채점기준표이며, 이\n",
        "    기준표에 의하여 일정점수 이상인 사람은 합격하고, 그렇지 않은 사람은\n",
        "    불합격한다고 가정함.\n",
        "\n",
        "`-` 비밀: 사실 저는 데이터를 아래의 공식에 따라서 만들었어요..\n",
        "\n",
        "    employment_score = toeic*1/200 + gpa*1.3 + random \n",
        "\n",
        "# 4. 잘못된 분석"
      ],
      "id": "803b68e1-d540-470e-9710-0352c4911a65"
    },
    {
      "cell_type": "code",
      "execution_count": 144,
      "metadata": {},
      "outputs": [],
      "source": [
        "df_train, df_test = sklearn.model_selection.train_test_split(df,test_size=0.3)"
      ],
      "id": "3d3da29f-eb94-4950-9931-3e3a823c5259"
    },
    {
      "cell_type": "code",
      "execution_count": 145,
      "metadata": {},
      "outputs": [],
      "source": [
        "X = df_train.drop(['employment_score'],axis=1)\n",
        "y = df_train[['employment_score']]\n",
        "XX = df_test.drop(['employment_score'],axis=1)\n",
        "yy = df_test[['employment_score']]"
      ],
      "id": "aaff234e-cead-466e-bfc1-e9538b0c807e"
    },
    {
      "cell_type": "code",
      "execution_count": 146,
      "metadata": {},
      "outputs": [],
      "source": [
        "predictr = sklearn.linear_model.LinearRegression()"
      ],
      "id": "e7045ffa-40b3-4a27-aa72-c6b2eefcdd31"
    },
    {
      "cell_type": "code",
      "execution_count": 147,
      "metadata": {},
      "outputs": [],
      "source": [
        "X.shape"
      ],
      "id": "90f5f5d8"
    },
    {
      "cell_type": "code",
      "execution_count": 148,
      "metadata": {},
      "outputs": [],
      "source": [
        "predictr.fit(X,y)"
      ],
      "id": "f68283fb-4ce1-483f-8f46-af6e37030888"
    },
    {
      "cell_type": "code",
      "execution_count": 149,
      "metadata": {},
      "outputs": [],
      "source": [
        "predictr.coef_,predictr.intercept_"
      ],
      "id": "4788d2e2-6973-413e-aba4-07c3ff817f44"
    },
    {
      "cell_type": "markdown",
      "metadata": {},
      "source": [
        "-   실제계수값은 `토익*0.005`, `GPA*1.3` 인데.. GPA는 얼추맞는거 같지만,\n",
        "    토익은 딱봐도 틀려보임.."
      ],
      "id": "4d9c55ab-a3f7-4cc2-9549-4e942d4b62d3"
    },
    {
      "cell_type": "code",
      "execution_count": 150,
      "metadata": {},
      "outputs": [],
      "source": [
        "predictr.score(X,y) "
      ],
      "id": "8b1393a2-3138-4212-b515-33154e267e13"
    },
    {
      "cell_type": "code",
      "execution_count": 151,
      "metadata": {},
      "outputs": [],
      "source": [
        "predictr.score(XX,yy)"
      ],
      "id": "766d702a-5446-46d9-9fd3-253d00701a42"
    },
    {
      "cell_type": "markdown",
      "metadata": {},
      "source": [
        "# 5. 제대로 분석했다면?\n",
        "\n",
        "## A. `toeic`과 `gpa`가 유의미한 변수라는걸 눈치챘다면?"
      ],
      "id": "16007662-2042-4d15-8f39-d6ea070132bf"
    },
    {
      "cell_type": "code",
      "execution_count": 122,
      "metadata": {},
      "outputs": [],
      "source": [
        "X = df_train[['toeic','gpa']]\n",
        "y = df_train[['employment_score']]\n",
        "XX = df_test[['toeic','gpa']]\n",
        "yy = df_test[['employment_score']]"
      ],
      "id": "ad218142-a53d-4cb0-b3d6-6c5662b0f514"
    },
    {
      "cell_type": "code",
      "execution_count": 123,
      "metadata": {},
      "outputs": [],
      "source": [
        "predictr = sklearn.linear_model.LinearRegression()"
      ],
      "id": "29e3d75c-800c-4065-8b44-fabc524d9e8b"
    },
    {
      "cell_type": "code",
      "execution_count": 124,
      "metadata": {},
      "outputs": [],
      "source": [
        "predictr.fit(X,y)"
      ],
      "id": "b712a388-4a65-4688-bfc8-a9b4153445d8"
    },
    {
      "cell_type": "code",
      "execution_count": 125,
      "metadata": {},
      "outputs": [],
      "source": [
        "predictr.coef_,predictr.intercept_"
      ],
      "id": "571f071e-f7df-4113-bdd4-2e284edd2ba7"
    },
    {
      "cell_type": "code",
      "execution_count": 126,
      "metadata": {},
      "outputs": [],
      "source": [
        "predictr.score(X,y)"
      ],
      "id": "7ba0a143-a6ee-429f-aef8-7cb1a541a4ca"
    },
    {
      "cell_type": "code",
      "execution_count": 127,
      "metadata": {},
      "outputs": [],
      "source": [
        "predictr.score(XX,yy)"
      ],
      "id": "ff348484-3008-4cc6-bf84-f588db1228f3"
    },
    {
      "cell_type": "markdown",
      "metadata": {},
      "source": [
        "## B. 하다못해 `toeic0`과 `gpa`로 적합했다면?"
      ],
      "id": "5846c253-bb71-442a-b7d3-82c2c3e00f85"
    },
    {
      "cell_type": "code",
      "execution_count": 128,
      "metadata": {},
      "outputs": [],
      "source": [
        "X = df_train[['toeic0','gpa']]\n",
        "y = df_train[['employment_score']]\n",
        "XX = df_test[['toeic0','gpa']]\n",
        "yy = df_test[['employment_score']]"
      ],
      "id": "b1185f01"
    },
    {
      "cell_type": "code",
      "execution_count": 129,
      "metadata": {},
      "outputs": [],
      "source": [
        "predictr = sklearn.linear_model.LinearRegression()"
      ],
      "id": "4951dc0f"
    },
    {
      "cell_type": "code",
      "execution_count": 130,
      "metadata": {},
      "outputs": [],
      "source": [
        "predictr.fit(X,y)"
      ],
      "id": "9abef74a"
    },
    {
      "cell_type": "code",
      "execution_count": 131,
      "metadata": {},
      "outputs": [],
      "source": [
        "predictr.coef_,predictr.intercept_"
      ],
      "id": "22c7cddd"
    },
    {
      "cell_type": "code",
      "execution_count": 132,
      "metadata": {},
      "outputs": [],
      "source": [
        "predictr.score(X,y)"
      ],
      "id": "27045386"
    },
    {
      "cell_type": "code",
      "execution_count": 133,
      "metadata": {},
      "outputs": [],
      "source": [
        "predictr.score(XX,yy)"
      ],
      "id": "355ff595"
    },
    {
      "cell_type": "markdown",
      "metadata": {},
      "source": [
        "# 6. Discussions\n",
        "\n",
        "`-` 어렴풋한 감각: 쓸모없는 변수가 많이 있으면 오히려 모형의 적합도가\n",
        "떨어진다. (규칙을 찾으면 안될것에서 규칙을 찾고있으니까 잘 될리가 없지)\n",
        "\n",
        "`-` 쓸모없는 변수란 느낌이 드는 경우?\n",
        "\n",
        "-   경우1: 진짜 쓸모 없는거.. (X1= 부먹/찍먹, X2= 민초/민초X) $\\to$\n",
        "    애초에 `X1`,`X2`을 보고 `y`를 맞출 생각이 들지 않어..\n",
        "-   경우2: 실제론 쓸모 있는데, 대체자가 있는 경우. (X1= toeic, X2=\n",
        "    유사toeic) $\\to$ `X1` 을 보고 `y`를 맞출 것 같은 생각이 들어, 그리고\n",
        "    `X2`를 보고 `y`를 맞출 것 같은 생각도 들어. 그런데 `X1`이랑 `X2`는\n",
        "    너무 비슷해\n",
        "\n",
        "`-` 경우1, 경우2 모두 과대적합(overfitting)을 야기한다. 그리고 경우2와\n",
        "같은 상황에서 발생하는 문제를 특별히 다중공선성이라고 칭한다.\n",
        "\n",
        "`-` 다중공선성이 발생했을 경우 나타나는 특징\n",
        "\n",
        "1.  계수들의 추정값이 불안정하다[1]\n",
        "2.  과대적합 문제를 불러올 수 있음\n",
        "3.  계수의 해석이 어려움\n",
        "\n",
        "`-` 의문: 그래서 해결방법은? 변수를 잘 보고 제거하라고??\n",
        "\n",
        "[1] 사실 `toeic의 계수 + toeic0의 계수 + ... + toeic49의 계수` $\\approx$\n",
        "`0.05` 이면 거진 올바른 추정아니야? 애초에 답이 여러개야"
      ],
      "id": "91e6b42d-ab25-4756-bf20-1ae775b18fb5"
    }
  ],
  "nbformat": 4,
  "nbformat_minor": 5,
  "metadata": {
    "kernelspec": {
      "name": "python3",
      "display_name": "Python 3 (ipykernel)",
      "language": "python"
    },
    "language_info": {
      "name": "python",
      "codemirror_mode": {
        "name": "ipython",
        "version": "3"
      },
      "file_extension": ".py",
      "mimetype": "text/x-python",
      "nbconvert_exporter": "python",
      "pygments_lexer": "ipython3",
      "version": "3.10.13"
    }
  }
}