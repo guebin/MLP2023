{
  "cells": [
    {
      "cell_type": "markdown",
      "metadata": {},
      "source": [
        "# 07wk-027: 체중감량, 의사결정나무\n",
        "\n",
        "최규빈  \n",
        "2023-10-16\n",
        "\n",
        "# 1. 강의영상\n",
        "\n",
        "[????](????)\n",
        "\n",
        "# 2. Imports"
      ],
      "id": "1e29db6d-825a-4fd3-b61f-8be5d76dfb85"
    },
    {
      "cell_type": "code",
      "execution_count": 1,
      "metadata": {
        "tags": []
      },
      "outputs": [],
      "source": [
        "import numpy as np\n",
        "import pandas as pd \n",
        "import matplotlib.pyplot as plt \n",
        "import sklearn.tree\n",
        "import graphviz "
      ],
      "id": "183d0665-f3a8-4945-9454-75da15083048"
    },
    {
      "cell_type": "markdown",
      "metadata": {},
      "source": [
        "# 3. Data"
      ],
      "id": "1dcbf45c-56cf-4b89-be1b-38080bbff9d6"
    },
    {
      "cell_type": "code",
      "execution_count": 2,
      "metadata": {
        "tags": []
      },
      "outputs": [],
      "source": [
        "# # 데이터 크기 설정\n",
        "# n = 10000\n",
        "\n",
        "# # 무작위로 복용 여부와 운동량을 생성\n",
        "# Supplement = np.random.choice([True, False], n)\n",
        "# Exercise = np.random.choice([False, True], n)\n",
        "\n",
        "# # 체중 감량 여부를 계산 (이 부분은 수정하지 않습니다)\n",
        "\n",
        "# # 연속형 변수 생성\n",
        "# Weight_Loss = np.where(\n",
        "#     (~Supplement & (~Exercise)),\n",
        "#     np.random.normal(loc=0, scale=1, size=n),  # 낮은 운동량에서 체중 감량\n",
        "#     np.where(\n",
        "#         (Supplement & (Exercise)),\n",
        "#         np.random.normal(loc=15.00, scale=1, size=n),  # 높은 운동량에서 체중 감량\n",
        "#         np.where(\n",
        "#             (~Supplement & (Exercise)),\n",
        "#             np.random.normal(loc=5.00, scale=1, size=n),  # 낮은 운동량에서 체중 증가\n",
        "#             np.random.normal(loc=0.5, scale=1, size=n)   # 높은 운동량에서 체중 증가\n",
        "#         )\n",
        "#     )\n",
        "# )\n",
        "\n",
        "# # 데이터프레임 생성\n",
        "# df = pd.DataFrame({\n",
        "#     'Supplement': Supplement,\n",
        "#     'Exercise': Exercise,\n",
        "#     'Weight_Loss': Weight_Loss\n",
        "# })\n",
        "df = pd.read_csv('https://raw.githubusercontent.com/guebin/MP2023/main/posts/weightloss.csv')"
      ],
      "id": "683edec5-6a74-4085-a650-9764c9aa9b17"
    },
    {
      "cell_type": "code",
      "execution_count": 3,
      "metadata": {
        "tags": []
      },
      "outputs": [],
      "source": [
        "df.pivot_table(index='Supplement',columns='Exercise',values='Weight_Loss')"
      ],
      "id": "5dff8ead-e270-4c83-8429-3ca06296f184"
    },
    {
      "cell_type": "markdown",
      "metadata": {},
      "source": [
        "`-` 운동과 체중감량보조제를 병행하면 시너지가 나는 것 같음\n",
        "\n",
        "# 4. 분석\n",
        "\n",
        "`-` 분석1: 모형을 아래와 같이 본다.\n",
        "\n",
        "-   ${\\bf X}$: `Supplement`, `Exercise`\n",
        "-   ${\\bf y}$: `Weight_Loss`"
      ],
      "id": "182addb3-4d86-4e73-8bcb-52843899de33"
    },
    {
      "cell_type": "code",
      "execution_count": 4,
      "metadata": {
        "tags": []
      },
      "outputs": [],
      "source": [
        "# step1\n",
        "X = df[['Supplement','Exercise']]\n",
        "y = df['Weight_Loss']\n",
        "# step2 \n",
        "predictr = sklearn.tree.DecisionTreeRegressor()\n",
        "# step3\n",
        "predictr.fit(X,y)\n",
        "# step4 \n",
        "yhat = predictr.predict(X)"
      ],
      "id": "20f4811e-feaa-423d-a936-3de0e8df88fe"
    },
    {
      "cell_type": "code",
      "execution_count": 5,
      "metadata": {
        "tags": []
      },
      "outputs": [],
      "source": [
        "df.assign(yhat = yhat)"
      ],
      "id": "aa6af09f-9aba-4568-9659-7c3a9532f25d"
    },
    {
      "cell_type": "code",
      "execution_count": 6,
      "metadata": {
        "tags": []
      },
      "outputs": [],
      "source": [
        "df.assign(yhat = yhat).pivot_table(index='Supplement',columns='Exercise',values='yhat')"
      ],
      "id": "5ea6e8b9-253f-4822-b1dc-9a6bbdba8a44"
    },
    {
      "cell_type": "code",
      "execution_count": 7,
      "metadata": {
        "tags": []
      },
      "outputs": [],
      "source": [
        "predictr.score(X,y)"
      ],
      "id": "3b79e844-8262-40b5-8b7c-2690a8752a1b"
    },
    {
      "cell_type": "markdown",
      "metadata": {},
      "source": [
        "# 5. 시각화"
      ],
      "id": "1c9e57c2-f6d8-4b36-bf74-1ab92885b25d"
    },
    {
      "cell_type": "code",
      "execution_count": 8,
      "metadata": {
        "tags": []
      },
      "outputs": [
        {
          "output_type": "display_data",
          "metadata": {},
          "data": {
            "image/png": "[encoded data removed]"
          }
        }
      ],
      "source": [
        "sklearn.tree.plot_tree(predictr)"
      ],
      "id": "65e2ad0a-e2ae-457c-b5a1-2303a7643446"
    },
    {
      "cell_type": "code",
      "execution_count": 17,
      "metadata": {
        "tags": []
      },
      "outputs": [
        {
          "output_type": "stream",
          "name": "stdout",
          "text": [
            "|--- feature_1 <= 0.50\n",
            "|   |--- feature_0 <= 0.50\n",
            "|   |   |--- value: [0.02]\n",
            "|   |--- feature_0 >  0.50\n",
            "|   |   |--- value: [0.50]\n",
            "|--- feature_1 >  0.50\n",
            "|   |--- feature_0 <= 0.50\n",
            "|   |   |--- value: [4.99]\n",
            "|   |--- feature_0 >  0.50\n",
            "|   |   |--- value: [14.97]\n"
          ]
        }
      ],
      "source": [
        "print(sklearn.tree.export_text(predictr))"
      ],
      "id": "e7b5e840-dfbd-4af5-8e76-db07c124efbd"
    },
    {
      "cell_type": "code",
      "execution_count": 14,
      "metadata": {
        "tags": []
      },
      "outputs": [
        {
          "output_type": "display_data",
          "metadata": {},
          "data": {
            "image/svg+xml": "PD94bWwgdmVyc2lvbj0iMS4wIiBlbmNvZGluZz0iVVRGLTgiIHN0YW5kYWxvbmU9Im5vIj8+Cjwh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\n"
          }
        }
      ],
      "source": [
        "dot_data = sklearn.tree.export_graphviz(predictr, \n",
        "                      feature_names=predictr.feature_names_in_,  \n",
        "#                      class_names=predictr.target_names,  \n",
        "                      filled=True, rounded=True,  \n",
        "                      special_characters=True)  \n",
        "graph = graphviz.Source(dot_data)  \n",
        "graph "
      ],
      "id": "ff5c414c-1edd-486b-85ad-40db85c7e0c0"
    }
  ],
  "nbformat": 4,
  "nbformat_minor": 5,
  "metadata": {
    "kernelspec": {
      "name": "python3",
      "display_name": "Python 3 (ipykernel)",
      "language": "python"
    },
    "language_info": {
      "name": "python",
      "codemirror_mode": {
        "name": "ipython",
        "version": "3"
      },
      "file_extension": ".py",
      "mimetype": "text/x-python",
      "nbconvert_exporter": "python",
      "pygments_lexer": "ipython3",
      "version": "3.10.13"
    }
  }
}