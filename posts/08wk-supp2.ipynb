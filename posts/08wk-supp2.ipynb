{
 "cells": [
  {
   "cell_type": "raw",
   "id": "f106c850-421c-4ebf-a682-70a387af49fa",
   "metadata": {
    "tags": []
   },
   "source": [
    "---\n",
    "title: \"08wk: 중간고사 (ver 0.1)\"\n",
    "author: \"최규빈\"\n",
    "date: \"11/02/2023\"\n",
    "bibliography: ref.bib\n",
    "draft: false\n",
    "---"
   ]
  },
  {
   "cell_type": "markdown",
   "id": "415ef847-9b1e-4251-afec-816a442774f0",
   "metadata": {},
   "source": [
    "---\n",
    "\n",
    "1. True/False를 판단하는 문제는 답만 써도 무방함. \n",
    "2. \"자료분석\" 문제는 \"kaggle style score = 50%\", \"분석의 논리 = 50%\" 의 배점으로 채점한다. \n",
    "3. \"자료분석\" 유형의 경우 분석의 논리가 매우 우수하거나, 창의적인 접근법으로 분석을 시도할 경우 가산점을 부여한다. (아이디어 단계에서도 가산점 부여가능) 가산점은 문항점수의 최대 100%까지 부여한다. \n",
    "4. \"연구\" 문항의 경우 세부문항을 정확하게 수행한 경우에만 100%의 점수를 부여하며 이를 어길시 부분점수를 부여하지 않는다. 연구결과의 시각화나 해석이 우수한 답안은 문항점수의 20%까지 가산점을 부여한다. \n",
    "---"
   ]
  },
  {
   "cell_type": "code",
   "execution_count": 29,
   "id": "70bd7605-1f7a-48be-ab9a-ccca3295104e",
   "metadata": {
    "tags": []
   },
   "outputs": [],
   "source": [
    "import pandas as pd\n",
    "import numpy as np\n",
    "import matplotlib.pyplot as plt\n",
    "import sklearn.preprocessing \n",
    "import sklearn.model_selection"
   ]
  },
  {
   "cell_type": "markdown",
   "id": "e6e7a2bf-4c38-46bf-950e-7afa49680225",
   "metadata": {},
   "source": [
    "# `1`. O/X "
   ]
  },
  {
   "cell_type": "markdown",
   "id": "63b4d283-15a9-4d03-a44a-8070c535befe",
   "metadata": {},
   "source": [
    "`(1)` [모듈9 5-B](https://guebin.github.io/MP2023/posts/03wk-009.html#b.-predictor-%EC%83%9D%EC%84%B1)에서 `sklearn.linear_model.LinearRegression()` 대신 `sklearn.linear_model.LogisticRegression()` 를 이용하여 predictor를 생성해도 무방하다. "
   ]
  },
  {
   "cell_type": "markdown",
   "id": "950b1298-bb1b-4e6a-83fd-353a7783caaa",
   "metadata": {},
   "source": [
    "# `2`. 자료분석"
   ]
  },
  {
   "cell_type": "markdown",
   "id": "ee82d7da-ea2c-42c7-be32-5e3dd538c83a",
   "metadata": {},
   "source": [
    "`(1)` 아래의 자료를 해석하고 세부지침에 맞추어 분석하라. "
   ]
  },
  {
   "cell_type": "code",
   "execution_count": 56,
   "id": "54316308-ea49-4eac-9887-2896d4ee3011",
   "metadata": {
    "tags": []
   },
   "outputs": [],
   "source": [
    "df_train = pd.read_csv('https://raw.githubusercontent.com/guebin/MP2023/master/posts/mid/icesales_train.csv')\n",
    "df_test = pd.read_csv('https://raw.githubusercontent.com/guebin/MP2023/master/posts/mid/icesales_test.csv')"
   ]
  },
  {
   "cell_type": "markdown",
   "id": "0841cd09-32eb-43e8-9df2-6fc8e1d5493c",
   "metadata": {},
   "source": [
    "**세부지침** \n",
    "\n",
    "1. 반응변수 ${\\bf y}$를 `sales`로 설정하고 나머지는 설명변수로 설정하라. \n",
    "2. `sklearn.linear_model` 에 포함된 모형들을 이용하여 분석하라. "
   ]
  },
  {
   "cell_type": "markdown",
   "id": "569ec48b-94af-4714-9caf-117c685e9397",
   "metadata": {},
   "source": [
    "`(2)` 아래의 자료를 해석하고 세부지침에 맞추어 분석하라. "
   ]
  },
  {
   "cell_type": "code",
   "execution_count": 104,
   "id": "18a24cc9-5a5e-487d-9c21-2c728a0124a0",
   "metadata": {
    "tags": []
   },
   "outputs": [],
   "source": [
    "df_train = pd.read_csv('https://raw.githubusercontent.com/guebin/MP2023/master/posts/mid/synthetic_train.csv')\n",
    "df_test = pd.read_csv('https://raw.githubusercontent.com/guebin/MP2023/master/posts/mid/synthetic_test.csv')"
   ]
  },
  {
   "cell_type": "markdown",
   "id": "1f21c5e8-b2c8-4356-a329-21dd302d00d2",
   "metadata": {},
   "source": [
    "**세부지침** \n",
    "\n",
    "1. 반응변수 ${\\bf y}$를 `y`로 설정하고 나머지는 설명변수로 설정하라. \n",
    "2. `sklearn.preprocessing`내의 적절한 scaler 설명변수를 scaling하라. "
   ]
  },
  {
   "cell_type": "markdown",
   "id": "cddbf356-5511-49fc-a586-960d3fdb1d9d",
   "metadata": {},
   "source": [
    "# `3`. 연구"
   ]
  },
  {
   "cell_type": "markdown",
   "id": "dcc4b8e8-eeeb-405f-9cbe-894ede63845b",
   "metadata": {},
   "source": [
    "`(1)` 아래의 자료를 세부지침에 맞추어 연구하라. "
   ]
  },
  {
   "cell_type": "code",
   "execution_count": 96,
   "id": "7ea9b65b-6206-4cbf-b411-4acf4c6c1758",
   "metadata": {
    "tags": []
   },
   "outputs": [],
   "source": [
    "df = pd.read_csv(\"https://raw.githubusercontent.com/guebin/MP2023/main/posts/employment_multicollinearity.csv\")\n",
    "np.random.seed(43052)\n",
    "df['employment_score'] = df.gpa * 1.0 + df.toeic* 1/100 + np.random.randn(500)"
   ]
  },
  {
   "cell_type": "markdown",
   "id": "abea2cb1-21a3-45f9-ad72-30d1bd8eb77c",
   "metadata": {},
   "source": [
    "**세부지침** \n",
    "\n",
    "1. 종속변수 ${\\bf y}$를 `sales`로 설정하고 나머지는 설명변수로 설정하라. \n",
    "2. `sklearn.linear_model.Lasso`를 이용하여 $\\alpha =0,1,0.2, \\dots, 1.9, 2.0$에 대해 predictor를 생성하라. \n",
    "3. $\\alpha$의 변화에 따른 score의 변화와^[`predictor.score` 함수이용하여 계산되는 값] 0이 아닌 계수값의 수를 시각화하라. "
   ]
  }
 ],
 "metadata": {
  "kernelspec": {
   "display_name": "Python 3 (ipykernel)",
   "language": "python",
   "name": "python3"
  },
  "language_info": {
   "codemirror_mode": {
    "name": "ipython",
    "version": 3
   },
   "file_extension": ".py",
   "mimetype": "text/x-python",
   "name": "python",
   "nbconvert_exporter": "python",
   "pygments_lexer": "ipython3",
   "version": "3.10.13"
  }
 },
 "nbformat": 4,
 "nbformat_minor": 5
}
