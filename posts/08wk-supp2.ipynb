{
 "cells": [
  {
   "cell_type": "raw",
   "id": "f106c850-421c-4ebf-a682-70a387af49fa",
   "metadata": {
    "tags": []
   },
   "source": [
    "---\n",
    "title: \"08wk: 중간고사 (ver 0.1)\"\n",
    "author: \"최규빈\"\n",
    "date: \"10/24/2023\"\n",
    "bibliography: ref.bib\n",
    "draft: false\n",
    "---"
   ]
  },
  {
   "cell_type": "code",
   "execution_count": 29,
   "id": "70bd7605-1f7a-48be-ab9a-ccca3295104e",
   "metadata": {
    "tags": []
   },
   "outputs": [],
   "source": [
    "import pandas as pd\n",
    "import numpy as np\n",
    "import matplotlib.pyplot as plt\n",
    "import sklearn.preprocessing \n",
    "import sklearn.model_selection"
   ]
  },
  {
   "cell_type": "markdown",
   "id": "e6e7a2bf-4c38-46bf-950e-7afa49680225",
   "metadata": {},
   "source": [
    "# `1`. 다음을 잘 읽고 물음에 답하라. "
   ]
  },
  {
   "cell_type": "markdown",
   "id": "63b4d283-15a9-4d03-a44a-8070c535befe",
   "metadata": {},
   "source": [
    "`(1)` [모듈9 5-B](https://guebin.github.io/MP2023/posts/03wk-009.html#b.-predictor-%EC%83%9D%EC%84%B1)에서 `sklearn.linear_model.LinearRegression()` 대신 `sklearn.linear_model.LogisticRegression()` 를 이용하여 predictor를 생성해도 무방하다. "
   ]
  },
  {
   "cell_type": "markdown",
   "id": "950b1298-bb1b-4e6a-83fd-353a7783caaa",
   "metadata": {},
   "source": [
    "# `2`. 자료분석"
   ]
  },
  {
   "cell_type": "markdown",
   "id": "786d92b5-c872-412e-83eb-41092913ff07",
   "metadata": {},
   "source": [
    "아래의 자료는 "
   ]
  },
  {
   "cell_type": "code",
   "execution_count": 39,
   "id": "54316308-ea49-4eac-9887-2896d4ee3011",
   "metadata": {
    "tags": []
   },
   "outputs": [],
   "source": [
    "df = pd.read_csv('https://raw.githubusercontent.com/guebin/MP2023/master/posts/icesalaes010.csv').set_index(['temp','type']).reset_index()\n",
    "df_train, df_test = sklearn.model_selection.train_test_split(df,test_size=40)"
   ]
  },
  {
   "cell_type": "code",
   "execution_count": 40,
   "id": "96b87a8c-f256-4204-ab8d-35a8cc02d657",
   "metadata": {
    "tags": []
   },
   "outputs": [],
   "source": [
    "df_train = df_train.sort_values('temp').reset_index(drop=True)\n",
    "df_test = df_test.sort_values('temp').reset_index(drop=True).drop('sales',axis=1)"
   ]
  },
  {
   "cell_type": "code",
   "execution_count": 47,
   "id": "d7353ae1-2e9d-4c57-ad1e-9be5bae651e6",
   "metadata": {
    "tags": []
   },
   "outputs": [],
   "source": [
    "df_train.to_csv(\"./mid/icesales_train.csv\",index=False)\n",
    "df_test.to_csv(\"./mid/icesales_test.csv\",index=False)"
   ]
  }
 ],
 "metadata": {
  "kernelspec": {
   "display_name": "Python 3 (ipykernel)",
   "language": "python",
   "name": "python3"
  },
  "language_info": {
   "codemirror_mode": {
    "name": "ipython",
    "version": 3
   },
   "file_extension": ".py",
   "mimetype": "text/x-python",
   "name": "python",
   "nbconvert_exporter": "python",
   "pygments_lexer": "ipython3",
   "version": "3.10.13"
  }
 },
 "nbformat": 4,
 "nbformat_minor": 5
}
