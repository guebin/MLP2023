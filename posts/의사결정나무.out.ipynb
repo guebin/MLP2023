{
  "cells": [
    {
      "cell_type": "markdown",
      "metadata": {},
      "source": [
        "# 의사결정나무\n",
        "\n",
        "최규빈  \n",
        "2023-10-05"
      ],
      "id": "23f45258-c2c6-401f-975e-01f7b0e055b1"
    },
    {
      "cell_type": "code",
      "execution_count": 1,
      "metadata": {},
      "outputs": [],
      "source": [
        "import sklearn.tree"
      ],
      "id": "8e2a602d-2b0d-425e-8848-f349339ea67a"
    },
    {
      "cell_type": "code",
      "execution_count": 6,
      "metadata": {},
      "outputs": [],
      "source": [
        "predictr = sklearn.linear_model.LogisticRegression(C=0, penalty='l2')"
      ],
      "id": "e57f5b83-5a86-4a18-9891-0c2328220c5a"
    },
    {
      "cell_type": "code",
      "execution_count": null,
      "metadata": {},
      "outputs": [],
      "source": [
        "pd."
      ],
      "id": "84e870dd-f615-4fdd-8e04-4f812ffe8e10"
    },
    {
      "cell_type": "code",
      "execution_count": 3,
      "metadata": {},
      "outputs": [],
      "source": [
        "sklearn.tree.DecisionTreeClassifier()"
      ],
      "id": "1187b7b9-c982-4025-a3c9-b246950d3906"
    }
  ],
  "nbformat": 4,
  "nbformat_minor": 5,
  "metadata": {
    "kernelspec": {
      "name": "python3",
      "display_name": "Python 3 (ipykernel)",
      "language": "python"
    },
    "language_info": {
      "name": "python",
      "codemirror_mode": {
        "name": "ipython",
        "version": "3"
      },
      "file_extension": ".py",
      "mimetype": "text/x-python",
      "nbconvert_exporter": "python",
      "pygments_lexer": "ipython3",
      "version": "3.10.13"
    }
  }
}