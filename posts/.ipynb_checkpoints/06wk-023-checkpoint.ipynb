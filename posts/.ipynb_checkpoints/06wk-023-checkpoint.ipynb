{
 "cells": [
  {
   "cell_type": "raw",
   "metadata": {},
   "source": [
    "---\n",
    "title: \"06wk-023: 취업+각종영어점수, Lasso\"\n",
    "author: \"최규빈\"\n",
    "date: \"10/05/2023\"\n",
    "bibliography: ref.bib\n",
    "draft: true\n",
    "---"
   ]
  },
  {
   "cell_type": "markdown",
   "metadata": {},
   "source": [
    "# 1. 강의영상 "
   ]
  },
  {
   "cell_type": "markdown",
   "metadata": {},
   "source": [
    "# 2. Imports"
   ]
  },
  {
   "cell_type": "code",
   "execution_count": 1,
   "metadata": {
    "tags": []
   },
   "outputs": [],
   "source": [
    "import numpy as np\n",
    "import pandas as pd\n",
    "import sklearn.linear_model\n",
    "import matplotlib.pyplot as plt"
   ]
  },
  {
   "cell_type": "markdown",
   "metadata": {},
   "source": [
    "# 3. Data"
   ]
  },
  {
   "cell_type": "code",
   "execution_count": 334,
   "metadata": {
    "tags": []
   },
   "outputs": [],
   "source": [
    "df = pd.read_csv(\"https://raw.githubusercontent.com/guebin/MP2023/main/posts/employment_manytoeic.csv\")"
   ]
  },
  {
   "cell_type": "code",
   "execution_count": 335,
   "metadata": {
    "tags": []
   },
   "outputs": [
    {
     "data": {
      "text/html": [
       "<div>\n",
       "<style scoped>\n",
       "    .dataframe tbody tr th:only-of-type {\n",
       "        vertical-align: middle;\n",
       "    }\n",
       "\n",
       "    .dataframe tbody tr th {\n",
       "        vertical-align: top;\n",
       "    }\n",
       "\n",
       "    .dataframe thead th {\n",
       "        text-align: right;\n",
       "    }\n",
       "</style>\n",
       "<table border=\"1\" class=\"dataframe\">\n",
       "  <thead>\n",
       "    <tr style=\"text-align: right;\">\n",
       "      <th></th>\n",
       "      <th>employment_score</th>\n",
       "      <th>gpa</th>\n",
       "      <th>toeic</th>\n",
       "      <th>toeic0</th>\n",
       "      <th>toeic1</th>\n",
       "      <th>toeic2</th>\n",
       "      <th>toeic3</th>\n",
       "      <th>toeic4</th>\n",
       "      <th>toeic5</th>\n",
       "      <th>toeic6</th>\n",
       "      <th>...</th>\n",
       "      <th>toeic490</th>\n",
       "      <th>toeic491</th>\n",
       "      <th>toeic492</th>\n",
       "      <th>toeic493</th>\n",
       "      <th>toeic494</th>\n",
       "      <th>toeic495</th>\n",
       "      <th>toeic496</th>\n",
       "      <th>toeic497</th>\n",
       "      <th>toeic498</th>\n",
       "      <th>toeic499</th>\n",
       "    </tr>\n",
       "  </thead>\n",
       "  <tbody>\n",
       "    <tr>\n",
       "      <th>0</th>\n",
       "      <td>-0.949314</td>\n",
       "      <td>0.051535</td>\n",
       "      <td>135</td>\n",
       "      <td>134.889567</td>\n",
       "      <td>132.466381</td>\n",
       "      <td>134.328746</td>\n",
       "      <td>133.692285</td>\n",
       "      <td>134.490387</td>\n",
       "      <td>133.482738</td>\n",
       "      <td>135.805902</td>\n",
       "      <td>...</td>\n",
       "      <td>134.568925</td>\n",
       "      <td>135.248135</td>\n",
       "      <td>135.557690</td>\n",
       "      <td>134.307587</td>\n",
       "      <td>136.115518</td>\n",
       "      <td>136.895841</td>\n",
       "      <td>135.599610</td>\n",
       "      <td>134.083179</td>\n",
       "      <td>135.125554</td>\n",
       "      <td>134.320048</td>\n",
       "    </tr>\n",
       "    <tr>\n",
       "      <th>1</th>\n",
       "      <td>4.861725</td>\n",
       "      <td>0.355496</td>\n",
       "      <td>935</td>\n",
       "      <td>933.897710</td>\n",
       "      <td>934.928312</td>\n",
       "      <td>935.665096</td>\n",
       "      <td>934.115679</td>\n",
       "      <td>934.204277</td>\n",
       "      <td>935.213653</td>\n",
       "      <td>935.551083</td>\n",
       "      <td>...</td>\n",
       "      <td>932.507220</td>\n",
       "      <td>934.449154</td>\n",
       "      <td>935.213485</td>\n",
       "      <td>935.216839</td>\n",
       "      <td>935.039467</td>\n",
       "      <td>935.400347</td>\n",
       "      <td>934.172674</td>\n",
       "      <td>935.189259</td>\n",
       "      <td>936.578955</td>\n",
       "      <td>937.278620</td>\n",
       "    </tr>\n",
       "    <tr>\n",
       "      <th>2</th>\n",
       "      <td>5.582663</td>\n",
       "      <td>2.228435</td>\n",
       "      <td>485</td>\n",
       "      <td>483.020037</td>\n",
       "      <td>484.161879</td>\n",
       "      <td>486.041920</td>\n",
       "      <td>482.954745</td>\n",
       "      <td>485.891348</td>\n",
       "      <td>484.849052</td>\n",
       "      <td>485.410756</td>\n",
       "      <td>...</td>\n",
       "      <td>484.863750</td>\n",
       "      <td>485.516249</td>\n",
       "      <td>484.523790</td>\n",
       "      <td>486.036836</td>\n",
       "      <td>485.011074</td>\n",
       "      <td>485.637154</td>\n",
       "      <td>484.001982</td>\n",
       "      <td>485.544729</td>\n",
       "      <td>485.815829</td>\n",
       "      <td>485.042914</td>\n",
       "    </tr>\n",
       "    <tr>\n",
       "      <th>3</th>\n",
       "      <td>3.919694</td>\n",
       "      <td>1.179701</td>\n",
       "      <td>65</td>\n",
       "      <td>66.780387</td>\n",
       "      <td>67.388852</td>\n",
       "      <td>65.622595</td>\n",
       "      <td>62.763278</td>\n",
       "      <td>65.935953</td>\n",
       "      <td>67.288798</td>\n",
       "      <td>66.314210</td>\n",
       "      <td>...</td>\n",
       "      <td>64.151163</td>\n",
       "      <td>64.677268</td>\n",
       "      <td>66.340589</td>\n",
       "      <td>64.291130</td>\n",
       "      <td>64.540950</td>\n",
       "      <td>66.728237</td>\n",
       "      <td>65.474820</td>\n",
       "      <td>65.725247</td>\n",
       "      <td>65.015707</td>\n",
       "      <td>65.399658</td>\n",
       "    </tr>\n",
       "    <tr>\n",
       "      <th>4</th>\n",
       "      <td>8.286851</td>\n",
       "      <td>3.962356</td>\n",
       "      <td>445</td>\n",
       "      <td>444.348116</td>\n",
       "      <td>445.520801</td>\n",
       "      <td>446.419087</td>\n",
       "      <td>442.715198</td>\n",
       "      <td>445.043974</td>\n",
       "      <td>444.849464</td>\n",
       "      <td>446.178144</td>\n",
       "      <td>...</td>\n",
       "      <td>444.993117</td>\n",
       "      <td>444.999768</td>\n",
       "      <td>445.773163</td>\n",
       "      <td>444.924819</td>\n",
       "      <td>442.703987</td>\n",
       "      <td>445.118233</td>\n",
       "      <td>445.119561</td>\n",
       "      <td>446.214723</td>\n",
       "      <td>444.983397</td>\n",
       "      <td>444.455462</td>\n",
       "    </tr>\n",
       "    <tr>\n",
       "      <th>...</th>\n",
       "      <td>...</td>\n",
       "      <td>...</td>\n",
       "      <td>...</td>\n",
       "      <td>...</td>\n",
       "      <td>...</td>\n",
       "      <td>...</td>\n",
       "      <td>...</td>\n",
       "      <td>...</td>\n",
       "      <td>...</td>\n",
       "      <td>...</td>\n",
       "      <td>...</td>\n",
       "      <td>...</td>\n",
       "      <td>...</td>\n",
       "      <td>...</td>\n",
       "      <td>...</td>\n",
       "      <td>...</td>\n",
       "      <td>...</td>\n",
       "      <td>...</td>\n",
       "      <td>...</td>\n",
       "      <td>...</td>\n",
       "      <td>...</td>\n",
       "    </tr>\n",
       "    <tr>\n",
       "      <th>495</th>\n",
       "      <td>7.002081</td>\n",
       "      <td>4.288465</td>\n",
       "      <td>280</td>\n",
       "      <td>280.520486</td>\n",
       "      <td>281.060157</td>\n",
       "      <td>281.291354</td>\n",
       "      <td>280.816827</td>\n",
       "      <td>280.867509</td>\n",
       "      <td>279.748219</td>\n",
       "      <td>280.956388</td>\n",
       "      <td>...</td>\n",
       "      <td>280.864668</td>\n",
       "      <td>280.261168</td>\n",
       "      <td>278.871055</td>\n",
       "      <td>280.267526</td>\n",
       "      <td>279.792068</td>\n",
       "      <td>279.931181</td>\n",
       "      <td>280.606405</td>\n",
       "      <td>280.710435</td>\n",
       "      <td>279.602746</td>\n",
       "      <td>280.472047</td>\n",
       "    </tr>\n",
       "    <tr>\n",
       "      <th>496</th>\n",
       "      <td>5.431050</td>\n",
       "      <td>2.601212</td>\n",
       "      <td>310</td>\n",
       "      <td>310.015294</td>\n",
       "      <td>310.003728</td>\n",
       "      <td>308.680788</td>\n",
       "      <td>309.179518</td>\n",
       "      <td>310.908038</td>\n",
       "      <td>308.580682</td>\n",
       "      <td>308.720718</td>\n",
       "      <td>...</td>\n",
       "      <td>310.670717</td>\n",
       "      <td>310.872724</td>\n",
       "      <td>309.631197</td>\n",
       "      <td>309.723108</td>\n",
       "      <td>309.624440</td>\n",
       "      <td>310.207927</td>\n",
       "      <td>308.519863</td>\n",
       "      <td>309.858127</td>\n",
       "      <td>310.602814</td>\n",
       "      <td>310.841082</td>\n",
       "    </tr>\n",
       "    <tr>\n",
       "      <th>497</th>\n",
       "      <td>0.088812</td>\n",
       "      <td>0.042323</td>\n",
       "      <td>225</td>\n",
       "      <td>225.226422</td>\n",
       "      <td>225.738373</td>\n",
       "      <td>223.342848</td>\n",
       "      <td>226.416036</td>\n",
       "      <td>223.478492</td>\n",
       "      <td>225.080199</td>\n",
       "      <td>224.896846</td>\n",
       "      <td>...</td>\n",
       "      <td>223.252383</td>\n",
       "      <td>226.178697</td>\n",
       "      <td>225.494945</td>\n",
       "      <td>225.154573</td>\n",
       "      <td>225.254684</td>\n",
       "      <td>224.711397</td>\n",
       "      <td>225.259744</td>\n",
       "      <td>223.700222</td>\n",
       "      <td>225.700224</td>\n",
       "      <td>225.120175</td>\n",
       "    </tr>\n",
       "    <tr>\n",
       "      <th>498</th>\n",
       "      <td>3.806388</td>\n",
       "      <td>1.041416</td>\n",
       "      <td>320</td>\n",
       "      <td>321.135794</td>\n",
       "      <td>319.880713</td>\n",
       "      <td>319.759936</td>\n",
       "      <td>321.071771</td>\n",
       "      <td>320.085155</td>\n",
       "      <td>320.657430</td>\n",
       "      <td>320.802495</td>\n",
       "      <td>...</td>\n",
       "      <td>319.875882</td>\n",
       "      <td>321.006234</td>\n",
       "      <td>319.054499</td>\n",
       "      <td>320.498798</td>\n",
       "      <td>320.407021</td>\n",
       "      <td>323.002351</td>\n",
       "      <td>319.496038</td>\n",
       "      <td>320.011256</td>\n",
       "      <td>319.304070</td>\n",
       "      <td>320.418582</td>\n",
       "    </tr>\n",
       "    <tr>\n",
       "      <th>499</th>\n",
       "      <td>6.739095</td>\n",
       "      <td>3.626883</td>\n",
       "      <td>375</td>\n",
       "      <td>376.032149</td>\n",
       "      <td>373.131026</td>\n",
       "      <td>374.800140</td>\n",
       "      <td>374.541924</td>\n",
       "      <td>375.363948</td>\n",
       "      <td>375.758260</td>\n",
       "      <td>375.045161</td>\n",
       "      <td>...</td>\n",
       "      <td>375.452139</td>\n",
       "      <td>374.790209</td>\n",
       "      <td>374.247366</td>\n",
       "      <td>372.755630</td>\n",
       "      <td>373.711254</td>\n",
       "      <td>376.621000</td>\n",
       "      <td>373.979317</td>\n",
       "      <td>374.788932</td>\n",
       "      <td>374.153385</td>\n",
       "      <td>373.678255</td>\n",
       "    </tr>\n",
       "  </tbody>\n",
       "</table>\n",
       "<p>500 rows × 503 columns</p>\n",
       "</div>"
      ],
      "text/plain": [
       "     employment_score       gpa  toeic      toeic0      toeic1      toeic2  \\\n",
       "0           -0.949314  0.051535    135  134.889567  132.466381  134.328746   \n",
       "1            4.861725  0.355496    935  933.897710  934.928312  935.665096   \n",
       "2            5.582663  2.228435    485  483.020037  484.161879  486.041920   \n",
       "3            3.919694  1.179701     65   66.780387   67.388852   65.622595   \n",
       "4            8.286851  3.962356    445  444.348116  445.520801  446.419087   \n",
       "..                ...       ...    ...         ...         ...         ...   \n",
       "495          7.002081  4.288465    280  280.520486  281.060157  281.291354   \n",
       "496          5.431050  2.601212    310  310.015294  310.003728  308.680788   \n",
       "497          0.088812  0.042323    225  225.226422  225.738373  223.342848   \n",
       "498          3.806388  1.041416    320  321.135794  319.880713  319.759936   \n",
       "499          6.739095  3.626883    375  376.032149  373.131026  374.800140   \n",
       "\n",
       "         toeic3      toeic4      toeic5      toeic6  ...    toeic490  \\\n",
       "0    133.692285  134.490387  133.482738  135.805902  ...  134.568925   \n",
       "1    934.115679  934.204277  935.213653  935.551083  ...  932.507220   \n",
       "2    482.954745  485.891348  484.849052  485.410756  ...  484.863750   \n",
       "3     62.763278   65.935953   67.288798   66.314210  ...   64.151163   \n",
       "4    442.715198  445.043974  444.849464  446.178144  ...  444.993117   \n",
       "..          ...         ...         ...         ...  ...         ...   \n",
       "495  280.816827  280.867509  279.748219  280.956388  ...  280.864668   \n",
       "496  309.179518  310.908038  308.580682  308.720718  ...  310.670717   \n",
       "497  226.416036  223.478492  225.080199  224.896846  ...  223.252383   \n",
       "498  321.071771  320.085155  320.657430  320.802495  ...  319.875882   \n",
       "499  374.541924  375.363948  375.758260  375.045161  ...  375.452139   \n",
       "\n",
       "       toeic491    toeic492    toeic493    toeic494    toeic495    toeic496  \\\n",
       "0    135.248135  135.557690  134.307587  136.115518  136.895841  135.599610   \n",
       "1    934.449154  935.213485  935.216839  935.039467  935.400347  934.172674   \n",
       "2    485.516249  484.523790  486.036836  485.011074  485.637154  484.001982   \n",
       "3     64.677268   66.340589   64.291130   64.540950   66.728237   65.474820   \n",
       "4    444.999768  445.773163  444.924819  442.703987  445.118233  445.119561   \n",
       "..          ...         ...         ...         ...         ...         ...   \n",
       "495  280.261168  278.871055  280.267526  279.792068  279.931181  280.606405   \n",
       "496  310.872724  309.631197  309.723108  309.624440  310.207927  308.519863   \n",
       "497  226.178697  225.494945  225.154573  225.254684  224.711397  225.259744   \n",
       "498  321.006234  319.054499  320.498798  320.407021  323.002351  319.496038   \n",
       "499  374.790209  374.247366  372.755630  373.711254  376.621000  373.979317   \n",
       "\n",
       "       toeic497    toeic498    toeic499  \n",
       "0    134.083179  135.125554  134.320048  \n",
       "1    935.189259  936.578955  937.278620  \n",
       "2    485.544729  485.815829  485.042914  \n",
       "3     65.725247   65.015707   65.399658  \n",
       "4    446.214723  444.983397  444.455462  \n",
       "..          ...         ...         ...  \n",
       "495  280.710435  279.602746  280.472047  \n",
       "496  309.858127  310.602814  310.841082  \n",
       "497  223.700222  225.700224  225.120175  \n",
       "498  320.011256  319.304070  320.418582  \n",
       "499  374.788932  374.153385  373.678255  \n",
       "\n",
       "[500 rows x 503 columns]"
      ]
     },
     "execution_count": 335,
     "metadata": {},
     "output_type": "execute_result"
    }
   ],
   "source": [
    "df"
   ]
  },
  {
   "cell_type": "markdown",
   "metadata": {},
   "source": [
    "# 4. 분석"
   ]
  },
  {
   "cell_type": "markdown",
   "metadata": {},
   "source": [
    "`-` 적용할 방법: Lasso"
   ]
  },
  {
   "cell_type": "code",
   "execution_count": 336,
   "metadata": {
    "tags": []
   },
   "outputs": [],
   "source": [
    "df_train, df_test = sklearn.model_selection.train_test_split(df,test_size=0.3,random_state=7)"
   ]
  },
  {
   "cell_type": "code",
   "execution_count": 337,
   "metadata": {
    "tags": []
   },
   "outputs": [],
   "source": [
    "X = df_train.drop(['employment_score'],axis=1)\n",
    "XX = df_test.drop(['employment_score'],axis=1)\n",
    "y = df_train[['employment_score']]\n",
    "yy = df_test[['employment_score']]"
   ]
  },
  {
   "cell_type": "code",
   "execution_count": 354,
   "metadata": {
    "tags": []
   },
   "outputs": [],
   "source": [
    "prdtr = sklearn.linear_model.Lasso()"
   ]
  },
  {
   "cell_type": "code",
   "execution_count": 355,
   "metadata": {
    "tags": []
   },
   "outputs": [
    {
     "name": "stderr",
     "output_type": "stream",
     "text": [
      "/home/cgb2/anaconda3/envs/torch/lib/python3.10/site-packages/sklearn/linear_model/_coordinate_descent.py:628: ConvergenceWarning: Objective did not converge. You might want to increase the number of iterations, check the scale of the features or consider increasing regularisation. Duality gap: 2.763e-01, tolerance: 1.961e-01\n",
      "  model = cd_fast.enet_coordinate_descent(\n"
     ]
    },
    {
     "data": {
      "text/html": [
       "<style>#sk-container-id-40 {color: black;}#sk-container-id-40 pre{padding: 0;}#sk-container-id-40 div.sk-toggleable {background-color: white;}#sk-container-id-40 label.sk-toggleable__label {cursor: pointer;display: block;width: 100%;margin-bottom: 0;padding: 0.3em;box-sizing: border-box;text-align: center;}#sk-container-id-40 label.sk-toggleable__label-arrow:before {content: \"▸\";float: left;margin-right: 0.25em;color: #696969;}#sk-container-id-40 label.sk-toggleable__label-arrow:hover:before {color: black;}#sk-container-id-40 div.sk-estimator:hover label.sk-toggleable__label-arrow:before {color: black;}#sk-container-id-40 div.sk-toggleable__content {max-height: 0;max-width: 0;overflow: hidden;text-align: left;background-color: #f0f8ff;}#sk-container-id-40 div.sk-toggleable__content pre {margin: 0.2em;color: black;border-radius: 0.25em;background-color: #f0f8ff;}#sk-container-id-40 input.sk-toggleable__control:checked~div.sk-toggleable__content {max-height: 200px;max-width: 100%;overflow: auto;}#sk-container-id-40 input.sk-toggleable__control:checked~label.sk-toggleable__label-arrow:before {content: \"▾\";}#sk-container-id-40 div.sk-estimator input.sk-toggleable__control:checked~label.sk-toggleable__label {background-color: #d4ebff;}#sk-container-id-40 div.sk-label input.sk-toggleable__control:checked~label.sk-toggleable__label {background-color: #d4ebff;}#sk-container-id-40 input.sk-hidden--visually {border: 0;clip: rect(1px 1px 1px 1px);clip: rect(1px, 1px, 1px, 1px);height: 1px;margin: -1px;overflow: hidden;padding: 0;position: absolute;width: 1px;}#sk-container-id-40 div.sk-estimator {font-family: monospace;background-color: #f0f8ff;border: 1px dotted black;border-radius: 0.25em;box-sizing: border-box;margin-bottom: 0.5em;}#sk-container-id-40 div.sk-estimator:hover {background-color: #d4ebff;}#sk-container-id-40 div.sk-parallel-item::after {content: \"\";width: 100%;border-bottom: 1px solid gray;flex-grow: 1;}#sk-container-id-40 div.sk-label:hover label.sk-toggleable__label {background-color: #d4ebff;}#sk-container-id-40 div.sk-serial::before {content: \"\";position: absolute;border-left: 1px solid gray;box-sizing: border-box;top: 0;bottom: 0;left: 50%;z-index: 0;}#sk-container-id-40 div.sk-serial {display: flex;flex-direction: column;align-items: center;background-color: white;padding-right: 0.2em;padding-left: 0.2em;position: relative;}#sk-container-id-40 div.sk-item {position: relative;z-index: 1;}#sk-container-id-40 div.sk-parallel {display: flex;align-items: stretch;justify-content: center;background-color: white;position: relative;}#sk-container-id-40 div.sk-item::before, #sk-container-id-40 div.sk-parallel-item::before {content: \"\";position: absolute;border-left: 1px solid gray;box-sizing: border-box;top: 0;bottom: 0;left: 50%;z-index: -1;}#sk-container-id-40 div.sk-parallel-item {display: flex;flex-direction: column;z-index: 1;position: relative;background-color: white;}#sk-container-id-40 div.sk-parallel-item:first-child::after {align-self: flex-end;width: 50%;}#sk-container-id-40 div.sk-parallel-item:last-child::after {align-self: flex-start;width: 50%;}#sk-container-id-40 div.sk-parallel-item:only-child::after {width: 0;}#sk-container-id-40 div.sk-dashed-wrapped {border: 1px dashed gray;margin: 0 0.4em 0.5em 0.4em;box-sizing: border-box;padding-bottom: 0.4em;background-color: white;}#sk-container-id-40 div.sk-label label {font-family: monospace;font-weight: bold;display: inline-block;line-height: 1.2em;}#sk-container-id-40 div.sk-label-container {text-align: center;}#sk-container-id-40 div.sk-container {/* jupyter's `normalize.less` sets `[hidden] { display: none; }` but bootstrap.min.css set `[hidden] { display: none !important; }` so we also need the `!important` here to be able to override the default hidden behavior on the sphinx rendered scikit-learn.org. See: https://github.com/scikit-learn/scikit-learn/issues/21755 */display: inline-block !important;position: relative;}#sk-container-id-40 div.sk-text-repr-fallback {display: none;}</style><div id=\"sk-container-id-40\" class=\"sk-top-container\"><div class=\"sk-text-repr-fallback\"><pre>Lasso()</pre><b>In a Jupyter environment, please rerun this cell to show the HTML representation or trust the notebook. <br />On GitHub, the HTML representation is unable to render, please try loading this page with nbviewer.org.</b></div><div class=\"sk-container\" hidden><div class=\"sk-item\"><div class=\"sk-estimator sk-toggleable\"><input class=\"sk-toggleable__control sk-hidden--visually\" id=\"sk-estimator-id-40\" type=\"checkbox\" checked><label for=\"sk-estimator-id-40\" class=\"sk-toggleable__label sk-toggleable__label-arrow\">Lasso</label><div class=\"sk-toggleable__content\"><pre>Lasso()</pre></div></div></div></div></div>"
      ],
      "text/plain": [
       "Lasso()"
      ]
     },
     "execution_count": 355,
     "metadata": {},
     "output_type": "execute_result"
    }
   ],
   "source": [
    "prdtr.fit(X,y)\n",
    "#prdtr.coef_"
   ]
  },
  {
   "cell_type": "code",
   "execution_count": 356,
   "metadata": {
    "tags": []
   },
   "outputs": [
    {
     "data": {
      "text/plain": [
       "0.7292317194868381"
      ]
     },
     "execution_count": 356,
     "metadata": {},
     "output_type": "execute_result"
    }
   ],
   "source": [
    "prdtr.score(X,y)"
   ]
  },
  {
   "cell_type": "code",
   "execution_count": 357,
   "metadata": {
    "tags": []
   },
   "outputs": [
    {
     "data": {
      "text/plain": [
       "0.6938703049845618"
      ]
     },
     "execution_count": 357,
     "metadata": {},
     "output_type": "execute_result"
    }
   ],
   "source": [
    "prdtr.score(XX,yy)"
   ]
  },
  {
   "cell_type": "markdown",
   "metadata": {},
   "source": [
    "# 5. Lasso의 비법"
   ]
  },
  {
   "cell_type": "markdown",
   "metadata": {},
   "source": [
    "`-` LinearRegression vs Lasso"
   ]
  },
  {
   "cell_type": "code",
   "execution_count": 358,
   "metadata": {
    "tags": []
   },
   "outputs": [],
   "source": [
    "prdtr_list = [sklearn.linear_model.LinearRegression(), sklearn.linear_model.Lasso(alpha=1)]"
   ]
  },
  {
   "cell_type": "code",
   "execution_count": 359,
   "metadata": {
    "tags": []
   },
   "outputs": [
    {
     "name": "stderr",
     "output_type": "stream",
     "text": [
      "/home/cgb2/anaconda3/envs/torch/lib/python3.10/site-packages/sklearn/linear_model/_coordinate_descent.py:628: ConvergenceWarning: Objective did not converge. You might want to increase the number of iterations, check the scale of the features or consider increasing regularisation. Duality gap: 2.763e-01, tolerance: 1.961e-01\n",
      "  model = cd_fast.enet_coordinate_descent(\n"
     ]
    }
   ],
   "source": [
    "for prdtr in prdtr_list:\n",
    "    prdtr.fit(X,y)"
   ]
  },
  {
   "cell_type": "code",
   "execution_count": 360,
   "metadata": {
    "tags": []
   },
   "outputs": [
    {
     "data": {
      "text/plain": [
       "<matplotlib.legend.Legend at 0x7f287ce28c70>"
      ]
     },
     "execution_count": 360,
     "metadata": {},
     "output_type": "execute_result"
    },
    {
     "data": {
      "image/png": "[encoded data removed]",
      "text/plain": [
       "<Figure size 640x480 with 2 Axes>"
      ]
     },
     "metadata": {},
     "output_type": "display_data"
    }
   ],
   "source": [
    "fig,ax = plt.subplots(2)\n",
    "ax[0].plot(prdtr_list[0].coef_.reshape(-1)[1:],label='Toeic Coefs of LinearRegression',color='C0')\n",
    "ax[0].legend()\n",
    "ax[1].plot(prdtr_list[1].coef_.reshape(-1)[1:],label='Toeic Coef of Ridge',color='C1')\n",
    "ax[1].legend()"
   ]
  },
  {
   "cell_type": "markdown",
   "metadata": {},
   "source": [
    "`-` Lasso는 훨씬 Spare한 Coef를 가진다. "
   ]
  },
  {
   "cell_type": "code",
   "execution_count": 361,
   "metadata": {
    "tags": []
   },
   "outputs": [
    {
     "data": {
      "text/plain": [
       "502"
      ]
     },
     "execution_count": 361,
     "metadata": {},
     "output_type": "execute_result"
    }
   ],
   "source": [
    "(abs(prdtr_list[0].coef_)>0).sum() # 502개 모두 값이 있음.."
   ]
  },
  {
   "cell_type": "code",
   "execution_count": 362,
   "metadata": {
    "tags": []
   },
   "outputs": [
    {
     "data": {
      "text/plain": [
       "9"
      ]
     },
     "execution_count": 362,
     "metadata": {},
     "output_type": "execute_result"
    }
   ],
   "source": [
    "(abs(prdtr_list[1].coef_)>0).sum() # 대부분0이고 7개정도만 0이 아님"
   ]
  },
  {
   "cell_type": "markdown",
   "metadata": {},
   "source": [
    "# 6. 하이퍼파라메터"
   ]
  },
  {
   "cell_type": "markdown",
   "metadata": {},
   "source": [
    "## A. $\\alpha$ 에 따른 변화 관찰 "
   ]
  },
  {
   "cell_type": "markdown",
   "metadata": {},
   "source": [
    "`-` LinearRegression vs Lasso"
   ]
  },
  {
   "cell_type": "code",
   "execution_count": 428,
   "metadata": {
    "tags": []
   },
   "outputs": [],
   "source": [
    "prdtr_list = [sklearn.linear_model.Lasso(alpha=1),sklearn.linear_model.Lasso(alpha=0.3)]"
   ]
  },
  {
   "cell_type": "code",
   "execution_count": 431,
   "metadata": {
    "tags": []
   },
   "outputs": [
    {
     "name": "stderr",
     "output_type": "stream",
     "text": [
      "/home/cgb2/anaconda3/envs/torch/lib/python3.10/site-packages/sklearn/linear_model/_coordinate_descent.py:628: ConvergenceWarning: Objective did not converge. You might want to increase the number of iterations, check the scale of the features or consider increasing regularisation. Duality gap: 2.763e-01, tolerance: 1.961e-01\n",
      "  model = cd_fast.enet_coordinate_descent(\n",
      "/home/cgb2/anaconda3/envs/torch/lib/python3.10/site-packages/sklearn/linear_model/_coordinate_descent.py:628: ConvergenceWarning: Objective did not converge. You might want to increase the number of iterations, check the scale of the features or consider increasing regularisation. Duality gap: 2.469e-01, tolerance: 1.961e-01\n",
      "  model = cd_fast.enet_coordinate_descent(\n"
     ]
    }
   ],
   "source": [
    "for prdtr in prdtr_list:\n",
    "    prdtr.fit(X,y)"
   ]
  },
  {
   "cell_type": "code",
   "execution_count": 432,
   "metadata": {
    "tags": []
   },
   "outputs": [
    {
     "data": {
      "text/plain": [
       "<matplotlib.legend.Legend at 0x7f285fb9a350>"
      ]
     },
     "execution_count": 432,
     "metadata": {},
     "output_type": "execute_result"
    },
    {
     "data": {
      "image/png": "[encoded data removed]",
      "text/plain": [
       "<Figure size 640x480 with 2 Axes>"
      ]
     },
     "metadata": {},
     "output_type": "display_data"
    }
   ],
   "source": [
    "fig,ax = plt.subplots(2)\n",
    "ax[0].plot(prdtr_list[0].coef_.reshape(-1)[1:],label='Toeic Coefs of LinearRegression',color='C0')\n",
    "ax[0].legend()\n",
    "ax[1].plot(prdtr_list[1].coef_.reshape(-1)[1:],label='Toeic Coef of Ridge',color='C1')\n",
    "ax[1].legend()"
   ]
  },
  {
   "cell_type": "markdown",
   "metadata": {},
   "source": [
    "## B. 좀 더 많은 실험"
   ]
  },
  {
   "cell_type": "code",
   "execution_count": 433,
   "metadata": {},
   "outputs": [
    {
     "data": {
      "text/plain": [
       "array([0.        , 0.01010101, 0.02020202, 0.03030303, 0.04040404,\n",
       "       0.05050505, 0.06060606, 0.07070707, 0.08080808, 0.09090909,\n",
       "       0.1010101 , 0.11111111, 0.12121212, 0.13131313, 0.14141414,\n",
       "       0.15151515, 0.16161616, 0.17171717, 0.18181818, 0.19191919,\n",
       "       0.2020202 , 0.21212121, 0.22222222, 0.23232323, 0.24242424,\n",
       "       0.25252525, 0.26262626, 0.27272727, 0.28282828, 0.29292929,\n",
       "       0.3030303 , 0.31313131, 0.32323232, 0.33333333, 0.34343434,\n",
       "       0.35353535, 0.36363636, 0.37373737, 0.38383838, 0.39393939,\n",
       "       0.4040404 , 0.41414141, 0.42424242, 0.43434343, 0.44444444,\n",
       "       0.45454545, 0.46464646, 0.47474747, 0.48484848, 0.49494949,\n",
       "       0.50505051, 0.51515152, 0.52525253, 0.53535354, 0.54545455,\n",
       "       0.55555556, 0.56565657, 0.57575758, 0.58585859, 0.5959596 ,\n",
       "       0.60606061, 0.61616162, 0.62626263, 0.63636364, 0.64646465,\n",
       "       0.65656566, 0.66666667, 0.67676768, 0.68686869, 0.6969697 ,\n",
       "       0.70707071, 0.71717172, 0.72727273, 0.73737374, 0.74747475,\n",
       "       0.75757576, 0.76767677, 0.77777778, 0.78787879, 0.7979798 ,\n",
       "       0.80808081, 0.81818182, 0.82828283, 0.83838384, 0.84848485,\n",
       "       0.85858586, 0.86868687, 0.87878788, 0.88888889, 0.8989899 ,\n",
       "       0.90909091, 0.91919192, 0.92929293, 0.93939394, 0.94949495,\n",
       "       0.95959596, 0.96969697, 0.97979798, 0.98989899, 1.        ])"
      ]
     },
     "execution_count": 433,
     "metadata": {},
     "output_type": "execute_result"
    }
   ],
   "source": [
    "alphas = np.linspace(0,1,100)\n",
    "alphas"
   ]
  },
  {
   "cell_type": "code",
   "execution_count": 434,
   "metadata": {
    "tags": []
   },
   "outputs": [
    {
     "name": "stderr",
     "output_type": "stream",
     "text": [
      "/home/cgb2/anaconda3/envs/torch/lib/python3.10/site-packages/sklearn/base.py:1151: UserWarning: With alpha=0, this algorithm does not converge well. You are advised to use the LinearRegression estimator\n",
      "  return fit_method(estimator, *args, **kwargs)\n",
      "/home/cgb2/anaconda3/envs/torch/lib/python3.10/site-packages/sklearn/linear_model/_coordinate_descent.py:628: UserWarning: Coordinate descent with no regularization may lead to unexpected results and is discouraged.\n",
      "  model = cd_fast.enet_coordinate_descent(\n",
      "/home/cgb2/anaconda3/envs/torch/lib/python3.10/site-packages/sklearn/linear_model/_coordinate_descent.py:628: ConvergenceWarning: Objective did not converge. You might want to increase the number of iterations, check the scale of the features or consider increasing regularisation. Duality gap: 1.543e+02, tolerance: 1.961e-01 Linear regression models with null weight for the l1 regularization term are more efficiently fitted using one of the solvers implemented in sklearn.linear_model.Ridge/RidgeCV instead.\n",
      "  model = cd_fast.enet_coordinate_descent(\n",
      "/home/cgb2/anaconda3/envs/torch/lib/python3.10/site-packages/sklearn/linear_model/_coordinate_descent.py:628: ConvergenceWarning: Objective did not converge. You might want to increase the number of iterations, check the scale of the features or consider increasing regularisation. Duality gap: 1.432e+02, tolerance: 1.961e-01\n",
      "  model = cd_fast.enet_coordinate_descent(\n",
      "/home/cgb2/anaconda3/envs/torch/lib/python3.10/site-packages/sklearn/linear_model/_coordinate_descent.py:628: ConvergenceWarning: Objective did not converge. You might want to increase the number of iterations, check the scale of the features or consider increasing regularisation. Duality gap: 1.337e+02, tolerance: 1.961e-01\n",
      "  model = cd_fast.enet_coordinate_descent(\n",
      "/home/cgb2/anaconda3/envs/torch/lib/python3.10/site-packages/sklearn/linear_model/_coordinate_descent.py:628: ConvergenceWarning: Objective did not converge. You might want to increase the number of iterations, check the scale of the features or consider increasing regularisation. Duality gap: 1.209e+02, tolerance: 1.961e-01\n",
      "  model = cd_fast.enet_coordinate_descent(\n",
      "/home/cgb2/anaconda3/envs/torch/lib/python3.10/site-packages/sklearn/linear_model/_coordinate_descent.py:628: ConvergenceWarning: Objective did not converge. You might want to increase the number of iterations, check the scale of the features or consider increasing regularisation. Duality gap: 1.064e+02, tolerance: 1.961e-01\n",
      "  model = cd_fast.enet_coordinate_descent(\n",
      "/home/cgb2/anaconda3/envs/torch/lib/python3.10/site-packages/sklearn/linear_model/_coordinate_descent.py:628: ConvergenceWarning: Objective did not converge. You might want to increase the number of iterations, check the scale of the features or consider increasing regularisation. Duality gap: 9.045e+01, tolerance: 1.961e-01\n",
      "  model = cd_fast.enet_coordinate_descent(\n",
      "/home/cgb2/anaconda3/envs/torch/lib/python3.10/site-packages/sklearn/linear_model/_coordinate_descent.py:628: ConvergenceWarning: Objective did not converge. You might want to increase the number of iterations, check the scale of the features or consider increasing regularisation. Duality gap: 7.308e+01, tolerance: 1.961e-01\n",
      "  model = cd_fast.enet_coordinate_descent(\n",
      "/home/cgb2/anaconda3/envs/torch/lib/python3.10/site-packages/sklearn/linear_model/_coordinate_descent.py:628: ConvergenceWarning: Objective did not converge. You might want to increase the number of iterations, check the scale of the features or consider increasing regularisation. Duality gap: 6.638e+01, tolerance: 1.961e-01\n",
      "  model = cd_fast.enet_coordinate_descent(\n",
      "/home/cgb2/anaconda3/envs/torch/lib/python3.10/site-packages/sklearn/linear_model/_coordinate_descent.py:628: ConvergenceWarning: Objective did not converge. You might want to increase the number of iterations, check the scale of the features or consider increasing regularisation. Duality gap: 6.232e+01, tolerance: 1.961e-01\n",
      "  model = cd_fast.enet_coordinate_descent(\n",
      "/home/cgb2/anaconda3/envs/torch/lib/python3.10/site-packages/sklearn/linear_model/_coordinate_descent.py:628: ConvergenceWarning: Objective did not converge. You might want to increase the number of iterations, check the scale of the features or consider increasing regularisation. Duality gap: 5.018e+01, tolerance: 1.961e-01\n",
      "  model = cd_fast.enet_coordinate_descent(\n",
      "/home/cgb2/anaconda3/envs/torch/lib/python3.10/site-packages/sklearn/linear_model/_coordinate_descent.py:628: ConvergenceWarning: Objective did not converge. You might want to increase the number of iterations, check the scale of the features or consider increasing regularisation. Duality gap: 3.558e+01, tolerance: 1.961e-01\n",
      "  model = cd_fast.enet_coordinate_descent(\n",
      "/home/cgb2/anaconda3/envs/torch/lib/python3.10/site-packages/sklearn/linear_model/_coordinate_descent.py:628: ConvergenceWarning: Objective did not converge. You might want to increase the number of iterations, check the scale of the features or consider increasing regularisation. Duality gap: 2.899e+01, tolerance: 1.961e-01\n",
      "  model = cd_fast.enet_coordinate_descent(\n",
      "/home/cgb2/anaconda3/envs/torch/lib/python3.10/site-packages/sklearn/linear_model/_coordinate_descent.py:628: ConvergenceWarning: Objective did not converge. You might want to increase the number of iterations, check the scale of the features or consider increasing regularisation. Duality gap: 2.802e+01, tolerance: 1.961e-01\n",
      "  model = cd_fast.enet_coordinate_descent(\n",
      "/home/cgb2/anaconda3/envs/torch/lib/python3.10/site-packages/sklearn/linear_model/_coordinate_descent.py:628: ConvergenceWarning: Objective did not converge. You might want to increase the number of iterations, check the scale of the features or consider increasing regularisation. Duality gap: 2.206e+01, tolerance: 1.961e-01\n",
      "  model = cd_fast.enet_coordinate_descent(\n",
      "/home/cgb2/anaconda3/envs/torch/lib/python3.10/site-packages/sklearn/linear_model/_coordinate_descent.py:628: ConvergenceWarning: Objective did not converge. You might want to increase the number of iterations, check the scale of the features or consider increasing regularisation. Duality gap: 1.023e+01, tolerance: 1.961e-01\n",
      "  model = cd_fast.enet_coordinate_descent(\n",
      "/home/cgb2/anaconda3/envs/torch/lib/python3.10/site-packages/sklearn/linear_model/_coordinate_descent.py:628: ConvergenceWarning: Objective did not converge. You might want to increase the number of iterations, check the scale of the features or consider increasing regularisation. Duality gap: 4.324e-01, tolerance: 1.961e-01\n",
      "  model = cd_fast.enet_coordinate_descent(\n",
      "/home/cgb2/anaconda3/envs/torch/lib/python3.10/site-packages/sklearn/linear_model/_coordinate_descent.py:628: ConvergenceWarning: Objective did not converge. You might want to increase the number of iterations, check the scale of the features or consider increasing regularisation. Duality gap: 2.372e-01, tolerance: 1.961e-01\n",
      "  model = cd_fast.enet_coordinate_descent(\n",
      "/home/cgb2/anaconda3/envs/torch/lib/python3.10/site-packages/sklearn/linear_model/_coordinate_descent.py:628: ConvergenceWarning: Objective did not converge. You might want to increase the number of iterations, check the scale of the features or consider increasing regularisation. Duality gap: 2.379e-01, tolerance: 1.961e-01\n",
      "  model = cd_fast.enet_coordinate_descent(\n",
      "/home/cgb2/anaconda3/envs/torch/lib/python3.10/site-packages/sklearn/linear_model/_coordinate_descent.py:628: ConvergenceWarning: Objective did not converge. You might want to increase the number of iterations, check the scale of the features or consider increasing regularisation. Duality gap: 2.387e-01, tolerance: 1.961e-01\n",
      "  model = cd_fast.enet_coordinate_descent(\n",
      "/home/cgb2/anaconda3/envs/torch/lib/python3.10/site-packages/sklearn/linear_model/_coordinate_descent.py:628: ConvergenceWarning: Objective did not converge. You might want to increase the number of iterations, check the scale of the features or consider increasing regularisation. Duality gap: 2.395e-01, tolerance: 1.961e-01\n",
      "  model = cd_fast.enet_coordinate_descent(\n",
      "/home/cgb2/anaconda3/envs/torch/lib/python3.10/site-packages/sklearn/linear_model/_coordinate_descent.py:628: ConvergenceWarning: Objective did not converge. You might want to increase the number of iterations, check the scale of the features or consider increasing regularisation. Duality gap: 2.402e-01, tolerance: 1.961e-01\n",
      "  model = cd_fast.enet_coordinate_descent(\n",
      "/home/cgb2/anaconda3/envs/torch/lib/python3.10/site-packages/sklearn/linear_model/_coordinate_descent.py:628: ConvergenceWarning: Objective did not converge. You might want to increase the number of iterations, check the scale of the features or consider increasing regularisation. Duality gap: 2.409e-01, tolerance: 1.961e-01\n",
      "  model = cd_fast.enet_coordinate_descent(\n",
      "/home/cgb2/anaconda3/envs/torch/lib/python3.10/site-packages/sklearn/linear_model/_coordinate_descent.py:628: ConvergenceWarning: Objective did not converge. You might want to increase the number of iterations, check the scale of the features or consider increasing regularisation. Duality gap: 2.417e-01, tolerance: 1.961e-01\n",
      "  model = cd_fast.enet_coordinate_descent(\n",
      "/home/cgb2/anaconda3/envs/torch/lib/python3.10/site-packages/sklearn/linear_model/_coordinate_descent.py:628: ConvergenceWarning: Objective did not converge. You might want to increase the number of iterations, check the scale of the features or consider increasing regularisation. Duality gap: 2.424e-01, tolerance: 1.961e-01\n",
      "  model = cd_fast.enet_coordinate_descent(\n",
      "/home/cgb2/anaconda3/envs/torch/lib/python3.10/site-packages/sklearn/linear_model/_coordinate_descent.py:628: ConvergenceWarning: Objective did not converge. You might want to increase the number of iterations, check the scale of the features or consider increasing regularisation. Duality gap: 2.431e-01, tolerance: 1.961e-01\n",
      "  model = cd_fast.enet_coordinate_descent(\n",
      "/home/cgb2/anaconda3/envs/torch/lib/python3.10/site-packages/sklearn/linear_model/_coordinate_descent.py:628: ConvergenceWarning: Objective did not converge. You might want to increase the number of iterations, check the scale of the features or consider increasing regularisation. Duality gap: 2.438e-01, tolerance: 1.961e-01\n",
      "  model = cd_fast.enet_coordinate_descent(\n",
      "/home/cgb2/anaconda3/envs/torch/lib/python3.10/site-packages/sklearn/linear_model/_coordinate_descent.py:628: ConvergenceWarning: Objective did not converge. You might want to increase the number of iterations, check the scale of the features or consider increasing regularisation. Duality gap: 2.445e-01, tolerance: 1.961e-01\n",
      "  model = cd_fast.enet_coordinate_descent(\n",
      "/home/cgb2/anaconda3/envs/torch/lib/python3.10/site-packages/sklearn/linear_model/_coordinate_descent.py:628: ConvergenceWarning: Objective did not converge. You might want to increase the number of iterations, check the scale of the features or consider increasing regularisation. Duality gap: 2.451e-01, tolerance: 1.961e-01\n",
      "  model = cd_fast.enet_coordinate_descent(\n",
      "/home/cgb2/anaconda3/envs/torch/lib/python3.10/site-packages/sklearn/linear_model/_coordinate_descent.py:628: ConvergenceWarning: Objective did not converge. You might want to increase the number of iterations, check the scale of the features or consider increasing regularisation. Duality gap: 2.458e-01, tolerance: 1.961e-01\n",
      "  model = cd_fast.enet_coordinate_descent(\n",
      "/home/cgb2/anaconda3/envs/torch/lib/python3.10/site-packages/sklearn/linear_model/_coordinate_descent.py:628: ConvergenceWarning: Objective did not converge. You might want to increase the number of iterations, check the scale of the features or consider increasing regularisation. Duality gap: 2.465e-01, tolerance: 1.961e-01\n",
      "  model = cd_fast.enet_coordinate_descent(\n",
      "/home/cgb2/anaconda3/envs/torch/lib/python3.10/site-packages/sklearn/linear_model/_coordinate_descent.py:628: ConvergenceWarning: Objective did not converge. You might want to increase the number of iterations, check the scale of the features or consider increasing regularisation. Duality gap: 2.471e-01, tolerance: 1.961e-01\n",
      "  model = cd_fast.enet_coordinate_descent(\n",
      "/home/cgb2/anaconda3/envs/torch/lib/python3.10/site-packages/sklearn/linear_model/_coordinate_descent.py:628: ConvergenceWarning: Objective did not converge. You might want to increase the number of iterations, check the scale of the features or consider increasing regularisation. Duality gap: 2.478e-01, tolerance: 1.961e-01\n",
      "  model = cd_fast.enet_coordinate_descent(\n",
      "/home/cgb2/anaconda3/envs/torch/lib/python3.10/site-packages/sklearn/linear_model/_coordinate_descent.py:628: ConvergenceWarning: Objective did not converge. You might want to increase the number of iterations, check the scale of the features or consider increasing regularisation. Duality gap: 2.484e-01, tolerance: 1.961e-01\n",
      "  model = cd_fast.enet_coordinate_descent(\n",
      "/home/cgb2/anaconda3/envs/torch/lib/python3.10/site-packages/sklearn/linear_model/_coordinate_descent.py:628: ConvergenceWarning: Objective did not converge. You might want to increase the number of iterations, check the scale of the features or consider increasing regularisation. Duality gap: 2.490e-01, tolerance: 1.961e-01\n",
      "  model = cd_fast.enet_coordinate_descent(\n",
      "/home/cgb2/anaconda3/envs/torch/lib/python3.10/site-packages/sklearn/linear_model/_coordinate_descent.py:628: ConvergenceWarning: Objective did not converge. You might want to increase the number of iterations, check the scale of the features or consider increasing regularisation. Duality gap: 2.496e-01, tolerance: 1.961e-01\n",
      "  model = cd_fast.enet_coordinate_descent(\n",
      "/home/cgb2/anaconda3/envs/torch/lib/python3.10/site-packages/sklearn/linear_model/_coordinate_descent.py:628: ConvergenceWarning: Objective did not converge. You might want to increase the number of iterations, check the scale of the features or consider increasing regularisation. Duality gap: 2.502e-01, tolerance: 1.961e-01\n",
      "  model = cd_fast.enet_coordinate_descent(\n",
      "/home/cgb2/anaconda3/envs/torch/lib/python3.10/site-packages/sklearn/linear_model/_coordinate_descent.py:628: ConvergenceWarning: Objective did not converge. You might want to increase the number of iterations, check the scale of the features or consider increasing regularisation. Duality gap: 2.508e-01, tolerance: 1.961e-01\n",
      "  model = cd_fast.enet_coordinate_descent(\n",
      "/home/cgb2/anaconda3/envs/torch/lib/python3.10/site-packages/sklearn/linear_model/_coordinate_descent.py:628: ConvergenceWarning: Objective did not converge. You might want to increase the number of iterations, check the scale of the features or consider increasing regularisation. Duality gap: 2.514e-01, tolerance: 1.961e-01\n",
      "  model = cd_fast.enet_coordinate_descent(\n",
      "/home/cgb2/anaconda3/envs/torch/lib/python3.10/site-packages/sklearn/linear_model/_coordinate_descent.py:628: ConvergenceWarning: Objective did not converge. You might want to increase the number of iterations, check the scale of the features or consider increasing regularisation. Duality gap: 2.520e-01, tolerance: 1.961e-01\n",
      "  model = cd_fast.enet_coordinate_descent(\n",
      "/home/cgb2/anaconda3/envs/torch/lib/python3.10/site-packages/sklearn/linear_model/_coordinate_descent.py:628: ConvergenceWarning: Objective did not converge. You might want to increase the number of iterations, check the scale of the features or consider increasing regularisation. Duality gap: 2.526e-01, tolerance: 1.961e-01\n",
      "  model = cd_fast.enet_coordinate_descent(\n",
      "/home/cgb2/anaconda3/envs/torch/lib/python3.10/site-packages/sklearn/linear_model/_coordinate_descent.py:628: ConvergenceWarning: Objective did not converge. You might want to increase the number of iterations, check the scale of the features or consider increasing regularisation. Duality gap: 2.531e-01, tolerance: 1.961e-01\n",
      "  model = cd_fast.enet_coordinate_descent(\n",
      "/home/cgb2/anaconda3/envs/torch/lib/python3.10/site-packages/sklearn/linear_model/_coordinate_descent.py:628: ConvergenceWarning: Objective did not converge. You might want to increase the number of iterations, check the scale of the features or consider increasing regularisation. Duality gap: 2.537e-01, tolerance: 1.961e-01\n",
      "  model = cd_fast.enet_coordinate_descent(\n",
      "/home/cgb2/anaconda3/envs/torch/lib/python3.10/site-packages/sklearn/linear_model/_coordinate_descent.py:628: ConvergenceWarning: Objective did not converge. You might want to increase the number of iterations, check the scale of the features or consider increasing regularisation. Duality gap: 2.542e-01, tolerance: 1.961e-01\n",
      "  model = cd_fast.enet_coordinate_descent(\n",
      "/home/cgb2/anaconda3/envs/torch/lib/python3.10/site-packages/sklearn/linear_model/_coordinate_descent.py:628: ConvergenceWarning: Objective did not converge. You might want to increase the number of iterations, check the scale of the features or consider increasing regularisation. Duality gap: 2.548e-01, tolerance: 1.961e-01\n",
      "  model = cd_fast.enet_coordinate_descent(\n",
      "/home/cgb2/anaconda3/envs/torch/lib/python3.10/site-packages/sklearn/linear_model/_coordinate_descent.py:628: ConvergenceWarning: Objective did not converge. You might want to increase the number of iterations, check the scale of the features or consider increasing regularisation. Duality gap: 2.553e-01, tolerance: 1.961e-01\n",
      "  model = cd_fast.enet_coordinate_descent(\n",
      "/home/cgb2/anaconda3/envs/torch/lib/python3.10/site-packages/sklearn/linear_model/_coordinate_descent.py:628: ConvergenceWarning: Objective did not converge. You might want to increase the number of iterations, check the scale of the features or consider increasing regularisation. Duality gap: 2.558e-01, tolerance: 1.961e-01\n",
      "  model = cd_fast.enet_coordinate_descent(\n",
      "/home/cgb2/anaconda3/envs/torch/lib/python3.10/site-packages/sklearn/linear_model/_coordinate_descent.py:628: ConvergenceWarning: Objective did not converge. You might want to increase the number of iterations, check the scale of the features or consider increasing regularisation. Duality gap: 2.564e-01, tolerance: 1.961e-01\n",
      "  model = cd_fast.enet_coordinate_descent(\n",
      "/home/cgb2/anaconda3/envs/torch/lib/python3.10/site-packages/sklearn/linear_model/_coordinate_descent.py:628: ConvergenceWarning: Objective did not converge. You might want to increase the number of iterations, check the scale of the features or consider increasing regularisation. Duality gap: 2.570e-01, tolerance: 1.961e-01\n",
      "  model = cd_fast.enet_coordinate_descent(\n",
      "/home/cgb2/anaconda3/envs/torch/lib/python3.10/site-packages/sklearn/linear_model/_coordinate_descent.py:628: ConvergenceWarning: Objective did not converge. You might want to increase the number of iterations, check the scale of the features or consider increasing regularisation. Duality gap: 2.576e-01, tolerance: 1.961e-01\n",
      "  model = cd_fast.enet_coordinate_descent(\n",
      "/home/cgb2/anaconda3/envs/torch/lib/python3.10/site-packages/sklearn/linear_model/_coordinate_descent.py:628: ConvergenceWarning: Objective did not converge. You might want to increase the number of iterations, check the scale of the features or consider increasing regularisation. Duality gap: 2.581e-01, tolerance: 1.961e-01\n",
      "  model = cd_fast.enet_coordinate_descent(\n",
      "/home/cgb2/anaconda3/envs/torch/lib/python3.10/site-packages/sklearn/linear_model/_coordinate_descent.py:628: ConvergenceWarning: Objective did not converge. You might want to increase the number of iterations, check the scale of the features or consider increasing regularisation. Duality gap: 2.587e-01, tolerance: 1.961e-01\n",
      "  model = cd_fast.enet_coordinate_descent(\n",
      "/home/cgb2/anaconda3/envs/torch/lib/python3.10/site-packages/sklearn/linear_model/_coordinate_descent.py:628: ConvergenceWarning: Objective did not converge. You might want to increase the number of iterations, check the scale of the features or consider increasing regularisation. Duality gap: 2.592e-01, tolerance: 1.961e-01\n",
      "  model = cd_fast.enet_coordinate_descent(\n",
      "/home/cgb2/anaconda3/envs/torch/lib/python3.10/site-packages/sklearn/linear_model/_coordinate_descent.py:628: ConvergenceWarning: Objective did not converge. You might want to increase the number of iterations, check the scale of the features or consider increasing regularisation. Duality gap: 2.598e-01, tolerance: 1.961e-01\n",
      "  model = cd_fast.enet_coordinate_descent(\n",
      "/home/cgb2/anaconda3/envs/torch/lib/python3.10/site-packages/sklearn/linear_model/_coordinate_descent.py:628: ConvergenceWarning: Objective did not converge. You might want to increase the number of iterations, check the scale of the features or consider increasing regularisation. Duality gap: 2.603e-01, tolerance: 1.961e-01\n",
      "  model = cd_fast.enet_coordinate_descent(\n",
      "/home/cgb2/anaconda3/envs/torch/lib/python3.10/site-packages/sklearn/linear_model/_coordinate_descent.py:628: ConvergenceWarning: Objective did not converge. You might want to increase the number of iterations, check the scale of the features or consider increasing regularisation. Duality gap: 2.609e-01, tolerance: 1.961e-01\n",
      "  model = cd_fast.enet_coordinate_descent(\n",
      "/home/cgb2/anaconda3/envs/torch/lib/python3.10/site-packages/sklearn/linear_model/_coordinate_descent.py:628: ConvergenceWarning: Objective did not converge. You might want to increase the number of iterations, check the scale of the features or consider increasing regularisation. Duality gap: 2.615e-01, tolerance: 1.961e-01\n",
      "  model = cd_fast.enet_coordinate_descent(\n",
      "/home/cgb2/anaconda3/envs/torch/lib/python3.10/site-packages/sklearn/linear_model/_coordinate_descent.py:628: ConvergenceWarning: Objective did not converge. You might want to increase the number of iterations, check the scale of the features or consider increasing regularisation. Duality gap: 2.620e-01, tolerance: 1.961e-01\n",
      "  model = cd_fast.enet_coordinate_descent(\n",
      "/home/cgb2/anaconda3/envs/torch/lib/python3.10/site-packages/sklearn/linear_model/_coordinate_descent.py:628: ConvergenceWarning: Objective did not converge. You might want to increase the number of iterations, check the scale of the features or consider increasing regularisation. Duality gap: 2.626e-01, tolerance: 1.961e-01\n",
      "  model = cd_fast.enet_coordinate_descent(\n",
      "/home/cgb2/anaconda3/envs/torch/lib/python3.10/site-packages/sklearn/linear_model/_coordinate_descent.py:628: ConvergenceWarning: Objective did not converge. You might want to increase the number of iterations, check the scale of the features or consider increasing regularisation. Duality gap: 2.631e-01, tolerance: 1.961e-01\n",
      "  model = cd_fast.enet_coordinate_descent(\n",
      "/home/cgb2/anaconda3/envs/torch/lib/python3.10/site-packages/sklearn/linear_model/_coordinate_descent.py:628: ConvergenceWarning: Objective did not converge. You might want to increase the number of iterations, check the scale of the features or consider increasing regularisation. Duality gap: 2.636e-01, tolerance: 1.961e-01\n",
      "  model = cd_fast.enet_coordinate_descent(\n",
      "/home/cgb2/anaconda3/envs/torch/lib/python3.10/site-packages/sklearn/linear_model/_coordinate_descent.py:628: ConvergenceWarning: Objective did not converge. You might want to increase the number of iterations, check the scale of the features or consider increasing regularisation. Duality gap: 2.641e-01, tolerance: 1.961e-01\n",
      "  model = cd_fast.enet_coordinate_descent(\n",
      "/home/cgb2/anaconda3/envs/torch/lib/python3.10/site-packages/sklearn/linear_model/_coordinate_descent.py:628: ConvergenceWarning: Objective did not converge. You might want to increase the number of iterations, check the scale of the features or consider increasing regularisation. Duality gap: 2.646e-01, tolerance: 1.961e-01\n",
      "  model = cd_fast.enet_coordinate_descent(\n",
      "/home/cgb2/anaconda3/envs/torch/lib/python3.10/site-packages/sklearn/linear_model/_coordinate_descent.py:628: ConvergenceWarning: Objective did not converge. You might want to increase the number of iterations, check the scale of the features or consider increasing regularisation. Duality gap: 2.651e-01, tolerance: 1.961e-01\n",
      "  model = cd_fast.enet_coordinate_descent(\n",
      "/home/cgb2/anaconda3/envs/torch/lib/python3.10/site-packages/sklearn/linear_model/_coordinate_descent.py:628: ConvergenceWarning: Objective did not converge. You might want to increase the number of iterations, check the scale of the features or consider increasing regularisation. Duality gap: 2.656e-01, tolerance: 1.961e-01\n",
      "  model = cd_fast.enet_coordinate_descent(\n",
      "/home/cgb2/anaconda3/envs/torch/lib/python3.10/site-packages/sklearn/linear_model/_coordinate_descent.py:628: ConvergenceWarning: Objective did not converge. You might want to increase the number of iterations, check the scale of the features or consider increasing regularisation. Duality gap: 2.660e-01, tolerance: 1.961e-01\n",
      "  model = cd_fast.enet_coordinate_descent(\n",
      "/home/cgb2/anaconda3/envs/torch/lib/python3.10/site-packages/sklearn/linear_model/_coordinate_descent.py:628: ConvergenceWarning: Objective did not converge. You might want to increase the number of iterations, check the scale of the features or consider increasing regularisation. Duality gap: 2.664e-01, tolerance: 1.961e-01\n",
      "  model = cd_fast.enet_coordinate_descent(\n",
      "/home/cgb2/anaconda3/envs/torch/lib/python3.10/site-packages/sklearn/linear_model/_coordinate_descent.py:628: ConvergenceWarning: Objective did not converge. You might want to increase the number of iterations, check the scale of the features or consider increasing regularisation. Duality gap: 2.669e-01, tolerance: 1.961e-01\n",
      "  model = cd_fast.enet_coordinate_descent(\n",
      "/home/cgb2/anaconda3/envs/torch/lib/python3.10/site-packages/sklearn/linear_model/_coordinate_descent.py:628: ConvergenceWarning: Objective did not converge. You might want to increase the number of iterations, check the scale of the features or consider increasing regularisation. Duality gap: 2.673e-01, tolerance: 1.961e-01\n",
      "  model = cd_fast.enet_coordinate_descent(\n",
      "/home/cgb2/anaconda3/envs/torch/lib/python3.10/site-packages/sklearn/linear_model/_coordinate_descent.py:628: ConvergenceWarning: Objective did not converge. You might want to increase the number of iterations, check the scale of the features or consider increasing regularisation. Duality gap: 2.677e-01, tolerance: 1.961e-01\n",
      "  model = cd_fast.enet_coordinate_descent(\n",
      "/home/cgb2/anaconda3/envs/torch/lib/python3.10/site-packages/sklearn/linear_model/_coordinate_descent.py:628: ConvergenceWarning: Objective did not converge. You might want to increase the number of iterations, check the scale of the features or consider increasing regularisation. Duality gap: 2.681e-01, tolerance: 1.961e-01\n",
      "  model = cd_fast.enet_coordinate_descent(\n",
      "/home/cgb2/anaconda3/envs/torch/lib/python3.10/site-packages/sklearn/linear_model/_coordinate_descent.py:628: ConvergenceWarning: Objective did not converge. You might want to increase the number of iterations, check the scale of the features or consider increasing regularisation. Duality gap: 2.684e-01, tolerance: 1.961e-01\n",
      "  model = cd_fast.enet_coordinate_descent(\n",
      "/home/cgb2/anaconda3/envs/torch/lib/python3.10/site-packages/sklearn/linear_model/_coordinate_descent.py:628: ConvergenceWarning: Objective did not converge. You might want to increase the number of iterations, check the scale of the features or consider increasing regularisation. Duality gap: 2.688e-01, tolerance: 1.961e-01\n",
      "  model = cd_fast.enet_coordinate_descent(\n",
      "/home/cgb2/anaconda3/envs/torch/lib/python3.10/site-packages/sklearn/linear_model/_coordinate_descent.py:628: ConvergenceWarning: Objective did not converge. You might want to increase the number of iterations, check the scale of the features or consider increasing regularisation. Duality gap: 2.691e-01, tolerance: 1.961e-01\n",
      "  model = cd_fast.enet_coordinate_descent(\n",
      "/home/cgb2/anaconda3/envs/torch/lib/python3.10/site-packages/sklearn/linear_model/_coordinate_descent.py:628: ConvergenceWarning: Objective did not converge. You might want to increase the number of iterations, check the scale of the features or consider increasing regularisation. Duality gap: 2.695e-01, tolerance: 1.961e-01\n",
      "  model = cd_fast.enet_coordinate_descent(\n",
      "/home/cgb2/anaconda3/envs/torch/lib/python3.10/site-packages/sklearn/linear_model/_coordinate_descent.py:628: ConvergenceWarning: Objective did not converge. You might want to increase the number of iterations, check the scale of the features or consider increasing regularisation. Duality gap: 2.699e-01, tolerance: 1.961e-01\n",
      "  model = cd_fast.enet_coordinate_descent(\n",
      "/home/cgb2/anaconda3/envs/torch/lib/python3.10/site-packages/sklearn/linear_model/_coordinate_descent.py:628: ConvergenceWarning: Objective did not converge. You might want to increase the number of iterations, check the scale of the features or consider increasing regularisation. Duality gap: 2.703e-01, tolerance: 1.961e-01\n",
      "  model = cd_fast.enet_coordinate_descent(\n",
      "/home/cgb2/anaconda3/envs/torch/lib/python3.10/site-packages/sklearn/linear_model/_coordinate_descent.py:628: ConvergenceWarning: Objective did not converge. You might want to increase the number of iterations, check the scale of the features or consider increasing regularisation. Duality gap: 2.707e-01, tolerance: 1.961e-01\n",
      "  model = cd_fast.enet_coordinate_descent(\n",
      "/home/cgb2/anaconda3/envs/torch/lib/python3.10/site-packages/sklearn/linear_model/_coordinate_descent.py:628: ConvergenceWarning: Objective did not converge. You might want to increase the number of iterations, check the scale of the features or consider increasing regularisation. Duality gap: 2.711e-01, tolerance: 1.961e-01\n",
      "  model = cd_fast.enet_coordinate_descent(\n",
      "/home/cgb2/anaconda3/envs/torch/lib/python3.10/site-packages/sklearn/linear_model/_coordinate_descent.py:628: ConvergenceWarning: Objective did not converge. You might want to increase the number of iterations, check the scale of the features or consider increasing regularisation. Duality gap: 2.715e-01, tolerance: 1.961e-01\n",
      "  model = cd_fast.enet_coordinate_descent(\n",
      "/home/cgb2/anaconda3/envs/torch/lib/python3.10/site-packages/sklearn/linear_model/_coordinate_descent.py:628: ConvergenceWarning: Objective did not converge. You might want to increase the number of iterations, check the scale of the features or consider increasing regularisation. Duality gap: 2.719e-01, tolerance: 1.961e-01\n",
      "  model = cd_fast.enet_coordinate_descent(\n",
      "/home/cgb2/anaconda3/envs/torch/lib/python3.10/site-packages/sklearn/linear_model/_coordinate_descent.py:628: ConvergenceWarning: Objective did not converge. You might want to increase the number of iterations, check the scale of the features or consider increasing regularisation. Duality gap: 2.723e-01, tolerance: 1.961e-01\n",
      "  model = cd_fast.enet_coordinate_descent(\n",
      "/home/cgb2/anaconda3/envs/torch/lib/python3.10/site-packages/sklearn/linear_model/_coordinate_descent.py:628: ConvergenceWarning: Objective did not converge. You might want to increase the number of iterations, check the scale of the features or consider increasing regularisation. Duality gap: 2.727e-01, tolerance: 1.961e-01\n",
      "  model = cd_fast.enet_coordinate_descent(\n",
      "/home/cgb2/anaconda3/envs/torch/lib/python3.10/site-packages/sklearn/linear_model/_coordinate_descent.py:628: ConvergenceWarning: Objective did not converge. You might want to increase the number of iterations, check the scale of the features or consider increasing regularisation. Duality gap: 2.731e-01, tolerance: 1.961e-01\n",
      "  model = cd_fast.enet_coordinate_descent(\n",
      "/home/cgb2/anaconda3/envs/torch/lib/python3.10/site-packages/sklearn/linear_model/_coordinate_descent.py:628: ConvergenceWarning: Objective did not converge. You might want to increase the number of iterations, check the scale of the features or consider increasing regularisation. Duality gap: 2.735e-01, tolerance: 1.961e-01\n",
      "  model = cd_fast.enet_coordinate_descent(\n",
      "/home/cgb2/anaconda3/envs/torch/lib/python3.10/site-packages/sklearn/linear_model/_coordinate_descent.py:628: ConvergenceWarning: Objective did not converge. You might want to increase the number of iterations, check the scale of the features or consider increasing regularisation. Duality gap: 2.739e-01, tolerance: 1.961e-01\n",
      "  model = cd_fast.enet_coordinate_descent(\n",
      "/home/cgb2/anaconda3/envs/torch/lib/python3.10/site-packages/sklearn/linear_model/_coordinate_descent.py:628: ConvergenceWarning: Objective did not converge. You might want to increase the number of iterations, check the scale of the features or consider increasing regularisation. Duality gap: 2.743e-01, tolerance: 1.961e-01\n",
      "  model = cd_fast.enet_coordinate_descent(\n",
      "/home/cgb2/anaconda3/envs/torch/lib/python3.10/site-packages/sklearn/linear_model/_coordinate_descent.py:628: ConvergenceWarning: Objective did not converge. You might want to increase the number of iterations, check the scale of the features or consider increasing regularisation. Duality gap: 2.746e-01, tolerance: 1.961e-01\n",
      "  model = cd_fast.enet_coordinate_descent(\n",
      "/home/cgb2/anaconda3/envs/torch/lib/python3.10/site-packages/sklearn/linear_model/_coordinate_descent.py:628: ConvergenceWarning: Objective did not converge. You might want to increase the number of iterations, check the scale of the features or consider increasing regularisation. Duality gap: 2.749e-01, tolerance: 1.961e-01\n",
      "  model = cd_fast.enet_coordinate_descent(\n",
      "/home/cgb2/anaconda3/envs/torch/lib/python3.10/site-packages/sklearn/linear_model/_coordinate_descent.py:628: ConvergenceWarning: Objective did not converge. You might want to increase the number of iterations, check the scale of the features or consider increasing regularisation. Duality gap: 2.751e-01, tolerance: 1.961e-01\n",
      "  model = cd_fast.enet_coordinate_descent(\n",
      "/home/cgb2/anaconda3/envs/torch/lib/python3.10/site-packages/sklearn/linear_model/_coordinate_descent.py:628: ConvergenceWarning: Objective did not converge. You might want to increase the number of iterations, check the scale of the features or consider increasing regularisation. Duality gap: 2.754e-01, tolerance: 1.961e-01\n",
      "  model = cd_fast.enet_coordinate_descent(\n",
      "/home/cgb2/anaconda3/envs/torch/lib/python3.10/site-packages/sklearn/linear_model/_coordinate_descent.py:628: ConvergenceWarning: Objective did not converge. You might want to increase the number of iterations, check the scale of the features or consider increasing regularisation. Duality gap: 2.756e-01, tolerance: 1.961e-01\n",
      "  model = cd_fast.enet_coordinate_descent(\n",
      "/home/cgb2/anaconda3/envs/torch/lib/python3.10/site-packages/sklearn/linear_model/_coordinate_descent.py:628: ConvergenceWarning: Objective did not converge. You might want to increase the number of iterations, check the scale of the features or consider increasing regularisation. Duality gap: 2.758e-01, tolerance: 1.961e-01\n",
      "  model = cd_fast.enet_coordinate_descent(\n",
      "/home/cgb2/anaconda3/envs/torch/lib/python3.10/site-packages/sklearn/linear_model/_coordinate_descent.py:628: ConvergenceWarning: Objective did not converge. You might want to increase the number of iterations, check the scale of the features or consider increasing regularisation. Duality gap: 2.759e-01, tolerance: 1.961e-01\n",
      "  model = cd_fast.enet_coordinate_descent(\n",
      "/home/cgb2/anaconda3/envs/torch/lib/python3.10/site-packages/sklearn/linear_model/_coordinate_descent.py:628: ConvergenceWarning: Objective did not converge. You might want to increase the number of iterations, check the scale of the features or consider increasing regularisation. Duality gap: 2.761e-01, tolerance: 1.961e-01\n",
      "  model = cd_fast.enet_coordinate_descent(\n",
      "/home/cgb2/anaconda3/envs/torch/lib/python3.10/site-packages/sklearn/linear_model/_coordinate_descent.py:628: ConvergenceWarning: Objective did not converge. You might want to increase the number of iterations, check the scale of the features or consider increasing regularisation. Duality gap: 2.762e-01, tolerance: 1.961e-01\n",
      "  model = cd_fast.enet_coordinate_descent(\n",
      "/home/cgb2/anaconda3/envs/torch/lib/python3.10/site-packages/sklearn/linear_model/_coordinate_descent.py:628: ConvergenceWarning: Objective did not converge. You might want to increase the number of iterations, check the scale of the features or consider increasing regularisation. Duality gap: 2.762e-01, tolerance: 1.961e-01\n",
      "  model = cd_fast.enet_coordinate_descent(\n",
      "/home/cgb2/anaconda3/envs/torch/lib/python3.10/site-packages/sklearn/linear_model/_coordinate_descent.py:628: ConvergenceWarning: Objective did not converge. You might want to increase the number of iterations, check the scale of the features or consider increasing regularisation. Duality gap: 2.763e-01, tolerance: 1.961e-01\n",
      "  model = cd_fast.enet_coordinate_descent(\n",
      "/home/cgb2/anaconda3/envs/torch/lib/python3.10/site-packages/sklearn/linear_model/_coordinate_descent.py:628: ConvergenceWarning: Objective did not converge. You might want to increase the number of iterations, check the scale of the features or consider increasing regularisation. Duality gap: 2.763e-01, tolerance: 1.961e-01\n",
      "  model = cd_fast.enet_coordinate_descent(\n",
      "/home/cgb2/anaconda3/envs/torch/lib/python3.10/site-packages/sklearn/linear_model/_coordinate_descent.py:628: ConvergenceWarning: Objective did not converge. You might want to increase the number of iterations, check the scale of the features or consider increasing regularisation. Duality gap: 2.763e-01, tolerance: 1.961e-01\n",
      "  model = cd_fast.enet_coordinate_descent(\n",
      "/home/cgb2/anaconda3/envs/torch/lib/python3.10/site-packages/sklearn/linear_model/_coordinate_descent.py:628: ConvergenceWarning: Objective did not converge. You might want to increase the number of iterations, check the scale of the features or consider increasing regularisation. Duality gap: 2.763e-01, tolerance: 1.961e-01\n",
      "  model = cd_fast.enet_coordinate_descent(\n"
     ]
    }
   ],
   "source": [
    "prdtr_list = [sklearn.linear_model.Lasso(alpha=a) for a in alphas]\n",
    "for prdtr in prdtr_list:\n",
    "    prdtr.fit(X,y)"
   ]
  },
  {
   "cell_type": "code",
   "execution_count": 435,
   "metadata": {
    "tags": []
   },
   "outputs": [],
   "source": [
    "nonzero_coefs = [abs(prdtr.coef_>0).sum() for prdtr in prdtr_list] "
   ]
  },
  {
   "cell_type": "code",
   "execution_count": 437,
   "metadata": {
    "tags": []
   },
   "outputs": [
    {
     "data": {
      "text/plain": [
       "[<matplotlib.lines.Line2D at 0x7f285f93d5d0>]"
      ]
     },
     "execution_count": 437,
     "metadata": {},
     "output_type": "execute_result"
    },
    {
     "data": {
      "image/png": "[encoded data removed]",
      "text/plain": [
       "<Figure size 640x480 with 1 Axes>"
      ]
     },
     "metadata": {},
     "output_type": "display_data"
    }
   ],
   "source": [
    "plt.plot(alphas, nonzero_coefs)"
   ]
  }
 ],
 "metadata": {
  "kernelspec": {
   "display_name": "Python 3 (ipykernel)",
   "language": "python",
   "name": "python3"
  },
  "language_info": {
   "codemirror_mode": {
    "name": "ipython",
    "version": 3
   },
   "file_extension": ".py",
   "mimetype": "text/x-python",
   "name": "python",
   "nbconvert_exporter": "python",
   "pygments_lexer": "ipython3",
   "version": "3.10.13"
  }
 },
 "nbformat": 4,
 "nbformat_minor": 4
}
