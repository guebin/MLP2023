{
 "cells": [
  {
   "cell_type": "raw",
   "id": "faaa6811-5cf8-4628-a8bc-128122c3c052",
   "metadata": {
    "tags": []
   },
   "source": [
    "---\n",
    "title: \"교호작용\"\n",
    "author: \"최규빈\"\n",
    "date: \"10/15/2023\"\n",
    "bibliography: ref.bib\n",
    "draft: true\n",
    "---"
   ]
  },
  {
   "cell_type": "markdown",
   "id": "3c3fe58d-9deb-4a79-aa83-4fee87816bc7",
   "metadata": {},
   "source": [
    "# 1. 강의영상 "
   ]
  },
  {
   "cell_type": "markdown",
   "id": "01eb35ab-e9b3-4cdd-904b-15b30e42957c",
   "metadata": {},
   "source": [
    "# 2. Imports "
   ]
  },
  {
   "cell_type": "code",
   "execution_count": 39,
   "id": "7ec56a2e-ceee-4de8-9b81-91556fb54744",
   "metadata": {
    "tags": []
   },
   "outputs": [],
   "source": [
    "import numpy as np\n",
    "import pandas as pd \n",
    "import matplotlib.pyplot as plt \n",
    "import seaborn as sns \n",
    "import sklearn.tree \n",
    "import sklearn.preprocessing"
   ]
  },
  {
   "cell_type": "markdown",
   "id": "13a56193-8ded-4a86-966b-14d0b221236e",
   "metadata": {},
   "source": [
    "# 3. Data "
   ]
  },
  {
   "cell_type": "code",
   "execution_count": 214,
   "id": "31f21dd3-d338-4a5a-9435-4d8375a399cf",
   "metadata": {
    "tags": []
   },
   "outputs": [
    {
     "name": "stdout",
     "output_type": "stream",
     "text": [
      "   Supplement Exercise  Weight_Loss\n",
      "0        True      Low            0\n",
      "1       False     High            0\n",
      "2        True      Low            0\n",
      "3        True     High            1\n",
      "4        True     High            1\n"
     ]
    }
   ],
   "source": [
    "# import pandas as pd\n",
    "# import numpy as np\n",
    "\n",
    "# # 데이터 크기 설정\n",
    "# n = 10000\n",
    "\n",
    "# # 무작위로 복용 여부와 운동량을 생성\n",
    "# np.random.seed(42)\n",
    "# Supplement = np.random.choice([True, False], n)\n",
    "# Exercise = np.random.choice(['Low', 'High'], n)\n",
    "\n",
    "# # 체중 감량 여부를 계산\n",
    "# Weight_Loss = np.where(\n",
    "#     (~Supplement & (Exercise == 'Low')),\n",
    "#     np.random.binomial(1, 0.05, n),\n",
    "#     np.where(\n",
    "#         (Supplement & (Exercise == 'High')),\n",
    "#         np.random.binomial(1, 0.95, n),\n",
    "#         np.where(\n",
    "#             (~Supplement & (Exercise == 'High')),\n",
    "#             np.random.binomial(1, 0.40, n),\n",
    "#             np.random.binomial(1, 0.15, n)\n",
    "#         )\n",
    "#     )\n",
    "# )\n",
    "\n",
    "# # 데이터프레임 생성\n",
    "# df = pd.DataFrame({\n",
    "#     'Supplement': Supplement,\n",
    "#     'Exercise': Exercise,\n",
    "#     'Weight_Loss': Weight_Loss\n",
    "# })\n",
    "\n",
    "# # 데이터 확인\n",
    "# print(df.head())\n",
    "pd.r"
   ]
  },
  {
   "cell_type": "code",
   "execution_count": null,
   "id": "1e5b022b-6eb7-4608-8c9a-83d1f84fcd2c",
   "metadata": {},
   "outputs": [],
   "source": [
    "!git add .\n",
    "!git commit -m ."
   ]
  },
  {
   "cell_type": "code",
   "execution_count": 216,
   "id": "a6d2e22c",
   "metadata": {
    "tags": []
   },
   "outputs": [],
   "source": [
    "df.to_csv('weightloss.csv',index=False)"
   ]
  },
  {
   "cell_type": "code",
   "execution_count": null,
   "id": "21671b63-b7d1-45e8-a55b-2c594a461abb",
   "metadata": {},
   "outputs": [],
   "source": []
  }
 ],
 "metadata": {
  "kernelspec": {
   "display_name": "Python 3 (ipykernel)",
   "language": "python",
   "name": "python3"
  },
  "language_info": {
   "codemirror_mode": {
    "name": "ipython",
    "version": 3
   },
   "file_extension": ".py",
   "mimetype": "text/x-python",
   "name": "python",
   "nbconvert_exporter": "python",
   "pygments_lexer": "ipython3",
   "version": "3.10.13"
  }
 },
 "nbformat": 4,
 "nbformat_minor": 5
}
