{
 "cells": [
  {
   "cell_type": "raw",
   "id": "faaa6811-5cf8-4628-a8bc-128122c3c052",
   "metadata": {
    "tags": []
   },
   "source": [
    "---\n",
    "title: \"교호작용\"\n",
    "author: \"최규빈\"\n",
    "date: \"10/15/2023\"\n",
    "bibliography: ref.bib\n",
    "draft: true\n",
    "---"
   ]
  },
  {
   "cell_type": "markdown",
   "id": "3c3fe58d-9deb-4a79-aa83-4fee87816bc7",
   "metadata": {},
   "source": [
    "# 1. 강의영상 "
   ]
  },
  {
   "cell_type": "markdown",
   "id": "01eb35ab-e9b3-4cdd-904b-15b30e42957c",
   "metadata": {},
   "source": [
    "# 2. Imports "
   ]
  },
  {
   "cell_type": "code",
   "execution_count": 394,
   "id": "7ec56a2e-ceee-4de8-9b81-91556fb54744",
   "metadata": {
    "tags": []
   },
   "outputs": [],
   "source": [
    "import numpy as np\n",
    "import pandas as pd \n",
    "import matplotlib.pyplot as plt \n",
    "import sklearn.linear_model \n",
    "import sklearn.tree\n",
    "import sklearn.model_selection"
   ]
  },
  {
   "cell_type": "markdown",
   "id": "13a56193-8ded-4a86-966b-14d0b221236e",
   "metadata": {},
   "source": [
    "# 3. Data "
   ]
  },
  {
   "cell_type": "code",
   "execution_count": 353,
   "id": "11970b84-585c-45dd-b320-be64582f2570",
   "metadata": {
    "tags": []
   },
   "outputs": [
    {
     "data": {
      "text/html": [
       "<div>\n",
       "<style scoped>\n",
       "    .dataframe tbody tr th:only-of-type {\n",
       "        vertical-align: middle;\n",
       "    }\n",
       "\n",
       "    .dataframe tbody tr th {\n",
       "        vertical-align: top;\n",
       "    }\n",
       "\n",
       "    .dataframe thead th {\n",
       "        text-align: right;\n",
       "    }\n",
       "</style>\n",
       "<table border=\"1\" class=\"dataframe\">\n",
       "  <thead>\n",
       "    <tr style=\"text-align: right;\">\n",
       "      <th></th>\n",
       "      <th>Supplement</th>\n",
       "      <th>Exercise</th>\n",
       "      <th>Weight_Loss</th>\n",
       "    </tr>\n",
       "  </thead>\n",
       "  <tbody>\n",
       "    <tr>\n",
       "      <th>0</th>\n",
       "      <td>True</td>\n",
       "      <td>False</td>\n",
       "      <td>-0.366171</td>\n",
       "    </tr>\n",
       "    <tr>\n",
       "      <th>1</th>\n",
       "      <td>True</td>\n",
       "      <td>False</td>\n",
       "      <td>0.537226</td>\n",
       "    </tr>\n",
       "    <tr>\n",
       "      <th>2</th>\n",
       "      <td>True</td>\n",
       "      <td>False</td>\n",
       "      <td>-0.628373</td>\n",
       "    </tr>\n",
       "    <tr>\n",
       "      <th>3</th>\n",
       "      <td>False</td>\n",
       "      <td>True</td>\n",
       "      <td>5.136422</td>\n",
       "    </tr>\n",
       "    <tr>\n",
       "      <th>4</th>\n",
       "      <td>True</td>\n",
       "      <td>True</td>\n",
       "      <td>15.533363</td>\n",
       "    </tr>\n",
       "  </tbody>\n",
       "</table>\n",
       "</div>"
      ],
      "text/plain": [
       "   Supplement  Exercise  Weight_Loss\n",
       "0        True     False    -0.366171\n",
       "1        True     False     0.537226\n",
       "2        True     False    -0.628373\n",
       "3       False      True     5.136422\n",
       "4        True      True    15.533363"
      ]
     },
     "execution_count": 353,
     "metadata": {},
     "output_type": "execute_result"
    }
   ],
   "source": [
    "import pandas as pd\n",
    "import numpy as np\n",
    "\n",
    "# 데이터 크기 설정\n",
    "n = 10000\n",
    "\n",
    "# 무작위로 복용 여부와 운동량을 생성\n",
    "Supplement = np.random.choice([True, False], n)\n",
    "Exercise = np.random.choice([False, True], n)\n",
    "\n",
    "# 체중 감량 여부를 계산 (이 부분은 수정하지 않습니다)\n",
    "\n",
    "# 연속형 변수 생성\n",
    "Weight_Loss = np.where(\n",
    "    (~Supplement & (~Exercise)),\n",
    "    np.random.normal(loc=0, scale=1, size=n),  # 낮은 운동량에서 체중 감량\n",
    "    np.where(\n",
    "        (Supplement & (Exercise)),\n",
    "        np.random.normal(loc=15.00, scale=1, size=n),  # 높은 운동량에서 체중 감량\n",
    "        np.where(\n",
    "            (~Supplement & (Exercise)),\n",
    "            np.random.normal(loc=5.00, scale=1, size=n),  # 낮은 운동량에서 체중 증가\n",
    "            np.random.normal(loc=0.5, scale=1, size=n)   # 높은 운동량에서 체중 증가\n",
    "        )\n",
    "    )\n",
    ")\n",
    "\n",
    "# 데이터프레임 생성\n",
    "df = pd.DataFrame({\n",
    "    'Supplement': Supplement,\n",
    "    'Exercise': Exercise,\n",
    "    'Weight_Loss': Weight_Loss\n",
    "})\n",
    "\n",
    "# 데이터 확인\n",
    "df.head()"
   ]
  },
  {
   "cell_type": "code",
   "execution_count": 419,
   "id": "a9350fc2-8f1f-4d11-8e70-9a55017e7a26",
   "metadata": {
    "tags": []
   },
   "outputs": [],
   "source": [
    "#df.to_csv('weightloss.csv',index=False)"
   ]
  },
  {
   "cell_type": "code",
   "execution_count": 354,
   "id": "31f21dd3-d338-4a5a-9435-4d8375a399cf",
   "metadata": {
    "tags": []
   },
   "outputs": [],
   "source": [
    "# import pandas as pd\n",
    "# import numpy as np\n",
    "\n",
    "# # 데이터 크기 설정\n",
    "# n = 10000\n",
    "\n",
    "# # 무작위로 복용 여부와 운동량을 생성\n",
    "# Supplement = np.random.choice([True, False], n)\n",
    "# Exercise = np.random.choice(['Low', 'High'], n)\n",
    "\n",
    "# # 체중 감량 여부를 계산\n",
    "# Weight_Loss = np.where(\n",
    "#     (~Supplement & (Exercise == 'Low')),\n",
    "#     np.random.binomial(1, 0.05, n),\n",
    "#     np.where(\n",
    "#         (Supplement & (Exercise == 'High')),\n",
    "#         np.random.binomial(1, 0.95, n),\n",
    "#         np.where(\n",
    "#             (~Supplement & (Exercise == 'High')),\n",
    "#             np.random.binomial(1, 0.55, n),\n",
    "#             np.random.binomial(1, 0.25, n)\n",
    "#         )\n",
    "#     )\n",
    "# )\n",
    "\n",
    "# # 데이터프레임 생성\n",
    "# df = pd.DataFrame({\n",
    "#     'Supplement': Supplement,\n",
    "#     'Exercise': Exercise,\n",
    "#     'Weight_Loss': Weight_Loss\n",
    "# })\n",
    "\n",
    "# # 데이터 확인\n",
    "# print(df.head())\n",
    "df = pd.read_csv('https://raw.githubusercontent.com/guebin/MP2023/main/posts/weightloss.csv')"
   ]
  },
  {
   "cell_type": "code",
   "execution_count": 355,
   "id": "a0e8f153-9116-4334-882d-58c961bd5dc5",
   "metadata": {
    "tags": []
   },
   "outputs": [
    {
     "data": {
      "text/html": [
       "<div>\n",
       "<style scoped>\n",
       "    .dataframe tbody tr th:only-of-type {\n",
       "        vertical-align: middle;\n",
       "    }\n",
       "\n",
       "    .dataframe tbody tr th {\n",
       "        vertical-align: top;\n",
       "    }\n",
       "\n",
       "    .dataframe thead th {\n",
       "        text-align: right;\n",
       "    }\n",
       "</style>\n",
       "<table border=\"1\" class=\"dataframe\">\n",
       "  <thead>\n",
       "    <tr style=\"text-align: right;\">\n",
       "      <th>Exercise</th>\n",
       "      <th>False</th>\n",
       "      <th>True</th>\n",
       "    </tr>\n",
       "    <tr>\n",
       "      <th>Supplement</th>\n",
       "      <th></th>\n",
       "      <th></th>\n",
       "    </tr>\n",
       "  </thead>\n",
       "  <tbody>\n",
       "    <tr>\n",
       "      <th>False</th>\n",
       "      <td>-0.011756</td>\n",
       "      <td>4.975891</td>\n",
       "    </tr>\n",
       "    <tr>\n",
       "      <th>True</th>\n",
       "      <td>0.492372</td>\n",
       "      <td>14.987283</td>\n",
       "    </tr>\n",
       "  </tbody>\n",
       "</table>\n",
       "</div>"
      ],
      "text/plain": [
       "Exercise       False      True \n",
       "Supplement                     \n",
       "False      -0.011756   4.975891\n",
       "True        0.492372  14.987283"
      ]
     },
     "execution_count": 355,
     "metadata": {},
     "output_type": "execute_result"
    }
   ],
   "source": [
    "df.pivot_table(index='Supplement',columns='Exercise',values='Weight_Loss')"
   ]
  },
  {
   "cell_type": "markdown",
   "id": "2eed1086-de40-410b-ae8f-67396a1c2c13",
   "metadata": {},
   "source": [
    "`-` 운동과 체중감량보조제를 병행하면 시너지가 나는 것 같음 "
   ]
  },
  {
   "cell_type": "markdown",
   "id": "f7432857-d138-4526-a382-77b1bd84b181",
   "metadata": {},
   "source": [
    "# 4. 분석1"
   ]
  },
  {
   "cell_type": "markdown",
   "id": "f27a0d59-3af4-40c9-8519-d05dda889a9c",
   "metadata": {},
   "source": [
    "`-` 분석1: 모형을 아래와 같이 본다. \n",
    "\n",
    "- ${\\bf X}$: `Supplement`, `Exercise`\n",
    "- ${\\bf y}$: `Weight_Loss`"
   ]
  },
  {
   "cell_type": "code",
   "execution_count": 414,
   "id": "dccb283d-fc2d-4329-abe6-f0fedd774a16",
   "metadata": {
    "tags": []
   },
   "outputs": [],
   "source": [
    "# step1\n",
    "X = pd.get_dummies(df[['Supplement','Exercise']])\n",
    "y = df['Weight_Loss']\n",
    "# step2 \n",
    "predictr = sklearn.linear_model.LinearRegression()\n",
    "# step3\n",
    "predictr.fit(X,y)\n",
    "# step4 \n",
    "yhat = predictr.predict(X)"
   ]
  },
  {
   "cell_type": "code",
   "execution_count": 415,
   "id": "ea4766e9-1823-4946-bfe8-03e77533432b",
   "metadata": {
    "tags": []
   },
   "outputs": [
    {
     "data": {
      "text/html": [
       "<div>\n",
       "<style scoped>\n",
       "    .dataframe tbody tr th:only-of-type {\n",
       "        vertical-align: middle;\n",
       "    }\n",
       "\n",
       "    .dataframe tbody tr th {\n",
       "        vertical-align: top;\n",
       "    }\n",
       "\n",
       "    .dataframe thead th {\n",
       "        text-align: right;\n",
       "    }\n",
       "</style>\n",
       "<table border=\"1\" class=\"dataframe\">\n",
       "  <thead>\n",
       "    <tr style=\"text-align: right;\">\n",
       "      <th></th>\n",
       "      <th>Supplement</th>\n",
       "      <th>Exercise</th>\n",
       "      <th>Weight_Loss</th>\n",
       "      <th>yhat</th>\n",
       "    </tr>\n",
       "  </thead>\n",
       "  <tbody>\n",
       "    <tr>\n",
       "      <th>0</th>\n",
       "      <td>False</td>\n",
       "      <td>False</td>\n",
       "      <td>-0.877103</td>\n",
       "      <td>-2.373106</td>\n",
       "    </tr>\n",
       "    <tr>\n",
       "      <th>1</th>\n",
       "      <td>True</td>\n",
       "      <td>False</td>\n",
       "      <td>1.604542</td>\n",
       "      <td>2.845934</td>\n",
       "    </tr>\n",
       "    <tr>\n",
       "      <th>2</th>\n",
       "      <td>True</td>\n",
       "      <td>True</td>\n",
       "      <td>13.824148</td>\n",
       "      <td>12.593598</td>\n",
       "    </tr>\n",
       "    <tr>\n",
       "      <th>3</th>\n",
       "      <td>True</td>\n",
       "      <td>True</td>\n",
       "      <td>13.004505</td>\n",
       "      <td>12.593598</td>\n",
       "    </tr>\n",
       "    <tr>\n",
       "      <th>4</th>\n",
       "      <td>True</td>\n",
       "      <td>True</td>\n",
       "      <td>13.701128</td>\n",
       "      <td>12.593598</td>\n",
       "    </tr>\n",
       "    <tr>\n",
       "      <th>...</th>\n",
       "      <td>...</td>\n",
       "      <td>...</td>\n",
       "      <td>...</td>\n",
       "      <td>...</td>\n",
       "    </tr>\n",
       "    <tr>\n",
       "      <th>9995</th>\n",
       "      <td>True</td>\n",
       "      <td>False</td>\n",
       "      <td>1.558841</td>\n",
       "      <td>2.845934</td>\n",
       "    </tr>\n",
       "    <tr>\n",
       "      <th>9996</th>\n",
       "      <td>False</td>\n",
       "      <td>False</td>\n",
       "      <td>-0.217816</td>\n",
       "      <td>-2.373106</td>\n",
       "    </tr>\n",
       "    <tr>\n",
       "      <th>9997</th>\n",
       "      <td>False</td>\n",
       "      <td>True</td>\n",
       "      <td>4.072701</td>\n",
       "      <td>7.374557</td>\n",
       "    </tr>\n",
       "    <tr>\n",
       "      <th>9998</th>\n",
       "      <td>True</td>\n",
       "      <td>False</td>\n",
       "      <td>-0.253796</td>\n",
       "      <td>2.845934</td>\n",
       "    </tr>\n",
       "    <tr>\n",
       "      <th>9999</th>\n",
       "      <td>False</td>\n",
       "      <td>False</td>\n",
       "      <td>-1.399092</td>\n",
       "      <td>-2.373106</td>\n",
       "    </tr>\n",
       "  </tbody>\n",
       "</table>\n",
       "<p>10000 rows × 4 columns</p>\n",
       "</div>"
      ],
      "text/plain": [
       "      Supplement  Exercise  Weight_Loss       yhat\n",
       "0          False     False    -0.877103  -2.373106\n",
       "1           True     False     1.604542   2.845934\n",
       "2           True      True    13.824148  12.593598\n",
       "3           True      True    13.004505  12.593598\n",
       "4           True      True    13.701128  12.593598\n",
       "...          ...       ...          ...        ...\n",
       "9995        True     False     1.558841   2.845934\n",
       "9996       False     False    -0.217816  -2.373106\n",
       "9997       False      True     4.072701   7.374557\n",
       "9998        True     False    -0.253796   2.845934\n",
       "9999       False     False    -1.399092  -2.373106\n",
       "\n",
       "[10000 rows x 4 columns]"
      ]
     },
     "execution_count": 415,
     "metadata": {},
     "output_type": "execute_result"
    }
   ],
   "source": [
    "df.assign(yhat = yhat)"
   ]
  },
  {
   "cell_type": "code",
   "execution_count": 416,
   "id": "7d032e66-22a0-4db4-8385-d9b3c810753c",
   "metadata": {
    "tags": []
   },
   "outputs": [
    {
     "data": {
      "text/html": [
       "<div>\n",
       "<style scoped>\n",
       "    .dataframe tbody tr th:only-of-type {\n",
       "        vertical-align: middle;\n",
       "    }\n",
       "\n",
       "    .dataframe tbody tr th {\n",
       "        vertical-align: top;\n",
       "    }\n",
       "\n",
       "    .dataframe thead th {\n",
       "        text-align: right;\n",
       "    }\n",
       "</style>\n",
       "<table border=\"1\" class=\"dataframe\">\n",
       "  <thead>\n",
       "    <tr style=\"text-align: right;\">\n",
       "      <th>Exercise</th>\n",
       "      <th>False</th>\n",
       "      <th>True</th>\n",
       "    </tr>\n",
       "    <tr>\n",
       "      <th>Supplement</th>\n",
       "      <th></th>\n",
       "      <th></th>\n",
       "    </tr>\n",
       "  </thead>\n",
       "  <tbody>\n",
       "    <tr>\n",
       "      <th>False</th>\n",
       "      <td>-2.373106</td>\n",
       "      <td>7.374557</td>\n",
       "    </tr>\n",
       "    <tr>\n",
       "      <th>True</th>\n",
       "      <td>2.845934</td>\n",
       "      <td>12.593598</td>\n",
       "    </tr>\n",
       "  </tbody>\n",
       "</table>\n",
       "</div>"
      ],
      "text/plain": [
       "Exercise       False      True \n",
       "Supplement                     \n",
       "False      -2.373106   7.374557\n",
       "True        2.845934  12.593598"
      ]
     },
     "execution_count": 416,
     "metadata": {},
     "output_type": "execute_result"
    }
   ],
   "source": [
    "df.assign(yhat = yhat).pivot_table(index='Supplement',columns='Exercise',values='yhat')"
   ]
  },
  {
   "cell_type": "code",
   "execution_count": 417,
   "id": "839d5a70-ee54-4bfc-a4d6-fddf528c46e8",
   "metadata": {
    "tags": []
   },
   "outputs": [
    {
     "data": {
      "text/plain": [
       "0.8208414124769221"
      ]
     },
     "execution_count": 417,
     "metadata": {},
     "output_type": "execute_result"
    }
   ],
   "source": [
    "predictr.score(X,y)"
   ]
  },
  {
   "cell_type": "markdown",
   "id": "e81416bb-c0a6-441f-9e0f-e0bca18ba583",
   "metadata": {},
   "source": [
    "# 5. 분석2"
   ]
  },
  {
   "cell_type": "markdown",
   "id": "825580cc-c82b-4251-81b2-65fe1d0cceb1",
   "metadata": {},
   "source": [
    "`-` 모형을 아래와 같이 본다. "
   ]
  },
  {
   "cell_type": "markdown",
   "id": "eebe56ff-e33f-4636-a823-518175e3d967",
   "metadata": {},
   "source": [
    "- ${\\bf X}$: `Supplement`, `Exercise`, `Supplement` $\\times$ `Exercise`\n",
    "- ${\\bf y}$: `Weight_Loss`"
   ]
  },
  {
   "cell_type": "markdown",
   "id": "67b5a0e7-3e97-4d44-b806-94dc91f26c87",
   "metadata": {},
   "source": [
    "> Note: 기본적인 운동의 효과 및 보조제의 효과는 각각 `Supplement`, `Exercise` 로 적합하고 운동과 보조제의 시너지는 `Supplement`$\\times$`Exercise` 로 적합한다. "
   ]
  },
  {
   "cell_type": "code",
   "execution_count": 408,
   "id": "81f8a267-8411-4e36-a41e-23a477076b57",
   "metadata": {
    "tags": []
   },
   "outputs": [],
   "source": [
    "# step1 \n",
    "X = pd.get_dummies(df.assign(Supp_Exer = df.Supplement * df.Exercise).drop(['Weight_Loss'],axis=1))\n",
    "y = df['Weight_Loss']\n",
    "# step2 \n",
    "predictr = sklearn.linear_model.LinearRegression()\n",
    "# step3 \n",
    "predictr.fit(X,y)\n",
    "# step4 -- pass \n",
    "#---# \n",
    "yhat = predictr.predict(X)"
   ]
  },
  {
   "cell_type": "code",
   "execution_count": 409,
   "id": "6ee5394d-4b0f-49e6-abbd-0bbe071309a9",
   "metadata": {
    "tags": []
   },
   "outputs": [
    {
     "data": {
      "text/html": [
       "<div>\n",
       "<style scoped>\n",
       "    .dataframe tbody tr th:only-of-type {\n",
       "        vertical-align: middle;\n",
       "    }\n",
       "\n",
       "    .dataframe tbody tr th {\n",
       "        vertical-align: top;\n",
       "    }\n",
       "\n",
       "    .dataframe thead th {\n",
       "        text-align: right;\n",
       "    }\n",
       "</style>\n",
       "<table border=\"1\" class=\"dataframe\">\n",
       "  <thead>\n",
       "    <tr style=\"text-align: right;\">\n",
       "      <th></th>\n",
       "      <th>Supplement</th>\n",
       "      <th>Exercise</th>\n",
       "      <th>Weight_Loss</th>\n",
       "      <th>yhat</th>\n",
       "    </tr>\n",
       "  </thead>\n",
       "  <tbody>\n",
       "    <tr>\n",
       "      <th>0</th>\n",
       "      <td>False</td>\n",
       "      <td>False</td>\n",
       "      <td>-0.877103</td>\n",
       "      <td>0.021673</td>\n",
       "    </tr>\n",
       "    <tr>\n",
       "      <th>1</th>\n",
       "      <td>True</td>\n",
       "      <td>False</td>\n",
       "      <td>1.604542</td>\n",
       "      <td>0.497573</td>\n",
       "    </tr>\n",
       "    <tr>\n",
       "      <th>2</th>\n",
       "      <td>True</td>\n",
       "      <td>True</td>\n",
       "      <td>13.824148</td>\n",
       "      <td>14.966363</td>\n",
       "    </tr>\n",
       "    <tr>\n",
       "      <th>3</th>\n",
       "      <td>True</td>\n",
       "      <td>True</td>\n",
       "      <td>13.004505</td>\n",
       "      <td>14.966363</td>\n",
       "    </tr>\n",
       "    <tr>\n",
       "      <th>4</th>\n",
       "      <td>True</td>\n",
       "      <td>True</td>\n",
       "      <td>13.701128</td>\n",
       "      <td>14.966363</td>\n",
       "    </tr>\n",
       "    <tr>\n",
       "      <th>...</th>\n",
       "      <td>...</td>\n",
       "      <td>...</td>\n",
       "      <td>...</td>\n",
       "      <td>...</td>\n",
       "    </tr>\n",
       "    <tr>\n",
       "      <th>9995</th>\n",
       "      <td>True</td>\n",
       "      <td>False</td>\n",
       "      <td>1.558841</td>\n",
       "      <td>0.497573</td>\n",
       "    </tr>\n",
       "    <tr>\n",
       "      <th>9996</th>\n",
       "      <td>False</td>\n",
       "      <td>False</td>\n",
       "      <td>-0.217816</td>\n",
       "      <td>0.021673</td>\n",
       "    </tr>\n",
       "    <tr>\n",
       "      <th>9997</th>\n",
       "      <td>False</td>\n",
       "      <td>True</td>\n",
       "      <td>4.072701</td>\n",
       "      <td>4.991314</td>\n",
       "    </tr>\n",
       "    <tr>\n",
       "      <th>9998</th>\n",
       "      <td>True</td>\n",
       "      <td>False</td>\n",
       "      <td>-0.253796</td>\n",
       "      <td>0.497573</td>\n",
       "    </tr>\n",
       "    <tr>\n",
       "      <th>9999</th>\n",
       "      <td>False</td>\n",
       "      <td>False</td>\n",
       "      <td>-1.399092</td>\n",
       "      <td>0.021673</td>\n",
       "    </tr>\n",
       "  </tbody>\n",
       "</table>\n",
       "<p>10000 rows × 4 columns</p>\n",
       "</div>"
      ],
      "text/plain": [
       "      Supplement  Exercise  Weight_Loss       yhat\n",
       "0          False     False    -0.877103   0.021673\n",
       "1           True     False     1.604542   0.497573\n",
       "2           True      True    13.824148  14.966363\n",
       "3           True      True    13.004505  14.966363\n",
       "4           True      True    13.701128  14.966363\n",
       "...          ...       ...          ...        ...\n",
       "9995        True     False     1.558841   0.497573\n",
       "9996       False     False    -0.217816   0.021673\n",
       "9997       False      True     4.072701   4.991314\n",
       "9998        True     False    -0.253796   0.497573\n",
       "9999       False     False    -1.399092   0.021673\n",
       "\n",
       "[10000 rows x 4 columns]"
      ]
     },
     "execution_count": 409,
     "metadata": {},
     "output_type": "execute_result"
    }
   ],
   "source": [
    "df.assign(yhat = yhat)"
   ]
  },
  {
   "cell_type": "code",
   "execution_count": 410,
   "id": "57290686-5f68-48a1-b204-e88c76b49e35",
   "metadata": {
    "tags": []
   },
   "outputs": [
    {
     "data": {
      "text/html": [
       "<div>\n",
       "<style scoped>\n",
       "    .dataframe tbody tr th:only-of-type {\n",
       "        vertical-align: middle;\n",
       "    }\n",
       "\n",
       "    .dataframe tbody tr th {\n",
       "        vertical-align: top;\n",
       "    }\n",
       "\n",
       "    .dataframe thead th {\n",
       "        text-align: right;\n",
       "    }\n",
       "</style>\n",
       "<table border=\"1\" class=\"dataframe\">\n",
       "  <thead>\n",
       "    <tr style=\"text-align: right;\">\n",
       "      <th>Exercise</th>\n",
       "      <th>False</th>\n",
       "      <th>True</th>\n",
       "    </tr>\n",
       "    <tr>\n",
       "      <th>Supplement</th>\n",
       "      <th></th>\n",
       "      <th></th>\n",
       "    </tr>\n",
       "  </thead>\n",
       "  <tbody>\n",
       "    <tr>\n",
       "      <th>False</th>\n",
       "      <td>0.021673</td>\n",
       "      <td>4.991314</td>\n",
       "    </tr>\n",
       "    <tr>\n",
       "      <th>True</th>\n",
       "      <td>0.497573</td>\n",
       "      <td>14.966363</td>\n",
       "    </tr>\n",
       "  </tbody>\n",
       "</table>\n",
       "</div>"
      ],
      "text/plain": [
       "Exercise       False      True \n",
       "Supplement                     \n",
       "False       0.021673   4.991314\n",
       "True        0.497573  14.966363"
      ]
     },
     "execution_count": 410,
     "metadata": {},
     "output_type": "execute_result"
    }
   ],
   "source": [
    "df.assign(yhat = yhat).pivot_table(index='Supplement',columns='Exercise',values='yhat')"
   ]
  },
  {
   "cell_type": "code",
   "execution_count": 412,
   "id": "221fc41c-1f67-4bf7-a1a9-61f5829fd1d0",
   "metadata": {
    "tags": []
   },
   "outputs": [
    {
     "data": {
      "text/plain": [
       "0.9727754257714795"
      ]
     },
     "execution_count": 412,
     "metadata": {},
     "output_type": "execute_result"
    }
   ],
   "source": [
    "predictr.score(X,y)"
   ]
  }
 ],
 "metadata": {
  "kernelspec": {
   "display_name": "Python 3 (ipykernel)",
   "language": "python",
   "name": "python3"
  },
  "language_info": {
   "codemirror_mode": {
    "name": "ipython",
    "version": 3
   },
   "file_extension": ".py",
   "mimetype": "text/x-python",
   "name": "python",
   "nbconvert_exporter": "python",
   "pygments_lexer": "ipython3",
   "version": "3.10.13"
  }
 },
 "nbformat": 4,
 "nbformat_minor": 5
}
