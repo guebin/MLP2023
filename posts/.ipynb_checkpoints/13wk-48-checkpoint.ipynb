{
 "cells": [
  {
   "cell_type": "raw",
   "id": "4761a574-9120-43ae-98f7-11cd93b2d2a7",
   "metadata": {},
   "source": [
    "---\n",
    "title: \"13wk-48: 아이스크림 / 자료분석(Autogluon)\"\n",
    "author: \"최규빈\"\n",
    "date: \"12/01/2023\"\n",
    "bibliography: ref.bib\n",
    "draft: false\n",
    "---"
   ]
  },
  {
   "cell_type": "markdown",
   "id": "8003d353-7794-4e5d-b592-fb25ae891987",
   "metadata": {},
   "source": [
    "# 1. 강의영상 "
   ]
  },
  {
   "cell_type": "markdown",
   "id": "0e0e4db7-f3c9-4f92-80fe-a377f0b04e17",
   "metadata": {},
   "source": [
    "{{<video ??? >}}"
   ]
  },
  {
   "cell_type": "markdown",
   "id": "db26139b-5514-441f-bebd-0d2378981fd5",
   "metadata": {},
   "source": [
    "# 2. Imports"
   ]
  },
  {
   "cell_type": "code",
   "execution_count": 79,
   "id": "712f6010-1e47-4485-879c-25364320fc5b",
   "metadata": {},
   "outputs": [],
   "source": [
    "import numpy as np\n",
    "import pandas as pd\n",
    "import matplotlib.pyplot as plt\n",
    "import seaborn as sns\n",
    "import sklearn.metrics\n",
    "#---#\n",
    "import pickle\n",
    "from autogluon.tabular import TabularPredictor\n",
    "import autogluon.eda.auto as auto\n",
    "#---#\n",
    "import warnings\n",
    "warnings.filterwarnings('ignore')"
   ]
  },
  {
   "cell_type": "markdown",
   "id": "282681eb-f5cc-4f24-b841-c06acbd8f2d8",
   "metadata": {},
   "source": [
    "# 3. Data"
   ]
  },
  {
   "cell_type": "code",
   "execution_count": 26,
   "id": "06497039-a1ab-47de-8877-ee4df7b47a5a",
   "metadata": {},
   "outputs": [],
   "source": [
    "temp = pd.read_csv('https://raw.githubusercontent.com/guebin/DV2022/master/posts/temp.csv').iloc[:,3].to_numpy()[:100]\n",
    "temp.sort()\n",
    "np.random.seed(43052)\n",
    "eps = np.random.randn(100)*3 # 오차\n",
    "icecream_sales = 20 + temp * 2.5 + eps \n",
    "df_train = pd.DataFrame({'temp':temp,'sales':icecream_sales})\n",
    "df_train = TabularDataset(df_train)"
   ]
  },
  {
   "cell_type": "markdown",
   "id": "c1f78816-caf8-46d5-b174-953bf3b5798b",
   "metadata": {},
   "source": [
    "# 4. 적합"
   ]
  },
  {
   "cell_type": "markdown",
   "id": "fedc0d95-64fb-4c83-8e74-368d1eddb1e5",
   "metadata": {},
   "source": [
    "## A. 맨날 쓰는 코드"
   ]
  },
  {
   "cell_type": "code",
   "execution_count": 68,
   "id": "d31b2815-8591-4b9d-9ddd-34ba31ee3d77",
   "metadata": {},
   "outputs": [
    {
     "name": "stderr",
     "output_type": "stream",
     "text": [
      "No path specified. Models will be saved in: \"AutogluonModels/ag-20231130_184003/\"\n",
      "Beginning AutoGluon training ...\n",
      "AutoGluon will save models to \"AutogluonModels/ag-20231130_184003/\"\n",
      "AutoGluon Version:  0.8.1\n",
      "Python Version:     3.10.13\n",
      "Operating System:   Linux\n",
      "Platform Machine:   x86_64\n",
      "Platform Version:   #140-Ubuntu SMP Thu Aug 4 02:23:37 UTC 2022\n",
      "Disk Space Avail:   1585.66 GB / 1887.51 GB (84.0%)\n",
      "Train Data Rows:    100\n",
      "Train Data Columns: 1\n",
      "Label Column: sales\n",
      "Preprocessing data ...\n",
      "AutoGluon infers your prediction problem is: 'regression' (because dtype of label-column == float and many unique label-values observed).\n",
      "\tLabel info (max, min, mean, stddev): (61.561043278721556, 10.90026146402572, 33.97342, 10.63375)\n",
      "\tIf 'regression' is not the correct problem_type, please manually specify the problem_type parameter during predictor init (You may specify problem_type as one of: ['binary', 'multiclass', 'regression'])\n",
      "Using Feature Generators to preprocess the data ...\n",
      "Fitting AutoMLPipelineFeatureGenerator...\n",
      "\tAvailable Memory:                    447198.4 MB\n",
      "\tTrain Data (Original)  Memory Usage: 0.0 MB (0.0% of available memory)\n",
      "\tInferring data type of each feature based on column values. Set feature_metadata_in to manually specify special dtypes of the features.\n",
      "\tStage 1 Generators:\n",
      "\t\tFitting AsTypeFeatureGenerator...\n",
      "\tStage 2 Generators:\n",
      "\t\tFitting FillNaFeatureGenerator...\n",
      "\tStage 3 Generators:\n",
      "\t\tFitting IdentityFeatureGenerator...\n",
      "\tStage 4 Generators:\n",
      "\t\tFitting DropUniqueFeatureGenerator...\n",
      "\tStage 5 Generators:\n",
      "\t\tFitting DropDuplicatesFeatureGenerator...\n",
      "\tTypes of features in original data (raw dtype, special dtypes):\n",
      "\t\t('float', []) : 1 | ['temp']\n",
      "\tTypes of features in processed data (raw dtype, special dtypes):\n",
      "\t\t('float', []) : 1 | ['temp']\n",
      "\t0.0s = Fit runtime\n",
      "\t1 features in original data used to generate 1 features in processed data.\n",
      "\tTrain Data (Processed) Memory Usage: 0.0 MB (0.0% of available memory)\n",
      "Data preprocessing and feature engineering runtime = 0.02s ...\n",
      "AutoGluon will gauge predictive performance using evaluation metric: 'root_mean_squared_error'\n",
      "\tThis metric's sign has been flipped to adhere to being higher_is_better. The metric score can be multiplied by -1 to get the metric value.\n",
      "\tTo change this, specify the eval_metric parameter of Predictor()\n",
      "Automatically generating train/validation split with holdout_frac=0.2, Train Rows: 80, Val Rows: 20\n",
      "User-specified model hyperparameters to be fit:\n",
      "{\n",
      "\t'NN_TORCH': {},\n",
      "\t'GBM': [{'extra_trees': True, 'ag_args': {'name_suffix': 'XT'}}, {}, 'GBMLarge'],\n",
      "\t'CAT': {},\n",
      "\t'XGB': {},\n",
      "\t'FASTAI': {},\n",
      "\t'RF': [{'criterion': 'gini', 'ag_args': {'name_suffix': 'Gini', 'problem_types': ['binary', 'multiclass']}}, {'criterion': 'entropy', 'ag_args': {'name_suffix': 'Entr', 'problem_types': ['binary', 'multiclass']}}, {'criterion': 'squared_error', 'ag_args': {'name_suffix': 'MSE', 'problem_types': ['regression', 'quantile']}}],\n",
      "\t'XT': [{'criterion': 'gini', 'ag_args': {'name_suffix': 'Gini', 'problem_types': ['binary', 'multiclass']}}, {'criterion': 'entropy', 'ag_args': {'name_suffix': 'Entr', 'problem_types': ['binary', 'multiclass']}}, {'criterion': 'squared_error', 'ag_args': {'name_suffix': 'MSE', 'problem_types': ['regression', 'quantile']}}],\n",
      "\t'KNN': [{'weights': 'uniform', 'ag_args': {'name_suffix': 'Unif'}}, {'weights': 'distance', 'ag_args': {'name_suffix': 'Dist'}}],\n",
      "}\n",
      "Fitting 11 L1 models ...\n",
      "Fitting model: KNeighborsUnif ...\n",
      "\t-4.2111\t = Validation score   (-root_mean_squared_error)\n",
      "\t0.0s\t = Training   runtime\n",
      "\t0.03s\t = Validation runtime\n",
      "Fitting model: KNeighborsDist ...\n",
      "\t-4.6714\t = Validation score   (-root_mean_squared_error)\n",
      "\t0.0s\t = Training   runtime\n",
      "\t0.03s\t = Validation runtime\n",
      "Fitting model: LightGBMXT ...\n",
      "\tTraining LightGBMXT with GPU, note that this may negatively impact model quality compared to CPU training.\n",
      "[LightGBM] [Fatal] GPU Tree Learner was not enabled in this build.\n",
      "Please recompile with CMake option -DUSE_GPU=1\n",
      "Warning: GPU mode might not be installed for LightGBM, GPU training raised an exception. Falling back to CPU training...Refer to LightGBM GPU documentation: https://github.com/Microsoft/LightGBM/tree/master/python-package#build-gpu-versionOne possible method is:\tpip uninstall lightgbm -y\tpip install lightgbm --install-option=--gpu\n"
     ]
    },
    {
     "name": "stdout",
     "output_type": "stream",
     "text": [
      "[1000]\tvalid_set's rmse: 5.45375\n"
     ]
    },
    {
     "name": "stderr",
     "output_type": "stream",
     "text": [
      "\t-35.2477\t = Validation score   (-root_mean_squared_error)\n",
      "\t0.87s\t = Training   runtime\n",
      "\t0.0s\t = Validation runtime\n",
      "Fitting model: LightGBM ...\n",
      "\tTraining LightGBM with GPU, note that this may negatively impact model quality compared to CPU training.\n"
     ]
    },
    {
     "name": "stdout",
     "output_type": "stream",
     "text": [
      "[2000]\tvalid_set's rmse: 5.40245\n"
     ]
    },
    {
     "name": "stderr",
     "output_type": "stream",
     "text": [
      "[LightGBM] [Fatal] GPU Tree Learner was not enabled in this build.\n",
      "Please recompile with CMake option -DUSE_GPU=1\n",
      "Warning: GPU mode might not be installed for LightGBM, GPU training raised an exception. Falling back to CPU training...Refer to LightGBM GPU documentation: https://github.com/Microsoft/LightGBM/tree/master/python-package#build-gpu-versionOne possible method is:\tpip uninstall lightgbm -y\tpip install lightgbm --install-option=--gpu\n",
      "\t-5.3708\t = Validation score   (-root_mean_squared_error)\n",
      "\t0.36s\t = Training   runtime\n",
      "\t0.0s\t = Validation runtime\n",
      "Fitting model: RandomForestMSE ...\n",
      "\t-4.4041\t = Validation score   (-root_mean_squared_error)\n",
      "\t0.46s\t = Training   runtime\n",
      "\t0.04s\t = Validation runtime\n",
      "Fitting model: CatBoost ...\n",
      "\tTraining CatBoost with GPU, note that this may negatively impact model quality compared to CPU training.\n",
      "\tWarning: CatBoost on GPU is experimental. If you encounter issues, use CPU for training CatBoost instead.\n",
      "\t-4.321\t = Validation score   (-root_mean_squared_error)\n",
      "\t2.07s\t = Training   runtime\n",
      "\t0.0s\t = Validation runtime\n",
      "Fitting model: ExtraTreesMSE ...\n",
      "\t-4.2375\t = Validation score   (-root_mean_squared_error)\n",
      "\t0.43s\t = Training   runtime\n",
      "\t0.05s\t = Validation runtime\n",
      "Fitting model: NeuralNetFastAI ...\n",
      "\t-3.6121\t = Validation score   (-root_mean_squared_error)\n",
      "\t1.61s\t = Training   runtime\n",
      "\t0.01s\t = Validation runtime\n",
      "Fitting model: XGBoost ...\n",
      "\t-4.0555\t = Validation score   (-root_mean_squared_error)\n",
      "\t0.75s\t = Training   runtime\n",
      "\t0.0s\t = Validation runtime\n",
      "Fitting model: NeuralNetTorch ...\n",
      "\t-3.4775\t = Validation score   (-root_mean_squared_error)\n",
      "\t0.81s\t = Training   runtime\n",
      "\t0.0s\t = Validation runtime\n",
      "Fitting model: LightGBMLarge ...\n",
      "\tTraining LightGBMLarge with GPU, note that this may negatively impact model quality compared to CPU training.\n",
      "Warning: GPU mode might not be installed for LightGBM, GPU training raised an exception. Falling back to CPU training...Refer to LightGBM GPU documentation: https://github.com/Microsoft/LightGBM/tree/master/python-package#build-gpu-versionOne possible method is:\tpip uninstall lightgbm -y\tpip install lightgbm --install-option=--gpu\n",
      "[LightGBM] [Fatal] GPU Tree Learner was not enabled in this build.\n",
      "Please recompile with CMake option -DUSE_GPU=1\n",
      "\t-3.979\t = Validation score   (-root_mean_squared_error)\n",
      "\t0.43s\t = Training   runtime\n",
      "\t0.0s\t = Validation runtime\n",
      "Fitting model: WeightedEnsemble_L2 ...\n",
      "\t-3.4775\t = Validation score   (-root_mean_squared_error)\n",
      "\t0.26s\t = Training   runtime\n",
      "\t0.0s\t = Validation runtime\n",
      "AutoGluon training complete, total runtime = 8.33s ... Best model: \"WeightedEnsemble_L2\"\n",
      "TabularPredictor saved. To load, use: predictor = TabularPredictor.load(\"AutogluonModels/ag-20231130_184003/\")\n"
     ]
    }
   ],
   "source": [
    "# step1 -- pass\n",
    "# step2 \n",
    "predictr = TabularPredictor(label = 'sales')\n",
    "# step3 \n",
    "predictr.fit(df_train,num_gpus=1)\n",
    "# step4 \n",
    "yhat = predictr.predict(df_train)"
   ]
  },
  {
   "cell_type": "markdown",
   "id": "80b70326-7569-40ba-8e78-0acd6185736b",
   "metadata": {},
   "source": [
    "## B. 적합결과 시각화 "
   ]
  },
  {
   "cell_type": "code",
   "execution_count": 69,
   "id": "1a4eff1a-37d4-49ee-922c-13601a357ff7",
   "metadata": {},
   "outputs": [
    {
     "data": {
      "text/plain": [
       "<matplotlib.legend.Legend at 0x7f652e2e53c0>"
      ]
     },
     "execution_count": 69,
     "metadata": {},
     "output_type": "execute_result"
    },
    {
     "data": {
      "image/png": "[encoded data removed]",
      "text/plain": [
       "<Figure size 640x480 with 1 Axes>"
      ]
     },
     "metadata": {},
     "output_type": "display_data"
    }
   ],
   "source": [
    "sns.scatterplot(df_train, x='temp',y='sales',label='y')\n",
    "sns.lineplot(df_train, x='temp',y=yhat,color='C1',linestyle='--',label='yhat')\n",
    "plt.legend()"
   ]
  },
  {
   "cell_type": "markdown",
   "id": "ba5a04ac-ce6c-49c6-a05d-2e47a2fa8ca4",
   "metadata": {},
   "source": [
    "- 잘맞춘다?"
   ]
  },
  {
   "cell_type": "markdown",
   "id": "363fe4f3-76ed-4968-84cc-8e1cc8bbcbd7",
   "metadata": {},
   "source": [
    "## C. 모형들 확인 "
   ]
  },
  {
   "cell_type": "code",
   "execution_count": 70,
   "id": "535235f7-7698-47f8-ae2e-da42d0d2520a",
   "metadata": {},
   "outputs": [
    {
     "data": {
      "text/html": [
       "<div>\n",
       "<style scoped>\n",
       "    .dataframe tbody tr th:only-of-type {\n",
       "        vertical-align: middle;\n",
       "    }\n",
       "\n",
       "    .dataframe tbody tr th {\n",
       "        vertical-align: top;\n",
       "    }\n",
       "\n",
       "    .dataframe thead th {\n",
       "        text-align: right;\n",
       "    }\n",
       "</style>\n",
       "<table border=\"1\" class=\"dataframe\">\n",
       "  <thead>\n",
       "    <tr style=\"text-align: right;\">\n",
       "      <th></th>\n",
       "      <th>model</th>\n",
       "      <th>score_val</th>\n",
       "      <th>pred_time_val</th>\n",
       "      <th>fit_time</th>\n",
       "      <th>pred_time_val_marginal</th>\n",
       "      <th>fit_time_marginal</th>\n",
       "      <th>stack_level</th>\n",
       "      <th>can_infer</th>\n",
       "      <th>fit_order</th>\n",
       "    </tr>\n",
       "  </thead>\n",
       "  <tbody>\n",
       "    <tr>\n",
       "      <th>0</th>\n",
       "      <td>NeuralNetTorch</td>\n",
       "      <td>-3.477510</td>\n",
       "      <td>0.003048</td>\n",
       "      <td>0.812747</td>\n",
       "      <td>0.003048</td>\n",
       "      <td>0.812747</td>\n",
       "      <td>1</td>\n",
       "      <td>True</td>\n",
       "      <td>10</td>\n",
       "    </tr>\n",
       "    <tr>\n",
       "      <th>1</th>\n",
       "      <td>WeightedEnsemble_L2</td>\n",
       "      <td>-3.477510</td>\n",
       "      <td>0.003352</td>\n",
       "      <td>1.075003</td>\n",
       "      <td>0.000304</td>\n",
       "      <td>0.262256</td>\n",
       "      <td>2</td>\n",
       "      <td>True</td>\n",
       "      <td>12</td>\n",
       "    </tr>\n",
       "    <tr>\n",
       "      <th>2</th>\n",
       "      <td>NeuralNetFastAI</td>\n",
       "      <td>-3.612069</td>\n",
       "      <td>0.005018</td>\n",
       "      <td>1.607540</td>\n",
       "      <td>0.005018</td>\n",
       "      <td>1.607540</td>\n",
       "      <td>1</td>\n",
       "      <td>True</td>\n",
       "      <td>8</td>\n",
       "    </tr>\n",
       "    <tr>\n",
       "      <th>3</th>\n",
       "      <td>LightGBMLarge</td>\n",
       "      <td>-3.978956</td>\n",
       "      <td>0.001014</td>\n",
       "      <td>0.428261</td>\n",
       "      <td>0.001014</td>\n",
       "      <td>0.428261</td>\n",
       "      <td>1</td>\n",
       "      <td>True</td>\n",
       "      <td>11</td>\n",
       "    </tr>\n",
       "    <tr>\n",
       "      <th>4</th>\n",
       "      <td>XGBoost</td>\n",
       "      <td>-4.055491</td>\n",
       "      <td>0.003652</td>\n",
       "      <td>0.751393</td>\n",
       "      <td>0.003652</td>\n",
       "      <td>0.751393</td>\n",
       "      <td>1</td>\n",
       "      <td>True</td>\n",
       "      <td>9</td>\n",
       "    </tr>\n",
       "    <tr>\n",
       "      <th>5</th>\n",
       "      <td>KNeighborsUnif</td>\n",
       "      <td>-4.211090</td>\n",
       "      <td>0.026856</td>\n",
       "      <td>0.002591</td>\n",
       "      <td>0.026856</td>\n",
       "      <td>0.002591</td>\n",
       "      <td>1</td>\n",
       "      <td>True</td>\n",
       "      <td>1</td>\n",
       "    </tr>\n",
       "    <tr>\n",
       "      <th>6</th>\n",
       "      <td>ExtraTreesMSE</td>\n",
       "      <td>-4.237516</td>\n",
       "      <td>0.054158</td>\n",
       "      <td>0.425446</td>\n",
       "      <td>0.054158</td>\n",
       "      <td>0.425446</td>\n",
       "      <td>1</td>\n",
       "      <td>True</td>\n",
       "      <td>7</td>\n",
       "    </tr>\n",
       "    <tr>\n",
       "      <th>7</th>\n",
       "      <td>CatBoost</td>\n",
       "      <td>-4.321046</td>\n",
       "      <td>0.002000</td>\n",
       "      <td>2.073435</td>\n",
       "      <td>0.002000</td>\n",
       "      <td>2.073435</td>\n",
       "      <td>1</td>\n",
       "      <td>True</td>\n",
       "      <td>6</td>\n",
       "    </tr>\n",
       "    <tr>\n",
       "      <th>8</th>\n",
       "      <td>RandomForestMSE</td>\n",
       "      <td>-4.404096</td>\n",
       "      <td>0.042513</td>\n",
       "      <td>0.458560</td>\n",
       "      <td>0.042513</td>\n",
       "      <td>0.458560</td>\n",
       "      <td>1</td>\n",
       "      <td>True</td>\n",
       "      <td>5</td>\n",
       "    </tr>\n",
       "    <tr>\n",
       "      <th>9</th>\n",
       "      <td>KNeighborsDist</td>\n",
       "      <td>-4.671405</td>\n",
       "      <td>0.027403</td>\n",
       "      <td>0.002722</td>\n",
       "      <td>0.027403</td>\n",
       "      <td>0.002722</td>\n",
       "      <td>1</td>\n",
       "      <td>True</td>\n",
       "      <td>2</td>\n",
       "    </tr>\n",
       "    <tr>\n",
       "      <th>10</th>\n",
       "      <td>LightGBM</td>\n",
       "      <td>-5.370826</td>\n",
       "      <td>0.000874</td>\n",
       "      <td>0.357949</td>\n",
       "      <td>0.000874</td>\n",
       "      <td>0.357949</td>\n",
       "      <td>1</td>\n",
       "      <td>True</td>\n",
       "      <td>4</td>\n",
       "    </tr>\n",
       "    <tr>\n",
       "      <th>11</th>\n",
       "      <td>LightGBMXT</td>\n",
       "      <td>-35.247682</td>\n",
       "      <td>0.001486</td>\n",
       "      <td>0.866613</td>\n",
       "      <td>0.001486</td>\n",
       "      <td>0.866613</td>\n",
       "      <td>1</td>\n",
       "      <td>True</td>\n",
       "      <td>3</td>\n",
       "    </tr>\n",
       "  </tbody>\n",
       "</table>\n",
       "</div>"
      ],
      "text/plain": [
       "                  model  score_val  pred_time_val  fit_time  \\\n",
       "0        NeuralNetTorch  -3.477510       0.003048  0.812747   \n",
       "1   WeightedEnsemble_L2  -3.477510       0.003352  1.075003   \n",
       "2       NeuralNetFastAI  -3.612069       0.005018  1.607540   \n",
       "3         LightGBMLarge  -3.978956       0.001014  0.428261   \n",
       "4               XGBoost  -4.055491       0.003652  0.751393   \n",
       "5        KNeighborsUnif  -4.211090       0.026856  0.002591   \n",
       "6         ExtraTreesMSE  -4.237516       0.054158  0.425446   \n",
       "7              CatBoost  -4.321046       0.002000  2.073435   \n",
       "8       RandomForestMSE  -4.404096       0.042513  0.458560   \n",
       "9        KNeighborsDist  -4.671405       0.027403  0.002722   \n",
       "10             LightGBM  -5.370826       0.000874  0.357949   \n",
       "11           LightGBMXT -35.247682       0.001486  0.866613   \n",
       "\n",
       "    pred_time_val_marginal  fit_time_marginal  stack_level  can_infer  \\\n",
       "0                 0.003048           0.812747            1       True   \n",
       "1                 0.000304           0.262256            2       True   \n",
       "2                 0.005018           1.607540            1       True   \n",
       "3                 0.001014           0.428261            1       True   \n",
       "4                 0.003652           0.751393            1       True   \n",
       "5                 0.026856           0.002591            1       True   \n",
       "6                 0.054158           0.425446            1       True   \n",
       "7                 0.002000           2.073435            1       True   \n",
       "8                 0.042513           0.458560            1       True   \n",
       "9                 0.027403           0.002722            1       True   \n",
       "10                0.000874           0.357949            1       True   \n",
       "11                0.001486           0.866613            1       True   \n",
       "\n",
       "    fit_order  \n",
       "0          10  \n",
       "1          12  \n",
       "2           8  \n",
       "3          11  \n",
       "4           9  \n",
       "5           1  \n",
       "6           7  \n",
       "7           6  \n",
       "8           5  \n",
       "9           2  \n",
       "10          4  \n",
       "11          3  "
      ]
     },
     "execution_count": 70,
     "metadata": {},
     "output_type": "execute_result"
    }
   ],
   "source": [
    "predictr.leaderboard(silent=True)"
   ]
  },
  {
   "cell_type": "markdown",
   "id": "e666cc3d-fe10-48a6-bc76-098e06f8cde2",
   "metadata": {},
   "source": [
    "## D. 최강모형의 `r2_score` 계산"
   ]
  },
  {
   "cell_type": "markdown",
   "id": "5e5e190e-d1a5-44e1-bcfe-c65313816cb1",
   "metadata": {},
   "source": [
    "`-` `r2_score` 계산 -- 방법1"
   ]
  },
  {
   "cell_type": "code",
   "execution_count": 75,
   "id": "4a14142b-f44a-4b47-9cc2-ed2813fd0d0a",
   "metadata": {},
   "outputs": [
    {
     "data": {
      "text/plain": [
       "0.930515451144895"
      ]
     },
     "execution_count": 75,
     "metadata": {},
     "output_type": "execute_result"
    }
   ],
   "source": [
    "_y = df_train.sales\n",
    "_yhat = predictr.predict(df_train) \n",
    "sklearn.metrics.r2_score(_y,yhat)"
   ]
  },
  {
   "cell_type": "markdown",
   "id": "764601e7-9527-46f0-9ca0-84de41115b9a",
   "metadata": {},
   "source": [
    "`-` `r2_score` 계산 -- 방법2"
   ]
  },
  {
   "cell_type": "code",
   "execution_count": 76,
   "id": "025322c0-ca1e-41c3-a83f-3085a877708f",
   "metadata": {},
   "outputs": [
    {
     "data": {
      "text/plain": [
       "0.930515451144895"
      ]
     },
     "execution_count": 76,
     "metadata": {},
     "output_type": "execute_result"
    }
   ],
   "source": [
    "_y = df_train.sales \n",
    "_yhat = predictr.predict(df_train,model='NeuralNetTorch')\n",
    "sklearn.metrics.r2_score(_y,_yhat)"
   ]
  },
  {
   "cell_type": "markdown",
   "id": "90a33bef-1fc6-44c4-9712-8536bca8242e",
   "metadata": {},
   "source": [
    "## E. 특정모형의 적합값 구경 "
   ]
  },
  {
   "cell_type": "markdown",
   "id": "9fdb8990-2e89-4058-8147-8b8c58acca2e",
   "metadata": {},
   "source": [
    "`-` XGBoost 궁금해.."
   ]
  },
  {
   "cell_type": "code",
   "execution_count": 77,
   "id": "0898bc5a-8076-4d3e-875d-7f683b855b85",
   "metadata": {},
   "outputs": [
    {
     "data": {
      "text/plain": [
       "0.9516437954914487"
      ]
     },
     "execution_count": 77,
     "metadata": {},
     "output_type": "execute_result"
    }
   ],
   "source": [
    "_y = df_train.sales \n",
    "_yhat = predictr.predict(df_train, model='XGBoost')\n",
    "sklearn.metrics.r2_score(_y,_yhat)"
   ]
  },
  {
   "cell_type": "code",
   "execution_count": 78,
   "id": "013bcede-3bce-45b5-b564-071c5ee1cfd3",
   "metadata": {},
   "outputs": [
    {
     "data": {
      "text/plain": [
       "<matplotlib.legend.Legend at 0x7f5f401ddc30>"
      ]
     },
     "execution_count": 78,
     "metadata": {},
     "output_type": "execute_result"
    },
    {
     "data": {
      "image/png": "[encoded data removed]",
      "text/plain": [
       "<Figure size 640x480 with 1 Axes>"
      ]
     },
     "metadata": {},
     "output_type": "display_data"
    }
   ],
   "source": [
    "sns.scatterplot(df_train, x='temp',y='sales',color='C0',label='y')\n",
    "plt.plot(df_train.temp,_yhat,'--',color='C1',label='yhat')\n",
    "ax = plt.gca()\n",
    "ax.set_title(\"XGBoost\")\n",
    "plt.legend()"
   ]
  }
 ],
 "metadata": {
  "kernelspec": {
   "display_name": "Python 3 (ipykernel)",
   "language": "python",
   "name": "python3"
  },
  "language_info": {
   "codemirror_mode": {
    "name": "ipython",
    "version": 3
   },
   "file_extension": ".py",
   "mimetype": "text/x-python",
   "name": "python",
   "nbconvert_exporter": "python",
   "pygments_lexer": "ipython3",
   "version": "3.10.13"
  }
 },
 "nbformat": 4,
 "nbformat_minor": 5
}
