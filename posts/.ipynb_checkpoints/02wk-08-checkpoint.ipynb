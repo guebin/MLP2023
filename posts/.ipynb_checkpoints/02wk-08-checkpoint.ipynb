{
 "cells": [
  {
   "cell_type": "raw",
   "id": "c99794cc-461a-45cd-a975-bacb7163c1df",
   "metadata": {},
   "source": [
    "---\n",
    "title: \"02wk-08: 타이타닉 / Autogluon (best_quality)\"\n",
    "author: \"최규빈\"\n",
    "date: \"09/12/2023\"\n",
    "bibliography: ref.bib\n",
    "---"
   ]
  },
  {
   "cell_type": "markdown",
   "id": "e0e99d21-2790-4344-92f7-5b7bee5782c1",
   "metadata": {},
   "source": [
    "# 1. 강의영상 "
   ]
  },
  {
   "cell_type": "markdown",
   "id": "5cca2a21-b121-4124-a014-074be0eb4deb",
   "metadata": {},
   "source": [
    "{{<video https://youtu.be/playlist?list=PLQqh36zP38-x6USW3HM9Lm-B19o9qrm19&si=EFy8hdlgDJ-LUFHi >}}"
   ]
  },
  {
   "cell_type": "markdown",
   "id": "209df841-dee6-418d-9b18-5ed4f18c1285",
   "metadata": {},
   "source": [
    "# 2. Import"
   ]
  },
  {
   "cell_type": "markdown",
   "id": "f846159b-003d-418c-8ca8-c1fbfe9a7742",
   "metadata": {},
   "source": [
    "``` python\n",
    "# This Python 3 environment comes with many helpful analytics libraries installed\n",
    "# It is defined by the kaggle/python Docker image: https://github.com/kaggle/docker-python\n",
    "# For example, here's several helpful packages to load\n",
    "\n",
    "import numpy as np # linear algebra\n",
    "import pandas as pd # data processing, CSV file I/O (e.g. pd.read_csv)\n",
    "\n",
    "# Input data files are available in the read-only \"../input/\" directory\n",
    "# For example, running this (by clicking run or pressing Shift+Enter) will list all files under the input directory\n",
    "\n",
    "import os\n",
    "for dirname, _, filenames in os.walk('/kaggle/input'):\n",
    "    for filename in filenames:\n",
    "        print(os.path.join(dirname, filename))\n",
    "\n",
    "# You can write up to 20GB to the current directory (/kaggle/working/) that gets preserved as output when you create a version using \"Save & Run All\" \n",
    "# You can also write temporary files to /kaggle/temp/, but they won't be saved outside of the current session\n",
    "```\n",
    "\n",
    "    /kaggle/input/titanic/train.csv\n",
    "    /kaggle/input/titanic/test.csv\n",
    "    /kaggle/input/titanic/gender_submission.csv"
   ]
  },
  {
   "cell_type": "code",
   "execution_count": 10,
   "id": "5ee63a9f-4df2-46eb-b255-633ad13ef668",
   "metadata": {},
   "outputs": [],
   "source": [
    "#pip install autogluon"
   ]
  },
  {
   "cell_type": "code",
   "execution_count": 11,
   "id": "4fb9404e-25d7-4a80-8709-69221a7fbc3a",
   "metadata": {},
   "outputs": [],
   "source": [
    "from autogluon.tabular import TabularDataset, TabularPredictor"
   ]
  },
  {
   "cell_type": "markdown",
   "id": "21860fd4-cf50-479c-8f34-90306e37f3da",
   "metadata": {},
   "source": [
    "# 3. 분석의 절차"
   ]
  },
  {
   "cell_type": "markdown",
   "id": "731bf7aa-4051-47dc-a97e-7de20468a0d0",
   "metadata": {},
   "source": [
    "## A. 데이터"
   ]
  },
  {
   "cell_type": "markdown",
   "id": "76191fd3-1974-4424-8a3b-c66d80146260",
   "metadata": {},
   "source": [
    "`-` 비유: 문제를 받아오는 과정으로 비유할 수 있다. "
   ]
  },
  {
   "cell_type": "code",
   "execution_count": 12,
   "id": "5ac6c193-2953-419d-ac23-d3d9ea3f40c8",
   "metadata": {},
   "outputs": [
    {
     "name": "stdout",
     "output_type": "stream",
     "text": [
      "Downloading titanic.zip to /home/cgb2/Dropbox/07_lectures/2023-09-MP2023/posts\n",
      "  0%|                                               | 0.00/34.1k [00:00<?, ?B/s]\n",
      "100%|███████████████████████████████████████| 34.1k/34.1k [00:00<00:00, 407kB/s]\n",
      "Archive:  titanic.zip\n",
      "  inflating: titanic/gender_submission.csv  \n",
      "  inflating: titanic/test.csv        \n",
      "  inflating: titanic/train.csv       \n"
     ]
    },
    {
     "name": "stderr",
     "output_type": "stream",
     "text": [
      "Loaded data from: titanic/train.csv | Columns = 12 / 12 | Rows = 891 -> 891\n",
      "Loaded data from: titanic/test.csv | Columns = 11 / 11 | Rows = 418 -> 418\n"
     ]
    }
   ],
   "source": [
    "!kaggle competitions download -c titanic\n",
    "!unzip titanic.zip -d titanic\n",
    "df_train = TabularDataset('titanic/train.csv')\n",
    "df_test = TabularDataset('titanic/test.csv')\n",
    "!rm titanic.zip\n",
    "!rm -rf titanic/"
   ]
  },
  {
   "cell_type": "markdown",
   "id": "c199b03d-d5db-4828-9789-e34f678d9e7b",
   "metadata": {},
   "source": [
    "## B. Predictor 생성 "
   ]
  },
  {
   "cell_type": "markdown",
   "id": "44716691-6b21-4134-ac95-052a92fe0e25",
   "metadata": {},
   "source": [
    "`-` 비유: 문제를 풀 학생을 생성하는 과정으로 비유할 수 있다. "
   ]
  },
  {
   "cell_type": "code",
   "execution_count": 19,
   "id": "d14af837-2d5e-4dd3-9348-ade59683b80d",
   "metadata": {},
   "outputs": [],
   "source": [
    "predictr = TabularPredictor(\"Survived\",verbosity=False)"
   ]
  },
  {
   "cell_type": "markdown",
   "id": "4201d8a9-ffaa-4641-a39c-410f7219aff7",
   "metadata": {},
   "source": [
    "## C. 적합(fit) "
   ]
  },
  {
   "cell_type": "markdown",
   "id": "9ef96a3c-618f-4f7a-8373-573204e065da",
   "metadata": {},
   "source": [
    "`-` 비유: 학생이 공부를 하는 과정으로 비유할 수 있다. "
   ]
  },
  {
   "cell_type": "markdown",
   "id": "c1149efd-3bff-4040-8d47-8f6090adf177",
   "metadata": {},
   "source": [
    "`-` 학습"
   ]
  },
  {
   "cell_type": "code",
   "execution_count": null,
   "id": "d487d466-82e6-4b71-b6c5-037ae26df37e",
   "metadata": {},
   "outputs": [],
   "source": [
    "predictr.fit(df_train,presets='best_quality') # 학생(predictr)에게 문제(tr)를 줘서 학습을 시킴(predictr.fit())"
   ]
  },
  {
   "cell_type": "markdown",
   "id": "67214625-1968-4062-8712-d4b890114476",
   "metadata": {},
   "source": [
    "`-` 리더보드확인 (모의고사채점)"
   ]
  },
  {
   "cell_type": "code",
   "execution_count": null,
   "id": "174c297f-09ab-4fab-8b6a-c1b5f5cc5244",
   "metadata": {},
   "outputs": [],
   "source": [
    "predictr.leaderboard()"
   ]
  },
  {
   "cell_type": "markdown",
   "id": "de654914-4b0d-49ec-9ba1-569b8e917e20",
   "metadata": {},
   "source": [
    "## D. 예측 (predict)"
   ]
  },
  {
   "cell_type": "markdown",
   "id": "05f618a5-9d33-4ad0-802a-3cb1112e3e19",
   "metadata": {},
   "source": [
    "`-` 비유: 학습이후에 문제를 푸는 과정으로 비유할 수 있다."
   ]
  },
  {
   "cell_type": "markdown",
   "id": "0f1c30de-468b-461b-a377-6fa78815134d",
   "metadata": {},
   "source": [
    "`-` training set 을 풀어봄 (predict) $\\to$ 점수 확인 "
   ]
  },
  {
   "cell_type": "code",
   "execution_count": null,
   "id": "63dde064-62d6-4b36-bade-c3826d031584",
   "metadata": {},
   "outputs": [],
   "source": [
    "(df_train.Survived == predictr.predict(df_train)).mean()"
   ]
  },
  {
   "cell_type": "markdown",
   "id": "c85b091d-dbe6-44ac-9c7d-4954d9e99a44",
   "metadata": {},
   "source": [
    "`-` test set 을 풀어봄 (predict) $\\to$ 점수 확인 하러 캐글에 결과제출 "
   ]
  },
  {
   "cell_type": "code",
   "execution_count": 17,
   "id": "767c5239-4ba5-4a43-873b-dd1575ef8954",
   "metadata": {},
   "outputs": [],
   "source": [
    "# df_test.assign(Survived = predictr.predict(df_test)).loc[:,['PassengerId','Survived']]\\\n",
    "# .to_csv(\"autogluon(best_quality)_submission.csv\",index=False)"
   ]
  },
  {
   "cell_type": "markdown",
   "id": "4ff7fab7-c380-4e13-9238-1d9267942503",
   "metadata": {},
   "source": [
    "# 3. 숙제"
   ]
  },
  {
   "cell_type": "markdown",
   "id": "5b498190-fb33-4b73-a64d-861a94f7e8bd",
   "metadata": {},
   "source": [
    "`-` 캐글에 제출한 결과를 캡쳐하여 LMS에 제출"
   ]
  }
 ],
 "metadata": {
  "kernelspec": {
   "display_name": "Python 3 (ipykernel)",
   "language": "python",
   "name": "python3"
  },
  "language_info": {
   "codemirror_mode": {
    "name": "ipython",
    "version": 3
   },
   "file_extension": ".py",
   "mimetype": "text/x-python",
   "name": "python",
   "nbconvert_exporter": "python",
   "pygments_lexer": "ipython3",
   "version": "3.11.6"
  }
 },
 "nbformat": 4,
 "nbformat_minor": 5
}
