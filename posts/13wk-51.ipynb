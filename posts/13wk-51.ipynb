{
 "cells": [
  {
   "cell_type": "raw",
   "id": "614c4913-0fa3-4b3a-b4fa-38c55293201a",
   "metadata": {
    "id": "7d723e7d-4484-4bb4-b97b-8a9f3493e23c"
   },
   "source": [
    "---\n",
    "title: \"13wk-51: 아이스크림(type무의미) / 자료분석(Autogluon)\"\n",
    "author: \"최규빈\"\n",
    "date: \"12/01/2023\"\n",
    "bibliography: ref.bib\n",
    "draft: false\n",
    "---"
   ]
  },
  {
   "cell_type": "markdown",
   "id": "05b86108-4a4a-43e8-ac75-ddc699424d5f",
   "metadata": {},
   "source": [
    "# 1. 강의영상 "
   ]
  },
  {
   "cell_type": "markdown",
   "id": "dc26d6ab-58f7-4cef-90f2-2ba9a95302b5",
   "metadata": {},
   "source": [
    "{{<video ???? >}}"
   ]
  },
  {
   "cell_type": "markdown",
   "id": "6443d7a4-0a1c-4a55-9cee-be20346201e6",
   "metadata": {},
   "source": [
    "# 2. Imports"
   ]
  },
  {
   "cell_type": "code",
   "execution_count": 3,
   "id": "40fc16c4-7c07-47cf-ac6e-daf95ffd756c",
   "metadata": {},
   "outputs": [],
   "source": [
    "#!pip install autogluon.eda"
   ]
  },
  {
   "cell_type": "code",
   "execution_count": 1,
   "id": "305cd624-5b6a-4de8-a0a3-f211df42b441",
   "metadata": {
    "tags": []
   },
   "outputs": [],
   "source": [
    "import numpy as np\n",
    "import pandas as pd\n",
    "import matplotlib.pyplot as plt \n",
    "import seaborn as sns\n",
    "#---#\n",
    "from autogluon.tabular import TabularPredictor\n",
    "import autogluon.eda.auto as auto\n",
    "#---#\n",
    "import warnings\n",
    "warnings.filterwarnings('ignore')"
   ]
  },
  {
   "cell_type": "markdown",
   "id": "005c7025-31eb-455e-8924-9ea6fdd69c88",
   "metadata": {},
   "source": [
    "# 3. Data"
   ]
  },
  {
   "cell_type": "code",
   "execution_count": 2,
   "id": "1947c394-4433-46bc-b4b1-0aa028f62819",
   "metadata": {
    "tags": []
   },
   "outputs": [],
   "source": [
    "df_train = pd.read_csv('https://raw.githubusercontent.com/guebin/MP2023/master/posts/mid/icesales_train.csv')\n",
    "df_test = pd.read_csv('https://raw.githubusercontent.com/guebin/MP2023/master/posts/mid/icesales_test.csv')"
   ]
  },
  {
   "cell_type": "code",
   "execution_count": 3,
   "id": "78f45d84-6d72-493e-b432-7a4bc13b302d",
   "metadata": {
    "tags": []
   },
   "outputs": [
    {
     "data": {
      "text/html": [
       "<div>\n",
       "<style scoped>\n",
       "    .dataframe tbody tr th:only-of-type {\n",
       "        vertical-align: middle;\n",
       "    }\n",
       "\n",
       "    .dataframe tbody tr th {\n",
       "        vertical-align: top;\n",
       "    }\n",
       "\n",
       "    .dataframe thead th {\n",
       "        text-align: right;\n",
       "    }\n",
       "</style>\n",
       "<table border=\"1\" class=\"dataframe\">\n",
       "  <thead>\n",
       "    <tr style=\"text-align: right;\">\n",
       "      <th></th>\n",
       "      <th>temp</th>\n",
       "      <th>type</th>\n",
       "      <th>sales</th>\n",
       "    </tr>\n",
       "  </thead>\n",
       "  <tbody>\n",
       "    <tr>\n",
       "      <th>0</th>\n",
       "      <td>19.4</td>\n",
       "      <td>choco</td>\n",
       "      <td>64.807407</td>\n",
       "    </tr>\n",
       "    <tr>\n",
       "      <th>1</th>\n",
       "      <td>0.9</td>\n",
       "      <td>vanilla</td>\n",
       "      <td>25.656697</td>\n",
       "    </tr>\n",
       "    <tr>\n",
       "      <th>2</th>\n",
       "      <td>7.4</td>\n",
       "      <td>vanilla</td>\n",
       "      <td>34.756650</td>\n",
       "    </tr>\n",
       "    <tr>\n",
       "      <th>3</th>\n",
       "      <td>4.5</td>\n",
       "      <td>choco</td>\n",
       "      <td>27.265442</td>\n",
       "    </tr>\n",
       "    <tr>\n",
       "      <th>4</th>\n",
       "      <td>21.1</td>\n",
       "      <td>choco</td>\n",
       "      <td>70.606946</td>\n",
       "    </tr>\n",
       "  </tbody>\n",
       "</table>\n",
       "</div>"
      ],
      "text/plain": [
       "   temp     type      sales\n",
       "0  19.4    choco  64.807407\n",
       "1   0.9  vanilla  25.656697\n",
       "2   7.4  vanilla  34.756650\n",
       "3   4.5    choco  27.265442\n",
       "4  21.1    choco  70.606946"
      ]
     },
     "execution_count": 3,
     "metadata": {},
     "output_type": "execute_result"
    }
   ],
   "source": [
    "df_train.head()"
   ]
  },
  {
   "cell_type": "markdown",
   "id": "333f0079-5101-4253-bc7e-837552ea4a55",
   "metadata": {},
   "source": [
    "# 4. 적합"
   ]
  },
  {
   "cell_type": "markdown",
   "id": "42f2f585-feb9-40ca-8df9-fdc7087071bc",
   "metadata": {},
   "source": [
    "# 5. 해석 및 시각화 "
   ]
  },
  {
   "cell_type": "markdown",
   "id": "ccf86689-c6b4-4fa2-ba20-7a36b670269f",
   "metadata": {},
   "source": [
    "## A. y의 분포, (X,y)의 관계 시각화 "
   ]
  },
  {
   "cell_type": "markdown",
   "id": "7cdc771d-6efe-4e0d-88a8-ba974a525b0c",
   "metadata": {},
   "source": [
    "## B. 중요한 설명변수"
   ]
  },
  {
   "cell_type": "markdown",
   "id": "878c48a8-7850-4aa1-8145-272575b3695b",
   "metadata": {},
   "source": [
    "## C. 관측치별 해석 "
   ]
  }
 ],
 "metadata": {
  "celltoolbar": "Slideshow",
  "colab": {
   "provenance": []
  },
  "kernelspec": {
   "display_name": "Python 3 (ipykernel)",
   "language": "python",
   "name": "python3"
  },
  "language_info": {
   "codemirror_mode": {
    "name": "ipython",
    "version": 3
   },
   "file_extension": ".py",
   "mimetype": "text/x-python",
   "name": "python",
   "nbconvert_exporter": "python",
   "pygments_lexer": "ipython3",
   "version": "3.10.13"
  }
 },
 "nbformat": 4,
 "nbformat_minor": 5
}
