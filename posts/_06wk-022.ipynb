{
 "cells": [
  {
   "cell_type": "raw",
   "id": "1701eef1-e07d-4f9c-9454-2da294cf9253",
   "metadata": {},
   "source": [
    "---\n",
    "title: \"06wk-022: 취업+각종영어점수, 다중공선성\"\n",
    "author: \"최규빈\"\n",
    "date: \"10/05/2023\"\n",
    "bibliography: ref.bib\n",
    "draft: true\n",
    "---"
   ]
  },
  {
   "cell_type": "markdown",
   "id": "714149a9",
   "metadata": {},
   "source": [
    "# 1. 강의영상 "
   ]
  },
  {
   "cell_type": "markdown",
   "id": "c630eaec",
   "metadata": {},
   "source": [
    "# 2. Imports"
   ]
  },
  {
   "cell_type": "code",
   "execution_count": 2,
   "id": "d59089a4-68c0-445b-a878-14a36d010007",
   "metadata": {
    "tags": []
   },
   "outputs": [],
   "source": [
    "import numpy as np\n",
    "import pandas as pd\n",
    "import matplotlib.pyplot as plt \n",
    "import sklearn.linear_model"
   ]
  },
  {
   "cell_type": "markdown",
   "id": "61a2ee22",
   "metadata": {},
   "source": [
    "# 3. 자료"
   ]
  },
  {
   "cell_type": "markdown",
   "id": "35b65f3d",
   "metadata": {},
   "source": [
    "`-` 아래와 같은 가짜뉴스를 읽어보자.^[제가 ChatGPT를 이용하여 생성한 가짜뉴스입니다. 뉴스는 실제사실을 반영한 것이 아닙니다.]\n",
    "\n",
    "헤드라인: “텝스와 다른 영어 인증 시험들, 결국은 토익과 비슷한 결과를 보여준다?”\n",
    "\n",
    "본문:\n",
    "\n",
    "최근 몇 년 동안, 토익의 신뢰성에 대한 논란이 계속되어 왔습니다. 이러한 배경 속에서 텝스(TEPS), 토플(TOEFL) 등 여러 새로운 영어 능력 평가 시험이 등장하였습니다. 많은 학생들과 직장인들은 이러한 새로운 시험들이 토익보다 더 신뢰성 있고 현실적인 능력을 평가할 것이라는 기대감을 가지고 있었습니다.\n",
    "\n",
    "그러나 최근에 발표된 연구결과에 따르면, 텝스와 다른 영어 인증 시험들도 결국에는 토익과 매우 비슷한 성적 분포와 결과를 보여주었다고 합니다. 연구 팀은 여러 시험들간의 점수 분포와 성적의 상관관계를 분석한 결과, 대부분의 시험들이 실제 영어 능력에 대해 유사한 평가를 제공한다는 결론을 내렸습니다.\n",
    "\n",
    "“많은 사람들이 새로운 시험들이 더 현실적이거나 다양한 영어 능력을 평가할 것이라 기대했지만, 실제로는 모든 시험들이 비슷한 결과를 보여주었습니다.” 라며 연구 팀의 대표는 이렇게 언급하였습니다.\n",
    "\n",
    "이러한 연구결과는 영어 능력 평가 시험의 표준화와 신뢰성에 대한 논의를 새롭게 불러일으킬 것으로 보입니다."
   ]
  },
  {
   "cell_type": "markdown",
   "id": "ef53fcdc",
   "metadata": {},
   "source": [
    "\n",
    "`-` 이 뉴스에 근거하여 아래의 가짜자료를 생성했다."
   ]
  },
  {
   "cell_type": "markdown",
   "id": "cd3b0403-d0a6-4dc9-9eed-ce899acb456b",
   "metadata": {},
   "source": [
    "`-` 아래와 같은 자료를 상상하자. "
   ]
  },
  {
   "cell_type": "code",
   "execution_count": 3,
   "id": "df31636f",
   "metadata": {
    "tags": []
   },
   "outputs": [
    {
     "data": {
      "text/html": [
       "<div>\n",
       "<style scoped>\n",
       "    .dataframe tbody tr th:only-of-type {\n",
       "        vertical-align: middle;\n",
       "    }\n",
       "\n",
       "    .dataframe tbody tr th {\n",
       "        vertical-align: top;\n",
       "    }\n",
       "\n",
       "    .dataframe thead th {\n",
       "        text-align: right;\n",
       "    }\n",
       "</style>\n",
       "<table border=\"1\" class=\"dataframe\">\n",
       "  <thead>\n",
       "    <tr style=\"text-align: right;\">\n",
       "      <th></th>\n",
       "      <th>employment_score</th>\n",
       "      <th>gpa</th>\n",
       "      <th>toeic</th>\n",
       "      <th>toeic0</th>\n",
       "      <th>toeic1</th>\n",
       "      <th>toeic2</th>\n",
       "      <th>toeic3</th>\n",
       "      <th>toeic4</th>\n",
       "      <th>toeic5</th>\n",
       "      <th>toeic6</th>\n",
       "      <th>...</th>\n",
       "      <th>toeic490</th>\n",
       "      <th>toeic491</th>\n",
       "      <th>toeic492</th>\n",
       "      <th>toeic493</th>\n",
       "      <th>toeic494</th>\n",
       "      <th>toeic495</th>\n",
       "      <th>toeic496</th>\n",
       "      <th>toeic497</th>\n",
       "      <th>toeic498</th>\n",
       "      <th>toeic499</th>\n",
       "    </tr>\n",
       "  </thead>\n",
       "  <tbody>\n",
       "    <tr>\n",
       "      <th>0</th>\n",
       "      <td>NaN</td>\n",
       "      <td>0.051535</td>\n",
       "      <td>135</td>\n",
       "      <td>129.566309</td>\n",
       "      <td>133.078481</td>\n",
       "      <td>121.678398</td>\n",
       "      <td>113.457366</td>\n",
       "      <td>133.564200</td>\n",
       "      <td>136.026566</td>\n",
       "      <td>141.793547</td>\n",
       "      <td>...</td>\n",
       "      <td>132.014696</td>\n",
       "      <td>140.013265</td>\n",
       "      <td>135.575816</td>\n",
       "      <td>143.863346</td>\n",
       "      <td>152.162740</td>\n",
       "      <td>132.850033</td>\n",
       "      <td>115.956496</td>\n",
       "      <td>131.842126</td>\n",
       "      <td>125.090801</td>\n",
       "      <td>143.568527</td>\n",
       "    </tr>\n",
       "    <tr>\n",
       "      <th>1</th>\n",
       "      <td>NaN</td>\n",
       "      <td>0.355496</td>\n",
       "      <td>935</td>\n",
       "      <td>940.563187</td>\n",
       "      <td>935.723570</td>\n",
       "      <td>939.190519</td>\n",
       "      <td>938.995672</td>\n",
       "      <td>945.376482</td>\n",
       "      <td>927.469901</td>\n",
       "      <td>952.424087</td>\n",
       "      <td>...</td>\n",
       "      <td>942.251184</td>\n",
       "      <td>923.241548</td>\n",
       "      <td>939.924802</td>\n",
       "      <td>921.912261</td>\n",
       "      <td>953.250300</td>\n",
       "      <td>931.743615</td>\n",
       "      <td>940.205853</td>\n",
       "      <td>930.575825</td>\n",
       "      <td>941.530348</td>\n",
       "      <td>934.221055</td>\n",
       "    </tr>\n",
       "    <tr>\n",
       "      <th>2</th>\n",
       "      <td>NaN</td>\n",
       "      <td>2.228435</td>\n",
       "      <td>485</td>\n",
       "      <td>493.671390</td>\n",
       "      <td>493.909118</td>\n",
       "      <td>475.500970</td>\n",
       "      <td>480.363752</td>\n",
       "      <td>478.868942</td>\n",
       "      <td>493.321602</td>\n",
       "      <td>490.059102</td>\n",
       "      <td>...</td>\n",
       "      <td>484.438233</td>\n",
       "      <td>488.101275</td>\n",
       "      <td>485.626742</td>\n",
       "      <td>475.330715</td>\n",
       "      <td>485.147363</td>\n",
       "      <td>468.553780</td>\n",
       "      <td>486.870976</td>\n",
       "      <td>481.640957</td>\n",
       "      <td>499.340808</td>\n",
       "      <td>488.197332</td>\n",
       "    </tr>\n",
       "    <tr>\n",
       "      <th>3</th>\n",
       "      <td>NaN</td>\n",
       "      <td>1.179701</td>\n",
       "      <td>65</td>\n",
       "      <td>62.272565</td>\n",
       "      <td>55.957257</td>\n",
       "      <td>68.521468</td>\n",
       "      <td>76.866765</td>\n",
       "      <td>51.436321</td>\n",
       "      <td>57.166824</td>\n",
       "      <td>67.834920</td>\n",
       "      <td>...</td>\n",
       "      <td>67.653225</td>\n",
       "      <td>65.710588</td>\n",
       "      <td>64.146780</td>\n",
       "      <td>76.662194</td>\n",
       "      <td>66.837839</td>\n",
       "      <td>82.379018</td>\n",
       "      <td>69.174745</td>\n",
       "      <td>64.475993</td>\n",
       "      <td>52.647087</td>\n",
       "      <td>59.493275</td>\n",
       "    </tr>\n",
       "    <tr>\n",
       "      <th>4</th>\n",
       "      <td>NaN</td>\n",
       "      <td>3.962356</td>\n",
       "      <td>445</td>\n",
       "      <td>449.280637</td>\n",
       "      <td>438.895582</td>\n",
       "      <td>433.598274</td>\n",
       "      <td>444.081141</td>\n",
       "      <td>437.005100</td>\n",
       "      <td>434.761142</td>\n",
       "      <td>443.135269</td>\n",
       "      <td>...</td>\n",
       "      <td>455.940348</td>\n",
       "      <td>435.952854</td>\n",
       "      <td>441.521145</td>\n",
       "      <td>443.038886</td>\n",
       "      <td>433.118847</td>\n",
       "      <td>466.103355</td>\n",
       "      <td>430.056944</td>\n",
       "      <td>423.632873</td>\n",
       "      <td>446.973484</td>\n",
       "      <td>442.793633</td>\n",
       "    </tr>\n",
       "    <tr>\n",
       "      <th>...</th>\n",
       "      <td>...</td>\n",
       "      <td>...</td>\n",
       "      <td>...</td>\n",
       "      <td>...</td>\n",
       "      <td>...</td>\n",
       "      <td>...</td>\n",
       "      <td>...</td>\n",
       "      <td>...</td>\n",
       "      <td>...</td>\n",
       "      <td>...</td>\n",
       "      <td>...</td>\n",
       "      <td>...</td>\n",
       "      <td>...</td>\n",
       "      <td>...</td>\n",
       "      <td>...</td>\n",
       "      <td>...</td>\n",
       "      <td>...</td>\n",
       "      <td>...</td>\n",
       "      <td>...</td>\n",
       "      <td>...</td>\n",
       "      <td>...</td>\n",
       "    </tr>\n",
       "    <tr>\n",
       "      <th>495</th>\n",
       "      <td>NaN</td>\n",
       "      <td>4.288465</td>\n",
       "      <td>280</td>\n",
       "      <td>276.680902</td>\n",
       "      <td>274.502675</td>\n",
       "      <td>277.868536</td>\n",
       "      <td>292.283300</td>\n",
       "      <td>277.476630</td>\n",
       "      <td>281.671647</td>\n",
       "      <td>296.307373</td>\n",
       "      <td>...</td>\n",
       "      <td>269.541846</td>\n",
       "      <td>278.220546</td>\n",
       "      <td>278.484758</td>\n",
       "      <td>284.901284</td>\n",
       "      <td>272.451612</td>\n",
       "      <td>265.784490</td>\n",
       "      <td>275.795948</td>\n",
       "      <td>280.465992</td>\n",
       "      <td>268.528889</td>\n",
       "      <td>283.638470</td>\n",
       "    </tr>\n",
       "    <tr>\n",
       "      <th>496</th>\n",
       "      <td>NaN</td>\n",
       "      <td>2.601212</td>\n",
       "      <td>310</td>\n",
       "      <td>296.940263</td>\n",
       "      <td>301.545000</td>\n",
       "      <td>306.725610</td>\n",
       "      <td>314.811407</td>\n",
       "      <td>311.935810</td>\n",
       "      <td>309.695838</td>\n",
       "      <td>301.979914</td>\n",
       "      <td>...</td>\n",
       "      <td>304.680578</td>\n",
       "      <td>295.476836</td>\n",
       "      <td>316.582100</td>\n",
       "      <td>319.412132</td>\n",
       "      <td>312.984039</td>\n",
       "      <td>312.372112</td>\n",
       "      <td>312.106944</td>\n",
       "      <td>314.101927</td>\n",
       "      <td>309.409533</td>\n",
       "      <td>297.429968</td>\n",
       "    </tr>\n",
       "    <tr>\n",
       "      <th>497</th>\n",
       "      <td>NaN</td>\n",
       "      <td>0.042323</td>\n",
       "      <td>225</td>\n",
       "      <td>206.793217</td>\n",
       "      <td>228.335345</td>\n",
       "      <td>222.115146</td>\n",
       "      <td>216.479498</td>\n",
       "      <td>227.469560</td>\n",
       "      <td>238.710310</td>\n",
       "      <td>233.797065</td>\n",
       "      <td>...</td>\n",
       "      <td>233.469238</td>\n",
       "      <td>235.160919</td>\n",
       "      <td>228.517306</td>\n",
       "      <td>228.349646</td>\n",
       "      <td>224.153606</td>\n",
       "      <td>230.860484</td>\n",
       "      <td>218.683195</td>\n",
       "      <td>232.949484</td>\n",
       "      <td>236.951938</td>\n",
       "      <td>227.997629</td>\n",
       "    </tr>\n",
       "    <tr>\n",
       "      <th>498</th>\n",
       "      <td>NaN</td>\n",
       "      <td>1.041416</td>\n",
       "      <td>320</td>\n",
       "      <td>327.461442</td>\n",
       "      <td>323.019899</td>\n",
       "      <td>329.589337</td>\n",
       "      <td>313.312233</td>\n",
       "      <td>315.645050</td>\n",
       "      <td>324.448247</td>\n",
       "      <td>314.271045</td>\n",
       "      <td>...</td>\n",
       "      <td>326.297700</td>\n",
       "      <td>309.893822</td>\n",
       "      <td>312.873223</td>\n",
       "      <td>322.356584</td>\n",
       "      <td>319.332809</td>\n",
       "      <td>319.405283</td>\n",
       "      <td>324.021917</td>\n",
       "      <td>312.363694</td>\n",
       "      <td>318.493866</td>\n",
       "      <td>310.973930</td>\n",
       "    </tr>\n",
       "    <tr>\n",
       "      <th>499</th>\n",
       "      <td>NaN</td>\n",
       "      <td>3.626883</td>\n",
       "      <td>375</td>\n",
       "      <td>370.966595</td>\n",
       "      <td>364.668477</td>\n",
       "      <td>371.853566</td>\n",
       "      <td>373.574930</td>\n",
       "      <td>376.701708</td>\n",
       "      <td>356.905085</td>\n",
       "      <td>354.584022</td>\n",
       "      <td>...</td>\n",
       "      <td>382.278782</td>\n",
       "      <td>379.460816</td>\n",
       "      <td>371.031640</td>\n",
       "      <td>370.272639</td>\n",
       "      <td>375.618182</td>\n",
       "      <td>369.252740</td>\n",
       "      <td>376.925543</td>\n",
       "      <td>391.863103</td>\n",
       "      <td>368.735260</td>\n",
       "      <td>368.520844</td>\n",
       "    </tr>\n",
       "  </tbody>\n",
       "</table>\n",
       "<p>500 rows × 503 columns</p>\n",
       "</div>"
      ],
      "text/plain": [
       "     employment_score       gpa  toeic      toeic0      toeic1      toeic2  \\\n",
       "0                 NaN  0.051535    135  129.566309  133.078481  121.678398   \n",
       "1                 NaN  0.355496    935  940.563187  935.723570  939.190519   \n",
       "2                 NaN  2.228435    485  493.671390  493.909118  475.500970   \n",
       "3                 NaN  1.179701     65   62.272565   55.957257   68.521468   \n",
       "4                 NaN  3.962356    445  449.280637  438.895582  433.598274   \n",
       "..                ...       ...    ...         ...         ...         ...   \n",
       "495               NaN  4.288465    280  276.680902  274.502675  277.868536   \n",
       "496               NaN  2.601212    310  296.940263  301.545000  306.725610   \n",
       "497               NaN  0.042323    225  206.793217  228.335345  222.115146   \n",
       "498               NaN  1.041416    320  327.461442  323.019899  329.589337   \n",
       "499               NaN  3.626883    375  370.966595  364.668477  371.853566   \n",
       "\n",
       "         toeic3      toeic4      toeic5      toeic6  ...    toeic490  \\\n",
       "0    113.457366  133.564200  136.026566  141.793547  ...  132.014696   \n",
       "1    938.995672  945.376482  927.469901  952.424087  ...  942.251184   \n",
       "2    480.363752  478.868942  493.321602  490.059102  ...  484.438233   \n",
       "3     76.866765   51.436321   57.166824   67.834920  ...   67.653225   \n",
       "4    444.081141  437.005100  434.761142  443.135269  ...  455.940348   \n",
       "..          ...         ...         ...         ...  ...         ...   \n",
       "495  292.283300  277.476630  281.671647  296.307373  ...  269.541846   \n",
       "496  314.811407  311.935810  309.695838  301.979914  ...  304.680578   \n",
       "497  216.479498  227.469560  238.710310  233.797065  ...  233.469238   \n",
       "498  313.312233  315.645050  324.448247  314.271045  ...  326.297700   \n",
       "499  373.574930  376.701708  356.905085  354.584022  ...  382.278782   \n",
       "\n",
       "       toeic491    toeic492    toeic493    toeic494    toeic495    toeic496  \\\n",
       "0    140.013265  135.575816  143.863346  152.162740  132.850033  115.956496   \n",
       "1    923.241548  939.924802  921.912261  953.250300  931.743615  940.205853   \n",
       "2    488.101275  485.626742  475.330715  485.147363  468.553780  486.870976   \n",
       "3     65.710588   64.146780   76.662194   66.837839   82.379018   69.174745   \n",
       "4    435.952854  441.521145  443.038886  433.118847  466.103355  430.056944   \n",
       "..          ...         ...         ...         ...         ...         ...   \n",
       "495  278.220546  278.484758  284.901284  272.451612  265.784490  275.795948   \n",
       "496  295.476836  316.582100  319.412132  312.984039  312.372112  312.106944   \n",
       "497  235.160919  228.517306  228.349646  224.153606  230.860484  218.683195   \n",
       "498  309.893822  312.873223  322.356584  319.332809  319.405283  324.021917   \n",
       "499  379.460816  371.031640  370.272639  375.618182  369.252740  376.925543   \n",
       "\n",
       "       toeic497    toeic498    toeic499  \n",
       "0    131.842126  125.090801  143.568527  \n",
       "1    930.575825  941.530348  934.221055  \n",
       "2    481.640957  499.340808  488.197332  \n",
       "3     64.475993   52.647087   59.493275  \n",
       "4    423.632873  446.973484  442.793633  \n",
       "..          ...         ...         ...  \n",
       "495  280.465992  268.528889  283.638470  \n",
       "496  314.101927  309.409533  297.429968  \n",
       "497  232.949484  236.951938  227.997629  \n",
       "498  312.363694  318.493866  310.973930  \n",
       "499  391.863103  368.735260  368.520844  \n",
       "\n",
       "[500 rows x 503 columns]"
      ]
     },
     "execution_count": 3,
     "metadata": {},
     "output_type": "execute_result"
    }
   ],
   "source": [
    "df = pd.read_csv(\"https://raw.githubusercontent.com/guebin/MP2023/main/posts/employment_multicollinearity.csv\")\n",
    "df"
   ]
  },
  {
   "cell_type": "markdown",
   "id": "dfcb7b02",
   "metadata": {},
   "source": [
    "- toeic0,toeic1,... 등은 토익과 유사한 새로운 시험들을 의미함. (실제 점수는 정수이겠지만 편의상 소수점으로 사용하였음)"
   ]
  },
  {
   "cell_type": "markdown",
   "id": "3dae91b3",
   "metadata": {},
   "source": [
    "`-` `employment_score`는 아래와 같이 생성하여 넣자. 여기에서 `employment_score`는 회사 내부적으로 정의된 채점기준표이며, 이 기준표에 의하여 일정점수 이상인 사람은 합격하고, 그렇지 않은 사람은 불합격한다고 가정함. \n"
   ]
  },
  {
   "cell_type": "code",
   "execution_count": 4,
   "id": "e4e5f3c0-1a5d-4d5e-908c-fe5eedb38674",
   "metadata": {
    "tags": []
   },
   "outputs": [],
   "source": [
    "np.random.seed(43052)\n",
    "df['employment_score'] = df.gpa * 1.0 + df.toeic* 1/100 + np.random.randn(500)"
   ]
  },
  {
   "cell_type": "code",
   "execution_count": 6,
   "id": "9604a808-8fb7-4d12-9b26-65de1a890251",
   "metadata": {
    "tags": []
   },
   "outputs": [
    {
     "data": {
      "text/html": [
       "<div>\n",
       "<style scoped>\n",
       "    .dataframe tbody tr th:only-of-type {\n",
       "        vertical-align: middle;\n",
       "    }\n",
       "\n",
       "    .dataframe tbody tr th {\n",
       "        vertical-align: top;\n",
       "    }\n",
       "\n",
       "    .dataframe thead th {\n",
       "        text-align: right;\n",
       "    }\n",
       "</style>\n",
       "<table border=\"1\" class=\"dataframe\">\n",
       "  <thead>\n",
       "    <tr style=\"text-align: right;\">\n",
       "      <th></th>\n",
       "      <th>employment_score</th>\n",
       "      <th>gpa</th>\n",
       "      <th>toeic</th>\n",
       "      <th>toeic0</th>\n",
       "      <th>toeic1</th>\n",
       "      <th>toeic2</th>\n",
       "      <th>toeic3</th>\n",
       "      <th>toeic4</th>\n",
       "      <th>toeic5</th>\n",
       "      <th>toeic6</th>\n",
       "      <th>...</th>\n",
       "      <th>toeic490</th>\n",
       "      <th>toeic491</th>\n",
       "      <th>toeic492</th>\n",
       "      <th>toeic493</th>\n",
       "      <th>toeic494</th>\n",
       "      <th>toeic495</th>\n",
       "      <th>toeic496</th>\n",
       "      <th>toeic497</th>\n",
       "      <th>toeic498</th>\n",
       "      <th>toeic499</th>\n",
       "    </tr>\n",
       "  </thead>\n",
       "  <tbody>\n",
       "    <tr>\n",
       "      <th>0</th>\n",
       "      <td>1.784955</td>\n",
       "      <td>0.051535</td>\n",
       "      <td>135</td>\n",
       "      <td>129.566309</td>\n",
       "      <td>133.078481</td>\n",
       "      <td>121.678398</td>\n",
       "      <td>113.457366</td>\n",
       "      <td>133.564200</td>\n",
       "      <td>136.026566</td>\n",
       "      <td>141.793547</td>\n",
       "      <td>...</td>\n",
       "      <td>132.014696</td>\n",
       "      <td>140.013265</td>\n",
       "      <td>135.575816</td>\n",
       "      <td>143.863346</td>\n",
       "      <td>152.162740</td>\n",
       "      <td>132.850033</td>\n",
       "      <td>115.956496</td>\n",
       "      <td>131.842126</td>\n",
       "      <td>125.090801</td>\n",
       "      <td>143.568527</td>\n",
       "    </tr>\n",
       "    <tr>\n",
       "      <th>1</th>\n",
       "      <td>10.789671</td>\n",
       "      <td>0.355496</td>\n",
       "      <td>935</td>\n",
       "      <td>940.563187</td>\n",
       "      <td>935.723570</td>\n",
       "      <td>939.190519</td>\n",
       "      <td>938.995672</td>\n",
       "      <td>945.376482</td>\n",
       "      <td>927.469901</td>\n",
       "      <td>952.424087</td>\n",
       "      <td>...</td>\n",
       "      <td>942.251184</td>\n",
       "      <td>923.241548</td>\n",
       "      <td>939.924802</td>\n",
       "      <td>921.912261</td>\n",
       "      <td>953.250300</td>\n",
       "      <td>931.743615</td>\n",
       "      <td>940.205853</td>\n",
       "      <td>930.575825</td>\n",
       "      <td>941.530348</td>\n",
       "      <td>934.221055</td>\n",
       "    </tr>\n",
       "    <tr>\n",
       "      <th>2</th>\n",
       "      <td>8.221213</td>\n",
       "      <td>2.228435</td>\n",
       "      <td>485</td>\n",
       "      <td>493.671390</td>\n",
       "      <td>493.909118</td>\n",
       "      <td>475.500970</td>\n",
       "      <td>480.363752</td>\n",
       "      <td>478.868942</td>\n",
       "      <td>493.321602</td>\n",
       "      <td>490.059102</td>\n",
       "      <td>...</td>\n",
       "      <td>484.438233</td>\n",
       "      <td>488.101275</td>\n",
       "      <td>485.626742</td>\n",
       "      <td>475.330715</td>\n",
       "      <td>485.147363</td>\n",
       "      <td>468.553780</td>\n",
       "      <td>486.870976</td>\n",
       "      <td>481.640957</td>\n",
       "      <td>499.340808</td>\n",
       "      <td>488.197332</td>\n",
       "    </tr>\n",
       "    <tr>\n",
       "      <th>3</th>\n",
       "      <td>2.137594</td>\n",
       "      <td>1.179701</td>\n",
       "      <td>65</td>\n",
       "      <td>62.272565</td>\n",
       "      <td>55.957257</td>\n",
       "      <td>68.521468</td>\n",
       "      <td>76.866765</td>\n",
       "      <td>51.436321</td>\n",
       "      <td>57.166824</td>\n",
       "      <td>67.834920</td>\n",
       "      <td>...</td>\n",
       "      <td>67.653225</td>\n",
       "      <td>65.710588</td>\n",
       "      <td>64.146780</td>\n",
       "      <td>76.662194</td>\n",
       "      <td>66.837839</td>\n",
       "      <td>82.379018</td>\n",
       "      <td>69.174745</td>\n",
       "      <td>64.475993</td>\n",
       "      <td>52.647087</td>\n",
       "      <td>59.493275</td>\n",
       "    </tr>\n",
       "    <tr>\n",
       "      <th>4</th>\n",
       "      <td>8.650144</td>\n",
       "      <td>3.962356</td>\n",
       "      <td>445</td>\n",
       "      <td>449.280637</td>\n",
       "      <td>438.895582</td>\n",
       "      <td>433.598274</td>\n",
       "      <td>444.081141</td>\n",
       "      <td>437.005100</td>\n",
       "      <td>434.761142</td>\n",
       "      <td>443.135269</td>\n",
       "      <td>...</td>\n",
       "      <td>455.940348</td>\n",
       "      <td>435.952854</td>\n",
       "      <td>441.521145</td>\n",
       "      <td>443.038886</td>\n",
       "      <td>433.118847</td>\n",
       "      <td>466.103355</td>\n",
       "      <td>430.056944</td>\n",
       "      <td>423.632873</td>\n",
       "      <td>446.973484</td>\n",
       "      <td>442.793633</td>\n",
       "    </tr>\n",
       "    <tr>\n",
       "      <th>...</th>\n",
       "      <td>...</td>\n",
       "      <td>...</td>\n",
       "      <td>...</td>\n",
       "      <td>...</td>\n",
       "      <td>...</td>\n",
       "      <td>...</td>\n",
       "      <td>...</td>\n",
       "      <td>...</td>\n",
       "      <td>...</td>\n",
       "      <td>...</td>\n",
       "      <td>...</td>\n",
       "      <td>...</td>\n",
       "      <td>...</td>\n",
       "      <td>...</td>\n",
       "      <td>...</td>\n",
       "      <td>...</td>\n",
       "      <td>...</td>\n",
       "      <td>...</td>\n",
       "      <td>...</td>\n",
       "      <td>...</td>\n",
       "      <td>...</td>\n",
       "    </tr>\n",
       "    <tr>\n",
       "      <th>495</th>\n",
       "      <td>9.057243</td>\n",
       "      <td>4.288465</td>\n",
       "      <td>280</td>\n",
       "      <td>276.680902</td>\n",
       "      <td>274.502675</td>\n",
       "      <td>277.868536</td>\n",
       "      <td>292.283300</td>\n",
       "      <td>277.476630</td>\n",
       "      <td>281.671647</td>\n",
       "      <td>296.307373</td>\n",
       "      <td>...</td>\n",
       "      <td>269.541846</td>\n",
       "      <td>278.220546</td>\n",
       "      <td>278.484758</td>\n",
       "      <td>284.901284</td>\n",
       "      <td>272.451612</td>\n",
       "      <td>265.784490</td>\n",
       "      <td>275.795948</td>\n",
       "      <td>280.465992</td>\n",
       "      <td>268.528889</td>\n",
       "      <td>283.638470</td>\n",
       "    </tr>\n",
       "    <tr>\n",
       "      <th>496</th>\n",
       "      <td>4.108020</td>\n",
       "      <td>2.601212</td>\n",
       "      <td>310</td>\n",
       "      <td>296.940263</td>\n",
       "      <td>301.545000</td>\n",
       "      <td>306.725610</td>\n",
       "      <td>314.811407</td>\n",
       "      <td>311.935810</td>\n",
       "      <td>309.695838</td>\n",
       "      <td>301.979914</td>\n",
       "      <td>...</td>\n",
       "      <td>304.680578</td>\n",
       "      <td>295.476836</td>\n",
       "      <td>316.582100</td>\n",
       "      <td>319.412132</td>\n",
       "      <td>312.984039</td>\n",
       "      <td>312.372112</td>\n",
       "      <td>312.106944</td>\n",
       "      <td>314.101927</td>\n",
       "      <td>309.409533</td>\n",
       "      <td>297.429968</td>\n",
       "    </tr>\n",
       "    <tr>\n",
       "      <th>497</th>\n",
       "      <td>2.430590</td>\n",
       "      <td>0.042323</td>\n",
       "      <td>225</td>\n",
       "      <td>206.793217</td>\n",
       "      <td>228.335345</td>\n",
       "      <td>222.115146</td>\n",
       "      <td>216.479498</td>\n",
       "      <td>227.469560</td>\n",
       "      <td>238.710310</td>\n",
       "      <td>233.797065</td>\n",
       "      <td>...</td>\n",
       "      <td>233.469238</td>\n",
       "      <td>235.160919</td>\n",
       "      <td>228.517306</td>\n",
       "      <td>228.349646</td>\n",
       "      <td>224.153606</td>\n",
       "      <td>230.860484</td>\n",
       "      <td>218.683195</td>\n",
       "      <td>232.949484</td>\n",
       "      <td>236.951938</td>\n",
       "      <td>227.997629</td>\n",
       "    </tr>\n",
       "    <tr>\n",
       "      <th>498</th>\n",
       "      <td>5.343171</td>\n",
       "      <td>1.041416</td>\n",
       "      <td>320</td>\n",
       "      <td>327.461442</td>\n",
       "      <td>323.019899</td>\n",
       "      <td>329.589337</td>\n",
       "      <td>313.312233</td>\n",
       "      <td>315.645050</td>\n",
       "      <td>324.448247</td>\n",
       "      <td>314.271045</td>\n",
       "      <td>...</td>\n",
       "      <td>326.297700</td>\n",
       "      <td>309.893822</td>\n",
       "      <td>312.873223</td>\n",
       "      <td>322.356584</td>\n",
       "      <td>319.332809</td>\n",
       "      <td>319.405283</td>\n",
       "      <td>324.021917</td>\n",
       "      <td>312.363694</td>\n",
       "      <td>318.493866</td>\n",
       "      <td>310.973930</td>\n",
       "    </tr>\n",
       "    <tr>\n",
       "      <th>499</th>\n",
       "      <td>6.505106</td>\n",
       "      <td>3.626883</td>\n",
       "      <td>375</td>\n",
       "      <td>370.966595</td>\n",
       "      <td>364.668477</td>\n",
       "      <td>371.853566</td>\n",
       "      <td>373.574930</td>\n",
       "      <td>376.701708</td>\n",
       "      <td>356.905085</td>\n",
       "      <td>354.584022</td>\n",
       "      <td>...</td>\n",
       "      <td>382.278782</td>\n",
       "      <td>379.460816</td>\n",
       "      <td>371.031640</td>\n",
       "      <td>370.272639</td>\n",
       "      <td>375.618182</td>\n",
       "      <td>369.252740</td>\n",
       "      <td>376.925543</td>\n",
       "      <td>391.863103</td>\n",
       "      <td>368.735260</td>\n",
       "      <td>368.520844</td>\n",
       "    </tr>\n",
       "  </tbody>\n",
       "</table>\n",
       "<p>500 rows × 503 columns</p>\n",
       "</div>"
      ],
      "text/plain": [
       "     employment_score       gpa  toeic      toeic0      toeic1      toeic2  \\\n",
       "0            1.784955  0.051535    135  129.566309  133.078481  121.678398   \n",
       "1           10.789671  0.355496    935  940.563187  935.723570  939.190519   \n",
       "2            8.221213  2.228435    485  493.671390  493.909118  475.500970   \n",
       "3            2.137594  1.179701     65   62.272565   55.957257   68.521468   \n",
       "4            8.650144  3.962356    445  449.280637  438.895582  433.598274   \n",
       "..                ...       ...    ...         ...         ...         ...   \n",
       "495          9.057243  4.288465    280  276.680902  274.502675  277.868536   \n",
       "496          4.108020  2.601212    310  296.940263  301.545000  306.725610   \n",
       "497          2.430590  0.042323    225  206.793217  228.335345  222.115146   \n",
       "498          5.343171  1.041416    320  327.461442  323.019899  329.589337   \n",
       "499          6.505106  3.626883    375  370.966595  364.668477  371.853566   \n",
       "\n",
       "         toeic3      toeic4      toeic5      toeic6  ...    toeic490  \\\n",
       "0    113.457366  133.564200  136.026566  141.793547  ...  132.014696   \n",
       "1    938.995672  945.376482  927.469901  952.424087  ...  942.251184   \n",
       "2    480.363752  478.868942  493.321602  490.059102  ...  484.438233   \n",
       "3     76.866765   51.436321   57.166824   67.834920  ...   67.653225   \n",
       "4    444.081141  437.005100  434.761142  443.135269  ...  455.940348   \n",
       "..          ...         ...         ...         ...  ...         ...   \n",
       "495  292.283300  277.476630  281.671647  296.307373  ...  269.541846   \n",
       "496  314.811407  311.935810  309.695838  301.979914  ...  304.680578   \n",
       "497  216.479498  227.469560  238.710310  233.797065  ...  233.469238   \n",
       "498  313.312233  315.645050  324.448247  314.271045  ...  326.297700   \n",
       "499  373.574930  376.701708  356.905085  354.584022  ...  382.278782   \n",
       "\n",
       "       toeic491    toeic492    toeic493    toeic494    toeic495    toeic496  \\\n",
       "0    140.013265  135.575816  143.863346  152.162740  132.850033  115.956496   \n",
       "1    923.241548  939.924802  921.912261  953.250300  931.743615  940.205853   \n",
       "2    488.101275  485.626742  475.330715  485.147363  468.553780  486.870976   \n",
       "3     65.710588   64.146780   76.662194   66.837839   82.379018   69.174745   \n",
       "4    435.952854  441.521145  443.038886  433.118847  466.103355  430.056944   \n",
       "..          ...         ...         ...         ...         ...         ...   \n",
       "495  278.220546  278.484758  284.901284  272.451612  265.784490  275.795948   \n",
       "496  295.476836  316.582100  319.412132  312.984039  312.372112  312.106944   \n",
       "497  235.160919  228.517306  228.349646  224.153606  230.860484  218.683195   \n",
       "498  309.893822  312.873223  322.356584  319.332809  319.405283  324.021917   \n",
       "499  379.460816  371.031640  370.272639  375.618182  369.252740  376.925543   \n",
       "\n",
       "       toeic497    toeic498    toeic499  \n",
       "0    131.842126  125.090801  143.568527  \n",
       "1    930.575825  941.530348  934.221055  \n",
       "2    481.640957  499.340808  488.197332  \n",
       "3     64.475993   52.647087   59.493275  \n",
       "4    423.632873  446.973484  442.793633  \n",
       "..          ...         ...         ...  \n",
       "495  280.465992  268.528889  283.638470  \n",
       "496  314.101927  309.409533  297.429968  \n",
       "497  232.949484  236.951938  227.997629  \n",
       "498  312.363694  318.493866  310.973930  \n",
       "499  391.863103  368.735260  368.520844  \n",
       "\n",
       "[500 rows x 503 columns]"
      ]
     },
     "execution_count": 6,
     "metadata": {},
     "output_type": "execute_result"
    }
   ],
   "source": [
    "df"
   ]
  },
  {
   "cell_type": "markdown",
   "id": "6d4f729b",
   "metadata": {},
   "source": [
    "# 4. 잘못된 분석 "
   ]
  },
  {
   "cell_type": "markdown",
   "id": "173ace69",
   "metadata": {},
   "source": [
    "## A. 분석절차"
   ]
  },
  {
   "cell_type": "markdown",
   "id": "364ec6f0",
   "metadata": {},
   "source": [
    "`-` step1: 데이터정리"
   ]
  },
  {
   "cell_type": "code",
   "execution_count": 7,
   "id": "3d3da29f-eb94-4950-9931-3e3a823c5259",
   "metadata": {
    "tags": []
   },
   "outputs": [],
   "source": [
    "df_train, df_test = sklearn.model_selection.train_test_split(df,test_size=0.3,random_state=42)"
   ]
  },
  {
   "cell_type": "code",
   "execution_count": 8,
   "id": "aaff234e-cead-466e-bfc1-e9538b0c807e",
   "metadata": {
    "tags": []
   },
   "outputs": [],
   "source": [
    "X = df_train.drop(['employment_score'],axis=1)\n",
    "y = df_train[['employment_score']]\n",
    "XX = df_test.drop(['employment_score'],axis=1)\n",
    "yy = df_test[['employment_score']]"
   ]
  },
  {
   "cell_type": "markdown",
   "id": "a7ddb920",
   "metadata": {},
   "source": [
    "`-` step2: predictor 생성 "
   ]
  },
  {
   "cell_type": "code",
   "execution_count": 9,
   "id": "e7045ffa-40b3-4a27-aa72-c6b2eefcdd31",
   "metadata": {
    "tags": []
   },
   "outputs": [],
   "source": [
    "predictr = sklearn.linear_model.LinearRegression()"
   ]
  },
  {
   "cell_type": "markdown",
   "id": "4d66d7d9",
   "metadata": {},
   "source": [
    "`-` step3: 학습 "
   ]
  },
  {
   "cell_type": "code",
   "execution_count": 10,
   "id": "f68283fb-4ce1-483f-8f46-af6e37030888",
   "metadata": {
    "tags": []
   },
   "outputs": [
    {
     "data": {
      "text/html": [
       "<style>#sk-container-id-1 {color: black;}#sk-container-id-1 pre{padding: 0;}#sk-container-id-1 div.sk-toggleable {background-color: white;}#sk-container-id-1 label.sk-toggleable__label {cursor: pointer;display: block;width: 100%;margin-bottom: 0;padding: 0.3em;box-sizing: border-box;text-align: center;}#sk-container-id-1 label.sk-toggleable__label-arrow:before {content: \"▸\";float: left;margin-right: 0.25em;color: #696969;}#sk-container-id-1 label.sk-toggleable__label-arrow:hover:before {color: black;}#sk-container-id-1 div.sk-estimator:hover label.sk-toggleable__label-arrow:before {color: black;}#sk-container-id-1 div.sk-toggleable__content {max-height: 0;max-width: 0;overflow: hidden;text-align: left;background-color: #f0f8ff;}#sk-container-id-1 div.sk-toggleable__content pre {margin: 0.2em;color: black;border-radius: 0.25em;background-color: #f0f8ff;}#sk-container-id-1 input.sk-toggleable__control:checked~div.sk-toggleable__content {max-height: 200px;max-width: 100%;overflow: auto;}#sk-container-id-1 input.sk-toggleable__control:checked~label.sk-toggleable__label-arrow:before {content: \"▾\";}#sk-container-id-1 div.sk-estimator input.sk-toggleable__control:checked~label.sk-toggleable__label {background-color: #d4ebff;}#sk-container-id-1 div.sk-label input.sk-toggleable__control:checked~label.sk-toggleable__label {background-color: #d4ebff;}#sk-container-id-1 input.sk-hidden--visually {border: 0;clip: rect(1px 1px 1px 1px);clip: rect(1px, 1px, 1px, 1px);height: 1px;margin: -1px;overflow: hidden;padding: 0;position: absolute;width: 1px;}#sk-container-id-1 div.sk-estimator {font-family: monospace;background-color: #f0f8ff;border: 1px dotted black;border-radius: 0.25em;box-sizing: border-box;margin-bottom: 0.5em;}#sk-container-id-1 div.sk-estimator:hover {background-color: #d4ebff;}#sk-container-id-1 div.sk-parallel-item::after {content: \"\";width: 100%;border-bottom: 1px solid gray;flex-grow: 1;}#sk-container-id-1 div.sk-label:hover label.sk-toggleable__label {background-color: #d4ebff;}#sk-container-id-1 div.sk-serial::before {content: \"\";position: absolute;border-left: 1px solid gray;box-sizing: border-box;top: 0;bottom: 0;left: 50%;z-index: 0;}#sk-container-id-1 div.sk-serial {display: flex;flex-direction: column;align-items: center;background-color: white;padding-right: 0.2em;padding-left: 0.2em;position: relative;}#sk-container-id-1 div.sk-item {position: relative;z-index: 1;}#sk-container-id-1 div.sk-parallel {display: flex;align-items: stretch;justify-content: center;background-color: white;position: relative;}#sk-container-id-1 div.sk-item::before, #sk-container-id-1 div.sk-parallel-item::before {content: \"\";position: absolute;border-left: 1px solid gray;box-sizing: border-box;top: 0;bottom: 0;left: 50%;z-index: -1;}#sk-container-id-1 div.sk-parallel-item {display: flex;flex-direction: column;z-index: 1;position: relative;background-color: white;}#sk-container-id-1 div.sk-parallel-item:first-child::after {align-self: flex-end;width: 50%;}#sk-container-id-1 div.sk-parallel-item:last-child::after {align-self: flex-start;width: 50%;}#sk-container-id-1 div.sk-parallel-item:only-child::after {width: 0;}#sk-container-id-1 div.sk-dashed-wrapped {border: 1px dashed gray;margin: 0 0.4em 0.5em 0.4em;box-sizing: border-box;padding-bottom: 0.4em;background-color: white;}#sk-container-id-1 div.sk-label label {font-family: monospace;font-weight: bold;display: inline-block;line-height: 1.2em;}#sk-container-id-1 div.sk-label-container {text-align: center;}#sk-container-id-1 div.sk-container {/* jupyter's `normalize.less` sets `[hidden] { display: none; }` but bootstrap.min.css set `[hidden] { display: none !important; }` so we also need the `!important` here to be able to override the default hidden behavior on the sphinx rendered scikit-learn.org. See: https://github.com/scikit-learn/scikit-learn/issues/21755 */display: inline-block !important;position: relative;}#sk-container-id-1 div.sk-text-repr-fallback {display: none;}</style><div id=\"sk-container-id-1\" class=\"sk-top-container\"><div class=\"sk-text-repr-fallback\"><pre>LinearRegression()</pre><b>In a Jupyter environment, please rerun this cell to show the HTML representation or trust the notebook. <br />On GitHub, the HTML representation is unable to render, please try loading this page with nbviewer.org.</b></div><div class=\"sk-container\" hidden><div class=\"sk-item\"><div class=\"sk-estimator sk-toggleable\"><input class=\"sk-toggleable__control sk-hidden--visually\" id=\"sk-estimator-id-1\" type=\"checkbox\" checked><label for=\"sk-estimator-id-1\" class=\"sk-toggleable__label sk-toggleable__label-arrow\">LinearRegression</label><div class=\"sk-toggleable__content\"><pre>LinearRegression()</pre></div></div></div></div></div>"
      ],
      "text/plain": [
       "LinearRegression()"
      ]
     },
     "execution_count": 10,
     "metadata": {},
     "output_type": "execute_result"
    }
   ],
   "source": [
    "predictr.fit(X,y)"
   ]
  },
  {
   "cell_type": "markdown",
   "id": "f2389b85",
   "metadata": {},
   "source": [
    "`-` step4: 예측: 생략 "
   ]
  },
  {
   "cell_type": "markdown",
   "id": "1bf6134c",
   "metadata": {},
   "source": [
    "## B. 계수해석 및 평가"
   ]
  },
  {
   "cell_type": "markdown",
   "id": "49f16b87",
   "metadata": {},
   "source": [
    "`-` 계수해석 "
   ]
  },
  {
   "cell_type": "code",
   "execution_count": 11,
   "id": "4788d2e2-6973-413e-aba4-07c3ff817f44",
   "metadata": {},
   "outputs": [
    {
     "data": {
      "text/plain": [
       "gpa         0.035315\n",
       "toeic       0.002680\n",
       "toeic0      0.009333\n",
       "toeic1     -0.017511\n",
       "toeic2      0.005205\n",
       "              ...   \n",
       "toeic495   -0.012811\n",
       "toeic496   -0.007390\n",
       "toeic497   -0.007487\n",
       "toeic498    0.003379\n",
       "toeic499   -0.002187\n",
       "Length: 502, dtype: float64"
      ]
     },
     "execution_count": 11,
     "metadata": {},
     "output_type": "execute_result"
    }
   ],
   "source": [
    "coefs = pd.Series(predictr.coef_.squeeze())\n",
    "coefs.index = X.columns\n",
    "coefs"
   ]
  },
  {
   "cell_type": "markdown",
   "id": "e90e6592",
   "metadata": {},
   "source": [
    "- 실제계수값은 `토익*1/100`, `GPA*1.0`, 나머지 `toeic0`~`toeic499` 는 모두 계수값이 0임 \n",
    "- 그러나 학습된 계수값은 그렇지 않음. "
   ]
  },
  {
   "cell_type": "markdown",
   "id": "ed6e22d4",
   "metadata": {},
   "source": [
    "`-` 평가: train/test score 계산 "
   ]
  },
  {
   "cell_type": "code",
   "execution_count": 12,
   "id": "8b1393a2-3138-4212-b515-33154e267e13",
   "metadata": {
    "tags": []
   },
   "outputs": [
    {
     "data": {
      "text/plain": [
       "1.0"
      ]
     },
     "execution_count": 12,
     "metadata": {},
     "output_type": "execute_result"
    }
   ],
   "source": [
    "predictr.score(X,y) "
   ]
  },
  {
   "cell_type": "markdown",
   "id": "53c17e05",
   "metadata": {},
   "source": [
    "- train 에서는 잘맞음 (퍼펙트)"
   ]
  },
  {
   "cell_type": "code",
   "execution_count": 13,
   "id": "766d702a-5446-46d9-9fd3-253d00701a42",
   "metadata": {
    "tags": []
   },
   "outputs": [
    {
     "data": {
      "text/plain": [
       "0.1170507821249005"
      ]
     },
     "execution_count": 13,
     "metadata": {},
     "output_type": "execute_result"
    }
   ],
   "source": [
    "predictr.score(XX,yy)"
   ]
  },
  {
   "cell_type": "markdown",
   "id": "fdefe713",
   "metadata": {},
   "source": [
    "- test 에서는 잘 맞지 않음 "
   ]
  },
  {
   "cell_type": "markdown",
   "id": "96eba8f8",
   "metadata": {},
   "source": [
    "# 5. 제대로 분석했다면? "
   ]
  },
  {
   "cell_type": "markdown",
   "id": "f07d2973",
   "metadata": {},
   "source": [
    "## A. `toeic`과 `gpa`가 유의미한 변수라는걸 눈치챘다면? (오라클..)"
   ]
  },
  {
   "cell_type": "markdown",
   "id": "5ab26fa1",
   "metadata": {},
   "source": [
    "`-` 분석절차수행"
   ]
  },
  {
   "cell_type": "code",
   "execution_count": 14,
   "id": "ad218142-a53d-4cb0-b3d6-6c5662b0f514",
   "metadata": {
    "tags": []
   },
   "outputs": [
    {
     "data": {
      "text/html": [
       "<style>#sk-container-id-2 {color: black;}#sk-container-id-2 pre{padding: 0;}#sk-container-id-2 div.sk-toggleable {background-color: white;}#sk-container-id-2 label.sk-toggleable__label {cursor: pointer;display: block;width: 100%;margin-bottom: 0;padding: 0.3em;box-sizing: border-box;text-align: center;}#sk-container-id-2 label.sk-toggleable__label-arrow:before {content: \"▸\";float: left;margin-right: 0.25em;color: #696969;}#sk-container-id-2 label.sk-toggleable__label-arrow:hover:before {color: black;}#sk-container-id-2 div.sk-estimator:hover label.sk-toggleable__label-arrow:before {color: black;}#sk-container-id-2 div.sk-toggleable__content {max-height: 0;max-width: 0;overflow: hidden;text-align: left;background-color: #f0f8ff;}#sk-container-id-2 div.sk-toggleable__content pre {margin: 0.2em;color: black;border-radius: 0.25em;background-color: #f0f8ff;}#sk-container-id-2 input.sk-toggleable__control:checked~div.sk-toggleable__content {max-height: 200px;max-width: 100%;overflow: auto;}#sk-container-id-2 input.sk-toggleable__control:checked~label.sk-toggleable__label-arrow:before {content: \"▾\";}#sk-container-id-2 div.sk-estimator input.sk-toggleable__control:checked~label.sk-toggleable__label {background-color: #d4ebff;}#sk-container-id-2 div.sk-label input.sk-toggleable__control:checked~label.sk-toggleable__label {background-color: #d4ebff;}#sk-container-id-2 input.sk-hidden--visually {border: 0;clip: rect(1px 1px 1px 1px);clip: rect(1px, 1px, 1px, 1px);height: 1px;margin: -1px;overflow: hidden;padding: 0;position: absolute;width: 1px;}#sk-container-id-2 div.sk-estimator {font-family: monospace;background-color: #f0f8ff;border: 1px dotted black;border-radius: 0.25em;box-sizing: border-box;margin-bottom: 0.5em;}#sk-container-id-2 div.sk-estimator:hover {background-color: #d4ebff;}#sk-container-id-2 div.sk-parallel-item::after {content: \"\";width: 100%;border-bottom: 1px solid gray;flex-grow: 1;}#sk-container-id-2 div.sk-label:hover label.sk-toggleable__label {background-color: #d4ebff;}#sk-container-id-2 div.sk-serial::before {content: \"\";position: absolute;border-left: 1px solid gray;box-sizing: border-box;top: 0;bottom: 0;left: 50%;z-index: 0;}#sk-container-id-2 div.sk-serial {display: flex;flex-direction: column;align-items: center;background-color: white;padding-right: 0.2em;padding-left: 0.2em;position: relative;}#sk-container-id-2 div.sk-item {position: relative;z-index: 1;}#sk-container-id-2 div.sk-parallel {display: flex;align-items: stretch;justify-content: center;background-color: white;position: relative;}#sk-container-id-2 div.sk-item::before, #sk-container-id-2 div.sk-parallel-item::before {content: \"\";position: absolute;border-left: 1px solid gray;box-sizing: border-box;top: 0;bottom: 0;left: 50%;z-index: -1;}#sk-container-id-2 div.sk-parallel-item {display: flex;flex-direction: column;z-index: 1;position: relative;background-color: white;}#sk-container-id-2 div.sk-parallel-item:first-child::after {align-self: flex-end;width: 50%;}#sk-container-id-2 div.sk-parallel-item:last-child::after {align-self: flex-start;width: 50%;}#sk-container-id-2 div.sk-parallel-item:only-child::after {width: 0;}#sk-container-id-2 div.sk-dashed-wrapped {border: 1px dashed gray;margin: 0 0.4em 0.5em 0.4em;box-sizing: border-box;padding-bottom: 0.4em;background-color: white;}#sk-container-id-2 div.sk-label label {font-family: monospace;font-weight: bold;display: inline-block;line-height: 1.2em;}#sk-container-id-2 div.sk-label-container {text-align: center;}#sk-container-id-2 div.sk-container {/* jupyter's `normalize.less` sets `[hidden] { display: none; }` but bootstrap.min.css set `[hidden] { display: none !important; }` so we also need the `!important` here to be able to override the default hidden behavior on the sphinx rendered scikit-learn.org. See: https://github.com/scikit-learn/scikit-learn/issues/21755 */display: inline-block !important;position: relative;}#sk-container-id-2 div.sk-text-repr-fallback {display: none;}</style><div id=\"sk-container-id-2\" class=\"sk-top-container\"><div class=\"sk-text-repr-fallback\"><pre>LinearRegression()</pre><b>In a Jupyter environment, please rerun this cell to show the HTML representation or trust the notebook. <br />On GitHub, the HTML representation is unable to render, please try loading this page with nbviewer.org.</b></div><div class=\"sk-container\" hidden><div class=\"sk-item\"><div class=\"sk-estimator sk-toggleable\"><input class=\"sk-toggleable__control sk-hidden--visually\" id=\"sk-estimator-id-2\" type=\"checkbox\" checked><label for=\"sk-estimator-id-2\" class=\"sk-toggleable__label sk-toggleable__label-arrow\">LinearRegression</label><div class=\"sk-toggleable__content\"><pre>LinearRegression()</pre></div></div></div></div></div>"
      ],
      "text/plain": [
       "LinearRegression()"
      ]
     },
     "execution_count": 14,
     "metadata": {},
     "output_type": "execute_result"
    }
   ],
   "source": [
    "## step1: 데이터정리 \n",
    "df_train, df_test = sklearn.model_selection.train_test_split(df,test_size=0.3,random_state=1)\n",
    "X = df_train[['toeic','gpa']]\n",
    "y = df_train[['employment_score']]\n",
    "XX = df_test[['toeic','gpa']]\n",
    "yy = df_test[['employment_score']]\n",
    "## step2: predictor 생성 \n",
    "predictr = sklearn.linear_model.LinearRegression()\n",
    "## step3: 학습\n",
    "predictr.fit(X,y)\n",
    "## step4: 예측 -- 생략 "
   ]
  },
  {
   "cell_type": "markdown",
   "id": "bb300610",
   "metadata": {},
   "source": [
    "`-` 계수해석"
   ]
  },
  {
   "cell_type": "code",
   "execution_count": 15,
   "id": "571f071e-f7df-4113-bdd4-2e284edd2ba7",
   "metadata": {
    "tags": []
   },
   "outputs": [
    {
     "data": {
      "text/plain": [
       "(array([[0.01021519, 0.94758486]]), array([-0.05019847]))"
      ]
     },
     "execution_count": 15,
     "metadata": {},
     "output_type": "execute_result"
    }
   ],
   "source": [
    "predictr.coef_,predictr.intercept_"
   ]
  },
  {
   "cell_type": "markdown",
   "id": "4acbf505",
   "metadata": {},
   "source": [
    "- 참값과 일치함 "
   ]
  },
  {
   "cell_type": "markdown",
   "id": "f584a88d",
   "metadata": {},
   "source": [
    "`-` score도 괜찮음 "
   ]
  },
  {
   "cell_type": "code",
   "execution_count": 16,
   "id": "7ba0a143-a6ee-429f-aef8-7cb1a541a4ca",
   "metadata": {
    "tags": []
   },
   "outputs": [
    {
     "data": {
      "text/plain": [
       "0.9122722078736892"
      ]
     },
     "execution_count": 16,
     "metadata": {},
     "output_type": "execute_result"
    }
   ],
   "source": [
    "predictr.score(X,y)"
   ]
  },
  {
   "cell_type": "code",
   "execution_count": 17,
   "id": "ff348484-3008-4cc6-bf84-f588db1228f3",
   "metadata": {
    "tags": []
   },
   "outputs": [
    {
     "data": {
      "text/plain": [
       "0.9135005115423201"
      ]
     },
     "execution_count": 17,
     "metadata": {},
     "output_type": "execute_result"
    }
   ],
   "source": [
    "predictr.score(XX,yy)"
   ]
  },
  {
   "cell_type": "markdown",
   "id": "2515b025",
   "metadata": {},
   "source": [
    "## B. 하다못해 `toeic0`과 `gpa`로 적합했다면? "
   ]
  },
  {
   "cell_type": "markdown",
   "id": "aa25f3b4",
   "metadata": {},
   "source": [
    "`-` 분석절차"
   ]
  },
  {
   "cell_type": "code",
   "execution_count": 18,
   "id": "b1185f01",
   "metadata": {
    "tags": []
   },
   "outputs": [
    {
     "data": {
      "text/html": [
       "<style>#sk-container-id-3 {color: black;}#sk-container-id-3 pre{padding: 0;}#sk-container-id-3 div.sk-toggleable {background-color: white;}#sk-container-id-3 label.sk-toggleable__label {cursor: pointer;display: block;width: 100%;margin-bottom: 0;padding: 0.3em;box-sizing: border-box;text-align: center;}#sk-container-id-3 label.sk-toggleable__label-arrow:before {content: \"▸\";float: left;margin-right: 0.25em;color: #696969;}#sk-container-id-3 label.sk-toggleable__label-arrow:hover:before {color: black;}#sk-container-id-3 div.sk-estimator:hover label.sk-toggleable__label-arrow:before {color: black;}#sk-container-id-3 div.sk-toggleable__content {max-height: 0;max-width: 0;overflow: hidden;text-align: left;background-color: #f0f8ff;}#sk-container-id-3 div.sk-toggleable__content pre {margin: 0.2em;color: black;border-radius: 0.25em;background-color: #f0f8ff;}#sk-container-id-3 input.sk-toggleable__control:checked~div.sk-toggleable__content {max-height: 200px;max-width: 100%;overflow: auto;}#sk-container-id-3 input.sk-toggleable__control:checked~label.sk-toggleable__label-arrow:before {content: \"▾\";}#sk-container-id-3 div.sk-estimator input.sk-toggleable__control:checked~label.sk-toggleable__label {background-color: #d4ebff;}#sk-container-id-3 div.sk-label input.sk-toggleable__control:checked~label.sk-toggleable__label {background-color: #d4ebff;}#sk-container-id-3 input.sk-hidden--visually {border: 0;clip: rect(1px 1px 1px 1px);clip: rect(1px, 1px, 1px, 1px);height: 1px;margin: -1px;overflow: hidden;padding: 0;position: absolute;width: 1px;}#sk-container-id-3 div.sk-estimator {font-family: monospace;background-color: #f0f8ff;border: 1px dotted black;border-radius: 0.25em;box-sizing: border-box;margin-bottom: 0.5em;}#sk-container-id-3 div.sk-estimator:hover {background-color: #d4ebff;}#sk-container-id-3 div.sk-parallel-item::after {content: \"\";width: 100%;border-bottom: 1px solid gray;flex-grow: 1;}#sk-container-id-3 div.sk-label:hover label.sk-toggleable__label {background-color: #d4ebff;}#sk-container-id-3 div.sk-serial::before {content: \"\";position: absolute;border-left: 1px solid gray;box-sizing: border-box;top: 0;bottom: 0;left: 50%;z-index: 0;}#sk-container-id-3 div.sk-serial {display: flex;flex-direction: column;align-items: center;background-color: white;padding-right: 0.2em;padding-left: 0.2em;position: relative;}#sk-container-id-3 div.sk-item {position: relative;z-index: 1;}#sk-container-id-3 div.sk-parallel {display: flex;align-items: stretch;justify-content: center;background-color: white;position: relative;}#sk-container-id-3 div.sk-item::before, #sk-container-id-3 div.sk-parallel-item::before {content: \"\";position: absolute;border-left: 1px solid gray;box-sizing: border-box;top: 0;bottom: 0;left: 50%;z-index: -1;}#sk-container-id-3 div.sk-parallel-item {display: flex;flex-direction: column;z-index: 1;position: relative;background-color: white;}#sk-container-id-3 div.sk-parallel-item:first-child::after {align-self: flex-end;width: 50%;}#sk-container-id-3 div.sk-parallel-item:last-child::after {align-self: flex-start;width: 50%;}#sk-container-id-3 div.sk-parallel-item:only-child::after {width: 0;}#sk-container-id-3 div.sk-dashed-wrapped {border: 1px dashed gray;margin: 0 0.4em 0.5em 0.4em;box-sizing: border-box;padding-bottom: 0.4em;background-color: white;}#sk-container-id-3 div.sk-label label {font-family: monospace;font-weight: bold;display: inline-block;line-height: 1.2em;}#sk-container-id-3 div.sk-label-container {text-align: center;}#sk-container-id-3 div.sk-container {/* jupyter's `normalize.less` sets `[hidden] { display: none; }` but bootstrap.min.css set `[hidden] { display: none !important; }` so we also need the `!important` here to be able to override the default hidden behavior on the sphinx rendered scikit-learn.org. See: https://github.com/scikit-learn/scikit-learn/issues/21755 */display: inline-block !important;position: relative;}#sk-container-id-3 div.sk-text-repr-fallback {display: none;}</style><div id=\"sk-container-id-3\" class=\"sk-top-container\"><div class=\"sk-text-repr-fallback\"><pre>LinearRegression()</pre><b>In a Jupyter environment, please rerun this cell to show the HTML representation or trust the notebook. <br />On GitHub, the HTML representation is unable to render, please try loading this page with nbviewer.org.</b></div><div class=\"sk-container\" hidden><div class=\"sk-item\"><div class=\"sk-estimator sk-toggleable\"><input class=\"sk-toggleable__control sk-hidden--visually\" id=\"sk-estimator-id-3\" type=\"checkbox\" checked><label for=\"sk-estimator-id-3\" class=\"sk-toggleable__label sk-toggleable__label-arrow\">LinearRegression</label><div class=\"sk-toggleable__content\"><pre>LinearRegression()</pre></div></div></div></div></div>"
      ],
      "text/plain": [
       "LinearRegression()"
      ]
     },
     "execution_count": 18,
     "metadata": {},
     "output_type": "execute_result"
    }
   ],
   "source": [
    "## step1: \n",
    "df_train, df_test = sklearn.model_selection.train_test_split(df,test_size=0.3,random_state=1)\n",
    "X = df_train[['toeic0','gpa']]\n",
    "y = df_train[['employment_score']]\n",
    "XX = df_test[['toeic0','gpa']]\n",
    "yy = df_test[['employment_score']]\n",
    "## step2: \n",
    "predictr = sklearn.linear_model.LinearRegression()\n",
    "## step3: 적합 \n",
    "predictr.fit(X,y)\n",
    "## step4: 예측 - 생략 "
   ]
  },
  {
   "cell_type": "markdown",
   "id": "19c1a88f",
   "metadata": {},
   "source": [
    "`-` 계수해석"
   ]
  },
  {
   "cell_type": "code",
   "execution_count": 19,
   "id": "22c7cddd",
   "metadata": {
    "tags": []
   },
   "outputs": [
    {
     "data": {
      "text/plain": [
       "(array([[0.01021445, 0.95747406]]), array([-0.06557381]))"
      ]
     },
     "execution_count": 19,
     "metadata": {},
     "output_type": "execute_result"
    }
   ],
   "source": [
    "predictr.coef_,predictr.intercept_"
   ]
  },
  {
   "cell_type": "markdown",
   "id": "b668438f",
   "metadata": {},
   "source": [
    "- ture가 아님. 왜냐하면 (1) toeic0 대신에 toeic이 들어가야 했음 (2) toeic0에 대한 계수값은 원래 0임. (내가 그렇게 만듬)\n",
    "- 그렇지만 꽤 그를듯해보임. 왜? `toeic`변수가 할 역할을 `toeic0`이 대신하면 되니까.. "
   ]
  },
  {
   "cell_type": "markdown",
   "id": "a68e74f0",
   "metadata": {},
   "source": [
    "`-` 평가"
   ]
  },
  {
   "cell_type": "code",
   "execution_count": 20,
   "id": "27045386",
   "metadata": {
    "tags": []
   },
   "outputs": [
    {
     "data": {
      "text/plain": [
       "0.9108690258792991"
      ]
     },
     "execution_count": 20,
     "metadata": {},
     "output_type": "execute_result"
    }
   ],
   "source": [
    "predictr.score(X,y)"
   ]
  },
  {
   "cell_type": "code",
   "execution_count": 21,
   "id": "355ff595",
   "metadata": {
    "tags": []
   },
   "outputs": [
    {
     "data": {
      "text/plain": [
       "0.9129459365720485"
      ]
     },
     "execution_count": 21,
     "metadata": {},
     "output_type": "execute_result"
    }
   ],
   "source": [
    "predictr.score(XX,yy)"
   ]
  },
  {
   "cell_type": "markdown",
   "id": "c860926e",
   "metadata": {},
   "source": [
    "- 오라클까진 아닌데 합리적인 결과임"
   ]
  },
  {
   "cell_type": "markdown",
   "id": "139cd41e",
   "metadata": {},
   "source": [
    "# 6. Discussions"
   ]
  },
  {
   "cell_type": "markdown",
   "id": "8dd88489",
   "metadata": {},
   "source": [
    "`-` 의문: 왜 변수를 더 많이 넣었는데 이상한 결과가 나올까?"
   ]
  },
  {
   "cell_type": "markdown",
   "id": "209c1900",
   "metadata": {},
   "source": [
    "`-` 어렴풋한 감각: 쓸모없는 변수가 많이 있으면 오히려 모형의 적합도가 떨어진다. (규칙을 찾으면 안될것에서 규칙을 찾고있으니까 잘 될리가 없지)"
   ]
  },
  {
   "cell_type": "markdown",
   "id": "c2f03437",
   "metadata": {},
   "source": [
    "`-` 쓸모없는 변수란 느낌이 드는 경우?\n",
    "\n",
    "- 경우1: 진짜 쓸모 없는거.. (X1= 부먹/찍먹, X2= 민초/민초X) $\\to$ 애초에 `X1`,`X2`을 보고 `y`를 맞출 생각이 들지 않어.. \n",
    "- 경우2: 실제론 쓸모 있는데, 대체자가 있는 경우. (X1= toeic, X2= 유사toeic) $\\to$ `X1` 을 보고 `y`를 맞출 것 같은 생각이 들어, 그리고 `X2`를 보고 `y`를 맞출 것 같은 생각도 들어. 그런데 `X1`이랑 `X2`는 너무 비슷해"
   ]
  },
  {
   "cell_type": "markdown",
   "id": "f61a3a01",
   "metadata": {},
   "source": [
    "`-` 경우1, 경우2 모두 과대적합(overfitting)을 야기한다. 그리고 경우2와 같은 상황에서 발생하는 문제를 특별히 다중공선성이라고 칭한다. "
   ]
  },
  {
   "cell_type": "markdown",
   "id": "07b62c3d-70e8-4741-84ea-87c86847d789",
   "metadata": {},
   "source": [
    "# 7. 다중공선성의 특징 "
   ]
  },
  {
   "cell_type": "markdown",
   "id": "d355e8a0-7118-4c71-b65b-9ba0bcda9278",
   "metadata": {},
   "source": [
    "`-` 잘못된 분석을 다시 재현해보자. "
   ]
  },
  {
   "cell_type": "code",
   "execution_count": 22,
   "id": "93029ed1-c4b8-4155-9f0c-f47102f20fbb",
   "metadata": {
    "tags": []
   },
   "outputs": [
    {
     "data": {
      "text/html": [
       "<style>#sk-container-id-4 {color: black;}#sk-container-id-4 pre{padding: 0;}#sk-container-id-4 div.sk-toggleable {background-color: white;}#sk-container-id-4 label.sk-toggleable__label {cursor: pointer;display: block;width: 100%;margin-bottom: 0;padding: 0.3em;box-sizing: border-box;text-align: center;}#sk-container-id-4 label.sk-toggleable__label-arrow:before {content: \"▸\";float: left;margin-right: 0.25em;color: #696969;}#sk-container-id-4 label.sk-toggleable__label-arrow:hover:before {color: black;}#sk-container-id-4 div.sk-estimator:hover label.sk-toggleable__label-arrow:before {color: black;}#sk-container-id-4 div.sk-toggleable__content {max-height: 0;max-width: 0;overflow: hidden;text-align: left;background-color: #f0f8ff;}#sk-container-id-4 div.sk-toggleable__content pre {margin: 0.2em;color: black;border-radius: 0.25em;background-color: #f0f8ff;}#sk-container-id-4 input.sk-toggleable__control:checked~div.sk-toggleable__content {max-height: 200px;max-width: 100%;overflow: auto;}#sk-container-id-4 input.sk-toggleable__control:checked~label.sk-toggleable__label-arrow:before {content: \"▾\";}#sk-container-id-4 div.sk-estimator input.sk-toggleable__control:checked~label.sk-toggleable__label {background-color: #d4ebff;}#sk-container-id-4 div.sk-label input.sk-toggleable__control:checked~label.sk-toggleable__label {background-color: #d4ebff;}#sk-container-id-4 input.sk-hidden--visually {border: 0;clip: rect(1px 1px 1px 1px);clip: rect(1px, 1px, 1px, 1px);height: 1px;margin: -1px;overflow: hidden;padding: 0;position: absolute;width: 1px;}#sk-container-id-4 div.sk-estimator {font-family: monospace;background-color: #f0f8ff;border: 1px dotted black;border-radius: 0.25em;box-sizing: border-box;margin-bottom: 0.5em;}#sk-container-id-4 div.sk-estimator:hover {background-color: #d4ebff;}#sk-container-id-4 div.sk-parallel-item::after {content: \"\";width: 100%;border-bottom: 1px solid gray;flex-grow: 1;}#sk-container-id-4 div.sk-label:hover label.sk-toggleable__label {background-color: #d4ebff;}#sk-container-id-4 div.sk-serial::before {content: \"\";position: absolute;border-left: 1px solid gray;box-sizing: border-box;top: 0;bottom: 0;left: 50%;z-index: 0;}#sk-container-id-4 div.sk-serial {display: flex;flex-direction: column;align-items: center;background-color: white;padding-right: 0.2em;padding-left: 0.2em;position: relative;}#sk-container-id-4 div.sk-item {position: relative;z-index: 1;}#sk-container-id-4 div.sk-parallel {display: flex;align-items: stretch;justify-content: center;background-color: white;position: relative;}#sk-container-id-4 div.sk-item::before, #sk-container-id-4 div.sk-parallel-item::before {content: \"\";position: absolute;border-left: 1px solid gray;box-sizing: border-box;top: 0;bottom: 0;left: 50%;z-index: -1;}#sk-container-id-4 div.sk-parallel-item {display: flex;flex-direction: column;z-index: 1;position: relative;background-color: white;}#sk-container-id-4 div.sk-parallel-item:first-child::after {align-self: flex-end;width: 50%;}#sk-container-id-4 div.sk-parallel-item:last-child::after {align-self: flex-start;width: 50%;}#sk-container-id-4 div.sk-parallel-item:only-child::after {width: 0;}#sk-container-id-4 div.sk-dashed-wrapped {border: 1px dashed gray;margin: 0 0.4em 0.5em 0.4em;box-sizing: border-box;padding-bottom: 0.4em;background-color: white;}#sk-container-id-4 div.sk-label label {font-family: monospace;font-weight: bold;display: inline-block;line-height: 1.2em;}#sk-container-id-4 div.sk-label-container {text-align: center;}#sk-container-id-4 div.sk-container {/* jupyter's `normalize.less` sets `[hidden] { display: none; }` but bootstrap.min.css set `[hidden] { display: none !important; }` so we also need the `!important` here to be able to override the default hidden behavior on the sphinx rendered scikit-learn.org. See: https://github.com/scikit-learn/scikit-learn/issues/21755 */display: inline-block !important;position: relative;}#sk-container-id-4 div.sk-text-repr-fallback {display: none;}</style><div id=\"sk-container-id-4\" class=\"sk-top-container\"><div class=\"sk-text-repr-fallback\"><pre>LinearRegression()</pre><b>In a Jupyter environment, please rerun this cell to show the HTML representation or trust the notebook. <br />On GitHub, the HTML representation is unable to render, please try loading this page with nbviewer.org.</b></div><div class=\"sk-container\" hidden><div class=\"sk-item\"><div class=\"sk-estimator sk-toggleable\"><input class=\"sk-toggleable__control sk-hidden--visually\" id=\"sk-estimator-id-4\" type=\"checkbox\" checked><label for=\"sk-estimator-id-4\" class=\"sk-toggleable__label sk-toggleable__label-arrow\">LinearRegression</label><div class=\"sk-toggleable__content\"><pre>LinearRegression()</pre></div></div></div></div></div>"
      ],
      "text/plain": [
       "LinearRegression()"
      ]
     },
     "execution_count": 22,
     "metadata": {},
     "output_type": "execute_result"
    }
   ],
   "source": [
    "## step1\n",
    "df_train, df_test = sklearn.model_selection.train_test_split(df,test_size=0.3,random_state=1)\n",
    "X = df_train.drop(['employment_score'],axis=1)\n",
    "y = df_train[['employment_score']]\n",
    "XX = df_test.drop(['employment_score'],axis=1)\n",
    "yy = df_test[['employment_score']]\n",
    "## step2 \n",
    "predictr = sklearn.linear_model.LinearRegression()\n",
    "## step3\n",
    "predictr.fit(X,y)\n",
    "## step4: pass \n"
   ]
  },
  {
   "cell_type": "markdown",
   "id": "4ef7822f-fa42-4675-ba5f-8f83d8259bf7",
   "metadata": {},
   "source": [
    "`-` 계수를 해석해보자."
   ]
  },
  {
   "cell_type": "code",
   "execution_count": 23,
   "id": "76cf3876-652b-42e1-a046-14ce73beaa6e",
   "metadata": {},
   "outputs": [
    {
     "data": {
      "text/plain": [
       "gpa         0.038301\n",
       "toeic      -0.001861\n",
       "toeic0     -0.016546\n",
       "toeic1     -0.026344\n",
       "toeic2      0.017633\n",
       "              ...   \n",
       "toeic495   -0.005235\n",
       "toeic496   -0.010734\n",
       "toeic497   -0.005099\n",
       "toeic498   -0.007419\n",
       "toeic499    0.002570\n",
       "Length: 502, dtype: float64"
      ]
     },
     "execution_count": 23,
     "metadata": {},
     "output_type": "execute_result"
    }
   ],
   "source": [
    "s = pd.Series(predictr.coef_.reshape(-1))\n",
    "s.index = X.columns\n",
    "s"
   ]
  },
  {
   "cell_type": "code",
   "execution_count": 24,
   "id": "b98bf4c4-d676-4d04-a8a0-0fe42c5de1cf",
   "metadata": {},
   "outputs": [
    {
     "data": {
      "text/plain": [
       "0.010468963050441496"
      ]
     },
     "execution_count": 24,
     "metadata": {},
     "output_type": "execute_result"
    }
   ],
   "source": [
    "s['toeic':'toeic499'].sum() # 더하니까 얼추 맞는다?"
   ]
  },
  {
   "cell_type": "markdown",
   "id": "afbe6616-9454-47c3-822a-d6acd7725646",
   "metadata": {},
   "source": [
    "`-` 반복해보자. "
   ]
  },
  {
   "cell_type": "code",
   "execution_count": 25,
   "id": "f275ae70-b109-4307-8a22-bdec85c7c02d",
   "metadata": {},
   "outputs": [
    {
     "data": {
      "image/png": "[encoded data removed]",
      "text/plain": [
       "<Figure size 640x480 with 3 Axes>"
      ]
     },
     "metadata": {},
     "output_type": "display_data"
    }
   ],
   "source": [
    "fig, ax = plt.subplots(3)\n",
    "for i in range(3):\n",
    "    ## step1 \n",
    "    df_train, df_test = sklearn.model_selection.train_test_split(df,test_size=0.3,random_state=i)\n",
    "    X = df_train.drop(['employment_score'],axis=1)\n",
    "    y = df_train[['employment_score']]\n",
    "    XX = df_test.drop(['employment_score'],axis=1)\n",
    "    yy = df_test[['employment_score']]\n",
    "    ## step2 \n",
    "    predictr = sklearn.linear_model.LinearRegression()\n",
    "    ## step3 \n",
    "    predictr.fit(X,y)\n",
    "    ## step4: pass \n",
    "    #---# \n",
    "    s = pd.Series(predictr.coef_.reshape(-1))\n",
    "    ax[i].plot(s[1:])\n",
    "    ax[i].set_title(f'coef of toeic, sum={sum(s[1:]):.4f}')\n",
    "fig.tight_layout()"
   ]
  },
  {
   "cell_type": "markdown",
   "id": "471328d8-376c-4952-ba4d-e0f7a92fbf20",
   "metadata": {},
   "source": [
    "`-` 특징\n",
    "\n",
    "1. 계수값이 매우 불안정하다. (돌릴때마다 다른값이 나옴) \n",
    "2. 계수값의 해석이 용이하지 않다. (어떤건 음의 계수값도 가짐, 토익올리면 취업이 오히려 안된다?)\n",
    "3. 그렇지만 합치면 대충 합리적인 값이 나온다. "
   ]
  }
 ],
 "metadata": {
  "kernelspec": {
   "display_name": "Python 3 (ipykernel)",
   "language": "python",
   "name": "python3"
  },
  "language_info": {
   "codemirror_mode": {
    "name": "ipython",
    "version": 3
   },
   "file_extension": ".py",
   "mimetype": "text/x-python",
   "name": "python",
   "nbconvert_exporter": "python",
   "pygments_lexer": "ipython3",
   "version": "3.10.13"
  }
 },
 "nbformat": 4,
 "nbformat_minor": 5
}
