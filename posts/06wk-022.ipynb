{
 "cells": [
  {
   "cell_type": "raw",
   "id": "1701eef1-e07d-4f9c-9454-2da294cf9253",
   "metadata": {},
   "source": [
    "---\n",
    "title: \"06wk-022: 취업+각종영어점수, 다중공선성\"\n",
    "author: \"최규빈\"\n",
    "date: \"10/05/2023\"\n",
    "bibliography: ref.bib\n",
    "draft: true\n",
    "---"
   ]
  },
  {
   "cell_type": "markdown",
   "id": "714149a9",
   "metadata": {},
   "source": [
    "# 1. 강의영상 "
   ]
  },
  {
   "cell_type": "markdown",
   "id": "c630eaec",
   "metadata": {},
   "source": [
    "# 2. Imports"
   ]
  },
  {
   "cell_type": "code",
   "execution_count": 92,
   "id": "d59089a4-68c0-445b-a878-14a36d010007",
   "metadata": {
    "tags": []
   },
   "outputs": [],
   "source": [
    "import numpy as np\n",
    "import pandas as pd\n",
    "import sklearn.linear_model\n",
    "import sklearn.preprocessing "
   ]
  },
  {
   "cell_type": "markdown",
   "id": "61a2ee22",
   "metadata": {},
   "source": [
    "# 3. 자료"
   ]
  },
  {
   "cell_type": "markdown",
   "id": "cd3b0403-d0a6-4dc9-9eed-ce899acb456b",
   "metadata": {},
   "source": [
    "`-` 아래와 같은 자료를 상상하자. "
   ]
  },
  {
   "cell_type": "code",
   "execution_count": 557,
   "id": "df31636f",
   "metadata": {
    "tags": []
   },
   "outputs": [
    {
     "data": {
      "text/html": [
       "<div>\n",
       "<style scoped>\n",
       "    .dataframe tbody tr th:only-of-type {\n",
       "        vertical-align: middle;\n",
       "    }\n",
       "\n",
       "    .dataframe tbody tr th {\n",
       "        vertical-align: top;\n",
       "    }\n",
       "\n",
       "    .dataframe thead th {\n",
       "        text-align: right;\n",
       "    }\n",
       "</style>\n",
       "<table border=\"1\" class=\"dataframe\">\n",
       "  <thead>\n",
       "    <tr style=\"text-align: right;\">\n",
       "      <th></th>\n",
       "      <th>employment_score</th>\n",
       "      <th>gpa</th>\n",
       "      <th>toeic</th>\n",
       "      <th>toeic0</th>\n",
       "      <th>toeic1</th>\n",
       "      <th>toeic2</th>\n",
       "      <th>toeic3</th>\n",
       "      <th>toeic4</th>\n",
       "      <th>toeic5</th>\n",
       "      <th>toeic6</th>\n",
       "      <th>...</th>\n",
       "      <th>gpa490</th>\n",
       "      <th>gpa491</th>\n",
       "      <th>gpa492</th>\n",
       "      <th>gpa493</th>\n",
       "      <th>gpa494</th>\n",
       "      <th>gpa495</th>\n",
       "      <th>gpa496</th>\n",
       "      <th>gpa497</th>\n",
       "      <th>gpa498</th>\n",
       "      <th>gpa499</th>\n",
       "    </tr>\n",
       "  </thead>\n",
       "  <tbody>\n",
       "    <tr>\n",
       "      <th>0</th>\n",
       "      <td>-0.949314</td>\n",
       "      <td>0.051535</td>\n",
       "      <td>135</td>\n",
       "      <td>134.905876</td>\n",
       "      <td>135.117032</td>\n",
       "      <td>135.023627</td>\n",
       "      <td>134.944710</td>\n",
       "      <td>134.984846</td>\n",
       "      <td>134.807689</td>\n",
       "      <td>135.020455</td>\n",
       "      <td>...</td>\n",
       "      <td>0.051346</td>\n",
       "      <td>0.051504</td>\n",
       "      <td>0.051523</td>\n",
       "      <td>0.051157</td>\n",
       "      <td>0.051068</td>\n",
       "      <td>0.051685</td>\n",
       "      <td>0.050885</td>\n",
       "      <td>0.051464</td>\n",
       "      <td>0.051650</td>\n",
       "      <td>0.051265</td>\n",
       "    </tr>\n",
       "    <tr>\n",
       "      <th>1</th>\n",
       "      <td>4.861725</td>\n",
       "      <td>0.355496</td>\n",
       "      <td>935</td>\n",
       "      <td>934.929100</td>\n",
       "      <td>935.109071</td>\n",
       "      <td>934.979972</td>\n",
       "      <td>934.868964</td>\n",
       "      <td>935.010303</td>\n",
       "      <td>935.186503</td>\n",
       "      <td>935.031157</td>\n",
       "      <td>...</td>\n",
       "      <td>0.354803</td>\n",
       "      <td>0.355750</td>\n",
       "      <td>0.355235</td>\n",
       "      <td>0.355323</td>\n",
       "      <td>0.355300</td>\n",
       "      <td>0.355997</td>\n",
       "      <td>0.354530</td>\n",
       "      <td>0.355399</td>\n",
       "      <td>0.354786</td>\n",
       "      <td>0.355334</td>\n",
       "    </tr>\n",
       "    <tr>\n",
       "      <th>2</th>\n",
       "      <td>5.582663</td>\n",
       "      <td>2.228435</td>\n",
       "      <td>485</td>\n",
       "      <td>485.109978</td>\n",
       "      <td>485.172261</td>\n",
       "      <td>484.914730</td>\n",
       "      <td>485.199464</td>\n",
       "      <td>485.203148</td>\n",
       "      <td>485.230656</td>\n",
       "      <td>484.968253</td>\n",
       "      <td>...</td>\n",
       "      <td>2.227715</td>\n",
       "      <td>2.227660</td>\n",
       "      <td>2.228437</td>\n",
       "      <td>2.227558</td>\n",
       "      <td>2.229366</td>\n",
       "      <td>2.228802</td>\n",
       "      <td>2.228404</td>\n",
       "      <td>2.228835</td>\n",
       "      <td>2.228413</td>\n",
       "      <td>2.228089</td>\n",
       "    </tr>\n",
       "    <tr>\n",
       "      <th>3</th>\n",
       "      <td>3.919694</td>\n",
       "      <td>1.179701</td>\n",
       "      <td>65</td>\n",
       "      <td>65.065723</td>\n",
       "      <td>64.898906</td>\n",
       "      <td>65.001654</td>\n",
       "      <td>64.944563</td>\n",
       "      <td>64.970271</td>\n",
       "      <td>64.936909</td>\n",
       "      <td>64.931008</td>\n",
       "      <td>...</td>\n",
       "      <td>1.180655</td>\n",
       "      <td>1.179778</td>\n",
       "      <td>1.179367</td>\n",
       "      <td>1.179450</td>\n",
       "      <td>1.179640</td>\n",
       "      <td>1.179726</td>\n",
       "      <td>1.179271</td>\n",
       "      <td>1.180289</td>\n",
       "      <td>1.179608</td>\n",
       "      <td>1.180105</td>\n",
       "    </tr>\n",
       "    <tr>\n",
       "      <th>4</th>\n",
       "      <td>8.286851</td>\n",
       "      <td>3.962356</td>\n",
       "      <td>445</td>\n",
       "      <td>444.872193</td>\n",
       "      <td>445.210402</td>\n",
       "      <td>444.836561</td>\n",
       "      <td>445.049579</td>\n",
       "      <td>444.984418</td>\n",
       "      <td>445.092224</td>\n",
       "      <td>444.970579</td>\n",
       "      <td>...</td>\n",
       "      <td>3.961363</td>\n",
       "      <td>3.962405</td>\n",
       "      <td>3.962808</td>\n",
       "      <td>3.963065</td>\n",
       "      <td>3.962240</td>\n",
       "      <td>3.962235</td>\n",
       "      <td>3.962224</td>\n",
       "      <td>3.961903</td>\n",
       "      <td>3.962439</td>\n",
       "      <td>3.961984</td>\n",
       "    </tr>\n",
       "    <tr>\n",
       "      <th>...</th>\n",
       "      <td>...</td>\n",
       "      <td>...</td>\n",
       "      <td>...</td>\n",
       "      <td>...</td>\n",
       "      <td>...</td>\n",
       "      <td>...</td>\n",
       "      <td>...</td>\n",
       "      <td>...</td>\n",
       "      <td>...</td>\n",
       "      <td>...</td>\n",
       "      <td>...</td>\n",
       "      <td>...</td>\n",
       "      <td>...</td>\n",
       "      <td>...</td>\n",
       "      <td>...</td>\n",
       "      <td>...</td>\n",
       "      <td>...</td>\n",
       "      <td>...</td>\n",
       "      <td>...</td>\n",
       "      <td>...</td>\n",
       "      <td>...</td>\n",
       "    </tr>\n",
       "    <tr>\n",
       "      <th>495</th>\n",
       "      <td>7.002081</td>\n",
       "      <td>4.288465</td>\n",
       "      <td>280</td>\n",
       "      <td>280.049160</td>\n",
       "      <td>280.052529</td>\n",
       "      <td>279.991289</td>\n",
       "      <td>280.007350</td>\n",
       "      <td>279.863523</td>\n",
       "      <td>280.189550</td>\n",
       "      <td>279.958847</td>\n",
       "      <td>...</td>\n",
       "      <td>4.287565</td>\n",
       "      <td>4.288881</td>\n",
       "      <td>4.288837</td>\n",
       "      <td>4.289672</td>\n",
       "      <td>4.288370</td>\n",
       "      <td>4.287814</td>\n",
       "      <td>4.287992</td>\n",
       "      <td>4.287714</td>\n",
       "      <td>4.288704</td>\n",
       "      <td>4.288345</td>\n",
       "    </tr>\n",
       "    <tr>\n",
       "      <th>496</th>\n",
       "      <td>5.431050</td>\n",
       "      <td>2.601212</td>\n",
       "      <td>310</td>\n",
       "      <td>310.126755</td>\n",
       "      <td>310.109030</td>\n",
       "      <td>310.142602</td>\n",
       "      <td>309.908826</td>\n",
       "      <td>309.889006</td>\n",
       "      <td>310.057635</td>\n",
       "      <td>309.901828</td>\n",
       "      <td>...</td>\n",
       "      <td>2.600949</td>\n",
       "      <td>2.601434</td>\n",
       "      <td>2.601542</td>\n",
       "      <td>2.601368</td>\n",
       "      <td>2.601054</td>\n",
       "      <td>2.600849</td>\n",
       "      <td>2.601370</td>\n",
       "      <td>2.601560</td>\n",
       "      <td>2.601465</td>\n",
       "      <td>2.599992</td>\n",
       "    </tr>\n",
       "    <tr>\n",
       "      <th>497</th>\n",
       "      <td>0.088812</td>\n",
       "      <td>0.042323</td>\n",
       "      <td>225</td>\n",
       "      <td>225.050793</td>\n",
       "      <td>224.924632</td>\n",
       "      <td>225.050396</td>\n",
       "      <td>224.936541</td>\n",
       "      <td>224.894175</td>\n",
       "      <td>225.050287</td>\n",
       "      <td>225.164853</td>\n",
       "      <td>...</td>\n",
       "      <td>0.042784</td>\n",
       "      <td>0.042363</td>\n",
       "      <td>0.042912</td>\n",
       "      <td>0.041777</td>\n",
       "      <td>0.041627</td>\n",
       "      <td>0.042512</td>\n",
       "      <td>0.042958</td>\n",
       "      <td>0.042793</td>\n",
       "      <td>0.043258</td>\n",
       "      <td>0.042007</td>\n",
       "    </tr>\n",
       "    <tr>\n",
       "      <th>498</th>\n",
       "      <td>3.806388</td>\n",
       "      <td>1.041416</td>\n",
       "      <td>320</td>\n",
       "      <td>320.184743</td>\n",
       "      <td>320.041968</td>\n",
       "      <td>319.946223</td>\n",
       "      <td>320.018932</td>\n",
       "      <td>320.128054</td>\n",
       "      <td>320.032726</td>\n",
       "      <td>320.061105</td>\n",
       "      <td>...</td>\n",
       "      <td>1.041218</td>\n",
       "      <td>1.040949</td>\n",
       "      <td>1.040485</td>\n",
       "      <td>1.041649</td>\n",
       "      <td>1.041252</td>\n",
       "      <td>1.041815</td>\n",
       "      <td>1.041692</td>\n",
       "      <td>1.041806</td>\n",
       "      <td>1.040690</td>\n",
       "      <td>1.041343</td>\n",
       "    </tr>\n",
       "    <tr>\n",
       "      <th>499</th>\n",
       "      <td>6.739095</td>\n",
       "      <td>3.626883</td>\n",
       "      <td>375</td>\n",
       "      <td>374.832310</td>\n",
       "      <td>375.048150</td>\n",
       "      <td>374.966628</td>\n",
       "      <td>374.889096</td>\n",
       "      <td>374.874209</td>\n",
       "      <td>375.065795</td>\n",
       "      <td>374.987905</td>\n",
       "      <td>...</td>\n",
       "      <td>3.626882</td>\n",
       "      <td>3.627722</td>\n",
       "      <td>3.627145</td>\n",
       "      <td>3.627724</td>\n",
       "      <td>3.626878</td>\n",
       "      <td>3.627061</td>\n",
       "      <td>3.627100</td>\n",
       "      <td>3.626641</td>\n",
       "      <td>3.627759</td>\n",
       "      <td>3.627510</td>\n",
       "    </tr>\n",
       "  </tbody>\n",
       "</table>\n",
       "<p>500 rows × 1003 columns</p>\n",
       "</div>"
      ],
      "text/plain": [
       "     employment_score       gpa  toeic      toeic0      toeic1      toeic2  \\\n",
       "0           -0.949314  0.051535    135  134.905876  135.117032  135.023627   \n",
       "1            4.861725  0.355496    935  934.929100  935.109071  934.979972   \n",
       "2            5.582663  2.228435    485  485.109978  485.172261  484.914730   \n",
       "3            3.919694  1.179701     65   65.065723   64.898906   65.001654   \n",
       "4            8.286851  3.962356    445  444.872193  445.210402  444.836561   \n",
       "..                ...       ...    ...         ...         ...         ...   \n",
       "495          7.002081  4.288465    280  280.049160  280.052529  279.991289   \n",
       "496          5.431050  2.601212    310  310.126755  310.109030  310.142602   \n",
       "497          0.088812  0.042323    225  225.050793  224.924632  225.050396   \n",
       "498          3.806388  1.041416    320  320.184743  320.041968  319.946223   \n",
       "499          6.739095  3.626883    375  374.832310  375.048150  374.966628   \n",
       "\n",
       "         toeic3      toeic4      toeic5      toeic6  ...    gpa490    gpa491  \\\n",
       "0    134.944710  134.984846  134.807689  135.020455  ...  0.051346  0.051504   \n",
       "1    934.868964  935.010303  935.186503  935.031157  ...  0.354803  0.355750   \n",
       "2    485.199464  485.203148  485.230656  484.968253  ...  2.227715  2.227660   \n",
       "3     64.944563   64.970271   64.936909   64.931008  ...  1.180655  1.179778   \n",
       "4    445.049579  444.984418  445.092224  444.970579  ...  3.961363  3.962405   \n",
       "..          ...         ...         ...         ...  ...       ...       ...   \n",
       "495  280.007350  279.863523  280.189550  279.958847  ...  4.287565  4.288881   \n",
       "496  309.908826  309.889006  310.057635  309.901828  ...  2.600949  2.601434   \n",
       "497  224.936541  224.894175  225.050287  225.164853  ...  0.042784  0.042363   \n",
       "498  320.018932  320.128054  320.032726  320.061105  ...  1.041218  1.040949   \n",
       "499  374.889096  374.874209  375.065795  374.987905  ...  3.626882  3.627722   \n",
       "\n",
       "       gpa492    gpa493    gpa494    gpa495    gpa496    gpa497    gpa498  \\\n",
       "0    0.051523  0.051157  0.051068  0.051685  0.050885  0.051464  0.051650   \n",
       "1    0.355235  0.355323  0.355300  0.355997  0.354530  0.355399  0.354786   \n",
       "2    2.228437  2.227558  2.229366  2.228802  2.228404  2.228835  2.228413   \n",
       "3    1.179367  1.179450  1.179640  1.179726  1.179271  1.180289  1.179608   \n",
       "4    3.962808  3.963065  3.962240  3.962235  3.962224  3.961903  3.962439   \n",
       "..        ...       ...       ...       ...       ...       ...       ...   \n",
       "495  4.288837  4.289672  4.288370  4.287814  4.287992  4.287714  4.288704   \n",
       "496  2.601542  2.601368  2.601054  2.600849  2.601370  2.601560  2.601465   \n",
       "497  0.042912  0.041777  0.041627  0.042512  0.042958  0.042793  0.043258   \n",
       "498  1.040485  1.041649  1.041252  1.041815  1.041692  1.041806  1.040690   \n",
       "499  3.627145  3.627724  3.626878  3.627061  3.627100  3.626641  3.627759   \n",
       "\n",
       "       gpa499  \n",
       "0    0.051265  \n",
       "1    0.355334  \n",
       "2    2.228089  \n",
       "3    1.180105  \n",
       "4    3.961984  \n",
       "..        ...  \n",
       "495  4.288345  \n",
       "496  2.599992  \n",
       "497  0.042007  \n",
       "498  1.041343  \n",
       "499  3.627510  \n",
       "\n",
       "[500 rows x 1003 columns]"
      ]
     },
     "execution_count": 557,
     "metadata": {},
     "output_type": "execute_result"
    }
   ],
   "source": [
    "df = pd.read_csv(\"https://raw.githubusercontent.com/guebin/MP2023/main/posts/employment_manyp.csv\")\n",
    "df"
   ]
  },
  {
   "cell_type": "code",
   "execution_count": 755,
   "id": "fafdac7b-1cc9-4140-830d-eceee87979c4",
   "metadata": {
    "tags": []
   },
   "outputs": [],
   "source": [
    "df = df.iloc[:,:3]\n",
    "\n",
    "gpa = np.array(df.gpa)\n",
    "toeic = np.array(df.toeic) \n",
    "\n",
    "n_features = 500\n",
    "gpa_many = gpa.reshape(-1,1) + np.random.randn(500,n_features)*10/200\n",
    "toeic_many = toeic.reshape(-1,1) + np.random.randn(500,n_features)*10.0\n",
    "gpa_many = pd.DataFrame(gpa_many,columns=[f'gpa{i}' for i in range(n_features)])\n",
    "toeic_many = pd.DataFrame(toeic_many,columns=[f'toeic{i}' for i in range(n_features)])\n",
    "#new_feature = toeic_many * 1/200 + gpa_many*1.3 + np.random.randn(500,n_features)*0.1*1/200\n",
    "df = pd.concat([df,toeic_many,gpa_many],axis=1)"
   ]
  },
  {
   "cell_type": "markdown",
   "id": "1730c3ab",
   "metadata": {},
   "source": [
    "- toeic0,toeic1,... 등은 토익과 유사한 새로운 시험들을 의미함. (실제 점수는 정수이겠지만 편의상 소수점으로 사용하였음)\n",
    "- employmet_score는 회사에 내부적으로 정의된 채점기준표이며, 이 기준표에 의하여 일정점수 이상인 사람은 합격하고, 그렇지 않은 사람은 불합격한다고 가정함. \n"
   ]
  },
  {
   "cell_type": "markdown",
   "id": "65b60bce-8140-486d-be28-15ad1bb86685",
   "metadata": {},
   "source": [
    "`-` 비밀: 사실 저는 데이터를 아래의 공식에 따라서 만들었어요..\n",
    "\n",
    "```\n",
    "employment_score = toeic*1/200 + gpa*1.3 + random \n",
    "````"
   ]
  },
  {
   "cell_type": "markdown",
   "id": "6d4f729b",
   "metadata": {},
   "source": [
    "# 4. 잘못된 분석 "
   ]
  },
  {
   "cell_type": "code",
   "execution_count": 757,
   "id": "3d3da29f-eb94-4950-9931-3e3a823c5259",
   "metadata": {
    "tags": []
   },
   "outputs": [],
   "source": [
    "df_train, df_test = sklearn.model_selection.train_test_split(df,test_size=0.3,random_state=42)"
   ]
  },
  {
   "cell_type": "code",
   "execution_count": 758,
   "id": "aaff234e-cead-466e-bfc1-e9538b0c807e",
   "metadata": {
    "tags": []
   },
   "outputs": [],
   "source": [
    "X = df_train.drop(['employment_score'],axis=1)\n",
    "y = df_train[['employment_score']]\n",
    "XX = df_test.drop(['employment_score'],axis=1)\n",
    "yy = df_test[['employment_score']]"
   ]
  },
  {
   "cell_type": "code",
   "execution_count": 759,
   "id": "e7045ffa-40b3-4a27-aa72-c6b2eefcdd31",
   "metadata": {
    "tags": []
   },
   "outputs": [],
   "source": [
    "predictr = sklearn.linear_model.LinearRegression()"
   ]
  },
  {
   "cell_type": "code",
   "execution_count": 760,
   "id": "f68283fb-4ce1-483f-8f46-af6e37030888",
   "metadata": {
    "tags": []
   },
   "outputs": [
    {
     "data": {
      "text/html": [
       "<style>#sk-container-id-102 {color: black;}#sk-container-id-102 pre{padding: 0;}#sk-container-id-102 div.sk-toggleable {background-color: white;}#sk-container-id-102 label.sk-toggleable__label {cursor: pointer;display: block;width: 100%;margin-bottom: 0;padding: 0.3em;box-sizing: border-box;text-align: center;}#sk-container-id-102 label.sk-toggleable__label-arrow:before {content: \"▸\";float: left;margin-right: 0.25em;color: #696969;}#sk-container-id-102 label.sk-toggleable__label-arrow:hover:before {color: black;}#sk-container-id-102 div.sk-estimator:hover label.sk-toggleable__label-arrow:before {color: black;}#sk-container-id-102 div.sk-toggleable__content {max-height: 0;max-width: 0;overflow: hidden;text-align: left;background-color: #f0f8ff;}#sk-container-id-102 div.sk-toggleable__content pre {margin: 0.2em;color: black;border-radius: 0.25em;background-color: #f0f8ff;}#sk-container-id-102 input.sk-toggleable__control:checked~div.sk-toggleable__content {max-height: 200px;max-width: 100%;overflow: auto;}#sk-container-id-102 input.sk-toggleable__control:checked~label.sk-toggleable__label-arrow:before {content: \"▾\";}#sk-container-id-102 div.sk-estimator input.sk-toggleable__control:checked~label.sk-toggleable__label {background-color: #d4ebff;}#sk-container-id-102 div.sk-label input.sk-toggleable__control:checked~label.sk-toggleable__label {background-color: #d4ebff;}#sk-container-id-102 input.sk-hidden--visually {border: 0;clip: rect(1px 1px 1px 1px);clip: rect(1px, 1px, 1px, 1px);height: 1px;margin: -1px;overflow: hidden;padding: 0;position: absolute;width: 1px;}#sk-container-id-102 div.sk-estimator {font-family: monospace;background-color: #f0f8ff;border: 1px dotted black;border-radius: 0.25em;box-sizing: border-box;margin-bottom: 0.5em;}#sk-container-id-102 div.sk-estimator:hover {background-color: #d4ebff;}#sk-container-id-102 div.sk-parallel-item::after {content: \"\";width: 100%;border-bottom: 1px solid gray;flex-grow: 1;}#sk-container-id-102 div.sk-label:hover label.sk-toggleable__label {background-color: #d4ebff;}#sk-container-id-102 div.sk-serial::before {content: \"\";position: absolute;border-left: 1px solid gray;box-sizing: border-box;top: 0;bottom: 0;left: 50%;z-index: 0;}#sk-container-id-102 div.sk-serial {display: flex;flex-direction: column;align-items: center;background-color: white;padding-right: 0.2em;padding-left: 0.2em;position: relative;}#sk-container-id-102 div.sk-item {position: relative;z-index: 1;}#sk-container-id-102 div.sk-parallel {display: flex;align-items: stretch;justify-content: center;background-color: white;position: relative;}#sk-container-id-102 div.sk-item::before, #sk-container-id-102 div.sk-parallel-item::before {content: \"\";position: absolute;border-left: 1px solid gray;box-sizing: border-box;top: 0;bottom: 0;left: 50%;z-index: -1;}#sk-container-id-102 div.sk-parallel-item {display: flex;flex-direction: column;z-index: 1;position: relative;background-color: white;}#sk-container-id-102 div.sk-parallel-item:first-child::after {align-self: flex-end;width: 50%;}#sk-container-id-102 div.sk-parallel-item:last-child::after {align-self: flex-start;width: 50%;}#sk-container-id-102 div.sk-parallel-item:only-child::after {width: 0;}#sk-container-id-102 div.sk-dashed-wrapped {border: 1px dashed gray;margin: 0 0.4em 0.5em 0.4em;box-sizing: border-box;padding-bottom: 0.4em;background-color: white;}#sk-container-id-102 div.sk-label label {font-family: monospace;font-weight: bold;display: inline-block;line-height: 1.2em;}#sk-container-id-102 div.sk-label-container {text-align: center;}#sk-container-id-102 div.sk-container {/* jupyter's `normalize.less` sets `[hidden] { display: none; }` but bootstrap.min.css set `[hidden] { display: none !important; }` so we also need the `!important` here to be able to override the default hidden behavior on the sphinx rendered scikit-learn.org. See: https://github.com/scikit-learn/scikit-learn/issues/21755 */display: inline-block !important;position: relative;}#sk-container-id-102 div.sk-text-repr-fallback {display: none;}</style><div id=\"sk-container-id-102\" class=\"sk-top-container\"><div class=\"sk-text-repr-fallback\"><pre>LinearRegression()</pre><b>In a Jupyter environment, please rerun this cell to show the HTML representation or trust the notebook. <br />On GitHub, the HTML representation is unable to render, please try loading this page with nbviewer.org.</b></div><div class=\"sk-container\" hidden><div class=\"sk-item\"><div class=\"sk-estimator sk-toggleable\"><input class=\"sk-toggleable__control sk-hidden--visually\" id=\"sk-estimator-id-102\" type=\"checkbox\" checked><label for=\"sk-estimator-id-102\" class=\"sk-toggleable__label sk-toggleable__label-arrow\">LinearRegression</label><div class=\"sk-toggleable__content\"><pre>LinearRegression()</pre></div></div></div></div></div>"
      ],
      "text/plain": [
       "LinearRegression()"
      ]
     },
     "execution_count": 760,
     "metadata": {},
     "output_type": "execute_result"
    }
   ],
   "source": [
    "predictr.fit(X,y)"
   ]
  },
  {
   "cell_type": "code",
   "execution_count": 761,
   "id": "4788d2e2-6973-413e-aba4-07c3ff817f44",
   "metadata": {},
   "outputs": [],
   "source": [
    "#predictr.coef_,predictr.intercept_"
   ]
  },
  {
   "cell_type": "markdown",
   "id": "e90e6592",
   "metadata": {},
   "source": [
    "- 실제계수값은 `토익*0.005`, `GPA*1.3` 인데.. GPA는 얼추맞는거 같지만, 토익은 딱봐도 틀려보임.."
   ]
  },
  {
   "cell_type": "code",
   "execution_count": 762,
   "id": "8b1393a2-3138-4212-b515-33154e267e13",
   "metadata": {
    "tags": []
   },
   "outputs": [
    {
     "data": {
      "text/plain": [
       "1.0"
      ]
     },
     "execution_count": 762,
     "metadata": {},
     "output_type": "execute_result"
    }
   ],
   "source": [
    "predictr.score(X,y) "
   ]
  },
  {
   "cell_type": "code",
   "execution_count": 763,
   "id": "766d702a-5446-46d9-9fd3-253d00701a42",
   "metadata": {
    "tags": []
   },
   "outputs": [
    {
     "data": {
      "text/plain": [
       "0.3933528973907312"
      ]
     },
     "execution_count": 763,
     "metadata": {},
     "output_type": "execute_result"
    }
   ],
   "source": [
    "predictr.score(XX,yy)"
   ]
  },
  {
   "cell_type": "markdown",
   "id": "96eba8f8",
   "metadata": {},
   "source": [
    "# 5. 제대로 분석했다면? "
   ]
  },
  {
   "cell_type": "markdown",
   "id": "f07d2973",
   "metadata": {},
   "source": [
    "## A. `toeic`과 `gpa`가 유의미한 변수라는걸 눈치챘다면? "
   ]
  },
  {
   "cell_type": "code",
   "execution_count": 764,
   "id": "ad218142-a53d-4cb0-b3d6-6c5662b0f514",
   "metadata": {
    "tags": []
   },
   "outputs": [],
   "source": [
    "X = df_train[['toeic','gpa']]\n",
    "y = df_train[['employment_score']]\n",
    "XX = df_test[['toeic','gpa']]\n",
    "yy = df_test[['employment_score']]"
   ]
  },
  {
   "cell_type": "code",
   "execution_count": 765,
   "id": "29e3d75c-800c-4065-8b44-fabc524d9e8b",
   "metadata": {
    "tags": []
   },
   "outputs": [],
   "source": [
    "predictr = sklearn.linear_model.LinearRegression()"
   ]
  },
  {
   "cell_type": "code",
   "execution_count": 766,
   "id": "b712a388-4a65-4688-bfc8-a9b4153445d8",
   "metadata": {
    "tags": []
   },
   "outputs": [
    {
     "data": {
      "text/html": [
       "<style>#sk-container-id-103 {color: black;}#sk-container-id-103 pre{padding: 0;}#sk-container-id-103 div.sk-toggleable {background-color: white;}#sk-container-id-103 label.sk-toggleable__label {cursor: pointer;display: block;width: 100%;margin-bottom: 0;padding: 0.3em;box-sizing: border-box;text-align: center;}#sk-container-id-103 label.sk-toggleable__label-arrow:before {content: \"▸\";float: left;margin-right: 0.25em;color: #696969;}#sk-container-id-103 label.sk-toggleable__label-arrow:hover:before {color: black;}#sk-container-id-103 div.sk-estimator:hover label.sk-toggleable__label-arrow:before {color: black;}#sk-container-id-103 div.sk-toggleable__content {max-height: 0;max-width: 0;overflow: hidden;text-align: left;background-color: #f0f8ff;}#sk-container-id-103 div.sk-toggleable__content pre {margin: 0.2em;color: black;border-radius: 0.25em;background-color: #f0f8ff;}#sk-container-id-103 input.sk-toggleable__control:checked~div.sk-toggleable__content {max-height: 200px;max-width: 100%;overflow: auto;}#sk-container-id-103 input.sk-toggleable__control:checked~label.sk-toggleable__label-arrow:before {content: \"▾\";}#sk-container-id-103 div.sk-estimator input.sk-toggleable__control:checked~label.sk-toggleable__label {background-color: #d4ebff;}#sk-container-id-103 div.sk-label input.sk-toggleable__control:checked~label.sk-toggleable__label {background-color: #d4ebff;}#sk-container-id-103 input.sk-hidden--visually {border: 0;clip: rect(1px 1px 1px 1px);clip: rect(1px, 1px, 1px, 1px);height: 1px;margin: -1px;overflow: hidden;padding: 0;position: absolute;width: 1px;}#sk-container-id-103 div.sk-estimator {font-family: monospace;background-color: #f0f8ff;border: 1px dotted black;border-radius: 0.25em;box-sizing: border-box;margin-bottom: 0.5em;}#sk-container-id-103 div.sk-estimator:hover {background-color: #d4ebff;}#sk-container-id-103 div.sk-parallel-item::after {content: \"\";width: 100%;border-bottom: 1px solid gray;flex-grow: 1;}#sk-container-id-103 div.sk-label:hover label.sk-toggleable__label {background-color: #d4ebff;}#sk-container-id-103 div.sk-serial::before {content: \"\";position: absolute;border-left: 1px solid gray;box-sizing: border-box;top: 0;bottom: 0;left: 50%;z-index: 0;}#sk-container-id-103 div.sk-serial {display: flex;flex-direction: column;align-items: center;background-color: white;padding-right: 0.2em;padding-left: 0.2em;position: relative;}#sk-container-id-103 div.sk-item {position: relative;z-index: 1;}#sk-container-id-103 div.sk-parallel {display: flex;align-items: stretch;justify-content: center;background-color: white;position: relative;}#sk-container-id-103 div.sk-item::before, #sk-container-id-103 div.sk-parallel-item::before {content: \"\";position: absolute;border-left: 1px solid gray;box-sizing: border-box;top: 0;bottom: 0;left: 50%;z-index: -1;}#sk-container-id-103 div.sk-parallel-item {display: flex;flex-direction: column;z-index: 1;position: relative;background-color: white;}#sk-container-id-103 div.sk-parallel-item:first-child::after {align-self: flex-end;width: 50%;}#sk-container-id-103 div.sk-parallel-item:last-child::after {align-self: flex-start;width: 50%;}#sk-container-id-103 div.sk-parallel-item:only-child::after {width: 0;}#sk-container-id-103 div.sk-dashed-wrapped {border: 1px dashed gray;margin: 0 0.4em 0.5em 0.4em;box-sizing: border-box;padding-bottom: 0.4em;background-color: white;}#sk-container-id-103 div.sk-label label {font-family: monospace;font-weight: bold;display: inline-block;line-height: 1.2em;}#sk-container-id-103 div.sk-label-container {text-align: center;}#sk-container-id-103 div.sk-container {/* jupyter's `normalize.less` sets `[hidden] { display: none; }` but bootstrap.min.css set `[hidden] { display: none !important; }` so we also need the `!important` here to be able to override the default hidden behavior on the sphinx rendered scikit-learn.org. See: https://github.com/scikit-learn/scikit-learn/issues/21755 */display: inline-block !important;position: relative;}#sk-container-id-103 div.sk-text-repr-fallback {display: none;}</style><div id=\"sk-container-id-103\" class=\"sk-top-container\"><div class=\"sk-text-repr-fallback\"><pre>LinearRegression()</pre><b>In a Jupyter environment, please rerun this cell to show the HTML representation or trust the notebook. <br />On GitHub, the HTML representation is unable to render, please try loading this page with nbviewer.org.</b></div><div class=\"sk-container\" hidden><div class=\"sk-item\"><div class=\"sk-estimator sk-toggleable\"><input class=\"sk-toggleable__control sk-hidden--visually\" id=\"sk-estimator-id-103\" type=\"checkbox\" checked><label for=\"sk-estimator-id-103\" class=\"sk-toggleable__label sk-toggleable__label-arrow\">LinearRegression</label><div class=\"sk-toggleable__content\"><pre>LinearRegression()</pre></div></div></div></div></div>"
      ],
      "text/plain": [
       "LinearRegression()"
      ]
     },
     "execution_count": 766,
     "metadata": {},
     "output_type": "execute_result"
    }
   ],
   "source": [
    "predictr.fit(X,y)"
   ]
  },
  {
   "cell_type": "code",
   "execution_count": 767,
   "id": "571f071e-f7df-4113-bdd4-2e284edd2ba7",
   "metadata": {
    "tags": []
   },
   "outputs": [
    {
     "data": {
      "text/plain": [
       "(array([[0.0053471 , 1.29761661]]), array([-0.14053701]))"
      ]
     },
     "execution_count": 767,
     "metadata": {},
     "output_type": "execute_result"
    }
   ],
   "source": [
    "predictr.coef_,predictr.intercept_"
   ]
  },
  {
   "cell_type": "code",
   "execution_count": 768,
   "id": "7ba0a143-a6ee-429f-aef8-7cb1a541a4ca",
   "metadata": {
    "tags": []
   },
   "outputs": [
    {
     "data": {
      "text/plain": [
       "0.8170294319254924"
      ]
     },
     "execution_count": 768,
     "metadata": {},
     "output_type": "execute_result"
    }
   ],
   "source": [
    "predictr.score(X,y)"
   ]
  },
  {
   "cell_type": "code",
   "execution_count": 769,
   "id": "ff348484-3008-4cc6-bf84-f588db1228f3",
   "metadata": {
    "tags": []
   },
   "outputs": [
    {
     "data": {
      "text/plain": [
       "0.8587645309114827"
      ]
     },
     "execution_count": 769,
     "metadata": {},
     "output_type": "execute_result"
    }
   ],
   "source": [
    "predictr.score(XX,yy)"
   ]
  },
  {
   "cell_type": "markdown",
   "id": "2515b025",
   "metadata": {},
   "source": [
    "## B. 하다못해 `toeic0`과 `gpa`로 적합했다면? "
   ]
  },
  {
   "cell_type": "code",
   "execution_count": 943,
   "id": "b1185f01",
   "metadata": {
    "tags": []
   },
   "outputs": [],
   "source": [
    "X = df_train[['toeic0','gpa']]\n",
    "y = df_train[['employment_score']]\n",
    "XX = df_test[['toeic0','gpa']]\n",
    "yy = df_test[['employment_score']]"
   ]
  },
  {
   "cell_type": "code",
   "execution_count": 944,
   "id": "4951dc0f",
   "metadata": {
    "tags": []
   },
   "outputs": [],
   "source": [
    "predictr = sklearn.linear_model.LinearRegression()"
   ]
  },
  {
   "cell_type": "code",
   "execution_count": 945,
   "id": "9abef74a",
   "metadata": {
    "tags": []
   },
   "outputs": [
    {
     "data": {
      "text/html": [
       "<style>#sk-container-id-131 {color: black;}#sk-container-id-131 pre{padding: 0;}#sk-container-id-131 div.sk-toggleable {background-color: white;}#sk-container-id-131 label.sk-toggleable__label {cursor: pointer;display: block;width: 100%;margin-bottom: 0;padding: 0.3em;box-sizing: border-box;text-align: center;}#sk-container-id-131 label.sk-toggleable__label-arrow:before {content: \"▸\";float: left;margin-right: 0.25em;color: #696969;}#sk-container-id-131 label.sk-toggleable__label-arrow:hover:before {color: black;}#sk-container-id-131 div.sk-estimator:hover label.sk-toggleable__label-arrow:before {color: black;}#sk-container-id-131 div.sk-toggleable__content {max-height: 0;max-width: 0;overflow: hidden;text-align: left;background-color: #f0f8ff;}#sk-container-id-131 div.sk-toggleable__content pre {margin: 0.2em;color: black;border-radius: 0.25em;background-color: #f0f8ff;}#sk-container-id-131 input.sk-toggleable__control:checked~div.sk-toggleable__content {max-height: 200px;max-width: 100%;overflow: auto;}#sk-container-id-131 input.sk-toggleable__control:checked~label.sk-toggleable__label-arrow:before {content: \"▾\";}#sk-container-id-131 div.sk-estimator input.sk-toggleable__control:checked~label.sk-toggleable__label {background-color: #d4ebff;}#sk-container-id-131 div.sk-label input.sk-toggleable__control:checked~label.sk-toggleable__label {background-color: #d4ebff;}#sk-container-id-131 input.sk-hidden--visually {border: 0;clip: rect(1px 1px 1px 1px);clip: rect(1px, 1px, 1px, 1px);height: 1px;margin: -1px;overflow: hidden;padding: 0;position: absolute;width: 1px;}#sk-container-id-131 div.sk-estimator {font-family: monospace;background-color: #f0f8ff;border: 1px dotted black;border-radius: 0.25em;box-sizing: border-box;margin-bottom: 0.5em;}#sk-container-id-131 div.sk-estimator:hover {background-color: #d4ebff;}#sk-container-id-131 div.sk-parallel-item::after {content: \"\";width: 100%;border-bottom: 1px solid gray;flex-grow: 1;}#sk-container-id-131 div.sk-label:hover label.sk-toggleable__label {background-color: #d4ebff;}#sk-container-id-131 div.sk-serial::before {content: \"\";position: absolute;border-left: 1px solid gray;box-sizing: border-box;top: 0;bottom: 0;left: 50%;z-index: 0;}#sk-container-id-131 div.sk-serial {display: flex;flex-direction: column;align-items: center;background-color: white;padding-right: 0.2em;padding-left: 0.2em;position: relative;}#sk-container-id-131 div.sk-item {position: relative;z-index: 1;}#sk-container-id-131 div.sk-parallel {display: flex;align-items: stretch;justify-content: center;background-color: white;position: relative;}#sk-container-id-131 div.sk-item::before, #sk-container-id-131 div.sk-parallel-item::before {content: \"\";position: absolute;border-left: 1px solid gray;box-sizing: border-box;top: 0;bottom: 0;left: 50%;z-index: -1;}#sk-container-id-131 div.sk-parallel-item {display: flex;flex-direction: column;z-index: 1;position: relative;background-color: white;}#sk-container-id-131 div.sk-parallel-item:first-child::after {align-self: flex-end;width: 50%;}#sk-container-id-131 div.sk-parallel-item:last-child::after {align-self: flex-start;width: 50%;}#sk-container-id-131 div.sk-parallel-item:only-child::after {width: 0;}#sk-container-id-131 div.sk-dashed-wrapped {border: 1px dashed gray;margin: 0 0.4em 0.5em 0.4em;box-sizing: border-box;padding-bottom: 0.4em;background-color: white;}#sk-container-id-131 div.sk-label label {font-family: monospace;font-weight: bold;display: inline-block;line-height: 1.2em;}#sk-container-id-131 div.sk-label-container {text-align: center;}#sk-container-id-131 div.sk-container {/* jupyter's `normalize.less` sets `[hidden] { display: none; }` but bootstrap.min.css set `[hidden] { display: none !important; }` so we also need the `!important` here to be able to override the default hidden behavior on the sphinx rendered scikit-learn.org. See: https://github.com/scikit-learn/scikit-learn/issues/21755 */display: inline-block !important;position: relative;}#sk-container-id-131 div.sk-text-repr-fallback {display: none;}</style><div id=\"sk-container-id-131\" class=\"sk-top-container\"><div class=\"sk-text-repr-fallback\"><pre>LinearRegression()</pre><b>In a Jupyter environment, please rerun this cell to show the HTML representation or trust the notebook. <br />On GitHub, the HTML representation is unable to render, please try loading this page with nbviewer.org.</b></div><div class=\"sk-container\" hidden><div class=\"sk-item\"><div class=\"sk-estimator sk-toggleable\"><input class=\"sk-toggleable__control sk-hidden--visually\" id=\"sk-estimator-id-131\" type=\"checkbox\" checked><label for=\"sk-estimator-id-131\" class=\"sk-toggleable__label sk-toggleable__label-arrow\">LinearRegression</label><div class=\"sk-toggleable__content\"><pre>LinearRegression()</pre></div></div></div></div></div>"
      ],
      "text/plain": [
       "LinearRegression()"
      ]
     },
     "execution_count": 945,
     "metadata": {},
     "output_type": "execute_result"
    }
   ],
   "source": [
    "predictr.fit(X,y)"
   ]
  },
  {
   "cell_type": "code",
   "execution_count": 946,
   "id": "22c7cddd",
   "metadata": {
    "tags": []
   },
   "outputs": [
    {
     "data": {
      "text/plain": [
       "(array([[0.00536664, 1.33515615]]), array([-0.25090603]))"
      ]
     },
     "execution_count": 946,
     "metadata": {},
     "output_type": "execute_result"
    }
   ],
   "source": [
    "predictr.coef_,predictr.intercept_"
   ]
  },
  {
   "cell_type": "code",
   "execution_count": 947,
   "id": "27045386",
   "metadata": {
    "tags": []
   },
   "outputs": [
    {
     "data": {
      "text/plain": [
       "0.8317949508474549"
      ]
     },
     "execution_count": 947,
     "metadata": {},
     "output_type": "execute_result"
    }
   ],
   "source": [
    "predictr.score(X,y)"
   ]
  },
  {
   "cell_type": "code",
   "execution_count": 948,
   "id": "355ff595",
   "metadata": {
    "tags": []
   },
   "outputs": [
    {
     "data": {
      "text/plain": [
       "0.8271424176752014"
      ]
     },
     "execution_count": 948,
     "metadata": {},
     "output_type": "execute_result"
    }
   ],
   "source": [
    "predictr.score(XX,yy)"
   ]
  },
  {
   "cell_type": "markdown",
   "id": "79c71ded-53de-4083-80ad-9114c693cec2",
   "metadata": {},
   "source": [
    "# 6. 왜 이런 일이 생기는가?"
   ]
  },
  {
   "cell_type": "markdown",
   "id": "de9d4eb2-92f4-432b-a002-e5cd8fa42919",
   "metadata": {},
   "source": [
    "`-` 잘못된 분석을 다시 재현해보자. "
   ]
  },
  {
   "cell_type": "code",
   "execution_count": 949,
   "id": "93029ed1-c4b8-4155-9f0c-f47102f20fbb",
   "metadata": {
    "tags": []
   },
   "outputs": [],
   "source": [
    "df_train, df_test = sklearn.model_selection.train_test_split(df,test_size=0.3,random_state=12)"
   ]
  },
  {
   "cell_type": "code",
   "execution_count": 950,
   "id": "98d4102d-b6e7-48fb-91fe-5750d13f629f",
   "metadata": {
    "tags": []
   },
   "outputs": [],
   "source": [
    "X = df_train.drop(['employment_score'],axis=1)\n",
    "y = df_train[['employment_score']]\n",
    "XX = df_test.drop(['employment_score'],axis=1)\n",
    "yy = df_test[['employment_score']]"
   ]
  },
  {
   "cell_type": "code",
   "execution_count": 951,
   "id": "50b419be-9aa8-4ce7-9926-6cf99db0b7f1",
   "metadata": {
    "tags": []
   },
   "outputs": [],
   "source": [
    "predictr = sklearn.linear_model.LinearRegression()"
   ]
  },
  {
   "cell_type": "code",
   "execution_count": 952,
   "id": "044eb154-ad92-4148-8948-f204e09bf05a",
   "metadata": {
    "tags": []
   },
   "outputs": [
    {
     "data": {
      "text/html": [
       "<style>#sk-container-id-132 {color: black;}#sk-container-id-132 pre{padding: 0;}#sk-container-id-132 div.sk-toggleable {background-color: white;}#sk-container-id-132 label.sk-toggleable__label {cursor: pointer;display: block;width: 100%;margin-bottom: 0;padding: 0.3em;box-sizing: border-box;text-align: center;}#sk-container-id-132 label.sk-toggleable__label-arrow:before {content: \"▸\";float: left;margin-right: 0.25em;color: #696969;}#sk-container-id-132 label.sk-toggleable__label-arrow:hover:before {color: black;}#sk-container-id-132 div.sk-estimator:hover label.sk-toggleable__label-arrow:before {color: black;}#sk-container-id-132 div.sk-toggleable__content {max-height: 0;max-width: 0;overflow: hidden;text-align: left;background-color: #f0f8ff;}#sk-container-id-132 div.sk-toggleable__content pre {margin: 0.2em;color: black;border-radius: 0.25em;background-color: #f0f8ff;}#sk-container-id-132 input.sk-toggleable__control:checked~div.sk-toggleable__content {max-height: 200px;max-width: 100%;overflow: auto;}#sk-container-id-132 input.sk-toggleable__control:checked~label.sk-toggleable__label-arrow:before {content: \"▾\";}#sk-container-id-132 div.sk-estimator input.sk-toggleable__control:checked~label.sk-toggleable__label {background-color: #d4ebff;}#sk-container-id-132 div.sk-label input.sk-toggleable__control:checked~label.sk-toggleable__label {background-color: #d4ebff;}#sk-container-id-132 input.sk-hidden--visually {border: 0;clip: rect(1px 1px 1px 1px);clip: rect(1px, 1px, 1px, 1px);height: 1px;margin: -1px;overflow: hidden;padding: 0;position: absolute;width: 1px;}#sk-container-id-132 div.sk-estimator {font-family: monospace;background-color: #f0f8ff;border: 1px dotted black;border-radius: 0.25em;box-sizing: border-box;margin-bottom: 0.5em;}#sk-container-id-132 div.sk-estimator:hover {background-color: #d4ebff;}#sk-container-id-132 div.sk-parallel-item::after {content: \"\";width: 100%;border-bottom: 1px solid gray;flex-grow: 1;}#sk-container-id-132 div.sk-label:hover label.sk-toggleable__label {background-color: #d4ebff;}#sk-container-id-132 div.sk-serial::before {content: \"\";position: absolute;border-left: 1px solid gray;box-sizing: border-box;top: 0;bottom: 0;left: 50%;z-index: 0;}#sk-container-id-132 div.sk-serial {display: flex;flex-direction: column;align-items: center;background-color: white;padding-right: 0.2em;padding-left: 0.2em;position: relative;}#sk-container-id-132 div.sk-item {position: relative;z-index: 1;}#sk-container-id-132 div.sk-parallel {display: flex;align-items: stretch;justify-content: center;background-color: white;position: relative;}#sk-container-id-132 div.sk-item::before, #sk-container-id-132 div.sk-parallel-item::before {content: \"\";position: absolute;border-left: 1px solid gray;box-sizing: border-box;top: 0;bottom: 0;left: 50%;z-index: -1;}#sk-container-id-132 div.sk-parallel-item {display: flex;flex-direction: column;z-index: 1;position: relative;background-color: white;}#sk-container-id-132 div.sk-parallel-item:first-child::after {align-self: flex-end;width: 50%;}#sk-container-id-132 div.sk-parallel-item:last-child::after {align-self: flex-start;width: 50%;}#sk-container-id-132 div.sk-parallel-item:only-child::after {width: 0;}#sk-container-id-132 div.sk-dashed-wrapped {border: 1px dashed gray;margin: 0 0.4em 0.5em 0.4em;box-sizing: border-box;padding-bottom: 0.4em;background-color: white;}#sk-container-id-132 div.sk-label label {font-family: monospace;font-weight: bold;display: inline-block;line-height: 1.2em;}#sk-container-id-132 div.sk-label-container {text-align: center;}#sk-container-id-132 div.sk-container {/* jupyter's `normalize.less` sets `[hidden] { display: none; }` but bootstrap.min.css set `[hidden] { display: none !important; }` so we also need the `!important` here to be able to override the default hidden behavior on the sphinx rendered scikit-learn.org. See: https://github.com/scikit-learn/scikit-learn/issues/21755 */display: inline-block !important;position: relative;}#sk-container-id-132 div.sk-text-repr-fallback {display: none;}</style><div id=\"sk-container-id-132\" class=\"sk-top-container\"><div class=\"sk-text-repr-fallback\"><pre>LinearRegression()</pre><b>In a Jupyter environment, please rerun this cell to show the HTML representation or trust the notebook. <br />On GitHub, the HTML representation is unable to render, please try loading this page with nbviewer.org.</b></div><div class=\"sk-container\" hidden><div class=\"sk-item\"><div class=\"sk-estimator sk-toggleable\"><input class=\"sk-toggleable__control sk-hidden--visually\" id=\"sk-estimator-id-132\" type=\"checkbox\" checked><label for=\"sk-estimator-id-132\" class=\"sk-toggleable__label sk-toggleable__label-arrow\">LinearRegression</label><div class=\"sk-toggleable__content\"><pre>LinearRegression()</pre></div></div></div></div></div>"
      ],
      "text/plain": [
       "LinearRegression()"
      ]
     },
     "execution_count": 952,
     "metadata": {},
     "output_type": "execute_result"
    }
   ],
   "source": [
    "predictr.fit(X,y)"
   ]
  },
  {
   "cell_type": "markdown",
   "id": "091aa15d-270e-4f45-afde-b03dab5a998b",
   "metadata": {},
   "source": [
    "`-` 계수를 해석해보자."
   ]
  },
  {
   "cell_type": "code",
   "execution_count": 953,
   "id": "76cf3876-652b-42e1-a046-14ce73beaa6e",
   "metadata": {
    "tags": []
   },
   "outputs": [
    {
     "data": {
      "text/plain": [
       "gpa       0.002488\n",
       "toeic     0.000577\n",
       "toeic0    0.009181\n",
       "toeic1    0.003893\n",
       "toeic2   -0.003090\n",
       "            ...   \n",
       "gpa495    0.002374\n",
       "gpa496    0.002421\n",
       "gpa497    0.002473\n",
       "gpa498    0.002362\n",
       "gpa499    0.002701\n",
       "Length: 1002, dtype: float64"
      ]
     },
     "execution_count": 953,
     "metadata": {},
     "output_type": "execute_result"
    }
   ],
   "source": [
    "s = pd.Series(predictr.coef_.reshape(-1))\n",
    "s.index = X.columns\n",
    "s"
   ]
  },
  {
   "cell_type": "code",
   "execution_count": 954,
   "id": "b98bf4c4-d676-4d04-a8a0-0fe42c5de1cf",
   "metadata": {
    "tags": []
   },
   "outputs": [
    {
     "data": {
      "text/plain": [
       "0.005748850935728758"
      ]
     },
     "execution_count": 954,
     "metadata": {},
     "output_type": "execute_result"
    }
   ],
   "source": [
    "s['toeic0':'toeic499'].sum() + s['toeic']"
   ]
  },
  {
   "cell_type": "code",
   "execution_count": 955,
   "id": "cf034a3b-dd96-4512-af72-d1ae190795b5",
   "metadata": {
    "tags": []
   },
   "outputs": [
    {
     "data": {
      "text/plain": [
       "1.2443534513189458"
      ]
     },
     "execution_count": 955,
     "metadata": {},
     "output_type": "execute_result"
    }
   ],
   "source": [
    "s['gpa0':'gpa499'].sum() + s['gpa']"
   ]
  },
  {
   "cell_type": "markdown",
   "id": "8b5a6cda-3cdb-4b0d-aab8-474c7ff88339",
   "metadata": {},
   "source": [
    "`-` 반복해보자. "
   ]
  },
  {
   "cell_type": "code",
   "execution_count": 956,
   "id": "cfe02a51-90f2-4079-ba54-995fbd807695",
   "metadata": {
    "tags": []
   },
   "outputs": [],
   "source": [
    "import matplotlib.pyplot as plt"
   ]
  },
  {
   "cell_type": "code",
   "execution_count": 983,
   "id": "f275ae70-b109-4307-8a22-bdec85c7c02d",
   "metadata": {
    "tags": []
   },
   "outputs": [
    {
     "data": {
      "image/png": "[encoded data removed]",
      "text/plain": [
       "<Figure size 640x480 with 6 Axes>"
      ]
     },
     "metadata": {},
     "output_type": "display_data"
    }
   ],
   "source": [
    "fig, ax = plt.subplots(3,2)\n",
    "for i in range(3):\n",
    "    df_train, df_test = sklearn.model_selection.train_test_split(df,test_size=0.3,random_state=i)\n",
    "    X = df_train.drop(['employment_score'],axis=1)\n",
    "    y = df_train[['employment_score']]\n",
    "    XX = df_test.drop(['employment_score'],axis=1)\n",
    "    yy = df_test[['employment_score']]\n",
    "    predictr = sklearn.linear_model.LinearRegression()\n",
    "    predictr.fit(X,y)\n",
    "    s = pd.Series(predictr.coef_.reshape(-1))\n",
    "    s.index = X.columns\n",
    "    ax[i,0].plot(s['toeic0':'toeic499'].tolist() + s[['toeic']].tolist(),color='C0')\n",
    "    ax[i,0].set_title('coef of toeic, seed={}'.format(i))\n",
    "    ax[i,1].plot(s['gpa0':'gpa499'].tolist() + s[['gpa']].tolist(),color='C1') \n",
    "    ax[i,1].set_title('coef of gpa, seed={}'.format(i))    \n",
    "fig.tight_layout()"
   ]
  },
  {
   "cell_type": "markdown",
   "id": "139cd41e",
   "metadata": {},
   "source": [
    "# 7. Discussions"
   ]
  },
  {
   "cell_type": "markdown",
   "id": "209c1900",
   "metadata": {},
   "source": [
    "`-` 어렴풋한 감각: 쓸모없는 변수가 많이 있으면 오히려 모형의 적합도가 떨어진다. (규칙을 찾으면 안될것에서 규칙을 찾고있으니까 잘 될리가 없지)"
   ]
  },
  {
   "cell_type": "markdown",
   "id": "c2f03437",
   "metadata": {},
   "source": [
    "`-` 쓸모없는 변수란 느낌이 드는 경우?\n",
    "\n",
    "- 경우1: 진짜 쓸모 없는거.. (X1= 부먹/찍먹, X2= 민초/민초X) $\\to$ 애초에 `X1`,`X2`을 보고 `y`를 맞출 생각이 들지 않어.. \n",
    "- 경우2: 실제론 쓸모 있는데, 대체자가 있는 경우. (X1= toeic, X2= 유사toeic) $\\to$ `X1` 을 보고 `y`를 맞출 것 같은 생각이 들어, 그리고 `X2`를 보고 `y`를 맞출 것 같은 생각도 들어. 그런데 `X1`이랑 `X2`는 너무 비슷해"
   ]
  },
  {
   "cell_type": "markdown",
   "id": "f61a3a01",
   "metadata": {},
   "source": [
    "`-` 경우1, 경우2 모두 과대적합(overfitting)을 야기한다. 그리고 경우2와 같은 상황에서 발생하는 문제를 특별히 다중공선성이라고 칭한다. "
   ]
  },
  {
   "cell_type": "markdown",
   "id": "71dd805c",
   "metadata": {},
   "source": [
    "\n",
    "`-` 다중공선성이 발생했을 경우 나타나는 특징\n",
    "\n",
    "1. 계수들의 추정값이 불안정하다^[사실 `toeic의 계수 + toeic0의 계수 + ... + toeic499의 계수` $\\approx$ `0.05` 이거나 `gpa의 계수 + gpa0의 계수 + ... + gpa499의 계수` $\\approx$ `1.3` 이면 거진 올바른 추정이라 볼 수 있음. 즉 애초에 답이 여러개라서 계수값의 추정이 불안정한 것]\n",
    "2. 과대적합 문제를 불러올 수 있음 \n",
    "3. 계수의 해석이 어려움"
   ]
  },
  {
   "cell_type": "markdown",
   "id": "a49af2ca",
   "metadata": {},
   "source": [
    "`-` 의문: 그래서 해결방법은? 변수를 잘 보고 제거하라고??"
   ]
  },
  {
   "cell_type": "markdown",
   "id": "470fa1ab-8a41-47d1-9317-0d6f857e0045",
   "metadata": {},
   "source": [
    "# 첫번째 해법 Ridge"
   ]
  },
  {
   "cell_type": "code",
   "execution_count": 776,
   "id": "5dd3132c-8de3-433e-876b-5c130dd7d404",
   "metadata": {
    "tags": []
   },
   "outputs": [],
   "source": [
    "from sklearn.model_selection import KFold, cross_val_score\n",
    "from sklearn.ensemble import RandomForestClassifier\n",
    "\n",
    "# 데이터와 모델 준비\n",
    "# X, y = your_data, your_target\n",
    "# model = RandomForestClassifier()\n",
    "\n",
    "# KFold 객체 생성 (K=5인 경우)\n",
    "kfold = KFold(n_splits=2)\n",
    "\n",
    "# # 교차 검증 수행 및 평가\n",
    "# results = cross_val_score(model, X, y, cv=kfold)\n",
    "# print(\"교차 검증 결과: \", results)\n",
    "# print(\"평균 정확도: \", results.mean())\n"
   ]
  },
  {
   "cell_type": "code",
   "execution_count": 830,
   "id": "7fbad324-fec2-40b4-83ef-409d99cc8734",
   "metadata": {
    "tags": []
   },
   "outputs": [],
   "source": [
    "X = df_train.drop(['employment_score'],axis=1)\n",
    "y = df_train[['employment_score']]\n",
    "XX = df_test.drop(['employment_score'],axis=1)\n",
    "yy = df_test[['employment_score']]"
   ]
  },
  {
   "cell_type": "code",
   "execution_count": 852,
   "id": "b51706f9-a0be-4228-b87c-b6fd16adc591",
   "metadata": {
    "tags": []
   },
   "outputs": [],
   "source": [
    "model = sklearn.linear_model.Lasso(alpha=1)"
   ]
  },
  {
   "cell_type": "code",
   "execution_count": 853,
   "id": "81d9020e-25c1-4315-99be-cdb7d77800e2",
   "metadata": {
    "tags": []
   },
   "outputs": [
    {
     "name": "stderr",
     "output_type": "stream",
     "text": [
      "/home/cgb2/anaconda3/envs/torch/lib/python3.10/site-packages/sklearn/linear_model/_coordinate_descent.py:628: ConvergenceWarning: Objective did not converge. You might want to increase the number of iterations, check the scale of the features or consider increasing regularisation. Duality gap: 1.488e+02, tolerance: 1.988e-01\n",
      "  model = cd_fast.enet_coordinate_descent(\n"
     ]
    },
    {
     "data": {
      "text/html": [
       "<style>#sk-container-id-123 {color: black;}#sk-container-id-123 pre{padding: 0;}#sk-container-id-123 div.sk-toggleable {background-color: white;}#sk-container-id-123 label.sk-toggleable__label {cursor: pointer;display: block;width: 100%;margin-bottom: 0;padding: 0.3em;box-sizing: border-box;text-align: center;}#sk-container-id-123 label.sk-toggleable__label-arrow:before {content: \"▸\";float: left;margin-right: 0.25em;color: #696969;}#sk-container-id-123 label.sk-toggleable__label-arrow:hover:before {color: black;}#sk-container-id-123 div.sk-estimator:hover label.sk-toggleable__label-arrow:before {color: black;}#sk-container-id-123 div.sk-toggleable__content {max-height: 0;max-width: 0;overflow: hidden;text-align: left;background-color: #f0f8ff;}#sk-container-id-123 div.sk-toggleable__content pre {margin: 0.2em;color: black;border-radius: 0.25em;background-color: #f0f8ff;}#sk-container-id-123 input.sk-toggleable__control:checked~div.sk-toggleable__content {max-height: 200px;max-width: 100%;overflow: auto;}#sk-container-id-123 input.sk-toggleable__control:checked~label.sk-toggleable__label-arrow:before {content: \"▾\";}#sk-container-id-123 div.sk-estimator input.sk-toggleable__control:checked~label.sk-toggleable__label {background-color: #d4ebff;}#sk-container-id-123 div.sk-label input.sk-toggleable__control:checked~label.sk-toggleable__label {background-color: #d4ebff;}#sk-container-id-123 input.sk-hidden--visually {border: 0;clip: rect(1px 1px 1px 1px);clip: rect(1px, 1px, 1px, 1px);height: 1px;margin: -1px;overflow: hidden;padding: 0;position: absolute;width: 1px;}#sk-container-id-123 div.sk-estimator {font-family: monospace;background-color: #f0f8ff;border: 1px dotted black;border-radius: 0.25em;box-sizing: border-box;margin-bottom: 0.5em;}#sk-container-id-123 div.sk-estimator:hover {background-color: #d4ebff;}#sk-container-id-123 div.sk-parallel-item::after {content: \"\";width: 100%;border-bottom: 1px solid gray;flex-grow: 1;}#sk-container-id-123 div.sk-label:hover label.sk-toggleable__label {background-color: #d4ebff;}#sk-container-id-123 div.sk-serial::before {content: \"\";position: absolute;border-left: 1px solid gray;box-sizing: border-box;top: 0;bottom: 0;left: 50%;z-index: 0;}#sk-container-id-123 div.sk-serial {display: flex;flex-direction: column;align-items: center;background-color: white;padding-right: 0.2em;padding-left: 0.2em;position: relative;}#sk-container-id-123 div.sk-item {position: relative;z-index: 1;}#sk-container-id-123 div.sk-parallel {display: flex;align-items: stretch;justify-content: center;background-color: white;position: relative;}#sk-container-id-123 div.sk-item::before, #sk-container-id-123 div.sk-parallel-item::before {content: \"\";position: absolute;border-left: 1px solid gray;box-sizing: border-box;top: 0;bottom: 0;left: 50%;z-index: -1;}#sk-container-id-123 div.sk-parallel-item {display: flex;flex-direction: column;z-index: 1;position: relative;background-color: white;}#sk-container-id-123 div.sk-parallel-item:first-child::after {align-self: flex-end;width: 50%;}#sk-container-id-123 div.sk-parallel-item:last-child::after {align-self: flex-start;width: 50%;}#sk-container-id-123 div.sk-parallel-item:only-child::after {width: 0;}#sk-container-id-123 div.sk-dashed-wrapped {border: 1px dashed gray;margin: 0 0.4em 0.5em 0.4em;box-sizing: border-box;padding-bottom: 0.4em;background-color: white;}#sk-container-id-123 div.sk-label label {font-family: monospace;font-weight: bold;display: inline-block;line-height: 1.2em;}#sk-container-id-123 div.sk-label-container {text-align: center;}#sk-container-id-123 div.sk-container {/* jupyter's `normalize.less` sets `[hidden] { display: none; }` but bootstrap.min.css set `[hidden] { display: none !important; }` so we also need the `!important` here to be able to override the default hidden behavior on the sphinx rendered scikit-learn.org. See: https://github.com/scikit-learn/scikit-learn/issues/21755 */display: inline-block !important;position: relative;}#sk-container-id-123 div.sk-text-repr-fallback {display: none;}</style><div id=\"sk-container-id-123\" class=\"sk-top-container\"><div class=\"sk-text-repr-fallback\"><pre>Lasso(alpha=1)</pre><b>In a Jupyter environment, please rerun this cell to show the HTML representation or trust the notebook. <br />On GitHub, the HTML representation is unable to render, please try loading this page with nbviewer.org.</b></div><div class=\"sk-container\" hidden><div class=\"sk-item\"><div class=\"sk-estimator sk-toggleable\"><input class=\"sk-toggleable__control sk-hidden--visually\" id=\"sk-estimator-id-123\" type=\"checkbox\" checked><label for=\"sk-estimator-id-123\" class=\"sk-toggleable__label sk-toggleable__label-arrow\">Lasso</label><div class=\"sk-toggleable__content\"><pre>Lasso(alpha=1)</pre></div></div></div></div></div>"
      ],
      "text/plain": [
       "Lasso(alpha=1)"
      ]
     },
     "execution_count": 853,
     "metadata": {},
     "output_type": "execute_result"
    }
   ],
   "source": [
    "model.fit(X,y)"
   ]
  },
  {
   "cell_type": "code",
   "execution_count": 854,
   "id": "0347e593-1fbe-4854-8318-2e711e1f27d0",
   "metadata": {
    "tags": []
   },
   "outputs": [
    {
     "data": {
      "text/plain": [
       "0.747471111027534"
      ]
     },
     "execution_count": 854,
     "metadata": {},
     "output_type": "execute_result"
    }
   ],
   "source": [
    "model.score(X,y)"
   ]
  },
  {
   "cell_type": "code",
   "execution_count": 855,
   "id": "aee8dcbf-8c5f-4302-b70e-cdb6af266aab",
   "metadata": {
    "tags": []
   },
   "outputs": [
    {
     "data": {
      "text/plain": [
       "0.672263964235474"
      ]
     },
     "execution_count": 855,
     "metadata": {},
     "output_type": "execute_result"
    }
   ],
   "source": [
    "model.score(XX,yy)"
   ]
  },
  {
   "cell_type": "code",
   "execution_count": 748,
   "id": "50f039d1-2c4b-4519-8cc3-cae122b1b6ad",
   "metadata": {
    "tags": []
   },
   "outputs": [],
   "source": [
    "df_train, df_test = sklearn.model_selection.train_test_split(df,test_size=0.3,random_state=2)"
   ]
  },
  {
   "cell_type": "code",
   "execution_count": 749,
   "id": "6bc77e99-fd70-4cf1-8fba-e199a5bc3a85",
   "metadata": {
    "tags": []
   },
   "outputs": [],
   "source": [
    "X = df_train.drop(['employment_score'],axis=1)\n",
    "y = df_train[['employment_score']]\n",
    "XX = df_test.drop(['employment_score'],axis=1)\n",
    "yy = df_test[['employment_score']]"
   ]
  },
  {
   "cell_type": "code",
   "execution_count": 750,
   "id": "96e7760e-3283-4468-bb8f-5e0a2f70fea8",
   "metadata": {
    "tags": []
   },
   "outputs": [
    {
     "name": "stderr",
     "output_type": "stream",
     "text": [
      "/home/cgb2/anaconda3/envs/torch/lib/python3.10/site-packages/sklearn/linear_model/_coordinate_descent.py:628: ConvergenceWarning: Objective did not converge. You might want to increase the number of iterations, check the scale of the features or consider increasing regularisation. Duality gap: 4.596e+01, tolerance: 2.001e-01\n",
      "  model = cd_fast.enet_coordinate_descent(\n"
     ]
    },
    {
     "data": {
      "text/plain": [
       "0.829774840307156"
      ]
     },
     "execution_count": 750,
     "metadata": {},
     "output_type": "execute_result"
    }
   ],
   "source": [
    "model.fit(X,y)\n",
    "model.score(X,y)"
   ]
  },
  {
   "cell_type": "code",
   "execution_count": 751,
   "id": "50dfad7b-852b-4b1d-b61d-45305bf8e445",
   "metadata": {
    "tags": []
   },
   "outputs": [
    {
     "data": {
      "text/plain": [
       "0.8247680830688733"
      ]
     },
     "execution_count": 751,
     "metadata": {},
     "output_type": "execute_result"
    }
   ],
   "source": [
    "model.score(XX,yy)"
   ]
  },
  {
   "cell_type": "code",
   "execution_count": 575,
   "id": "e9b52751-45f8-461c-873a-a1164885863b",
   "metadata": {
    "tags": []
   },
   "outputs": [
    {
     "data": {
      "text/plain": [
       "array([0.71611975, 0.72320271])"
      ]
     },
     "execution_count": 575,
     "metadata": {},
     "output_type": "execute_result"
    }
   ],
   "source": [
    "cross_val_score(predictr,X,y,cv=kfold)"
   ]
  },
  {
   "cell_type": "code",
   "execution_count": 581,
   "id": "b4a73c20-cbf8-427f-8377-276ad9a8e468",
   "metadata": {
    "tags": []
   },
   "outputs": [
    {
     "data": {
      "text/plain": [
       "0.7161197516929763"
      ]
     },
     "execution_count": 581,
     "metadata": {},
     "output_type": "execute_result"
    }
   ],
   "source": [
    "predictr.fit(X[175:],y[175:])\n",
    "predictr.score(X[:175],y[:175])"
   ]
  },
  {
   "cell_type": "code",
   "execution_count": 582,
   "id": "5a077a7f-fcb7-482f-8bf9-7a95cfebddcf",
   "metadata": {
    "tags": []
   },
   "outputs": [
    {
     "data": {
      "text/plain": [
       "0.7232027103938079"
      ]
     },
     "execution_count": 582,
     "metadata": {},
     "output_type": "execute_result"
    }
   ],
   "source": [
    "predictr.fit(X[:175],y[:175])\n",
    "predictr.score(X[175:],y[175:])"
   ]
  },
  {
   "cell_type": "markdown",
   "id": "07719ada-dab7-450b-babe-7e29f35d6380",
   "metadata": {},
   "source": [
    "# 7. Ridge, RidgeCV"
   ]
  },
  {
   "cell_type": "markdown",
   "id": "056a3a0b-2517-4e52-a12e-81d03f072da7",
   "metadata": {},
   "source": [
    "# 8. Lasso, LassoCV"
   ]
  },
  {
   "cell_type": "code",
   "execution_count": 583,
   "id": "cac7cf47-2502-4c82-b53f-613a7a32f9b3",
   "metadata": {
    "tags": []
   },
   "outputs": [
    {
     "data": {
      "text/plain": [
       "\u001b[0;31mInit signature:\u001b[0m\n",
       "\u001b[0msklearn\u001b[0m\u001b[0;34m.\u001b[0m\u001b[0mlinear_model\u001b[0m\u001b[0;34m.\u001b[0m\u001b[0mLassoCV\u001b[0m\u001b[0;34m(\u001b[0m\u001b[0;34m\u001b[0m\n",
       "\u001b[0;34m\u001b[0m    \u001b[0;34m*\u001b[0m\u001b[0;34m,\u001b[0m\u001b[0;34m\u001b[0m\n",
       "\u001b[0;34m\u001b[0m    \u001b[0meps\u001b[0m\u001b[0;34m=\u001b[0m\u001b[0;36m0.001\u001b[0m\u001b[0;34m,\u001b[0m\u001b[0;34m\u001b[0m\n",
       "\u001b[0;34m\u001b[0m    \u001b[0mn_alphas\u001b[0m\u001b[0;34m=\u001b[0m\u001b[0;36m100\u001b[0m\u001b[0;34m,\u001b[0m\u001b[0;34m\u001b[0m\n",
       "\u001b[0;34m\u001b[0m    \u001b[0malphas\u001b[0m\u001b[0;34m=\u001b[0m\u001b[0;32mNone\u001b[0m\u001b[0;34m,\u001b[0m\u001b[0;34m\u001b[0m\n",
       "\u001b[0;34m\u001b[0m    \u001b[0mfit_intercept\u001b[0m\u001b[0;34m=\u001b[0m\u001b[0;32mTrue\u001b[0m\u001b[0;34m,\u001b[0m\u001b[0;34m\u001b[0m\n",
       "\u001b[0;34m\u001b[0m    \u001b[0mprecompute\u001b[0m\u001b[0;34m=\u001b[0m\u001b[0;34m'auto'\u001b[0m\u001b[0;34m,\u001b[0m\u001b[0;34m\u001b[0m\n",
       "\u001b[0;34m\u001b[0m    \u001b[0mmax_iter\u001b[0m\u001b[0;34m=\u001b[0m\u001b[0;36m1000\u001b[0m\u001b[0;34m,\u001b[0m\u001b[0;34m\u001b[0m\n",
       "\u001b[0;34m\u001b[0m    \u001b[0mtol\u001b[0m\u001b[0;34m=\u001b[0m\u001b[0;36m0.0001\u001b[0m\u001b[0;34m,\u001b[0m\u001b[0;34m\u001b[0m\n",
       "\u001b[0;34m\u001b[0m    \u001b[0mcopy_X\u001b[0m\u001b[0;34m=\u001b[0m\u001b[0;32mTrue\u001b[0m\u001b[0;34m,\u001b[0m\u001b[0;34m\u001b[0m\n",
       "\u001b[0;34m\u001b[0m    \u001b[0mcv\u001b[0m\u001b[0;34m=\u001b[0m\u001b[0;32mNone\u001b[0m\u001b[0;34m,\u001b[0m\u001b[0;34m\u001b[0m\n",
       "\u001b[0;34m\u001b[0m    \u001b[0mverbose\u001b[0m\u001b[0;34m=\u001b[0m\u001b[0;32mFalse\u001b[0m\u001b[0;34m,\u001b[0m\u001b[0;34m\u001b[0m\n",
       "\u001b[0;34m\u001b[0m    \u001b[0mn_jobs\u001b[0m\u001b[0;34m=\u001b[0m\u001b[0;32mNone\u001b[0m\u001b[0;34m,\u001b[0m\u001b[0;34m\u001b[0m\n",
       "\u001b[0;34m\u001b[0m    \u001b[0mpositive\u001b[0m\u001b[0;34m=\u001b[0m\u001b[0;32mFalse\u001b[0m\u001b[0;34m,\u001b[0m\u001b[0;34m\u001b[0m\n",
       "\u001b[0;34m\u001b[0m    \u001b[0mrandom_state\u001b[0m\u001b[0;34m=\u001b[0m\u001b[0;32mNone\u001b[0m\u001b[0;34m,\u001b[0m\u001b[0;34m\u001b[0m\n",
       "\u001b[0;34m\u001b[0m    \u001b[0mselection\u001b[0m\u001b[0;34m=\u001b[0m\u001b[0;34m'cyclic'\u001b[0m\u001b[0;34m,\u001b[0m\u001b[0;34m\u001b[0m\n",
       "\u001b[0;34m\u001b[0m\u001b[0;34m)\u001b[0m\u001b[0;34m\u001b[0m\u001b[0;34m\u001b[0m\u001b[0m\n",
       "\u001b[0;31mSource:\u001b[0m        \n",
       "\u001b[0;32mclass\u001b[0m \u001b[0mLassoCV\u001b[0m\u001b[0;34m(\u001b[0m\u001b[0mRegressorMixin\u001b[0m\u001b[0;34m,\u001b[0m \u001b[0mLinearModelCV\u001b[0m\u001b[0;34m)\u001b[0m\u001b[0;34m:\u001b[0m\u001b[0;34m\u001b[0m\n",
       "\u001b[0;34m\u001b[0m    \u001b[0;34m\"\"\"Lasso linear model with iterative fitting along a regularization path.\u001b[0m\n",
       "\u001b[0;34m\u001b[0m\n",
       "\u001b[0;34m    See glossary entry for :term:`cross-validation estimator`.\u001b[0m\n",
       "\u001b[0;34m\u001b[0m\n",
       "\u001b[0;34m    The best model is selected by cross-validation.\u001b[0m\n",
       "\u001b[0;34m\u001b[0m\n",
       "\u001b[0;34m    The optimization objective for Lasso is::\u001b[0m\n",
       "\u001b[0;34m\u001b[0m\n",
       "\u001b[0;34m        (1 / (2 * n_samples)) * ||y - Xw||^2_2 + alpha * ||w||_1\u001b[0m\n",
       "\u001b[0;34m\u001b[0m\n",
       "\u001b[0;34m    Read more in the :ref:`User Guide <lasso>`.\u001b[0m\n",
       "\u001b[0;34m\u001b[0m\n",
       "\u001b[0;34m    Parameters\u001b[0m\n",
       "\u001b[0;34m    ----------\u001b[0m\n",
       "\u001b[0;34m    eps : float, default=1e-3\u001b[0m\n",
       "\u001b[0;34m        Length of the path. ``eps=1e-3`` means that\u001b[0m\n",
       "\u001b[0;34m        ``alpha_min / alpha_max = 1e-3``.\u001b[0m\n",
       "\u001b[0;34m\u001b[0m\n",
       "\u001b[0;34m    n_alphas : int, default=100\u001b[0m\n",
       "\u001b[0;34m        Number of alphas along the regularization path.\u001b[0m\n",
       "\u001b[0;34m\u001b[0m\n",
       "\u001b[0;34m    alphas : array-like, default=None\u001b[0m\n",
       "\u001b[0;34m        List of alphas where to compute the models.\u001b[0m\n",
       "\u001b[0;34m        If ``None`` alphas are set automatically.\u001b[0m\n",
       "\u001b[0;34m\u001b[0m\n",
       "\u001b[0;34m    fit_intercept : bool, default=True\u001b[0m\n",
       "\u001b[0;34m        Whether to calculate the intercept for this model. If set\u001b[0m\n",
       "\u001b[0;34m        to false, no intercept will be used in calculations\u001b[0m\n",
       "\u001b[0;34m        (i.e. data is expected to be centered).\u001b[0m\n",
       "\u001b[0;34m\u001b[0m\n",
       "\u001b[0;34m    precompute : 'auto', bool or array-like of shape \\\u001b[0m\n",
       "\u001b[0;34m            (n_features, n_features), default='auto'\u001b[0m\n",
       "\u001b[0;34m        Whether to use a precomputed Gram matrix to speed up\u001b[0m\n",
       "\u001b[0;34m        calculations. If set to ``'auto'`` let us decide. The Gram\u001b[0m\n",
       "\u001b[0;34m        matrix can also be passed as argument.\u001b[0m\n",
       "\u001b[0;34m\u001b[0m\n",
       "\u001b[0;34m    max_iter : int, default=1000\u001b[0m\n",
       "\u001b[0;34m        The maximum number of iterations.\u001b[0m\n",
       "\u001b[0;34m\u001b[0m\n",
       "\u001b[0;34m    tol : float, default=1e-4\u001b[0m\n",
       "\u001b[0;34m        The tolerance for the optimization: if the updates are\u001b[0m\n",
       "\u001b[0;34m        smaller than ``tol``, the optimization code checks the\u001b[0m\n",
       "\u001b[0;34m        dual gap for optimality and continues until it is smaller\u001b[0m\n",
       "\u001b[0;34m        than ``tol``.\u001b[0m\n",
       "\u001b[0;34m\u001b[0m\n",
       "\u001b[0;34m    copy_X : bool, default=True\u001b[0m\n",
       "\u001b[0;34m        If ``True``, X will be copied; else, it may be overwritten.\u001b[0m\n",
       "\u001b[0;34m\u001b[0m\n",
       "\u001b[0;34m    cv : int, cross-validation generator or iterable, default=None\u001b[0m\n",
       "\u001b[0;34m        Determines the cross-validation splitting strategy.\u001b[0m\n",
       "\u001b[0;34m        Possible inputs for cv are:\u001b[0m\n",
       "\u001b[0;34m\u001b[0m\n",
       "\u001b[0;34m        - None, to use the default 5-fold cross-validation,\u001b[0m\n",
       "\u001b[0;34m        - int, to specify the number of folds.\u001b[0m\n",
       "\u001b[0;34m        - :term:`CV splitter`,\u001b[0m\n",
       "\u001b[0;34m        - An iterable yielding (train, test) splits as arrays of indices.\u001b[0m\n",
       "\u001b[0;34m\u001b[0m\n",
       "\u001b[0;34m        For int/None inputs, :class:`KFold` is used.\u001b[0m\n",
       "\u001b[0;34m\u001b[0m\n",
       "\u001b[0;34m        Refer :ref:`User Guide <cross_validation>` for the various\u001b[0m\n",
       "\u001b[0;34m        cross-validation strategies that can be used here.\u001b[0m\n",
       "\u001b[0;34m\u001b[0m\n",
       "\u001b[0;34m        .. versionchanged:: 0.22\u001b[0m\n",
       "\u001b[0;34m            ``cv`` default value if None changed from 3-fold to 5-fold.\u001b[0m\n",
       "\u001b[0;34m\u001b[0m\n",
       "\u001b[0;34m    verbose : bool or int, default=False\u001b[0m\n",
       "\u001b[0;34m        Amount of verbosity.\u001b[0m\n",
       "\u001b[0;34m\u001b[0m\n",
       "\u001b[0;34m    n_jobs : int, default=None\u001b[0m\n",
       "\u001b[0;34m        Number of CPUs to use during the cross validation.\u001b[0m\n",
       "\u001b[0;34m        ``None`` means 1 unless in a :obj:`joblib.parallel_backend` context.\u001b[0m\n",
       "\u001b[0;34m        ``-1`` means using all processors. See :term:`Glossary <n_jobs>`\u001b[0m\n",
       "\u001b[0;34m        for more details.\u001b[0m\n",
       "\u001b[0;34m\u001b[0m\n",
       "\u001b[0;34m    positive : bool, default=False\u001b[0m\n",
       "\u001b[0;34m        If positive, restrict regression coefficients to be positive.\u001b[0m\n",
       "\u001b[0;34m\u001b[0m\n",
       "\u001b[0;34m    random_state : int, RandomState instance, default=None\u001b[0m\n",
       "\u001b[0;34m        The seed of the pseudo random number generator that selects a random\u001b[0m\n",
       "\u001b[0;34m        feature to update. Used when ``selection`` == 'random'.\u001b[0m\n",
       "\u001b[0;34m        Pass an int for reproducible output across multiple function calls.\u001b[0m\n",
       "\u001b[0;34m        See :term:`Glossary <random_state>`.\u001b[0m\n",
       "\u001b[0;34m\u001b[0m\n",
       "\u001b[0;34m    selection : {'cyclic', 'random'}, default='cyclic'\u001b[0m\n",
       "\u001b[0;34m        If set to 'random', a random coefficient is updated every iteration\u001b[0m\n",
       "\u001b[0;34m        rather than looping over features sequentially by default. This\u001b[0m\n",
       "\u001b[0;34m        (setting to 'random') often leads to significantly faster convergence\u001b[0m\n",
       "\u001b[0;34m        especially when tol is higher than 1e-4.\u001b[0m\n",
       "\u001b[0;34m\u001b[0m\n",
       "\u001b[0;34m    Attributes\u001b[0m\n",
       "\u001b[0;34m    ----------\u001b[0m\n",
       "\u001b[0;34m    alpha_ : float\u001b[0m\n",
       "\u001b[0;34m        The amount of penalization chosen by cross validation.\u001b[0m\n",
       "\u001b[0;34m\u001b[0m\n",
       "\u001b[0;34m    coef_ : ndarray of shape (n_features,) or (n_targets, n_features)\u001b[0m\n",
       "\u001b[0;34m        Parameter vector (w in the cost function formula).\u001b[0m\n",
       "\u001b[0;34m\u001b[0m\n",
       "\u001b[0;34m    intercept_ : float or ndarray of shape (n_targets,)\u001b[0m\n",
       "\u001b[0;34m        Independent term in decision function.\u001b[0m\n",
       "\u001b[0;34m\u001b[0m\n",
       "\u001b[0;34m    mse_path_ : ndarray of shape (n_alphas, n_folds)\u001b[0m\n",
       "\u001b[0;34m        Mean square error for the test set on each fold, varying alpha.\u001b[0m\n",
       "\u001b[0;34m\u001b[0m\n",
       "\u001b[0;34m    alphas_ : ndarray of shape (n_alphas,)\u001b[0m\n",
       "\u001b[0;34m        The grid of alphas used for fitting.\u001b[0m\n",
       "\u001b[0;34m\u001b[0m\n",
       "\u001b[0;34m    dual_gap_ : float or ndarray of shape (n_targets,)\u001b[0m\n",
       "\u001b[0;34m        The dual gap at the end of the optimization for the optimal alpha\u001b[0m\n",
       "\u001b[0;34m        (``alpha_``).\u001b[0m\n",
       "\u001b[0;34m\u001b[0m\n",
       "\u001b[0;34m    n_iter_ : int\u001b[0m\n",
       "\u001b[0;34m        Number of iterations run by the coordinate descent solver to reach\u001b[0m\n",
       "\u001b[0;34m        the specified tolerance for the optimal alpha.\u001b[0m\n",
       "\u001b[0;34m\u001b[0m\n",
       "\u001b[0;34m    n_features_in_ : int\u001b[0m\n",
       "\u001b[0;34m        Number of features seen during :term:`fit`.\u001b[0m\n",
       "\u001b[0;34m\u001b[0m\n",
       "\u001b[0;34m        .. versionadded:: 0.24\u001b[0m\n",
       "\u001b[0;34m\u001b[0m\n",
       "\u001b[0;34m    feature_names_in_ : ndarray of shape (`n_features_in_`,)\u001b[0m\n",
       "\u001b[0;34m        Names of features seen during :term:`fit`. Defined only when `X`\u001b[0m\n",
       "\u001b[0;34m        has feature names that are all strings.\u001b[0m\n",
       "\u001b[0;34m\u001b[0m\n",
       "\u001b[0;34m        .. versionadded:: 1.0\u001b[0m\n",
       "\u001b[0;34m\u001b[0m\n",
       "\u001b[0;34m    See Also\u001b[0m\n",
       "\u001b[0;34m    --------\u001b[0m\n",
       "\u001b[0;34m    lars_path : Compute Least Angle Regression or Lasso path using LARS\u001b[0m\n",
       "\u001b[0;34m        algorithm.\u001b[0m\n",
       "\u001b[0;34m    lasso_path : Compute Lasso path with coordinate descent.\u001b[0m\n",
       "\u001b[0;34m    Lasso : The Lasso is a linear model that estimates sparse coefficients.\u001b[0m\n",
       "\u001b[0;34m    LassoLars : Lasso model fit with Least Angle Regression a.k.a. Lars.\u001b[0m\n",
       "\u001b[0;34m    LassoCV : Lasso linear model with iterative fitting along a regularization\u001b[0m\n",
       "\u001b[0;34m        path.\u001b[0m\n",
       "\u001b[0;34m    LassoLarsCV : Cross-validated Lasso using the LARS algorithm.\u001b[0m\n",
       "\u001b[0;34m\u001b[0m\n",
       "\u001b[0;34m    Notes\u001b[0m\n",
       "\u001b[0;34m    -----\u001b[0m\n",
       "\u001b[0;34m    In `fit`, once the best parameter `alpha` is found through\u001b[0m\n",
       "\u001b[0;34m    cross-validation, the model is fit again using the entire training set.\u001b[0m\n",
       "\u001b[0;34m\u001b[0m\n",
       "\u001b[0;34m    To avoid unnecessary memory duplication the `X` argument of the `fit`\u001b[0m\n",
       "\u001b[0;34m    method should be directly passed as a Fortran-contiguous numpy array.\u001b[0m\n",
       "\u001b[0;34m\u001b[0m\n",
       "\u001b[0;34m     For an example, see\u001b[0m\n",
       "\u001b[0;34m     :ref:`examples/linear_model/plot_lasso_model_selection.py\u001b[0m\n",
       "\u001b[0;34m     <sphx_glr_auto_examples_linear_model_plot_lasso_model_selection.py>`.\u001b[0m\n",
       "\u001b[0;34m\u001b[0m\n",
       "\u001b[0;34m    :class:`LassoCV` leads to different results than a hyperparameter\u001b[0m\n",
       "\u001b[0;34m    search using :class:`~sklearn.model_selection.GridSearchCV` with a\u001b[0m\n",
       "\u001b[0;34m    :class:`Lasso` model. In :class:`LassoCV`, a model for a given\u001b[0m\n",
       "\u001b[0;34m    penalty `alpha` is warm started using the coefficients of the\u001b[0m\n",
       "\u001b[0;34m    closest model (trained at the previous iteration) on the\u001b[0m\n",
       "\u001b[0;34m    regularization path. It tends to speed up the hyperparameter\u001b[0m\n",
       "\u001b[0;34m    search.\u001b[0m\n",
       "\u001b[0;34m\u001b[0m\n",
       "\u001b[0;34m    Examples\u001b[0m\n",
       "\u001b[0;34m    --------\u001b[0m\n",
       "\u001b[0;34m    >>> from sklearn.linear_model import LassoCV\u001b[0m\n",
       "\u001b[0;34m    >>> from sklearn.datasets import make_regression\u001b[0m\n",
       "\u001b[0;34m    >>> X, y = make_regression(noise=4, random_state=0)\u001b[0m\n",
       "\u001b[0;34m    >>> reg = LassoCV(cv=5, random_state=0).fit(X, y)\u001b[0m\n",
       "\u001b[0;34m    >>> reg.score(X, y)\u001b[0m\n",
       "\u001b[0;34m    0.9993...\u001b[0m\n",
       "\u001b[0;34m    >>> reg.predict(X[:1,])\u001b[0m\n",
       "\u001b[0;34m    array([-78.4951...])\u001b[0m\n",
       "\u001b[0;34m    \"\"\"\u001b[0m\u001b[0;34m\u001b[0m\n",
       "\u001b[0;34m\u001b[0m\u001b[0;34m\u001b[0m\n",
       "\u001b[0;34m\u001b[0m    \u001b[0mpath\u001b[0m \u001b[0;34m=\u001b[0m \u001b[0mstaticmethod\u001b[0m\u001b[0;34m(\u001b[0m\u001b[0mlasso_path\u001b[0m\u001b[0;34m)\u001b[0m\u001b[0;34m\u001b[0m\n",
       "\u001b[0;34m\u001b[0m\u001b[0;34m\u001b[0m\n",
       "\u001b[0;34m\u001b[0m    \u001b[0;32mdef\u001b[0m \u001b[0m__init__\u001b[0m\u001b[0;34m(\u001b[0m\u001b[0;34m\u001b[0m\n",
       "\u001b[0;34m\u001b[0m        \u001b[0mself\u001b[0m\u001b[0;34m,\u001b[0m\u001b[0;34m\u001b[0m\n",
       "\u001b[0;34m\u001b[0m        \u001b[0;34m*\u001b[0m\u001b[0;34m,\u001b[0m\u001b[0;34m\u001b[0m\n",
       "\u001b[0;34m\u001b[0m        \u001b[0meps\u001b[0m\u001b[0;34m=\u001b[0m\u001b[0;36m1e-3\u001b[0m\u001b[0;34m,\u001b[0m\u001b[0;34m\u001b[0m\n",
       "\u001b[0;34m\u001b[0m        \u001b[0mn_alphas\u001b[0m\u001b[0;34m=\u001b[0m\u001b[0;36m100\u001b[0m\u001b[0;34m,\u001b[0m\u001b[0;34m\u001b[0m\n",
       "\u001b[0;34m\u001b[0m        \u001b[0malphas\u001b[0m\u001b[0;34m=\u001b[0m\u001b[0;32mNone\u001b[0m\u001b[0;34m,\u001b[0m\u001b[0;34m\u001b[0m\n",
       "\u001b[0;34m\u001b[0m        \u001b[0mfit_intercept\u001b[0m\u001b[0;34m=\u001b[0m\u001b[0;32mTrue\u001b[0m\u001b[0;34m,\u001b[0m\u001b[0;34m\u001b[0m\n",
       "\u001b[0;34m\u001b[0m        \u001b[0mprecompute\u001b[0m\u001b[0;34m=\u001b[0m\u001b[0;34m\"auto\"\u001b[0m\u001b[0;34m,\u001b[0m\u001b[0;34m\u001b[0m\n",
       "\u001b[0;34m\u001b[0m        \u001b[0mmax_iter\u001b[0m\u001b[0;34m=\u001b[0m\u001b[0;36m1000\u001b[0m\u001b[0;34m,\u001b[0m\u001b[0;34m\u001b[0m\n",
       "\u001b[0;34m\u001b[0m        \u001b[0mtol\u001b[0m\u001b[0;34m=\u001b[0m\u001b[0;36m1e-4\u001b[0m\u001b[0;34m,\u001b[0m\u001b[0;34m\u001b[0m\n",
       "\u001b[0;34m\u001b[0m        \u001b[0mcopy_X\u001b[0m\u001b[0;34m=\u001b[0m\u001b[0;32mTrue\u001b[0m\u001b[0;34m,\u001b[0m\u001b[0;34m\u001b[0m\n",
       "\u001b[0;34m\u001b[0m        \u001b[0mcv\u001b[0m\u001b[0;34m=\u001b[0m\u001b[0;32mNone\u001b[0m\u001b[0;34m,\u001b[0m\u001b[0;34m\u001b[0m\n",
       "\u001b[0;34m\u001b[0m        \u001b[0mverbose\u001b[0m\u001b[0;34m=\u001b[0m\u001b[0;32mFalse\u001b[0m\u001b[0;34m,\u001b[0m\u001b[0;34m\u001b[0m\n",
       "\u001b[0;34m\u001b[0m        \u001b[0mn_jobs\u001b[0m\u001b[0;34m=\u001b[0m\u001b[0;32mNone\u001b[0m\u001b[0;34m,\u001b[0m\u001b[0;34m\u001b[0m\n",
       "\u001b[0;34m\u001b[0m        \u001b[0mpositive\u001b[0m\u001b[0;34m=\u001b[0m\u001b[0;32mFalse\u001b[0m\u001b[0;34m,\u001b[0m\u001b[0;34m\u001b[0m\n",
       "\u001b[0;34m\u001b[0m        \u001b[0mrandom_state\u001b[0m\u001b[0;34m=\u001b[0m\u001b[0;32mNone\u001b[0m\u001b[0;34m,\u001b[0m\u001b[0;34m\u001b[0m\n",
       "\u001b[0;34m\u001b[0m        \u001b[0mselection\u001b[0m\u001b[0;34m=\u001b[0m\u001b[0;34m\"cyclic\"\u001b[0m\u001b[0;34m,\u001b[0m\u001b[0;34m\u001b[0m\n",
       "\u001b[0;34m\u001b[0m    \u001b[0;34m)\u001b[0m\u001b[0;34m:\u001b[0m\u001b[0;34m\u001b[0m\n",
       "\u001b[0;34m\u001b[0m        \u001b[0msuper\u001b[0m\u001b[0;34m(\u001b[0m\u001b[0;34m)\u001b[0m\u001b[0;34m.\u001b[0m\u001b[0m__init__\u001b[0m\u001b[0;34m(\u001b[0m\u001b[0;34m\u001b[0m\n",
       "\u001b[0;34m\u001b[0m            \u001b[0meps\u001b[0m\u001b[0;34m=\u001b[0m\u001b[0meps\u001b[0m\u001b[0;34m,\u001b[0m\u001b[0;34m\u001b[0m\n",
       "\u001b[0;34m\u001b[0m            \u001b[0mn_alphas\u001b[0m\u001b[0;34m=\u001b[0m\u001b[0mn_alphas\u001b[0m\u001b[0;34m,\u001b[0m\u001b[0;34m\u001b[0m\n",
       "\u001b[0;34m\u001b[0m            \u001b[0malphas\u001b[0m\u001b[0;34m=\u001b[0m\u001b[0malphas\u001b[0m\u001b[0;34m,\u001b[0m\u001b[0;34m\u001b[0m\n",
       "\u001b[0;34m\u001b[0m            \u001b[0mfit_intercept\u001b[0m\u001b[0;34m=\u001b[0m\u001b[0mfit_intercept\u001b[0m\u001b[0;34m,\u001b[0m\u001b[0;34m\u001b[0m\n",
       "\u001b[0;34m\u001b[0m            \u001b[0mprecompute\u001b[0m\u001b[0;34m=\u001b[0m\u001b[0mprecompute\u001b[0m\u001b[0;34m,\u001b[0m\u001b[0;34m\u001b[0m\n",
       "\u001b[0;34m\u001b[0m            \u001b[0mmax_iter\u001b[0m\u001b[0;34m=\u001b[0m\u001b[0mmax_iter\u001b[0m\u001b[0;34m,\u001b[0m\u001b[0;34m\u001b[0m\n",
       "\u001b[0;34m\u001b[0m            \u001b[0mtol\u001b[0m\u001b[0;34m=\u001b[0m\u001b[0mtol\u001b[0m\u001b[0;34m,\u001b[0m\u001b[0;34m\u001b[0m\n",
       "\u001b[0;34m\u001b[0m            \u001b[0mcopy_X\u001b[0m\u001b[0;34m=\u001b[0m\u001b[0mcopy_X\u001b[0m\u001b[0;34m,\u001b[0m\u001b[0;34m\u001b[0m\n",
       "\u001b[0;34m\u001b[0m            \u001b[0mcv\u001b[0m\u001b[0;34m=\u001b[0m\u001b[0mcv\u001b[0m\u001b[0;34m,\u001b[0m\u001b[0;34m\u001b[0m\n",
       "\u001b[0;34m\u001b[0m            \u001b[0mverbose\u001b[0m\u001b[0;34m=\u001b[0m\u001b[0mverbose\u001b[0m\u001b[0;34m,\u001b[0m\u001b[0;34m\u001b[0m\n",
       "\u001b[0;34m\u001b[0m            \u001b[0mn_jobs\u001b[0m\u001b[0;34m=\u001b[0m\u001b[0mn_jobs\u001b[0m\u001b[0;34m,\u001b[0m\u001b[0;34m\u001b[0m\n",
       "\u001b[0;34m\u001b[0m            \u001b[0mpositive\u001b[0m\u001b[0;34m=\u001b[0m\u001b[0mpositive\u001b[0m\u001b[0;34m,\u001b[0m\u001b[0;34m\u001b[0m\n",
       "\u001b[0;34m\u001b[0m            \u001b[0mrandom_state\u001b[0m\u001b[0;34m=\u001b[0m\u001b[0mrandom_state\u001b[0m\u001b[0;34m,\u001b[0m\u001b[0;34m\u001b[0m\n",
       "\u001b[0;34m\u001b[0m            \u001b[0mselection\u001b[0m\u001b[0;34m=\u001b[0m\u001b[0mselection\u001b[0m\u001b[0;34m,\u001b[0m\u001b[0;34m\u001b[0m\n",
       "\u001b[0;34m\u001b[0m        \u001b[0;34m)\u001b[0m\u001b[0;34m\u001b[0m\n",
       "\u001b[0;34m\u001b[0m\u001b[0;34m\u001b[0m\n",
       "\u001b[0;34m\u001b[0m    \u001b[0;32mdef\u001b[0m \u001b[0m_get_estimator\u001b[0m\u001b[0;34m(\u001b[0m\u001b[0mself\u001b[0m\u001b[0;34m)\u001b[0m\u001b[0;34m:\u001b[0m\u001b[0;34m\u001b[0m\n",
       "\u001b[0;34m\u001b[0m        \u001b[0;32mreturn\u001b[0m \u001b[0mLasso\u001b[0m\u001b[0;34m(\u001b[0m\u001b[0;34m)\u001b[0m\u001b[0;34m\u001b[0m\n",
       "\u001b[0;34m\u001b[0m\u001b[0;34m\u001b[0m\n",
       "\u001b[0;34m\u001b[0m    \u001b[0;32mdef\u001b[0m \u001b[0m_is_multitask\u001b[0m\u001b[0;34m(\u001b[0m\u001b[0mself\u001b[0m\u001b[0;34m)\u001b[0m\u001b[0;34m:\u001b[0m\u001b[0;34m\u001b[0m\n",
       "\u001b[0;34m\u001b[0m        \u001b[0;32mreturn\u001b[0m \u001b[0;32mFalse\u001b[0m\u001b[0;34m\u001b[0m\n",
       "\u001b[0;34m\u001b[0m\u001b[0;34m\u001b[0m\n",
       "\u001b[0;34m\u001b[0m    \u001b[0;32mdef\u001b[0m \u001b[0m_more_tags\u001b[0m\u001b[0;34m(\u001b[0m\u001b[0mself\u001b[0m\u001b[0;34m)\u001b[0m\u001b[0;34m:\u001b[0m\u001b[0;34m\u001b[0m\n",
       "\u001b[0;34m\u001b[0m        \u001b[0;32mreturn\u001b[0m \u001b[0;34m{\u001b[0m\u001b[0;34m\"multioutput\"\u001b[0m\u001b[0;34m:\u001b[0m \u001b[0;32mFalse\u001b[0m\u001b[0;34m}\u001b[0m\u001b[0;34m\u001b[0m\u001b[0;34m\u001b[0m\u001b[0m\n",
       "\u001b[0;31mFile:\u001b[0m           ~/anaconda3/envs/torch/lib/python3.10/site-packages/sklearn/linear_model/_coordinate_descent.py\n",
       "\u001b[0;31mType:\u001b[0m           ABCMeta\n",
       "\u001b[0;31mSubclasses:\u001b[0m     "
      ]
     },
     "metadata": {},
     "output_type": "display_data"
    }
   ],
   "source": [
    "sklearn.linear_model.LassoCV??"
   ]
  },
  {
   "cell_type": "code",
   "execution_count": null,
   "id": "72ad0f97-7f3f-460b-9099-365c3a0bfa52",
   "metadata": {},
   "outputs": [],
   "source": []
  }
 ],
 "metadata": {
  "kernelspec": {
   "display_name": "Python 3 (ipykernel)",
   "language": "python",
   "name": "python3"
  },
  "language_info": {
   "codemirror_mode": {
    "name": "ipython",
    "version": 3
   },
   "file_extension": ".py",
   "mimetype": "text/x-python",
   "name": "python",
   "nbconvert_exporter": "python",
   "pygments_lexer": "ipython3",
   "version": "3.10.13"
  }
 },
 "nbformat": 4,
 "nbformat_minor": 5
}
