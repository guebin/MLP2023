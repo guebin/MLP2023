{
 "cells": [
  {
   "cell_type": "raw",
   "id": "42c43dcd-2fd0-4fe7-a805-a5f477fac4df",
   "metadata": {},
   "source": [
    "---\n",
    "title: \"2023-09-21 -- Anaconda를 이용하여 autogluon 설치하기\"\n",
    "author: \"최규빈\"\n",
    "date: \"09/21/2023\"\n",
    "---"
   ]
  },
  {
   "cell_type": "markdown",
   "id": "6fba5f55-1e13-4622-845a-eaf1e2f5fb3b",
   "metadata": {},
   "source": [
    "# 1. 아나콘다 설치"
   ]
  },
  {
   "cell_type": "markdown",
   "id": "801d6c7a-8400-4869-872d-b53b2ed784c3",
   "metadata": {},
   "source": [
    "- 아나콘다 설치: <https://www.anaconda.com/download>"
   ]
  },
  {
   "cell_type": "markdown",
   "id": "a7b7e659-cdfa-44ba-9bae-f9199e9de456",
   "metadata": {},
   "source": [
    "# 2. 가상환경 `mp` 생성 + activate"
   ]
  },
  {
   "cell_type": "markdown",
   "id": "6dab5260-a49c-45eb-8a34-6e980edffc04",
   "metadata": {},
   "source": [
    "```bash\n",
    "conda create -n mp python=3.10 \n",
    "conda activate mp \n",
    "```"
   ]
  },
  {
   "cell_type": "markdown",
   "id": "e9355b80-629e-4331-a42d-aac4f184e1e0",
   "metadata": {},
   "source": [
    "# 3. autogluon 설치 "
   ]
  },
  {
   "cell_type": "markdown",
   "id": "65651729-1a67-4349-95fd-cecb2a45b10f",
   "metadata": {},
   "source": [
    "```bash\n",
    "conda install -c conda-forge mamba\n",
    "mamba install -c conda-forge autogluon\n",
    "```"
   ]
  },
  {
   "cell_type": "markdown",
   "id": "933bd664-5a12-47a4-9a1b-5c4761a11125",
   "metadata": {},
   "source": [
    "# 4. jupyterlab 설치 + 실행 "
   ]
  },
  {
   "cell_type": "markdown",
   "id": "6e1bd4ca-2209-4124-a7fc-66df93c3fd64",
   "metadata": {},
   "source": [
    "```bash\n",
    "conda install -c conda-forge jupyterlab \n",
    "jupyter lab \n",
    "```"
   ]
  },
  {
   "cell_type": "markdown",
   "id": "84ee8531-1c71-4b23-bed9-ac772a36d0d9",
   "metadata": {},
   "source": [
    "# 5. `pip install` vs `conda install`"
   ]
  },
  {
   "cell_type": "markdown",
   "id": "ca52e03b-a3eb-40de-9bae-88f5376ef5ee",
   "metadata": {},
   "source": [
    "`-` `pip` vs `conda`\n",
    "\n",
    "1. `pip`은 특정 패키지만 설치, `conda`는 관련된 패키지를 모두 설치.\n",
    "2. `pip`은 패키지간의 충돌이 발생할 수 있으며 `conda`는 이러한 충돌이 발생하지 않음. \n",
    "3. `pip`은 최신버전을 설치하는 경향이 있으며 `conda`는 최신버전보다 약간 낮은 버전이 설치되는 경향이 있음 (최신버전의 경우 호환성여부가 조사되지 않았으므로).\n",
    "4. 공식문서에는 `pip`과 `conda`를 이용한 설치가 모두 나와있으며, 보통은 `conda`를 이용하여 설치하는게 좋다. ([scikit-learn](https://scikit-learn.org/stable/install.html), [autogluon](https://auto.gluon.ai/stable/install.html))"
   ]
  },
  {
   "cell_type": "markdown",
   "id": "29bf7e20-fa1d-4810-800d-2972372c278a",
   "metadata": {},
   "source": [
    "# 6. 가상환경 \n",
    "\n",
    "`-` 보통은 가상환경을 따로 만들고 패키지를 설치하는게 좋다. \n",
    "\n",
    "- 하나의 환경에 여러가지 패키지를 동시에 까는 경우, 패키지 숫자가 많아질수록 결국에는 충돌이 일어남. \n",
    "- 따라서 프로젝트별로 가상환경을 분리하여 관련 패키지를 설치하는 것이 좋다. \n",
    "\n",
    "\n",
    "`-` 요약\n",
    "\n",
    "- 본인컴퓨터로 작업하는 경우: 아나콘다 or 도커^[이건 아직 설명안했어요]를 이용하여 가상환경에서 작업할 것! 그렇지 않으면 컴퓨터가 더러워짐.^[패키지 간의 종속성때문에 결국 고장남]  \n",
    "- 아나콘다나 도커를 사용하고 싶지 않다면, 코랩이나 캐글노트북 등 클라우드 컴퓨터에서 작업하는걸 추천\n",
    "- 클라우드 컴퓨터에서 작업하면 본인의 컴퓨터를 정리된 상태로 유지될 수 있다는 장점이 있지만, 새로운 컴퓨터를 할당받을때 마다 `autogluon`같은 패키지를 계속 설치해야하는 불편함이 있음. "
   ]
  }
 ],
 "metadata": {
  "kernelspec": {
   "display_name": "Python 3 (ipykernel)",
   "language": "python",
   "name": "python3"
  },
  "language_info": {
   "codemirror_mode": {
    "name": "ipython",
    "version": 3
   },
   "file_extension": ".py",
   "mimetype": "text/x-python",
   "name": "python",
   "nbconvert_exporter": "python",
   "pygments_lexer": "ipython3",
   "version": "3.11.5"
  }
 },
 "nbformat": 4,
 "nbformat_minor": 5
}
