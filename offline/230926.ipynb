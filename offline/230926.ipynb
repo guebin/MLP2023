{
 "cells": [
  {
   "cell_type": "raw",
   "id": "42c43dcd-2fd0-4fe7-a805-a5f477fac4df",
   "metadata": {},
   "source": [
    "---\n",
    "title: \"2023-09-26 -- 코드스페이스, 리눅스명령어, kaggle.json\"\n",
    "author: \"최규빈\"\n",
    "date: \"09/26/2023\"\n",
    "---"
   ]
  },
  {
   "cell_type": "markdown",
   "id": "b15caf73-eaa5-4754-84b3-486e9bb45b57",
   "metadata": {},
   "source": [
    "# 1. 코드스페이스"
   ]
  },
  {
   "cell_type": "markdown",
   "id": "e7a020c7-b28b-402a-8375-3054fb203046",
   "metadata": {},
   "source": [
    "`-` 장점: \n",
    "\n",
    "- 슈퍼장점: 자동으로 깃헙연결 되어있음 (요즘 깃험쓰기 짜증나서 이게 장점임)\n",
    "- 로칼컴퓨터대비 장점: 내 컴퓨터 깨끗하게 쓸 수 있음 + 내 맘대로 무한 리눅스서버 사용가능 \n",
    "- 코랩/kaggle 대비 장점: 한번 정리된 셋팅이 영구적으로 적용됨. (autogluon 맨날 안깔아도 된다)"
   ]
  },
  {
   "cell_type": "markdown",
   "id": "c309dc9c-6b28-4e6a-99c0-798ecfab50ce",
   "metadata": {},
   "source": [
    "`-` 단점: \n",
    "\n",
    "- 컴터가 별로임, 사용시간 제한있음 (월 100시간?)\n",
    "- 단점을 극복하려면 결재해야함 "
   ]
  },
  {
   "cell_type": "markdown",
   "id": "bdc572cc-ab02-4f48-a5b8-fef20c684a60",
   "metadata": {},
   "source": [
    "`-` 초기설정: 복붙설정하기, 주피터 extension 설치 "
   ]
  },
  {
   "cell_type": "markdown",
   "id": "532d1316-b42e-4b22-9c9f-cb20da6804d5",
   "metadata": {},
   "source": [
    "# 2. kaggle.json"
   ]
  },
  {
   "cell_type": "markdown",
   "id": "3c60dbd1-976f-4c85-9186-8067a1ccd270",
   "metadata": {},
   "source": [
    "# 3. 간단한 리눅스 명령어"
   ]
  },
  {
   "cell_type": "markdown",
   "id": "aa57c6c5-9544-444e-9dca-a49ecd7d3dc0",
   "metadata": {},
   "source": [
    "`-` 이동: `ls`, `cd`\n",
    "\n",
    "`-` 폴더생성 및 삭제: `mkdir`, `rm -rf`\n",
    "\n",
    "`-` 복붙: `cp`/`mv` \n",
    "\n",
    "`-` zip압출풀기: `unzip`"
   ]
  },
  {
   "cell_type": "markdown",
   "id": "8d21841f-e1e3-4d15-b3de-7fc06b2d7ad1",
   "metadata": {},
   "source": [
    "> 리눅스에 익숙해지면 코랩, 캐글등을 쉽게 사용할 수 있다. "
   ]
  },
  {
   "cell_type": "markdown",
   "id": "96351289-8ce3-4fec-9234-057cf52a6dc3",
   "metadata": {},
   "source": [
    "> 코랩 혹은 캐글에서 사용하지 않더라도, 코랩 혹은 캐글에서 사용하는 코드를 쉽게 해석할 수 있다. "
   ]
  },
  {
   "cell_type": "markdown",
   "id": "9f35d72c-a8c0-4530-86f7-f8847f4e8f35",
   "metadata": {},
   "source": [
    "# 4. 타이타닉 데이터 불러오기 "
   ]
  }
 ],
 "metadata": {
  "kernelspec": {
   "display_name": "Python 3 (ipykernel)",
   "language": "python",
   "name": "python3"
  },
  "language_info": {
   "codemirror_mode": {
    "name": "ipython",
    "version": 3
   },
   "file_extension": ".py",
   "mimetype": "text/x-python",
   "name": "python",
   "nbconvert_exporter": "python",
   "pygments_lexer": "ipython3",
   "version": "3.10.13"
  }
 },
 "nbformat": 4,
 "nbformat_minor": 5
}
