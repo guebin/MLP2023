{
  "cells": [
    {
      "cell_type": "markdown",
      "metadata": {},
      "source": [
        "# 2023-11-14 – 개발환경의 변천사 (2)\n",
        "\n",
        "최규빈  \n",
        "2023-11-14\n",
        "\n",
        "# 1. 강의영상\n",
        "\n",
        "# 2. 개발환경의 변화\n",
        "\n",
        "## A. 0세대 프로그래머 (프롬프트)\n",
        "\n",
        "## B. 1세대 프로그래머 (스크립트활용)\n",
        "\n",
        "## C. 2세대 프로그래머 (IDE 활용)\n",
        "\n",
        "## D. 3세대 프로그래머 (가상환경)\n",
        "\n",
        "`-` `Anaconda`, `Docker` 를 활용할 수 있는 프로그래머를 3세대\n",
        "프로그래머라고 부르겠음.\n",
        "\n",
        "`-` 3세대 프로그래머는 “하나의” 로컬(=지금 내 눈앞에 있는\n",
        "물리적컴퓨터)에서 “여러개”의 가상환경(=논리적으로 나누어진 여러개의\n",
        "컴퓨터)를 다룰수 있음.\n",
        "\n",
        "`-` 왜 이런일을 하는가? 패키지 충돌 관리\n",
        "\n",
        "## E. 4세대 프로그래머 (원격컴퓨터)"
      ],
      "id": "5ff9fae8-8c76-4e90-b487-5d7df513831c"
    }
  ],
  "nbformat": 4,
  "nbformat_minor": 5,
  "metadata": {
    "kernelspec": {
      "name": "python3",
      "display_name": "Python 3 (ipykernel)",
      "language": "python"
    },
    "language_info": {
      "name": "python",
      "codemirror_mode": {
        "name": "ipython",
        "version": "3"
      },
      "file_extension": ".py",
      "mimetype": "text/x-python",
      "nbconvert_exporter": "python",
      "pygments_lexer": "ipython3",
      "version": "3.10.13"
    }
  }
}