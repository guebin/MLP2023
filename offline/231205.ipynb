{
 "cells": [
  {
   "cell_type": "raw",
   "id": "815197e3-8ec3-4add-8ef5-264c55880d59",
   "metadata": {},
   "source": [
    "---\n",
    "title: \"2023-12-05 -- 원격컴퓨터에서 개발환경 셋팅하기 (3)\"\n",
    "author: \"최규빈\"\n",
    "date: \"12/05/2023\"\n",
    "---"
   ]
  },
  {
   "cell_type": "markdown",
   "id": "a2562c46-dca3-46e1-ba0e-833b12dd79ea",
   "metadata": {
    "tags": []
   },
   "source": [
    "# 1. R과 Jupyter의 연결"
   ]
  },
  {
   "cell_type": "markdown",
   "id": "9d4aa6b6-717d-4140-9e24-72c824c1cd56",
   "metadata": {},
   "source": [
    "`-` 아래를 이용하여 가상환경생성, 가상환경활성화, 가상환경에R설치,R실행"
   ]
  },
  {
   "cell_type": "markdown",
   "id": "30ce765a-bf4d-4072-a043-070cd83ee250",
   "metadata": {},
   "source": [
    "```bash \n",
    "conda create -n r \n",
    "conda activate r \n",
    "conda install -c conda-forge r-essentials \n",
    "R\n",
    "```"
   ]
  },
  {
   "cell_type": "markdown",
   "id": "ffa813ee-cdd4-4321-9f53-7352e154f576",
   "metadata": {},
   "source": [
    "`-` R이 실행되면 아래를 입력\n",
    "\n",
    "```r\n",
    "IRkernel::installspec()\n",
    "q() # 이후에 n을 누르고 빠져나간다.\n",
    "```"
   ]
  },
  {
   "cell_type": "markdown",
   "id": "5e43d8af-9bff-4ad2-866f-72ad9c234187",
   "metadata": {},
   "source": [
    "`-` 주피터에서 R이 실행되는지 확인한다. "
   ]
  }
 ],
 "metadata": {
  "kernelspec": {
   "display_name": "Python 3 (ipykernel)",
   "language": "python",
   "name": "python3"
  },
  "language_info": {
   "codemirror_mode": {
    "name": "ipython",
    "version": 3
   },
   "file_extension": ".py",
   "mimetype": "text/x-python",
   "name": "python",
   "nbconvert_exporter": "python",
   "pygments_lexer": "ipython3",
   "version": "3.10.13"
  }
 },
 "nbformat": 4,
 "nbformat_minor": 5
}
