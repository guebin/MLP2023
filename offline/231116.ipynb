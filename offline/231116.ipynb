{
 "cells": [
  {
   "cell_type": "raw",
   "id": "ca50ca72-f7d6-4a8d-8659-6427471383ed",
   "metadata": {},
   "source": [
    "---\n",
    "title: \"2023-11-14 -- 개발환경의 변천사 (2)\"\n",
    "author: \"최규빈\"\n",
    "date: \"11/14/2023\"\n",
    "---"
   ]
  },
  {
   "cell_type": "markdown",
   "id": "2ac21c65-9925-4d28-8199-2831f973a0b5",
   "metadata": {},
   "source": [
    "# 1. 강의영상 "
   ]
  },
  {
   "cell_type": "markdown",
   "id": "eaab4a21-7622-40b2-bfba-64010e5d467a",
   "metadata": {},
   "source": [
    "# 2. 개발환경의 변화 "
   ]
  },
  {
   "cell_type": "markdown",
   "id": "b11859b7-0b8c-43cc-b55a-40567c3d728f",
   "metadata": {},
   "source": [
    "## A. 0세대 프로그래머 (프롬프트)"
   ]
  },
  {
   "cell_type": "markdown",
   "id": "7ad8ac75-62dd-46ca-9239-7ff4381ec3d0",
   "metadata": {},
   "source": [
    "## B. 1세대 프로그래머 (스크립트활용)"
   ]
  },
  {
   "cell_type": "markdown",
   "id": "fe07f8fb-17fa-4ed6-8bd2-8965e3c304a7",
   "metadata": {
    "tags": []
   },
   "source": [
    "## C. 2세대 프로그래머 (IDE 활용)"
   ]
  },
  {
   "cell_type": "markdown",
   "id": "7a15e787-900d-47cc-ae53-d26ac858fadd",
   "metadata": {},
   "source": [
    "## D. 3세대 프로그래머 (가상환경)"
   ]
  },
  {
   "cell_type": "markdown",
   "id": "99d8164c-c76d-46bf-a79b-7cf4bcf416c8",
   "metadata": {},
   "source": [
    "`-` `Anaconda`, `Docker` 를 활용할 수 있는 프로그래머를 3세대 프로그래머라고 부르겠음. "
   ]
  },
  {
   "cell_type": "markdown",
   "id": "253fd3ff-530e-40e6-a75c-3bcd9db3e6ed",
   "metadata": {},
   "source": [
    "`-` 3세대 프로그래머는 \"하나의\" 로컬(=지금 내 눈앞에 있는 물리적컴퓨터)에서 \"여러개\"의 가상환경(=논리적으로 나누어진 여러개의 컴퓨터)를 다룰수 있음. "
   ]
  },
  {
   "cell_type": "markdown",
   "id": "29540346-2978-4eaf-8053-b98133d16883",
   "metadata": {},
   "source": [
    "`-` 왜 이런일을 하는가? 패키지 충돌 관리"
   ]
  },
  {
   "cell_type": "markdown",
   "id": "4d3a935a-ef77-4224-bcb7-bff101f4357a",
   "metadata": {},
   "source": [
    "## E. 4세대 프로그래머 (원격컴퓨터) "
   ]
  }
 ],
 "metadata": {
  "kernelspec": {
   "display_name": "Python 3 (ipykernel)",
   "language": "python",
   "name": "python3"
  },
  "language_info": {
   "codemirror_mode": {
    "name": "ipython",
    "version": 3
   },
   "file_extension": ".py",
   "mimetype": "text/x-python",
   "name": "python",
   "nbconvert_exporter": "python",
   "pygments_lexer": "ipython3",
   "version": "3.10.13"
  }
 },
 "nbformat": 4,
 "nbformat_minor": 5
}
