{
 "cells": [
  {
   "cell_type": "raw",
   "id": "42c43dcd-2fd0-4fe7-a805-a5f477fac4df",
   "metadata": {},
   "source": [
    "---\n",
    "title: \"2023-09-12 -- Quarto Blog 만들기\"\n",
    "author: \"최규빈\"\n",
    "date: \"09/12/2023\"\n",
    "---"
   ]
  },
  {
   "cell_type": "markdown",
   "id": "3f1472d7-62bf-4acd-9f9c-4d5456cb9437",
   "metadata": {},
   "source": [
    "# 0. 꼭 해야할까?"
   ]
  },
  {
   "attachments": {},
   "cell_type": "markdown",
   "id": "2c548cfb-37d0-4aed-ba19-68ba992395e9",
   "metadata": {},
   "source": [
    "`1`. <https://www.youtube.com/watch?v=SZcjvjrdomE>\n",
    "\n",
    "- repo도 확인함\n",
    "- commit 은 거의 기본임\n",
    "\n",
    "`2`. <https://www.youtube.com/watch?v=Yc56NpYW1DM&t=23s>\n",
    "\n",
    "- 3:00 - 3:40: 깃헙과 블로그가 중요함 / commit 을 빼곡하게, repo 확인\n",
    "- 3:40 - : 블로그\n",
    "- 4:00 - : commit 링크가 없으면 X, 필수라고 해서 넣은 느낌 (영상에서는 필수 아니라고 하지만 반 필수임)"
   ]
  },
  {
   "cell_type": "markdown",
   "id": "6fba5f55-1e13-4622-845a-eaf1e2f5fb3b",
   "metadata": {},
   "source": [
    "# 1. 블로그 생성"
   ]
  },
  {
   "cell_type": "markdown",
   "id": "525d0d27-e691-4ff7-8a4a-6b044a166a31",
   "metadata": {},
   "source": [
    "`-` 깃헙레포지토리로 이동한뒤에 아래의 명령어를 입력: "
   ]
  },
  {
   "cell_type": "markdown",
   "id": "2a44e8ec-0941-4257-b8e2-39103e49f35a",
   "metadata": {},
   "source": [
    "```bash\n",
    "quarto create-project --type website --template blog\n",
    "```"
   ]
  },
  {
   "cell_type": "markdown",
   "id": "18630e2d-1d6f-4d2a-ac03-3655beb34065",
   "metadata": {},
   "source": [
    "위의 명령어를 실행하면 여러가지 설정파일들이 생성된다."
   ]
  },
  {
   "cell_type": "markdown",
   "id": "3b6c80ab-94dc-4b22-8619-d747dd058d70",
   "metadata": {},
   "source": [
    "`-` 블로그 publish "
   ]
  },
  {
   "cell_type": "markdown",
   "id": "3275b23a-d3b2-4bde-86e9-c23da273c5ca",
   "metadata": {},
   "source": [
    "```bash\n",
    "quarto publish gh-pages\n",
    "```"
   ]
  },
  {
   "cell_type": "markdown",
   "id": "56e9a13e-269d-4e9c-8b7d-07f12f4579f6",
   "metadata": {},
   "source": [
    "`-` 깃헙으로 이동하여 확인\n",
    "\n",
    "- window는 자동으로 퍼블리쉬 된다.\n",
    "- mac에서는 수동으로 gh-pages로 바꿔야함. "
   ]
  },
  {
   "cell_type": "markdown",
   "id": "f482ac54-68b8-4a7f-8dea-b949ab985a2b",
   "metadata": {},
   "source": [
    "# 2. 새로운 포스트 생성 "
   ]
  },
  {
   "cell_type": "markdown",
   "id": "d0a3df7a-a8ac-423d-b1f6-c11fe634c3b7",
   "metadata": {},
   "source": [
    "`-` 아무 노트북이나 만들어본다. (혹은 이미 만들어진 노트북을 넣어본다.) "
   ]
  },
  {
   "cell_type": "markdown",
   "id": "073ab09d-39ca-4ab2-b00e-f32137d51853",
   "metadata": {},
   "source": [
    "- 예시1: <https://guebin.github.io/PP2023/> 에서 아무거나 다운로드\n",
    "- 예시2: `git clone https://github.com/guebin/PP2023.git`"
   ]
  },
  {
   "cell_type": "markdown",
   "id": "ffddc505-7134-4b02-8aab-056b4736ae7b",
   "metadata": {},
   "source": [
    "`-` 노트북을 posts 폴더에 넣는다. "
   ]
  },
  {
   "cell_type": "markdown",
   "id": "4f563f53-b9c2-4098-ad5d-7cb4b4abe831",
   "metadata": {},
   "source": [
    "`-` 아래를 통하여 preview 이미지를 확인.\n",
    "\n",
    "```bash\n",
    "quarto preview \n",
    "```"
   ]
  },
  {
   "cell_type": "markdown",
   "id": "d1e516f7-c69f-4a89-98c6-6b018de994af",
   "metadata": {},
   "source": [
    "`-` 퍼블리쉬\n",
    "\n",
    "```bash\n",
    "quarto publish --no-prompt\n",
    "```"
   ]
  },
  {
   "cell_type": "markdown",
   "id": "6b7f6e19-7ad1-47c2-8c72-0d9e645df5a1",
   "metadata": {},
   "source": [
    "# 3. 블로그 설정변경 "
   ]
  },
  {
   "cell_type": "markdown",
   "id": "3d30e11c-89b9-45e1-9760-2c3c7f0e6be1",
   "metadata": {},
   "source": [
    "`-` `index.qmd` 메인에 보이는 화면"
   ]
  },
  {
   "cell_type": "markdown",
   "id": "b100fe26-c3ea-4410-9baf-f69711663565",
   "metadata": {},
   "source": [
    "```\n",
    "---\n",
    "title: \"기계학습활용 (2023)\"\n",
    "listing:\n",
    "  contents: posts\n",
    "  sort: \"date\"\n",
    "  type: table\n",
    "  categories: true\n",
    "  sort-ui: false\n",
    "  filter-ui: false\n",
    "page-layout: full\n",
    "title-block-banner: false\n",
    "---\n",
    "\n",
    "**질문하는 방법**\n",
    "\n",
    "- 카카오톡: [질문하러 가기](http://pf.kakao.com/_skxnxdG/chat) // 학기종료이후 폐쇄함\n",
    "- 이메일: <guebin@jbnu.ac.kr>\n",
    "- 직접방문: 자연과학대학 본관 205호 \n",
    "- Zoom: *카카오톡이나 이메일로 미리 시간을 정할 것*\n",
    "- LMS쪽지: <https://ieilms.jbnu.ac.kr/>\n",
    "\n",
    "**references**\n",
    "\n",
    "**공지사항** \n",
    "\n",
    "- 강의영상의 경우 시간이 지나면 고화질로 시청할 수 있습니다. (인코딩중에는 유튜브에서 저화질로 송출됩니다)\n",
    "- **9월7일 대면수업**: Quarto를 이용한 기술블로그 만들기 + 타이타닉 자료에 대한 발표/토론 \n",
    "\n",
    "**강의노트** \n",
    "```"
   ]
  },
  {
   "cell_type": "markdown",
   "id": "e37761b9-467b-4ecb-99b3-a75b0cc4f448",
   "metadata": {},
   "source": [
    "`-` `_quarto.yml` "
   ]
  },
  {
   "cell_type": "markdown",
   "id": "d5be676d-7a3d-43ee-823a-466f840db03c",
   "metadata": {},
   "source": [
    "```\n",
    "project:\n",
    "  type: website\n",
    "\n",
    "website:\n",
    "  title: \"MP2023\"\n",
    "  navbar:\n",
    "    right:\n",
    "      - icon: github    \n",
    "        href: https://github.com/guebin/MP2023\n",
    "      - icon: youtube\n",
    "        href: https://www.youtube.com/channel/UCQk9RyBNgXc7ORIsYlOfQrg/playlists?view=50&sort=dd&shelf_id=2\n",
    "format:\n",
    "  html:\n",
    "    theme: cosmo\n",
    "    css: styles.css\n",
    "```"
   ]
  },
  {
   "cell_type": "markdown",
   "id": "5dbeaa86-f9b3-43b9-9bfe-890ed923b514",
   "metadata": {},
   "source": [
    "`-` posts 폴더에서 `_metadata.yml`"
   ]
  },
  {
   "cell_type": "markdown",
   "id": "e24a8635-1d2a-4605-aac2-3bb2d9ffd9e3",
   "metadata": {},
   "source": [
    "```\n",
    "# options specified here will apply to all posts in this folder\n",
    "\n",
    "# freeze computational output\n",
    "# (see https://quarto.org/docs/projects/code-execution.html#freeze)\n",
    "execute:\n",
    "  freeze: auto  # re-render only when source changes\n",
    "\n",
    "# Enable banner style title blocks\n",
    "title-block-banner: false\n",
    "\n",
    "notebook-links: true\n",
    "cap-location: margin\n",
    "reference-location: margin\n",
    "citation-location: margin\n",
    "\n",
    "format:\n",
    "  html:\n",
    "    toc: true\n",
    "    code-fold: false\n",
    "    code-line-numbers: false\n",
    "    code-copy: true\n",
    "  ipynb: default\n",
    "```"
   ]
  },
  {
   "cell_type": "markdown",
   "id": "3e0fe1a2-72ad-4076-8c16-f1198211f760",
   "metadata": {},
   "source": [
    "`-` 기타 자세한 옵션은 아래에서 뒤져볼 것\n",
    "\n",
    "- ref: <https://quarto.org/>"
   ]
  },
  {
   "cell_type": "markdown",
   "id": "6bef2019-b69a-47c2-93f6-e0c060ab20e4",
   "metadata": {},
   "source": [
    "`-` 다른 사람들의 블로그 소개 (설정파일 구경용)\n",
    "\n",
    "- <https://seoyeonc.github.io/sy_hub/>\n",
    "- <https://boram-coco.github.io/coco/>\n",
    "- <https://pinkocto.github.io/Quarto-Blog/>\n",
    "- <https://pinkocto.github.io/noteda/>\n"
   ]
  },
  {
   "cell_type": "markdown",
   "id": "0287dcfa-bb56-4bc2-98f6-674b1b54af9b",
   "metadata": {},
   "source": [
    "# 4. 이해"
   ]
  },
  {
   "cell_type": "markdown",
   "id": "252b3ee4-deeb-4c56-b5f5-bc7607f6d94c",
   "metadata": {},
   "source": [
    "`-` 아래를 입력 "
   ]
  },
  {
   "cell_type": "markdown",
   "id": "c2e1e991-bfa1-4362-8fb8-5a0acb8193d9",
   "metadata": {},
   "source": [
    "```bash\n",
    "git add .\n",
    "git commit -m .\n",
    "git switch gh-pages\n",
    "```"
   ]
  },
  {
   "cell_type": "markdown",
   "id": "d8d46386-1717-47e2-8e0d-d0736a3d0fd7",
   "metadata": {},
   "source": [
    "- 폴더내용 확인"
   ]
  },
  {
   "cell_type": "markdown",
   "id": "ae576f45-f0e8-4f56-8ace-c2d73d99c59c",
   "metadata": {},
   "source": [
    "`-` 다시 원래대로 돌아오기 "
   ]
  },
  {
   "cell_type": "markdown",
   "id": "6d1afcea-0efa-492f-b445-2f2b09eecb12",
   "metadata": {},
   "source": [
    "```bash\n",
    "git switch main\n",
    "```"
   ]
  },
  {
   "cell_type": "markdown",
   "id": "c73b5614-6884-4f56-abe2-efb7b86d9d99",
   "metadata": {},
   "source": [
    "`-` quarto publish 의 역할"
   ]
  },
  {
   "cell_type": "markdown",
   "id": "a04b02fd-7c6f-4bdf-87a5-edde634e0242",
   "metadata": {},
   "source": [
    "- `.ipynb` 파일을 어떠한 규칙에 따라 변환하여 `.html`파일로 바꿈\n",
    "- 바꾼 파일들을 `gh-pages`라는 이름의 브랜치로 옮김\n",
    "- `gh-pages` 브랜치를 github 으로 push \n",
    "- 이후에는 github이 알아서 `gh-pages`의 내용을 웹이 뿌려줌. "
   ]
  },
  {
   "cell_type": "markdown",
   "id": "167ed4d0-d063-40be-8757-d5ab5e03e4c9",
   "metadata": {},
   "source": [
    "`-` 블로그가 깨졌을때 대응하는 방법\n",
    "\n",
    "- gh-pages로 이동하여 모든 파일 및 폴더 삭제\n",
    "- `git add .`, `git commit -m .` `git push`를 순서대로 입력\n",
    "- 다시 main으로 돌아와서 `quarto publish --no-prompt` 입력"
   ]
  },
  {
   "cell_type": "markdown",
   "id": "84ee8531-1c71-4b23-bed9-ac772a36d0d9",
   "metadata": {},
   "source": [
    "# 5. 추천하는 루틴"
   ]
  },
  {
   "cell_type": "markdown",
   "id": "5abb4e8c-7beb-473e-a5d9-4efb2c42c5c9",
   "metadata": {},
   "source": [
    "```bash\n",
    "git add .\n",
    "git commit -m .\n",
    "git push \n",
    "quarto publish --no-prompt\n",
    "```"
   ]
  }
 ],
 "metadata": {
  "kernelspec": {
   "display_name": "Python 3 (ipykernel)",
   "language": "python",
   "name": "python3"
  },
  "language_info": {
   "codemirror_mode": {
    "name": "ipython",
    "version": 3
   },
   "file_extension": ".py",
   "mimetype": "text/x-python",
   "name": "python",
   "nbconvert_exporter": "python",
   "pygments_lexer": "ipython3",
   "version": "3.11.5"
  }
 },
 "nbformat": 4,
 "nbformat_minor": 5
}
