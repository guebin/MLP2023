{
 "cells": [
  {
   "cell_type": "raw",
   "id": "42c43dcd-2fd0-4fe7-a805-a5f477fac4df",
   "metadata": {},
   "source": [
    "---\n",
    "title: \"2023-09-26 -- \"\n",
    "author: \"최규빈\"\n",
    "date: \"09/26/2023\"\n",
    "---"
   ]
  },
  {
   "cell_type": "markdown",
   "id": "6fba5f55-1e13-4622-845a-eaf1e2f5fb3b",
   "metadata": {},
   "source": [
    "# 1. 리눅스를 배워야하는 이유 "
   ]
  },
  {
   "cell_type": "markdown",
   "id": "3c60dbd1-976f-4c85-9186-8067a1ccd270",
   "metadata": {},
   "source": [
    "# 2. 코드스페이스 사용하기 "
   ]
  },
  {
   "cell_type": "code",
   "execution_count": null,
   "id": "114f4e37-99ed-4d43-baaa-75914516d45b",
   "metadata": {},
   "outputs": [],
   "source": []
  }
 ],
 "metadata": {
  "kernelspec": {
   "display_name": "Python 3 (ipykernel)",
   "language": "python",
   "name": "python3"
  },
  "language_info": {
   "codemirror_mode": {
    "name": "ipython",
    "version": 3
   },
   "file_extension": ".py",
   "mimetype": "text/x-python",
   "name": "python",
   "nbconvert_exporter": "python",
   "pygments_lexer": "ipython3",
   "version": "3.11.4"
  }
 },
 "nbformat": 4,
 "nbformat_minor": 5
}
